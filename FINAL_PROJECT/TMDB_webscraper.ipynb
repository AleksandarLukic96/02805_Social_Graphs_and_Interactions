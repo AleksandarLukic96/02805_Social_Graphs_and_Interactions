{
 "cells": [
  {
   "cell_type": "code",
   "execution_count": 1,
   "id": "d365b8a6",
   "metadata": {},
   "outputs": [],
   "source": [
    "%%capture\n",
    "%pip install scrapy requests pandas"
   ]
  },
  {
   "cell_type": "code",
   "execution_count": 2,
   "id": "5110074f",
   "metadata": {},
   "outputs": [],
   "source": [
    "import json\n",
    "import os\n",
    "from os.path import exists\n",
    "import pandas as pd\n",
    "import requests\n",
    "# import scrapy\n",
    "from tqdm import tqdm"
   ]
  },
  {
   "cell_type": "markdown",
   "id": "9eff64ac",
   "metadata": {},
   "source": [
    "# Setup API for HTTPS requests"
   ]
  },
  {
   "cell_type": "markdown",
   "id": "ed5ce342",
   "metadata": {},
   "source": [
    "### Authentication to use TMDB API\n",
    "\n",
    "TMDB requires users to create an account to access its API. After creating an account, you can request a bearer token, which is then used to authenticate HTTPS requests. For using this code, the provided _config.json_ file contains the neccessary credentials used in the request header. Finally, the header is parsed with each request."
   ]
  },
  {
   "cell_type": "code",
   "execution_count": 3,
   "id": "f2e43542",
   "metadata": {},
   "outputs": [],
   "source": [
    "CONFIG_PATH = SCRAPED_DATA_PATH = os.path.join(os.path.abspath(\"\"), \"config.json\")\n",
    "BASE_URL = \"https://api.themoviedb.org/3/movie/top_rated?\""
   ]
  },
  {
   "cell_type": "code",
   "execution_count": 4,
   "id": "7e1df842",
   "metadata": {},
   "outputs": [],
   "source": [
    "# Load the config file with API credentials\n",
    "if exists(CONFIG_PATH):\n",
    "    with open(CONFIG_PATH) as config_file:\n",
    "        config = json.load(config_file)\n",
    "        APP_NAME = config[\"TMDB_APPLICATION_NAME\"]\n",
    "        AUTH_USER = config[\"TMDB_EMAIL\"]\n",
    "        AUTH_TOKEN = config[\"TMDB_BEARER_KEY\"]\n",
    "    \n",
    "    # Define the headers to include the authentication token\n",
    "    HEADERS = {\n",
    "        \"accept\": \"application/json\",\n",
    "        \"Authorization\": f\"Bearer {AUTH_TOKEN}\",\n",
    "    }\n",
    "\n",
    "else:\n",
    "    print(\"Config not found!\")"
   ]
  },
  {
   "cell_type": "markdown",
   "id": "deb8732a",
   "metadata": {},
   "source": [
    "In order to check if authentication is valid, the response should return 200:"
   ]
  },
  {
   "cell_type": "code",
   "execution_count": 5,
   "id": "f087ac23",
   "metadata": {},
   "outputs": [
    {
     "name": "stdout",
     "output_type": "stream",
     "text": [
      "<Response [200]>\n"
     ]
    }
   ],
   "source": [
    "response = requests.get(BASE_URL+\"authentication\", headers=HEADERS)\n",
    "print(response)"
   ]
  },
  {
   "cell_type": "markdown",
   "id": "99235db3",
   "metadata": {},
   "source": [
    "# Scraping TMDB\n",
    "\n",
    "The TMDB web structure is page-based, meaning any search performed on their database returns results one page at a time. It is the user's responsibility to specify which page to request. Therefore, to retrieve all search results, it is necessary to determine the total number of pages."
   ]
  },
  {
   "cell_type": "markdown",
   "id": "aa41c59c",
   "metadata": {},
   "source": [
    "## Finding the number of pages\n",
    "\n",
    "The total number of pages can be found by using the default base url and access the _\"total\\_pages\"_ field."
   ]
  },
  {
   "cell_type": "code",
   "execution_count": 6,
   "id": "c7d4758a",
   "metadata": {},
   "outputs": [],
   "source": [
    "response = requests.get(BASE_URL, headers=HEADERS)"
   ]
  },
  {
   "cell_type": "code",
   "execution_count": 7,
   "id": "81c0371a",
   "metadata": {},
   "outputs": [
    {
     "name": "stdout",
     "output_type": "stream",
     "text": [
      "TOTAL_PAGES=490\n"
     ]
    }
   ],
   "source": [
    "TOTAL_PAGES = response.json()[\"total_pages\"]\n",
    "print(f\"{TOTAL_PAGES=}\")"
   ]
  },
  {
   "cell_type": "markdown",
   "id": "244e93e5",
   "metadata": {},
   "source": [
    "## Extracting features from pages\n",
    "\n",
    "Using the total number of pages, all features can be extracted incrementally for each page and appended to a pandas DataFrame. The DataFrame can then be saved as a .csv file. \n",
    "Initially, the DataFrame is set up as follows:"
   ]
  },
  {
   "cell_type": "code",
   "execution_count": 8,
   "id": "3691325b",
   "metadata": {},
   "outputs": [],
   "source": [
    "df = pd.DataFrame()"
   ]
  },
  {
   "cell_type": "markdown",
   "id": "12d1dd0b",
   "metadata": {},
   "source": [
    "Then, using a for-loop, the incemental page-number with the parameters are parsed the HTTPS request via the TMDB API. \n",
    "The parameters used in the code return all the highest rated movies from TMDB and sort them by their average rating.\n",
    "These are then stored as rows in the DataFrame."
   ]
  },
  {
   "cell_type": "code",
   "execution_count": 9,
   "id": "7b10732c",
   "metadata": {},
   "outputs": [
    {
     "name": "stderr",
     "output_type": "stream",
     "text": [
      "Scraping TMDB: 100%|██████████████████████████████████| 490/490 [02:13<00:00,  3.67it/s]\n"
     ]
    }
   ],
   "source": [
    "# Create the tqdm progress bar\n",
    "progress_bar = tqdm(range(1, TOTAL_PAGES+1), desc=\"Scraping TMDB\")\n",
    "\n",
    "for PAGE in progress_bar:\n",
    "\n",
    "    params = {\n",
    "        \"language\": \"en-US\",\n",
    "        \"page\": PAGE,\n",
    "        \"sort_by\": \"vote_average.desc\"\n",
    "    }\n",
    "\n",
    "    response = requests.get(\n",
    "        BASE_URL, \n",
    "        headers=HEADERS, \n",
    "        params=params\n",
    "    )\n",
    "    \n",
    "    respone_json = response.json()\n",
    "\n",
    "    current_df = pd.json_normalize(\n",
    "        respone_json, \n",
    "        record_path = \"results\", \n",
    "        meta = [\n",
    "            \"page\"\n",
    "        ]\n",
    "    )\n",
    "\n",
    "    df = pd.concat([df, current_df])"
   ]
  },
  {
   "cell_type": "markdown",
   "id": "7c40a443",
   "metadata": {},
   "source": [
    "### Clean the data and reindex the rows"
   ]
  },
  {
   "cell_type": "code",
   "execution_count": 10,
   "id": "14a7bd97",
   "metadata": {},
   "outputs": [],
   "source": [
    "clean_df = df.drop_duplicates(subset = \"id\", keep = \"first\")\n",
    "\n",
    "clean_df = clean_df.reset_index()\n",
    "\n",
    "clean_df = clean_df.drop(\"index\", axis=1)"
   ]
  },
  {
   "cell_type": "code",
   "execution_count": 11,
   "id": "3dd2645d",
   "metadata": {},
   "outputs": [
    {
     "data": {
      "text/html": [
       "<div>\n",
       "<style scoped>\n",
       "    .dataframe tbody tr th:only-of-type {\n",
       "        vertical-align: middle;\n",
       "    }\n",
       "\n",
       "    .dataframe tbody tr th {\n",
       "        vertical-align: top;\n",
       "    }\n",
       "\n",
       "    .dataframe thead th {\n",
       "        text-align: right;\n",
       "    }\n",
       "</style>\n",
       "<table border=\"1\" class=\"dataframe\">\n",
       "  <thead>\n",
       "    <tr style=\"text-align: right;\">\n",
       "      <th></th>\n",
       "      <th>adult</th>\n",
       "      <th>backdrop_path</th>\n",
       "      <th>genre_ids</th>\n",
       "      <th>id</th>\n",
       "      <th>original_language</th>\n",
       "      <th>original_title</th>\n",
       "      <th>overview</th>\n",
       "      <th>popularity</th>\n",
       "      <th>poster_path</th>\n",
       "      <th>release_date</th>\n",
       "      <th>title</th>\n",
       "      <th>video</th>\n",
       "      <th>vote_average</th>\n",
       "      <th>vote_count</th>\n",
       "      <th>page</th>\n",
       "    </tr>\n",
       "  </thead>\n",
       "  <tbody>\n",
       "    <tr>\n",
       "      <th>0</th>\n",
       "      <td>False</td>\n",
       "      <td>/zfbjgQE1uSd9wiPTX4VzsLi0rGG.jpg</td>\n",
       "      <td>[18, 80]</td>\n",
       "      <td>278</td>\n",
       "      <td>en</td>\n",
       "      <td>The Shawshank Redemption</td>\n",
       "      <td>Imprisoned in the 1940s for the double murder ...</td>\n",
       "      <td>201.361</td>\n",
       "      <td>/9cqNxx0GxF0bflZmeSMuL5tnGzr.jpg</td>\n",
       "      <td>1994-09-23</td>\n",
       "      <td>The Shawshank Redemption</td>\n",
       "      <td>False</td>\n",
       "      <td>8.708</td>\n",
       "      <td>27239</td>\n",
       "      <td>1</td>\n",
       "    </tr>\n",
       "    <tr>\n",
       "      <th>1</th>\n",
       "      <td>False</td>\n",
       "      <td>/tmU7GeKVybMWFButWEGl2M4GeiP.jpg</td>\n",
       "      <td>[18, 80]</td>\n",
       "      <td>238</td>\n",
       "      <td>en</td>\n",
       "      <td>The Godfather</td>\n",
       "      <td>Spanning the years 1945 to 1955, a chronicle o...</td>\n",
       "      <td>170.359</td>\n",
       "      <td>/3bhkrj58Vtu7enYsRolD1fZdja1.jpg</td>\n",
       "      <td>1972-03-14</td>\n",
       "      <td>The Godfather</td>\n",
       "      <td>False</td>\n",
       "      <td>8.689</td>\n",
       "      <td>20689</td>\n",
       "      <td>1</td>\n",
       "    </tr>\n",
       "    <tr>\n",
       "      <th>2</th>\n",
       "      <td>False</td>\n",
       "      <td>/kGzFbGhp99zva6oZODW5atUtnqi.jpg</td>\n",
       "      <td>[18, 80]</td>\n",
       "      <td>240</td>\n",
       "      <td>en</td>\n",
       "      <td>The Godfather Part II</td>\n",
       "      <td>In the continuing saga of the Corleone crime f...</td>\n",
       "      <td>85.193</td>\n",
       "      <td>/hek3koDUyRQk7FIhPXsa6mT2Zc3.jpg</td>\n",
       "      <td>1974-12-20</td>\n",
       "      <td>The Godfather Part II</td>\n",
       "      <td>False</td>\n",
       "      <td>8.600</td>\n",
       "      <td>12482</td>\n",
       "      <td>1</td>\n",
       "    </tr>\n",
       "    <tr>\n",
       "      <th>3</th>\n",
       "      <td>False</td>\n",
       "      <td>/zb6fM1CX41D9rF9hdgclu0peUmy.jpg</td>\n",
       "      <td>[18, 36, 10752]</td>\n",
       "      <td>424</td>\n",
       "      <td>en</td>\n",
       "      <td>Schindler's List</td>\n",
       "      <td>The true story of how businessman Oskar Schind...</td>\n",
       "      <td>84.546</td>\n",
       "      <td>/sF1U4EUQS8YHUYjNl3pMGNIQyr0.jpg</td>\n",
       "      <td>1993-12-15</td>\n",
       "      <td>Schindler's List</td>\n",
       "      <td>False</td>\n",
       "      <td>8.566</td>\n",
       "      <td>15892</td>\n",
       "      <td>1</td>\n",
       "    </tr>\n",
       "    <tr>\n",
       "      <th>4</th>\n",
       "      <td>False</td>\n",
       "      <td>/qqHQsStV6exghCM7zbObuYBiYxw.jpg</td>\n",
       "      <td>[18]</td>\n",
       "      <td>389</td>\n",
       "      <td>en</td>\n",
       "      <td>12 Angry Men</td>\n",
       "      <td>The defense and the prosecution have rested an...</td>\n",
       "      <td>55.792</td>\n",
       "      <td>/ow3wq89wM8qd5X7hWKxiRfsFf9C.jpg</td>\n",
       "      <td>1957-04-10</td>\n",
       "      <td>12 Angry Men</td>\n",
       "      <td>False</td>\n",
       "      <td>8.547</td>\n",
       "      <td>8691</td>\n",
       "      <td>1</td>\n",
       "    </tr>\n",
       "    <tr>\n",
       "      <th>...</th>\n",
       "      <td>...</td>\n",
       "      <td>...</td>\n",
       "      <td>...</td>\n",
       "      <td>...</td>\n",
       "      <td>...</td>\n",
       "      <td>...</td>\n",
       "      <td>...</td>\n",
       "      <td>...</td>\n",
       "      <td>...</td>\n",
       "      <td>...</td>\n",
       "      <td>...</td>\n",
       "      <td>...</td>\n",
       "      <td>...</td>\n",
       "      <td>...</td>\n",
       "      <td>...</td>\n",
       "    </tr>\n",
       "    <tr>\n",
       "      <th>9775</th>\n",
       "      <td>False</td>\n",
       "      <td>/lcLyZzhB1ctfdH0hGBsTFrbflqP.jpg</td>\n",
       "      <td>[28, 14, 27]</td>\n",
       "      <td>12142</td>\n",
       "      <td>en</td>\n",
       "      <td>Alone in the Dark</td>\n",
       "      <td>Edward Carnby is a private investigator specia...</td>\n",
       "      <td>13.378</td>\n",
       "      <td>/bSxrbVCyWW077zhtpuYlo3zgyug.jpg</td>\n",
       "      <td>2005-01-28</td>\n",
       "      <td>Alone in the Dark</td>\n",
       "      <td>False</td>\n",
       "      <td>3.246</td>\n",
       "      <td>606</td>\n",
       "      <td>490</td>\n",
       "    </tr>\n",
       "    <tr>\n",
       "      <th>9776</th>\n",
       "      <td>False</td>\n",
       "      <td>/5V6jAFS0Q49SI07qjyFRMYlbfR9.jpg</td>\n",
       "      <td>[35]</td>\n",
       "      <td>13805</td>\n",
       "      <td>en</td>\n",
       "      <td>Disaster Movie</td>\n",
       "      <td>Over the course of one evening, an unsuspectin...</td>\n",
       "      <td>21.967</td>\n",
       "      <td>/3J8XKUfhJiNzwobUZVtizXYPe8b.jpg</td>\n",
       "      <td>2008-08-29</td>\n",
       "      <td>Disaster Movie</td>\n",
       "      <td>False</td>\n",
       "      <td>3.200</td>\n",
       "      <td>1024</td>\n",
       "      <td>490</td>\n",
       "    </tr>\n",
       "    <tr>\n",
       "      <th>9777</th>\n",
       "      <td>False</td>\n",
       "      <td>/aNUEHLNsNMprLZt6fjf5nqDq6er.jpg</td>\n",
       "      <td>[27, 28, 53]</td>\n",
       "      <td>11059</td>\n",
       "      <td>en</td>\n",
       "      <td>House of the Dead</td>\n",
       "      <td>Set on an island off the coast, a techno rave ...</td>\n",
       "      <td>9.978</td>\n",
       "      <td>/z2mDGbV4pLtsvSMNnmnSgoVZSWK.jpg</td>\n",
       "      <td>2003-04-11</td>\n",
       "      <td>House of the Dead</td>\n",
       "      <td>False</td>\n",
       "      <td>3.100</td>\n",
       "      <td>386</td>\n",
       "      <td>490</td>\n",
       "    </tr>\n",
       "    <tr>\n",
       "      <th>9778</th>\n",
       "      <td>False</td>\n",
       "      <td>/oHrrgAPEKpz0S1ofQntiZNrmGrM.jpg</td>\n",
       "      <td>[28, 12, 14, 878, 53]</td>\n",
       "      <td>14164</td>\n",
       "      <td>en</td>\n",
       "      <td>Dragonball Evolution</td>\n",
       "      <td>On his 18th birthday, Goku receives a mystical...</td>\n",
       "      <td>16.594</td>\n",
       "      <td>/sunS9xhPnFNP5wlOWrvbpBteAB.jpg</td>\n",
       "      <td>2009-03-12</td>\n",
       "      <td>Dragonball Evolution</td>\n",
       "      <td>False</td>\n",
       "      <td>2.891</td>\n",
       "      <td>2037</td>\n",
       "      <td>490</td>\n",
       "    </tr>\n",
       "    <tr>\n",
       "      <th>9779</th>\n",
       "      <td>False</td>\n",
       "      <td>/wDrs28ZYYnXVIeb87H0dCYlWiFA.jpg</td>\n",
       "      <td>[10749, 27, 53]</td>\n",
       "      <td>40016</td>\n",
       "      <td>en</td>\n",
       "      <td>Birdemic: Shock and Terror</td>\n",
       "      <td>A platoon of eagles and vultures attacks the r...</td>\n",
       "      <td>9.146</td>\n",
       "      <td>/gqmcAVNNUosB55RliecFYnkWT4M.jpg</td>\n",
       "      <td>2010-02-27</td>\n",
       "      <td>Birdemic: Shock and Terror</td>\n",
       "      <td>False</td>\n",
       "      <td>2.200</td>\n",
       "      <td>337</td>\n",
       "      <td>490</td>\n",
       "    </tr>\n",
       "  </tbody>\n",
       "</table>\n",
       "<p>9780 rows × 15 columns</p>\n",
       "</div>"
      ],
      "text/plain": [
       "      adult                     backdrop_path              genre_ids     id  \\\n",
       "0     False  /zfbjgQE1uSd9wiPTX4VzsLi0rGG.jpg               [18, 80]    278   \n",
       "1     False  /tmU7GeKVybMWFButWEGl2M4GeiP.jpg               [18, 80]    238   \n",
       "2     False  /kGzFbGhp99zva6oZODW5atUtnqi.jpg               [18, 80]    240   \n",
       "3     False  /zb6fM1CX41D9rF9hdgclu0peUmy.jpg        [18, 36, 10752]    424   \n",
       "4     False  /qqHQsStV6exghCM7zbObuYBiYxw.jpg                   [18]    389   \n",
       "...     ...                               ...                    ...    ...   \n",
       "9775  False  /lcLyZzhB1ctfdH0hGBsTFrbflqP.jpg           [28, 14, 27]  12142   \n",
       "9776  False  /5V6jAFS0Q49SI07qjyFRMYlbfR9.jpg                   [35]  13805   \n",
       "9777  False  /aNUEHLNsNMprLZt6fjf5nqDq6er.jpg           [27, 28, 53]  11059   \n",
       "9778  False  /oHrrgAPEKpz0S1ofQntiZNrmGrM.jpg  [28, 12, 14, 878, 53]  14164   \n",
       "9779  False  /wDrs28ZYYnXVIeb87H0dCYlWiFA.jpg        [10749, 27, 53]  40016   \n",
       "\n",
       "     original_language              original_title  \\\n",
       "0                   en    The Shawshank Redemption   \n",
       "1                   en               The Godfather   \n",
       "2                   en       The Godfather Part II   \n",
       "3                   en            Schindler's List   \n",
       "4                   en                12 Angry Men   \n",
       "...                ...                         ...   \n",
       "9775                en           Alone in the Dark   \n",
       "9776                en              Disaster Movie   \n",
       "9777                en           House of the Dead   \n",
       "9778                en        Dragonball Evolution   \n",
       "9779                en  Birdemic: Shock and Terror   \n",
       "\n",
       "                                               overview  popularity  \\\n",
       "0     Imprisoned in the 1940s for the double murder ...     201.361   \n",
       "1     Spanning the years 1945 to 1955, a chronicle o...     170.359   \n",
       "2     In the continuing saga of the Corleone crime f...      85.193   \n",
       "3     The true story of how businessman Oskar Schind...      84.546   \n",
       "4     The defense and the prosecution have rested an...      55.792   \n",
       "...                                                 ...         ...   \n",
       "9775  Edward Carnby is a private investigator specia...      13.378   \n",
       "9776  Over the course of one evening, an unsuspectin...      21.967   \n",
       "9777  Set on an island off the coast, a techno rave ...       9.978   \n",
       "9778  On his 18th birthday, Goku receives a mystical...      16.594   \n",
       "9779  A platoon of eagles and vultures attacks the r...       9.146   \n",
       "\n",
       "                           poster_path release_date  \\\n",
       "0     /9cqNxx0GxF0bflZmeSMuL5tnGzr.jpg   1994-09-23   \n",
       "1     /3bhkrj58Vtu7enYsRolD1fZdja1.jpg   1972-03-14   \n",
       "2     /hek3koDUyRQk7FIhPXsa6mT2Zc3.jpg   1974-12-20   \n",
       "3     /sF1U4EUQS8YHUYjNl3pMGNIQyr0.jpg   1993-12-15   \n",
       "4     /ow3wq89wM8qd5X7hWKxiRfsFf9C.jpg   1957-04-10   \n",
       "...                                ...          ...   \n",
       "9775  /bSxrbVCyWW077zhtpuYlo3zgyug.jpg   2005-01-28   \n",
       "9776  /3J8XKUfhJiNzwobUZVtizXYPe8b.jpg   2008-08-29   \n",
       "9777  /z2mDGbV4pLtsvSMNnmnSgoVZSWK.jpg   2003-04-11   \n",
       "9778   /sunS9xhPnFNP5wlOWrvbpBteAB.jpg   2009-03-12   \n",
       "9779  /gqmcAVNNUosB55RliecFYnkWT4M.jpg   2010-02-27   \n",
       "\n",
       "                           title  video  vote_average  vote_count page  \n",
       "0       The Shawshank Redemption  False         8.708       27239    1  \n",
       "1                  The Godfather  False         8.689       20689    1  \n",
       "2          The Godfather Part II  False         8.600       12482    1  \n",
       "3               Schindler's List  False         8.566       15892    1  \n",
       "4                   12 Angry Men  False         8.547        8691    1  \n",
       "...                          ...    ...           ...         ...  ...  \n",
       "9775           Alone in the Dark  False         3.246         606  490  \n",
       "9776              Disaster Movie  False         3.200        1024  490  \n",
       "9777           House of the Dead  False         3.100         386  490  \n",
       "9778        Dragonball Evolution  False         2.891        2037  490  \n",
       "9779  Birdemic: Shock and Terror  False         2.200         337  490  \n",
       "\n",
       "[9780 rows x 15 columns]"
      ]
     },
     "execution_count": 11,
     "metadata": {},
     "output_type": "execute_result"
    }
   ],
   "source": [
    "clean_df"
   ]
  },
  {
   "cell_type": "markdown",
   "id": "3c116c92",
   "metadata": {},
   "source": [
    "## Saving the scraped data to a .csv file"
   ]
  },
  {
   "cell_type": "code",
   "execution_count": 12,
   "id": "3eebcea3",
   "metadata": {},
   "outputs": [],
   "source": [
    "SCRAPED_DATA_PATH = os.path.join(os.path.abspath(\"\"), \"TMDB_scraped_data.csv\")"
   ]
  },
  {
   "cell_type": "code",
   "execution_count": 13,
   "id": "599d30ba",
   "metadata": {},
   "outputs": [
    {
     "data": {
      "text/plain": [
       "'C:\\\\Users\\\\Aleksandar\\\\School\\\\02805_Social_Graphs_and_Interactions\\\\FINAL_PROJECT\\\\TMDB_scraped_data.csv'"
      ]
     },
     "execution_count": 13,
     "metadata": {},
     "output_type": "execute_result"
    }
   ],
   "source": [
    "SCRAPED_DATA_PATH"
   ]
  },
  {
   "cell_type": "code",
   "execution_count": 14,
   "id": "a67d4582",
   "metadata": {},
   "outputs": [],
   "source": [
    "clean_df.to_csv(SCRAPED_DATA_PATH, index = False)"
   ]
  },
  {
   "cell_type": "markdown",
   "id": "1091fb81",
   "metadata": {},
   "source": [
    "# Downloading feature posters from TMDB "
   ]
  },
  {
   "cell_type": "markdown",
   "id": "0346e4bf",
   "metadata": {},
   "source": [
    "### Create folder for images\n",
    "\n",
    "To automize the process of fetching and storing the feature images from TMDB, a folder _\"images\"_ is created if it doesn't already exist."
   ]
  },
  {
   "cell_type": "code",
   "execution_count": 15,
   "id": "74ffa104",
   "metadata": {},
   "outputs": [],
   "source": [
    "IMAGE_FOLDER_PATH = os.path.join(os.path.abspath(\"\"), \"images\")"
   ]
  },
  {
   "cell_type": "code",
   "execution_count": 17,
   "id": "7fc254fb",
   "metadata": {},
   "outputs": [
    {
     "name": "stdout",
     "output_type": "stream",
     "text": [
      "Created folder:\n",
      "C:\\Users\\Aleksandar\\School\\02805_Social_Graphs_and_Interactions\\FINAL_PROJECT\\images\n"
     ]
    }
   ],
   "source": [
    "if os.path.exists(IMAGE_FOLDER_PATH):\n",
    "    print(f\"Found folder:\\n{IMAGE_FOLDER_PATH}\")\n",
    "else:\n",
    "    os.makedirs(IMAGE_FOLDER_PATH)\n",
    "    print(f\"Created folder:\\n{IMAGE_FOLDER_PATH}\")"
   ]
  },
  {
   "cell_type": "markdown",
   "id": "872782a8",
   "metadata": {},
   "source": [
    "### Iterate over the DataFrame to request the images\n",
    " \n",
    "With the DataFrame complete, the _\"backdrop\\_path\"_ column contains the endpoint for each feature's image backdrop.\n",
    "\n",
    "By appending these endpoints to the modified base URL, the corresponding .jpg files can be retrieved and stored locally."
   ]
  },
  {
   "cell_type": "code",
   "execution_count": 18,
   "id": "44a1aa66",
   "metadata": {},
   "outputs": [],
   "source": [
    "def save_feature_image(img, folder_path, feature_id):\n",
    "    path = os.path.join(folder_path, f\"{feature_id}_poster.jpg\")\n",
    "    with open(path, \"wb\") as f:\n",
    "        f.write(img.content)"
   ]
  },
  {
   "cell_type": "code",
   "execution_count": 19,
   "id": "9683bdbd",
   "metadata": {},
   "outputs": [],
   "source": [
    "BASE_URL_IMAGE = \"https://image.tmdb.org/t/p/original\"\n",
    "HEADERS_IMG = {\n",
    "    \"accept\": \"application/jpg\",\n",
    "    \"Authorization\": f\"Bearer {AUTH_TOKEN}\",\n",
    "}"
   ]
  },
  {
   "cell_type": "code",
   "execution_count": 20,
   "id": "96f5781e",
   "metadata": {},
   "outputs": [
    {
     "data": {
      "text/html": [
       "<div>\n",
       "<style scoped>\n",
       "    .dataframe tbody tr th:only-of-type {\n",
       "        vertical-align: middle;\n",
       "    }\n",
       "\n",
       "    .dataframe tbody tr th {\n",
       "        vertical-align: top;\n",
       "    }\n",
       "\n",
       "    .dataframe thead th {\n",
       "        text-align: right;\n",
       "    }\n",
       "</style>\n",
       "<table border=\"1\" class=\"dataframe\">\n",
       "  <thead>\n",
       "    <tr style=\"text-align: right;\">\n",
       "      <th></th>\n",
       "      <th>adult</th>\n",
       "      <th>backdrop_path</th>\n",
       "      <th>genre_ids</th>\n",
       "      <th>id</th>\n",
       "      <th>original_language</th>\n",
       "      <th>original_title</th>\n",
       "      <th>overview</th>\n",
       "      <th>popularity</th>\n",
       "      <th>poster_path</th>\n",
       "      <th>release_date</th>\n",
       "      <th>title</th>\n",
       "      <th>video</th>\n",
       "      <th>vote_average</th>\n",
       "      <th>vote_count</th>\n",
       "      <th>page</th>\n",
       "    </tr>\n",
       "  </thead>\n",
       "  <tbody>\n",
       "    <tr>\n",
       "      <th>0</th>\n",
       "      <td>False</td>\n",
       "      <td>/zfbjgQE1uSd9wiPTX4VzsLi0rGG.jpg</td>\n",
       "      <td>[18, 80]</td>\n",
       "      <td>278</td>\n",
       "      <td>en</td>\n",
       "      <td>The Shawshank Redemption</td>\n",
       "      <td>Imprisoned in the 1940s for the double murder ...</td>\n",
       "      <td>201.361</td>\n",
       "      <td>/9cqNxx0GxF0bflZmeSMuL5tnGzr.jpg</td>\n",
       "      <td>1994-09-23</td>\n",
       "      <td>The Shawshank Redemption</td>\n",
       "      <td>False</td>\n",
       "      <td>8.708</td>\n",
       "      <td>27239</td>\n",
       "      <td>1</td>\n",
       "    </tr>\n",
       "    <tr>\n",
       "      <th>1</th>\n",
       "      <td>False</td>\n",
       "      <td>/tmU7GeKVybMWFButWEGl2M4GeiP.jpg</td>\n",
       "      <td>[18, 80]</td>\n",
       "      <td>238</td>\n",
       "      <td>en</td>\n",
       "      <td>The Godfather</td>\n",
       "      <td>Spanning the years 1945 to 1955, a chronicle o...</td>\n",
       "      <td>170.359</td>\n",
       "      <td>/3bhkrj58Vtu7enYsRolD1fZdja1.jpg</td>\n",
       "      <td>1972-03-14</td>\n",
       "      <td>The Godfather</td>\n",
       "      <td>False</td>\n",
       "      <td>8.689</td>\n",
       "      <td>20689</td>\n",
       "      <td>1</td>\n",
       "    </tr>\n",
       "    <tr>\n",
       "      <th>2</th>\n",
       "      <td>False</td>\n",
       "      <td>/kGzFbGhp99zva6oZODW5atUtnqi.jpg</td>\n",
       "      <td>[18, 80]</td>\n",
       "      <td>240</td>\n",
       "      <td>en</td>\n",
       "      <td>The Godfather Part II</td>\n",
       "      <td>In the continuing saga of the Corleone crime f...</td>\n",
       "      <td>85.193</td>\n",
       "      <td>/hek3koDUyRQk7FIhPXsa6mT2Zc3.jpg</td>\n",
       "      <td>1974-12-20</td>\n",
       "      <td>The Godfather Part II</td>\n",
       "      <td>False</td>\n",
       "      <td>8.600</td>\n",
       "      <td>12482</td>\n",
       "      <td>1</td>\n",
       "    </tr>\n",
       "    <tr>\n",
       "      <th>3</th>\n",
       "      <td>False</td>\n",
       "      <td>/zb6fM1CX41D9rF9hdgclu0peUmy.jpg</td>\n",
       "      <td>[18, 36, 10752]</td>\n",
       "      <td>424</td>\n",
       "      <td>en</td>\n",
       "      <td>Schindler's List</td>\n",
       "      <td>The true story of how businessman Oskar Schind...</td>\n",
       "      <td>84.546</td>\n",
       "      <td>/sF1U4EUQS8YHUYjNl3pMGNIQyr0.jpg</td>\n",
       "      <td>1993-12-15</td>\n",
       "      <td>Schindler's List</td>\n",
       "      <td>False</td>\n",
       "      <td>8.566</td>\n",
       "      <td>15892</td>\n",
       "      <td>1</td>\n",
       "    </tr>\n",
       "    <tr>\n",
       "      <th>4</th>\n",
       "      <td>False</td>\n",
       "      <td>/qqHQsStV6exghCM7zbObuYBiYxw.jpg</td>\n",
       "      <td>[18]</td>\n",
       "      <td>389</td>\n",
       "      <td>en</td>\n",
       "      <td>12 Angry Men</td>\n",
       "      <td>The defense and the prosecution have rested an...</td>\n",
       "      <td>55.792</td>\n",
       "      <td>/ow3wq89wM8qd5X7hWKxiRfsFf9C.jpg</td>\n",
       "      <td>1957-04-10</td>\n",
       "      <td>12 Angry Men</td>\n",
       "      <td>False</td>\n",
       "      <td>8.547</td>\n",
       "      <td>8691</td>\n",
       "      <td>1</td>\n",
       "    </tr>\n",
       "  </tbody>\n",
       "</table>\n",
       "</div>"
      ],
      "text/plain": [
       "   adult                     backdrop_path        genre_ids   id  \\\n",
       "0  False  /zfbjgQE1uSd9wiPTX4VzsLi0rGG.jpg         [18, 80]  278   \n",
       "1  False  /tmU7GeKVybMWFButWEGl2M4GeiP.jpg         [18, 80]  238   \n",
       "2  False  /kGzFbGhp99zva6oZODW5atUtnqi.jpg         [18, 80]  240   \n",
       "3  False  /zb6fM1CX41D9rF9hdgclu0peUmy.jpg  [18, 36, 10752]  424   \n",
       "4  False  /qqHQsStV6exghCM7zbObuYBiYxw.jpg             [18]  389   \n",
       "\n",
       "  original_language            original_title  \\\n",
       "0                en  The Shawshank Redemption   \n",
       "1                en             The Godfather   \n",
       "2                en     The Godfather Part II   \n",
       "3                en          Schindler's List   \n",
       "4                en              12 Angry Men   \n",
       "\n",
       "                                            overview  popularity  \\\n",
       "0  Imprisoned in the 1940s for the double murder ...     201.361   \n",
       "1  Spanning the years 1945 to 1955, a chronicle o...     170.359   \n",
       "2  In the continuing saga of the Corleone crime f...      85.193   \n",
       "3  The true story of how businessman Oskar Schind...      84.546   \n",
       "4  The defense and the prosecution have rested an...      55.792   \n",
       "\n",
       "                        poster_path release_date                     title  \\\n",
       "0  /9cqNxx0GxF0bflZmeSMuL5tnGzr.jpg   1994-09-23  The Shawshank Redemption   \n",
       "1  /3bhkrj58Vtu7enYsRolD1fZdja1.jpg   1972-03-14             The Godfather   \n",
       "2  /hek3koDUyRQk7FIhPXsa6mT2Zc3.jpg   1974-12-20     The Godfather Part II   \n",
       "3  /sF1U4EUQS8YHUYjNl3pMGNIQyr0.jpg   1993-12-15          Schindler's List   \n",
       "4  /ow3wq89wM8qd5X7hWKxiRfsFf9C.jpg   1957-04-10              12 Angry Men   \n",
       "\n",
       "   video  vote_average  vote_count page  \n",
       "0  False         8.708       27239    1  \n",
       "1  False         8.689       20689    1  \n",
       "2  False         8.600       12482    1  \n",
       "3  False         8.566       15892    1  \n",
       "4  False         8.547        8691    1  "
      ]
     },
     "execution_count": 20,
     "metadata": {},
     "output_type": "execute_result"
    }
   ],
   "source": [
    "# Simply for showing it works.\n",
    "# Should be updated later!\n",
    "sample_df = clean_df.iloc[0:5]\n",
    "sample_df"
   ]
  },
  {
   "cell_type": "code",
   "execution_count": 21,
   "id": "961385fd",
   "metadata": {},
   "outputs": [
    {
     "name": "stderr",
     "output_type": "stream",
     "text": [
      "Saving posters: 100%|█████████████████████| 5/5 [00:01<00:00,  2.97it/s, current_id=389]\n"
     ]
    }
   ],
   "source": [
    "# Create the tqdm progress bar\n",
    "progress_bar = tqdm(sample_df.iterrows(), total=len(sample_df), desc=\"Saving posters\")\n",
    "\n",
    "for idx, row in progress_bar:\n",
    "                \n",
    "        # get id and backdrop endpoint\n",
    "        feature_id = row[\"id\"]\n",
    "        feature_backdrop_path = row[\"poster_path\"]\n",
    "        \n",
    "        \n",
    "        # Update progress bar with current id\n",
    "        progress_bar.set_postfix(current_id=feature_id)\n",
    "        \n",
    "        # Send HTTPS GET request to retrieve the image and then save it to folder\n",
    "        img = requests.get(BASE_URL_IMAGE + feature_backdrop_path, headers = HEADERS_IMG)\n",
    "        save_feature_image(img, IMAGE_FOLDER_PATH, feature_id)"
   ]
  }
 ],
 "metadata": {
  "kernelspec": {
   "display_name": "Python 3 (ipykernel)",
   "language": "python",
   "name": "python3"
  },
  "language_info": {
   "codemirror_mode": {
    "name": "ipython",
    "version": 3
   },
   "file_extension": ".py",
   "mimetype": "text/x-python",
   "name": "python",
   "nbconvert_exporter": "python",
   "pygments_lexer": "ipython3",
   "version": "3.11.5"
  }
 },
 "nbformat": 4,
 "nbformat_minor": 5
}

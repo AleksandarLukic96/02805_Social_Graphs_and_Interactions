{
 "cells": [
  {
   "cell_type": "markdown",
   "id": "6867a441",
   "metadata": {},
   "source": [
    "# Week 1"
   ]
  },
  {
   "cell_type": "markdown",
   "id": "4d5b5db1",
   "metadata": {},
   "source": [
    "## API introduction"
   ]
  },
  {
   "cell_type": "markdown",
   "id": "91819117",
   "metadata": {},
   "source": [
    "This first section is an example of using in API in Python.\n",
    "\n",
    "Taken from the course material."
   ]
  },
  {
   "cell_type": "code",
   "execution_count": null,
   "id": "da608577",
   "metadata": {},
   "outputs": [],
   "source": [
    "# Python package imports\n",
    "import urllib.request\n",
    "import json"
   ]
  },
  {
   "cell_type": "code",
   "execution_count": null,
   "id": "b44b9f9e",
   "metadata": {},
   "outputs": [],
   "source": [
    "# Lecture example\n",
    "url = 'http://example.com/'\n",
    "response = urllib.request.urlopen(url)\n",
    "data = response.read()      # a `bytes` object\n",
    "text = data.decode('utf-8')"
   ]
  },
  {
   "cell_type": "code",
   "execution_count": null,
   "id": "0fc9397c",
   "metadata": {},
   "outputs": [],
   "source": [
    "baseurl = \"https://en.wikipedia.org/w/api.php?\"\n",
    "action = \"action=query\"\n",
    "title = \"titles=Rembrandt\"\n",
    "content = \"prop=revisions&rvprop=content\"\n",
    "dataformat =\"format=json\"\n",
    "\n",
    "query = \"{}{}&{}&{}&{}\".format(baseurl, action, content, title, dataformat)\n",
    "print(query)"
   ]
  },
  {
   "cell_type": "code",
   "execution_count": null,
   "id": "300fa249",
   "metadata": {},
   "outputs": [],
   "source": [
    "wikiresponse = urllib.request.urlopen(query)\n",
    "wikidata = wikiresponse.read()\n",
    "wikitext = wikidata.decode('utf-8')"
   ]
  },
  {
   "cell_type": "code",
   "execution_count": null,
   "id": "76ed9288",
   "metadata": {},
   "outputs": [],
   "source": [
    "%%capture \n",
    "# The above line Suppresses the output of the cell\n",
    "json.loads(wikitext)"
   ]
  },
  {
   "cell_type": "markdown",
   "id": "da21a825",
   "metadata": {},
   "source": [
    "## Exercises Part 1"
   ]
  },
  {
   "cell_type": "markdown",
   "id": "0b926dbd",
   "metadata": {},
   "source": [
    "### 1.1 Explain in your own words: What is the the difference between the html page and the wiki-source?"
   ]
  },
  {
   "cell_type": "markdown",
   "id": "f94edf86",
   "metadata": {},
   "source": [
    "#### _HTML page_\n",
    "The HTML page is a formatted representation of the website's content. This format is used for defining the placement and interactions of text and media on a web page. This formating makes it easier for the user to read the content when visiting the website. However, if we were interested in using the content for some sort of text analysis, we would not be interested in all the HTML/CSS code, but simply the textual content. \n",
    "\n",
    "#### _Wikisource_\n",
    "The wikisource is the websites actual content, meaning the text which is parsed onto the website. This provides a more ordered and structured format which makes it easier and cleaner to retrieve the data."
   ]
  },
  {
   "cell_type": "markdown",
   "id": "e29f62a9",
   "metadata": {},
   "source": [
    "### 1.2 What are the various parameters you can set for a query of the wikipedia api?"
   ]
  },
  {
   "cell_type": "markdown",
   "id": "5df539c0",
   "metadata": {},
   "source": [
    "Wikipedia provides users with documentation for using their API.\n",
    "\n",
    "One of the actions available are _**Queries**_.\n",
    "\n",
    "How to use queries and which parameters they support can be read in the following links to wikipedia's documentation:\n",
    "\n",
    "https://www.mediawiki.org/wiki/API:Main_page\n",
    "\n",
    "https://www.mediawiki.org/w/api.php?action=help&modules=query\n",
    "\n",
    "https://www.mediawiki.org/wiki/API:Query"
   ]
  },
  {
   "cell_type": "markdown",
   "id": "4035b701",
   "metadata": {},
   "source": [
    "### 1.3 Write your own little notebook to download wikipedia pages based on the video above. Download the source for your 4 favorite wikipedia pages."
   ]
  },
  {
   "cell_type": "markdown",
   "id": "ed3df0c3",
   "metadata": {},
   "source": [
    "#### 1.3.1 - Solution with explanation\n",
    "\n",
    "Send and receive HTTP request/response via URL.\n",
    "\n",
    "Then read the response content and print it."
   ]
  },
  {
   "cell_type": "code",
   "execution_count": null,
   "id": "1619c46e",
   "metadata": {},
   "outputs": [],
   "source": [
    "url = 'https://en.wikipedia.org/wiki/Cosmic_latte'\n",
    "response = urllib.request.urlopen(url)\n",
    "data = response.read()\n",
    "text = data.decode('utf-8')\n",
    "print(text)"
   ]
  },
  {
   "cell_type": "markdown",
   "id": "ec9b5d6d",
   "metadata": {},
   "source": [
    "Create query based on Wikipedia's API parameters."
   ]
  },
  {
   "cell_type": "code",
   "execution_count": null,
   "id": "4f292a69",
   "metadata": {},
   "outputs": [],
   "source": [
    "baseurl = \"https://en.wikipedia.org/w/api.php?\" # Specify endpoint - English Wikipedia APIs\n",
    "action = \"action=query\" # Specify action - query\n",
    "title = \"titles=Cosmic_latte\" # query-specific parameter - titles\n",
    "content = \"prop=revisions&rvprop=content\" # query-specific properties for page and revision\n",
    "dataformat =\"format=json\" # Specify output format of data - JSON\n",
    "\n",
    "# Format the url string based on convention, i.e. '&'\n",
    "query = \"{}{}&{}&{}&{}\".format(baseurl, action, content, title, dataformat)\n",
    "print(query)"
   ]
  },
  {
   "cell_type": "markdown",
   "id": "b1aabccb",
   "metadata": {},
   "source": [
    "Use the query string to send a HTTP request via URL.\n",
    "\n",
    "Load the JSON response and print it."
   ]
  },
  {
   "cell_type": "code",
   "execution_count": null,
   "id": "a033c35d",
   "metadata": {},
   "outputs": [],
   "source": [
    "wiki_response = urllib.request.urlopen(query)\n",
    "wiki_data = wiki_response.read()\n",
    "wiki_text = wiki_data.decode('utf-8')\n",
    "\n",
    "# Print JSON response\n",
    "json_response = json.loads(wiki_text)\n",
    "json_response"
   ]
  },
  {
   "cell_type": "markdown",
   "id": "9d5219e9",
   "metadata": {},
   "source": [
    "The JSON is a _dictionary_-dataobject with fields and subfields which can be sorted through. If we are interested in specific '_keys_' or attributes, we can pluck them out of the object."
   ]
  },
  {
   "cell_type": "code",
   "execution_count": null,
   "id": "a9c33342",
   "metadata": {},
   "outputs": [],
   "source": [
    "json_response.keys()"
   ]
  },
  {
   "cell_type": "markdown",
   "id": "ee6f5011",
   "metadata": {},
   "source": [
    "We can then traverse the JSON via it's keys:"
   ]
  },
  {
   "cell_type": "code",
   "execution_count": null,
   "id": "8fba9261",
   "metadata": {},
   "outputs": [],
   "source": [
    "json_response['query'].keys()"
   ]
  },
  {
   "cell_type": "code",
   "execution_count": null,
   "id": "529b78dc",
   "metadata": {},
   "outputs": [],
   "source": [
    "json_response['query']['pages'].keys()"
   ]
  },
  {
   "cell_type": "code",
   "execution_count": null,
   "id": "2b9014b9",
   "metadata": {},
   "outputs": [],
   "source": [
    "page = list(json_response[\"query\"][\"pages\"].keys())[0]\n",
    "print(page)"
   ]
  },
  {
   "cell_type": "code",
   "execution_count": null,
   "id": "6905b5e9",
   "metadata": {},
   "outputs": [],
   "source": [
    "json_response['query']['pages'][page].keys()"
   ]
  },
  {
   "cell_type": "code",
   "execution_count": null,
   "id": "8c426b98",
   "metadata": {},
   "outputs": [],
   "source": [
    "json_response['query']['pages']['1643492']['revisions'].keys()"
   ]
  },
  {
   "cell_type": "code",
   "execution_count": null,
   "id": "78c49a31",
   "metadata": {},
   "outputs": [],
   "source": [
    "# Check datatype of python object\n",
    "type(json_response['query']['pages']['1643492']['revisions'])"
   ]
  },
  {
   "cell_type": "markdown",
   "id": "a23646fc",
   "metadata": {},
   "source": [
    "Note that the above key 'revisions' is of type 'list', meaning that it does not have any subkeys. To traverse a list we then use indexing."
   ]
  },
  {
   "cell_type": "code",
   "execution_count": null,
   "id": "d7456bbc",
   "metadata": {},
   "outputs": [],
   "source": [
    "json_response['query']['pages']['1643492']['revisions'][0].keys()"
   ]
  },
  {
   "cell_type": "code",
   "execution_count": null,
   "id": "92469c1f",
   "metadata": {},
   "outputs": [],
   "source": [
    "type(json_response['query']['pages']['1643492']['revisions'][0]['*'])"
   ]
  },
  {
   "cell_type": "code",
   "execution_count": null,
   "id": "57f60ee9",
   "metadata": {},
   "outputs": [],
   "source": [
    "%%capture\n",
    "# Print without python print formatting:\n",
    "json_response['query']['pages']['1643492']['revisions'][0]['*']"
   ]
  },
  {
   "cell_type": "code",
   "execution_count": null,
   "id": "38b2a475",
   "metadata": {},
   "outputs": [],
   "source": [
    "# Print with python print formatting:\n",
    "print(json_response['query']['pages']['1643492']['revisions'][0]['*'])"
   ]
  },
  {
   "cell_type": "markdown",
   "id": "33d6d10f",
   "metadata": {},
   "source": [
    "#### 1.3.2, 1.3.3, 1.3.4 - Combined into a single for-loop"
   ]
  },
  {
   "cell_type": "code",
   "execution_count": null,
   "id": "e4396c55",
   "metadata": {},
   "outputs": [],
   "source": [
    "for title in [\"Clever_Hans\", \"Wow!_signal\", \"Batyr\"]:\n",
    "    baseurl = \"https://en.wikipedia.org/w/api.php?\"\n",
    "    action = \"action=query\"\n",
    "    title = f'titles={title}'\n",
    "    content = \"prop=revisions&rvprop=content\"\n",
    "    dataformat =\"format=json\"\n",
    "    query = \"{}{}&{}&{}&{}\".format(baseurl, action, content, title, dataformat)\n",
    "    \n",
    "    wikiresponse = urllib.request.urlopen(query)\n",
    "    wikidata = wikiresponse.read()\n",
    "    wikitext = wikidata.decode('utf-8')\n",
    "    \n",
    "    json_response = json.loads(wikitext)\n",
    "    \n",
    "    page = list(json_response[\"query\"][\"pages\"].keys())[0]\n",
    "    print(\"###################################################\")\n",
    "    print(\"###################################################\")\n",
    "    print(\"###################################################\")\n",
    "    print(json_response[\"query\"][\"pages\"][page][\"revisions\"][0][\"*\"])"
   ]
  },
  {
   "cell_type": "markdown",
   "id": "f9caa84f",
   "metadata": {},
   "source": [
    "## Exercises Part 2"
   ]
  },
  {
   "cell_type": "markdown",
   "id": "350485eb",
   "metadata": {},
   "source": [
    "### 2.1 List three different real networks and state the nodes and links for each of them."
   ]
  },
  {
   "cell_type": "markdown",
   "id": "b579a67f",
   "metadata": {},
   "source": [
    "1. Family tree would be a form of network where the nodes would a parent and a child and the link would be the relationsship between the two for instance. The bigger the family is, the bigger the network would be.\n",
    "\n",
    "2. Network protocols is a network. The protocols being the nodes and the links are the transmissions between.\n",
    "\n",
    "3. Aviation traffic is yet another example of a network. The airports represents the nodes while flights between them represent the links.  "
   ]
  },
  {
   "cell_type": "markdown",
   "id": "78d2c78c",
   "metadata": {},
   "source": [
    "### 2.2 Tell us of the network you are personally most interested in (a fourth one). Address the following questions:\n",
    "- What are its nodes and links?\n",
    "- How large is it?\n",
    "- Can be mapped out?\n",
    "- Does it evolve over time?\n",
    "- Are there processes occurring ON the network? (information spreading, for example)\n",
    "- Why do you care about it?"
   ]
  },
  {
   "cell_type": "markdown",
   "id": "85a3e3cf",
   "metadata": {},
   "source": [
    "#### The Circulatory System\n",
    "- Since the arteries and veins don't have per say 'nodes' as a seperate entity, we can look at them as tree-like structures, where every start point of a branch can be viewed as a node. Thus, the arteries and veins can be seen as the links.\n",
    "- The size of the network is proportional with the size, gender and other physiological parameters of a person.\n",
    "- Through centuries of disection and medical studies, we have mapped out, labeled and modelled the network.\n",
    "- The human anatomy wears down the older we get, meaning that the links and nodes become more vulnerable to interconnectivity risks and cascading failures, such as blood cluts and strokes.\n",
    "- The network is in charge of the transportation and containment of blood, oxygen and other physiologically crucial informations used throughout the network. \n",
    "- Simply put: if this network fails, hardly any other networks will matter to you."
   ]
  },
  {
   "cell_type": "markdown",
   "id": "1ebbd12b",
   "metadata": {},
   "source": [
    "### 2.3 In your view what would be the area where network science could have the biggest impact in the next decade? Explain your answer - and base it on the text in the book."
   ]
  },
  {
   "cell_type": "markdown",
   "id": "1d2990e9",
   "metadata": {},
   "source": [
    "The field of network science is such a new tool for us to develop on and apply in mostly any field we can imagine. As stated in the book, the science was only recently made possible due to the continuous improvements in computer hardware and software. I believe that network science will help other diciplines in solving facinating problems and optimising existing solutions. "
   ]
  },
  {
   "cell_type": "markdown",
   "id": "44cbd2c9",
   "metadata": {},
   "source": [
    "### Exercises Part 3"
   ]
  },
  {
   "cell_type": "markdown",
   "id": "8760198e",
   "metadata": {},
   "source": [
    "#### Go to the NetworkX project's tutorial page. The goal of this exercise is to create your own Notebook that contains the entire tutorial. You're free to add your own (e.g. shorter) comments in place of the ones in the official tutorial - and change the code to make it your own where ever it makes sense.\n"
   ]
  },
  {
   "cell_type": "markdown",
   "id": "147fa574",
   "metadata": {},
   "source": [
    "Please find our solution to Part 3 in the  notebook titled _NetworkX_Tutorial_."
   ]
  }
 ],
 "metadata": {
  "kernelspec": {
   "display_name": "Python 3 (ipykernel)",
   "language": "python",
   "name": "python3"
  },
  "language_info": {
   "codemirror_mode": {
    "name": "ipython",
    "version": 3
   },
   "file_extension": ".py",
   "mimetype": "text/x-python",
   "name": "python",
   "nbconvert_exporter": "python",
   "pygments_lexer": "ipython3",
   "version": "3.11.5"
  }
 },
 "nbformat": 4,
 "nbformat_minor": 5
}

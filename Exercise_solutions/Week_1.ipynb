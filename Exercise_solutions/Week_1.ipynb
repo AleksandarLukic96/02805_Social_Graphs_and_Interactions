{
 "cells": [
  {
   "cell_type": "markdown",
   "id": "6867a441",
   "metadata": {},
   "source": [
    "## Week 1"
   ]
  },
  {
   "cell_type": "markdown",
   "id": "4d5b5db1",
   "metadata": {},
   "source": [
    "## API introduction"
   ]
  },
  {
   "cell_type": "markdown",
   "id": "6c1ee83c",
   "metadata": {},
   "source": [
    "This first section is an example of using in API in Python.\n",
    "\n",
    "Taken from the course material."
   ]
  },
  {
   "cell_type": "code",
   "execution_count": 1,
   "id": "da608577",
   "metadata": {},
   "outputs": [],
   "source": [
    "# Python package imports\n",
    "import urllib.request\n",
    "import json"
   ]
  },
  {
   "cell_type": "code",
   "execution_count": 2,
   "id": "b44b9f9e",
   "metadata": {},
   "outputs": [],
   "source": [
    "# Lecture example\n",
    "url = 'http://example.com/'\n",
    "response = urllib.request.urlopen(url)\n",
    "data = response.read()      # a `bytes` object\n",
    "text = data.decode('utf-8')"
   ]
  },
  {
   "cell_type": "code",
   "execution_count": 3,
   "id": "0fc9397c",
   "metadata": {},
   "outputs": [
    {
     "name": "stdout",
     "output_type": "stream",
     "text": [
      "https://en.wikipedia.org/w/api.php?action=query&prop=revisions&rvprop=content&titles=Rembrandt&format=json\n"
     ]
    }
   ],
   "source": [
    "baseurl = \"https://en.wikipedia.org/w/api.php?\"\n",
    "action = \"action=query\"\n",
    "title = \"titles=Rembrandt\"\n",
    "content = \"prop=revisions&rvprop=content\"\n",
    "dataformat =\"format=json\"\n",
    "\n",
    "query = \"{}{}&{}&{}&{}\".format(baseurl, action, content, title, dataformat)\n",
    "print(query)"
   ]
  },
  {
   "cell_type": "code",
   "execution_count": 4,
   "id": "300fa249",
   "metadata": {},
   "outputs": [],
   "source": [
    "wikiresponse = urllib.request.urlopen(query)\n",
    "wikidata = wikiresponse.read()\n",
    "wikitext = wikidata.decode('utf-8')"
   ]
  },
  {
   "cell_type": "code",
   "execution_count": 5,
   "id": "76ed9288",
   "metadata": {},
   "outputs": [],
   "source": [
    "%%capture \n",
    "# The above line Suppresses the output of the cell\n",
    "json.loads(wikitext)"
   ]
  },
  {
   "cell_type": "markdown",
   "id": "da21a825",
   "metadata": {},
   "source": [
    "### Exercises Part 1"
   ]
  },
  {
   "cell_type": "markdown",
   "id": "0b926dbd",
   "metadata": {},
   "source": [
    "#### 1.1 Explain in your own words: What is the the difference between the html page and the wiki-source?"
   ]
  },
  {
   "cell_type": "markdown",
   "id": "f94edf86",
   "metadata": {},
   "source": [
    "#### _HTML page_\n",
    "The HTML page is a formatted representation of the website's content. This format is used for defining the placement and interactions of text and media on a web page. This formating makes it easier for the user to read the content when visiting the website. However, if we were interested in using the content for some sort of text analysis, we would not be interested in all the HTML/CSS code, but simply the textual content. \n",
    "\n",
    "#### _Wikisource_\n",
    "The wikisource is the websites actual content, meaning the text which is parsed onto the website. This provides a more ordered and structured format which makes it easier and cleaner to retrieve the data."
   ]
  },
  {
   "cell_type": "markdown",
   "id": "e29f62a9",
   "metadata": {},
   "source": [
    "#### 1.2 What are the various parameters you can set for a query of the wikipedia api?"
   ]
  },
  {
   "cell_type": "markdown",
   "id": "7ed35d93",
   "metadata": {},
   "source": [
    "Wikipedia provides users with documentation for using their API.\n",
    "\n",
    "One of the actions available are **Queries**.\n",
    "\n",
    "How to use queries and which parameters they support can be read in the following links to wikipedia's documentation:\n",
    "\n",
    "https://www.mediawiki.org/wiki/API:Main_page\n",
    "\n",
    "https://www.mediawiki.org/w/api.php?action=help&modules=query\n",
    "\n",
    "https://www.mediawiki.org/wiki/API:Query"
   ]
  },
  {
   "cell_type": "markdown",
   "id": "4035b701",
   "metadata": {},
   "source": [
    "#### 1.3 Write your own little notebook to download wikipedia pages based on the video above. Download the source for your 4 favorite wikipedia pages."
   ]
  },
  {
   "cell_type": "markdown",
   "id": "ed3df0c3",
   "metadata": {},
   "source": [
    "##### 1.3.1\n",
    "\n",
    "Send and receive HTTP request/response via URL.\n",
    "\n",
    "Then read the response content and print it."
   ]
  },
  {
   "cell_type": "code",
   "execution_count": 6,
   "id": "1619c46e",
   "metadata": {},
   "outputs": [
    {
     "name": "stdout",
     "output_type": "stream",
     "text": [
      "<!DOCTYPE html>\n",
      "<html class=\"client-nojs vector-feature-language-in-header-enabled vector-feature-language-in-main-page-header-disabled vector-feature-sticky-header-disabled vector-feature-page-tools-pinned-disabled vector-feature-toc-pinned-clientpref-1 vector-feature-main-menu-pinned-disabled vector-feature-limited-width-clientpref-1 vector-feature-limited-width-content-enabled vector-feature-custom-font-size-clientpref-1 vector-feature-appearance-pinned-clientpref-1 vector-feature-night-mode-enabled skin-theme-clientpref-day vector-toc-available\" lang=\"en\" dir=\"ltr\">\n",
      "<head>\n",
      "<meta charset=\"UTF-8\">\n",
      "<title>Cosmic latte - Wikipedia</title>\n",
      "<script>(function(){var className=\"client-js vector-feature-language-in-header-enabled vector-feature-language-in-main-page-header-disabled vector-feature-sticky-header-disabled vector-feature-page-tools-pinned-disabled vector-feature-toc-pinned-clientpref-1 vector-feature-main-menu-pinned-disabled vector-feature-limited-width-clientpref-1 vector-feature-limited-width-content-enabled vector-feature-custom-font-size-clientpref-1 vector-feature-appearance-pinned-clientpref-1 vector-feature-night-mode-enabled skin-theme-clientpref-day vector-toc-available\";var cookie=document.cookie.match(/(?:^|; )enwikimwclientpreferences=([^;]+)/);if(cookie){cookie[1].split('%2C').forEach(function(pref){className=className.replace(new RegExp('(^| )'+pref.replace(/-clientpref-\\w+$|[^\\w-]+/g,'')+'-clientpref-\\\\w+( |$)'),'$1'+pref+'$2');});}document.documentElement.className=className;}());RLCONF={\"wgBreakFrames\":false,\"wgSeparatorTransformTable\":[\"\",\"\"],\"wgDigitTransformTable\":[\"\",\"\"],\"wgDefaultDateFormat\":\"dmy\",\n",
      "\"wgMonthNames\":[\"\",\"January\",\"February\",\"March\",\"April\",\"May\",\"June\",\"July\",\"August\",\"September\",\"October\",\"November\",\"December\"],\"wgRequestId\":\"e60c622d-789b-4ac1-bb20-99d87905d370\",\"wgCanonicalNamespace\":\"\",\"wgCanonicalSpecialPageName\":false,\"wgNamespaceNumber\":0,\"wgPageName\":\"Cosmic_latte\",\"wgTitle\":\"Cosmic latte\",\"wgCurRevisionId\":1234183977,\"wgRevisionId\":1234183977,\"wgArticleId\":1643492,\"wgIsArticle\":true,\"wgIsRedirect\":false,\"wgAction\":\"view\",\"wgUserName\":null,\"wgUserGroups\":[\"*\"],\"wgCategories\":[\"Articles with short description\",\"Short description is different from Wikidata\",\"Use dmy dates from September 2016\",\"Color articles with suppressed CMYK data\",\"Articles containing Italian-language text\",\"Pages displaying short descriptions of redirect targets via Module:Annotated link\",\"Webarchive template wayback links\",\"Shades of white\",\"Color\",\"Physical cosmology\"],\"wgPageViewLanguage\":\"en\",\"wgPageContentLanguage\":\"en\",\"wgPageContentModel\":\"wikitext\",\"wgRelevantPageName\":\n",
      "\"Cosmic_latte\",\"wgRelevantArticleId\":1643492,\"wgIsProbablyEditable\":true,\"wgRelevantPageIsProbablyEditable\":true,\"wgRestrictionEdit\":[],\"wgRestrictionMove\":[],\"wgNoticeProject\":\"wikipedia\",\"wgCiteReferencePreviewsActive\":false,\"wgFlaggedRevsParams\":{\"tags\":{\"status\":{\"levels\":1}}},\"wgMediaViewerOnClick\":true,\"wgMediaViewerEnabledByDefault\":true,\"wgPopupsFlags\":6,\"wgVisualEditor\":{\"pageLanguageCode\":\"en\",\"pageLanguageDir\":\"ltr\",\"pageVariantFallbacks\":\"en\"},\"wgMFDisplayWikibaseDescriptions\":{\"search\":true,\"watchlist\":true,\"tagline\":false,\"nearby\":true},\"wgWMESchemaEditAttemptStepOversample\":false,\"wgWMEPageLength\":7000,\"wgULSCurrentAutonym\":\"English\",\"wgRelatedArticlesCompat\":[],\"wgCentralAuthMobileDomain\":false,\"wgEditSubmitButtonLabelPublish\":true,\"wgULSPosition\":\"interlanguage\",\"wgULSisCompactLinksEnabled\":false,\"wgVector2022LanguageInHeader\":true,\"wgULSisLanguageSelectorEmpty\":false,\"wgWikibaseItemId\":\"Q2510690\",\"wgCheckUserClientHintsHeadersJsApi\":[\"architecture\",\"bitness\",\"brands\",\n",
      "\"fullVersionList\",\"mobile\",\"model\",\"platform\",\"platformVersion\"],\"GEHomepageSuggestedEditsEnableTopics\":true,\"wgGETopicsMatchModeEnabled\":false,\"wgGEStructuredTaskRejectionReasonTextInputEnabled\":false,\"wgGELevelingUpEnabledForUser\":false};RLSTATE={\"ext.globalCssJs.user.styles\":\"ready\",\"site.styles\":\"ready\",\"user.styles\":\"ready\",\"ext.globalCssJs.user\":\"ready\",\"user\":\"ready\",\"user.options\":\"loading\",\"ext.cite.styles\":\"ready\",\"skins.vector.search.codex.styles\":\"ready\",\"skins.vector.styles\":\"ready\",\"skins.vector.icons\":\"ready\",\"jquery.tablesorter.styles\":\"ready\",\"jquery.makeCollapsible.styles\":\"ready\",\"ext.wikimediamessages.styles\":\"ready\",\"ext.visualEditor.desktopArticleTarget.noscript\":\"ready\",\"ext.uls.interlanguage\":\"ready\",\"wikibase.client.init\":\"ready\",\"ext.wikimediaBadges\":\"ready\"};RLPAGEMODULES=[\"ext.cite.ux-enhancements\",\"site\",\"mediawiki.page.ready\",\"jquery.tablesorter\",\"jquery.makeCollapsible\",\"mediawiki.toc\",\"skins.vector.js\",\"ext.centralNotice.geoIP\",\n",
      "\"ext.centralNotice.startUp\",\"ext.gadget.ReferenceTooltips\",\"ext.gadget.switcher\",\"ext.urlShortener.toolbar\",\"ext.centralauth.centralautologin\",\"mmv.head\",\"mmv.bootstrap.autostart\",\"ext.popups\",\"ext.visualEditor.desktopArticleTarget.init\",\"ext.visualEditor.targetLoader\",\"ext.echo.centralauth\",\"ext.eventLogging\",\"ext.wikimediaEvents\",\"ext.navigationTiming\",\"ext.uls.interface\",\"ext.cx.eventlogging.campaigns\",\"ext.cx.uls.quick.actions\",\"wikibase.client.vector-2022\",\"ext.checkUser.clientHints\",\"ext.quicksurveys.init\",\"ext.growthExperiments.SuggestedEditSession\",\"wikibase.sidebar.tracking\"];</script>\n",
      "<script>(RLQ=window.RLQ||[]).push(function(){mw.loader.impl(function(){return[\"user.options@12s5i\",function($,jQuery,require,module){mw.user.tokens.set({\"patrolToken\":\"+\\\\\",\"watchToken\":\"+\\\\\",\"csrfToken\":\"+\\\\\"});\n",
      "}];});});</script>\n",
      "<link rel=\"stylesheet\" href=\"/w/load.php?lang=en&amp;modules=ext.cite.styles%7Cext.uls.interlanguage%7Cext.visualEditor.desktopArticleTarget.noscript%7Cext.wikimediaBadges%7Cext.wikimediamessages.styles%7Cjquery.makeCollapsible.styles%7Cjquery.tablesorter.styles%7Cskins.vector.icons%2Cstyles%7Cskins.vector.search.codex.styles%7Cwikibase.client.init&amp;only=styles&amp;skin=vector-2022\">\n",
      "<script async=\"\" src=\"/w/load.php?lang=en&amp;modules=startup&amp;only=scripts&amp;raw=1&amp;skin=vector-2022\"></script>\n",
      "<meta name=\"ResourceLoaderDynamicStyles\" content=\"\">\n",
      "<link rel=\"stylesheet\" href=\"/w/load.php?lang=en&amp;modules=site.styles&amp;only=styles&amp;skin=vector-2022\">\n",
      "<meta name=\"generator\" content=\"MediaWiki 1.43.0-wmf.22\">\n",
      "<meta name=\"referrer\" content=\"origin\">\n",
      "<meta name=\"referrer\" content=\"origin-when-cross-origin\">\n",
      "<meta name=\"robots\" content=\"max-image-preview:standard\">\n",
      "<meta name=\"format-detection\" content=\"telephone=no\">\n",
      "<meta name=\"viewport\" content=\"width=1120\">\n",
      "<meta property=\"og:title\" content=\"Cosmic latte - Wikipedia\">\n",
      "<meta property=\"og:type\" content=\"website\">\n",
      "<link rel=\"preconnect\" href=\"//upload.wikimedia.org\">\n",
      "<link rel=\"alternate\" media=\"only screen and (max-width: 640px)\" href=\"//en.m.wikipedia.org/wiki/Cosmic_latte\">\n",
      "<link rel=\"alternate\" type=\"application/x-wiki\" title=\"Edit this page\" href=\"/w/index.php?title=Cosmic_latte&amp;action=edit\">\n",
      "<link rel=\"apple-touch-icon\" href=\"/static/apple-touch/wikipedia.png\">\n",
      "<link rel=\"icon\" href=\"/static/favicon/wikipedia.ico\">\n",
      "<link rel=\"search\" type=\"application/opensearchdescription+xml\" href=\"/w/rest.php/v1/search\" title=\"Wikipedia (en)\">\n",
      "<link rel=\"EditURI\" type=\"application/rsd+xml\" href=\"//en.wikipedia.org/w/api.php?action=rsd\">\n",
      "<link rel=\"canonical\" href=\"https://en.wikipedia.org/wiki/Cosmic_latte\">\n",
      "<link rel=\"license\" href=\"https://creativecommons.org/licenses/by-sa/4.0/deed.en\">\n",
      "<link rel=\"alternate\" type=\"application/atom+xml\" title=\"Wikipedia Atom feed\" href=\"/w/index.php?title=Special:RecentChanges&amp;feed=atom\">\n",
      "<link rel=\"dns-prefetch\" href=\"//meta.wikimedia.org\" />\n",
      "<link rel=\"dns-prefetch\" href=\"//login.wikimedia.org\">\n",
      "</head>\n",
      "<body class=\"skin--responsive skin-vector skin-vector-search-vue mediawiki ltr sitedir-ltr mw-hide-empty-elt ns-0 ns-subject mw-editable page-Cosmic_latte rootpage-Cosmic_latte skin-vector-2022 action-view\"><a class=\"mw-jump-link\" href=\"#bodyContent\">Jump to content</a>\n",
      "<div class=\"vector-header-container\">\n",
      "\t<header class=\"vector-header mw-header\">\n",
      "\t\t<div class=\"vector-header-start\">\n",
      "\t\t\t<nav class=\"vector-main-menu-landmark\" aria-label=\"Site\">\n",
      "\t\t\t\t\n",
      "<div id=\"vector-main-menu-dropdown\" class=\"vector-dropdown vector-main-menu-dropdown vector-button-flush-left vector-button-flush-right\"  >\n",
      "\t<input type=\"checkbox\" id=\"vector-main-menu-dropdown-checkbox\" role=\"button\" aria-haspopup=\"true\" data-event-name=\"ui.dropdown-vector-main-menu-dropdown\" class=\"vector-dropdown-checkbox \"  aria-label=\"Main menu\"  >\n",
      "\t<label id=\"vector-main-menu-dropdown-label\" for=\"vector-main-menu-dropdown-checkbox\" class=\"vector-dropdown-label cdx-button cdx-button--fake-button cdx-button--fake-button--enabled cdx-button--weight-quiet cdx-button--icon-only \" aria-hidden=\"true\"  ><span class=\"vector-icon mw-ui-icon-menu mw-ui-icon-wikimedia-menu\"></span>\n",
      "\n",
      "<span class=\"vector-dropdown-label-text\">Main menu</span>\n",
      "\t</label>\n",
      "\t<div class=\"vector-dropdown-content\">\n",
      "\n",
      "\n",
      "\t\t\t\t<div id=\"vector-main-menu-unpinned-container\" class=\"vector-unpinned-container\">\n",
      "\t\t\n",
      "<div id=\"vector-main-menu\" class=\"vector-main-menu vector-pinnable-element\">\n",
      "\t<div\n",
      "\tclass=\"vector-pinnable-header vector-main-menu-pinnable-header vector-pinnable-header-unpinned\"\n",
      "\tdata-feature-name=\"main-menu-pinned\"\n",
      "\tdata-pinnable-element-id=\"vector-main-menu\"\n",
      "\tdata-pinned-container-id=\"vector-main-menu-pinned-container\"\n",
      "\tdata-unpinned-container-id=\"vector-main-menu-unpinned-container\"\n",
      ">\n",
      "\t<div class=\"vector-pinnable-header-label\">Main menu</div>\n",
      "\t<button class=\"vector-pinnable-header-toggle-button vector-pinnable-header-pin-button\" data-event-name=\"pinnable-header.vector-main-menu.pin\">move to sidebar</button>\n",
      "\t<button class=\"vector-pinnable-header-toggle-button vector-pinnable-header-unpin-button\" data-event-name=\"pinnable-header.vector-main-menu.unpin\">hide</button>\n",
      "</div>\n",
      "\n",
      "\t\n",
      "<div id=\"p-navigation\" class=\"vector-menu mw-portlet mw-portlet-navigation\"  >\n",
      "\t<div class=\"vector-menu-heading\">\n",
      "\t\tNavigation\n",
      "\t</div>\n",
      "\t<div class=\"vector-menu-content\">\n",
      "\t\t\n",
      "\t\t<ul class=\"vector-menu-content-list\">\n",
      "\t\t\t\n",
      "\t\t\t<li id=\"n-mainpage-description\" class=\"mw-list-item\"><a href=\"/wiki/Main_Page\" title=\"Visit the main page [z]\" accesskey=\"z\"><span>Main page</span></a></li><li id=\"n-contents\" class=\"mw-list-item\"><a href=\"/wiki/Wikipedia:Contents\" title=\"Guides to browsing Wikipedia\"><span>Contents</span></a></li><li id=\"n-currentevents\" class=\"mw-list-item\"><a href=\"/wiki/Portal:Current_events\" title=\"Articles related to current events\"><span>Current events</span></a></li><li id=\"n-randompage\" class=\"mw-list-item\"><a href=\"/wiki/Special:Random\" title=\"Visit a randomly selected article [x]\" accesskey=\"x\"><span>Random article</span></a></li><li id=\"n-aboutsite\" class=\"mw-list-item\"><a href=\"/wiki/Wikipedia:About\" title=\"Learn about Wikipedia and how it works\"><span>About Wikipedia</span></a></li><li id=\"n-contactpage\" class=\"mw-list-item\"><a href=\"//en.wikipedia.org/wiki/Wikipedia:Contact_us\" title=\"How to contact Wikipedia\"><span>Contact us</span></a></li><li id=\"n-sitesupport\" class=\"mw-list-item\"><a href=\"https://donate.wikimedia.org/wiki/Special:FundraiserRedirector?utm_source=donate&amp;utm_medium=sidebar&amp;utm_campaign=C13_en.wikipedia.org&amp;uselang=en\" title=\"Support us by donating to the Wikimedia Foundation\"><span>Donate</span></a></li>\n",
      "\t\t</ul>\n",
      "\t\t\n",
      "\t</div>\n",
      "</div>\n",
      "\n",
      "\t\n",
      "\t\n",
      "<div id=\"p-interaction\" class=\"vector-menu mw-portlet mw-portlet-interaction\"  >\n",
      "\t<div class=\"vector-menu-heading\">\n",
      "\t\tContribute\n",
      "\t</div>\n",
      "\t<div class=\"vector-menu-content\">\n",
      "\t\t\n",
      "\t\t<ul class=\"vector-menu-content-list\">\n",
      "\t\t\t\n",
      "\t\t\t<li id=\"n-help\" class=\"mw-list-item\"><a href=\"/wiki/Help:Contents\" title=\"Guidance on how to use and edit Wikipedia\"><span>Help</span></a></li><li id=\"n-introduction\" class=\"mw-list-item\"><a href=\"/wiki/Help:Introduction\" title=\"Learn how to edit Wikipedia\"><span>Learn to edit</span></a></li><li id=\"n-portal\" class=\"mw-list-item\"><a href=\"/wiki/Wikipedia:Community_portal\" title=\"The hub for editors\"><span>Community portal</span></a></li><li id=\"n-recentchanges\" class=\"mw-list-item\"><a href=\"/wiki/Special:RecentChanges\" title=\"A list of recent changes to Wikipedia [r]\" accesskey=\"r\"><span>Recent changes</span></a></li><li id=\"n-upload\" class=\"mw-list-item\"><a href=\"/wiki/Wikipedia:File_upload_wizard\" title=\"Add images or other media for use on Wikipedia\"><span>Upload file</span></a></li>\n",
      "\t\t</ul>\n",
      "\t\t\n",
      "\t</div>\n",
      "</div>\n",
      "\n",
      "</div>\n",
      "\n",
      "\t\t\t\t</div>\n",
      "\n",
      "\t</div>\n",
      "</div>\n",
      "\n",
      "\t\t</nav>\n",
      "\t\t\t\n",
      "<a href=\"/wiki/Main_Page\" class=\"mw-logo\">\n",
      "\t<img class=\"mw-logo-icon\" src=\"/static/images/icons/wikipedia.png\" alt=\"\" aria-hidden=\"true\" height=\"50\" width=\"50\">\n",
      "\t<span class=\"mw-logo-container skin-invert\">\n",
      "\t\t<img class=\"mw-logo-wordmark\" alt=\"Wikipedia\" src=\"/static/images/mobile/copyright/wikipedia-wordmark-en.svg\" style=\"width: 7.5em; height: 1.125em;\">\n",
      "\t\t<img class=\"mw-logo-tagline\" alt=\"The Free Encyclopedia\" src=\"/static/images/mobile/copyright/wikipedia-tagline-en.svg\" width=\"117\" height=\"13\" style=\"width: 7.3125em; height: 0.8125em;\">\n",
      "\t</span>\n",
      "</a>\n",
      "\n",
      "\t\t</div>\n",
      "\t\t<div class=\"vector-header-end\">\n",
      "\t\t\t\n",
      "<div id=\"p-search\" role=\"search\" class=\"vector-search-box-vue  vector-search-box-collapses vector-search-box-show-thumbnail vector-search-box-auto-expand-width vector-search-box\">\n",
      "\t<a href=\"/wiki/Special:Search\" class=\"cdx-button cdx-button--fake-button cdx-button--fake-button--enabled cdx-button--weight-quiet cdx-button--icon-only search-toggle\" title=\"Search Wikipedia [f]\" accesskey=\"f\"><span class=\"vector-icon mw-ui-icon-search mw-ui-icon-wikimedia-search\"></span>\n",
      "\n",
      "<span>Search</span>\n",
      "\t</a>\n",
      "\t<div class=\"vector-typeahead-search-container\">\n",
      "\t\t<div class=\"cdx-typeahead-search cdx-typeahead-search--show-thumbnail cdx-typeahead-search--auto-expand-width\">\n",
      "\t\t\t<form action=\"/w/index.php\" id=\"searchform\" class=\"cdx-search-input cdx-search-input--has-end-button\">\n",
      "\t\t\t\t<div id=\"simpleSearch\" class=\"cdx-search-input__input-wrapper\"  data-search-loc=\"header-moved\">\n",
      "\t\t\t\t\t<div class=\"cdx-text-input cdx-text-input--has-start-icon\">\n",
      "\t\t\t\t\t\t<input\n",
      "\t\t\t\t\t\t\tclass=\"cdx-text-input__input\"\n",
      "\t\t\t\t\t\t\t type=\"search\" name=\"search\" placeholder=\"Search Wikipedia\" aria-label=\"Search Wikipedia\" autocapitalize=\"sentences\" title=\"Search Wikipedia [f]\" accesskey=\"f\" id=\"searchInput\"\n",
      "\t\t\t\t\t\t\t>\n",
      "\t\t\t\t\t\t<span class=\"cdx-text-input__icon cdx-text-input__start-icon\"></span>\n",
      "\t\t\t\t\t</div>\n",
      "\t\t\t\t\t<input type=\"hidden\" name=\"title\" value=\"Special:Search\">\n",
      "\t\t\t\t</div>\n",
      "\t\t\t\t<button class=\"cdx-button cdx-search-input__end-button\">Search</button>\n",
      "\t\t\t</form>\n",
      "\t\t</div>\n",
      "\t</div>\n",
      "</div>\n",
      "\n",
      "\t\t\t<nav class=\"vector-user-links vector-user-links-wide\" aria-label=\"Personal tools\">\n",
      "\t<div class=\"vector-user-links-main\">\n",
      "\t\n",
      "<div id=\"p-vector-user-menu-preferences\" class=\"vector-menu mw-portlet emptyPortlet\"  >\n",
      "\t<div class=\"vector-menu-content\">\n",
      "\t\t\n",
      "\t\t<ul class=\"vector-menu-content-list\">\n",
      "\t\t\t\n",
      "\t\t\t\n",
      "\t\t</ul>\n",
      "\t\t\n",
      "\t</div>\n",
      "</div>\n",
      "\n",
      "\t\n",
      "<div id=\"p-vector-user-menu-userpage\" class=\"vector-menu mw-portlet emptyPortlet\"  >\n",
      "\t<div class=\"vector-menu-content\">\n",
      "\t\t\n",
      "\t\t<ul class=\"vector-menu-content-list\">\n",
      "\t\t\t\n",
      "\t\t\t\n",
      "\t\t</ul>\n",
      "\t\t\n",
      "\t</div>\n",
      "</div>\n",
      "\n",
      "\t<nav class=\"vector-appearance-landmark\" aria-label=\"Appearance\">\n",
      "\t\t\n",
      "<div id=\"vector-appearance-dropdown\" class=\"vector-dropdown \"  title=\"Change the appearance of the page&#039;s font size, width, and color\" >\n",
      "\t<input type=\"checkbox\" id=\"vector-appearance-dropdown-checkbox\" role=\"button\" aria-haspopup=\"true\" data-event-name=\"ui.dropdown-vector-appearance-dropdown\" class=\"vector-dropdown-checkbox \"  aria-label=\"Appearance\"  >\n",
      "\t<label id=\"vector-appearance-dropdown-label\" for=\"vector-appearance-dropdown-checkbox\" class=\"vector-dropdown-label cdx-button cdx-button--fake-button cdx-button--fake-button--enabled cdx-button--weight-quiet cdx-button--icon-only \" aria-hidden=\"true\"  ><span class=\"vector-icon mw-ui-icon-appearance mw-ui-icon-wikimedia-appearance\"></span>\n",
      "\n",
      "<span class=\"vector-dropdown-label-text\">Appearance</span>\n",
      "\t</label>\n",
      "\t<div class=\"vector-dropdown-content\">\n",
      "\n",
      "\n",
      "\t\t\t<div id=\"vector-appearance-unpinned-container\" class=\"vector-unpinned-container\">\n",
      "\t\t\t\t\n",
      "\t\t\t</div>\n",
      "\t\t\n",
      "\t</div>\n",
      "</div>\n",
      "\n",
      "\t</nav>\n",
      "\t\n",
      "<div id=\"p-vector-user-menu-notifications\" class=\"vector-menu mw-portlet emptyPortlet\"  >\n",
      "\t<div class=\"vector-menu-content\">\n",
      "\t\t\n",
      "\t\t<ul class=\"vector-menu-content-list\">\n",
      "\t\t\t\n",
      "\t\t\t\n",
      "\t\t</ul>\n",
      "\t\t\n",
      "\t</div>\n",
      "</div>\n",
      "\n",
      "\t\n",
      "<div id=\"p-vector-user-menu-overflow\" class=\"vector-menu mw-portlet\"  >\n",
      "\t<div class=\"vector-menu-content\">\n",
      "\t\t\n",
      "\t\t<ul class=\"vector-menu-content-list\">\n",
      "\t\t\t<li id=\"pt-createaccount-2\" class=\"user-links-collapsible-item mw-list-item user-links-collapsible-item\"><a data-mw=\"interface\" href=\"/w/index.php?title=Special:CreateAccount&amp;returnto=Cosmic+latte\" title=\"You are encouraged to create an account and log in; however, it is not mandatory\" class=\"\"><span>Create account</span></a>\n",
      "</li>\n",
      "<li id=\"pt-login-2\" class=\"user-links-collapsible-item mw-list-item user-links-collapsible-item\"><a data-mw=\"interface\" href=\"/w/index.php?title=Special:UserLogin&amp;returnto=Cosmic+latte\" title=\"You&#039;re encouraged to log in; however, it&#039;s not mandatory. [o]\" accesskey=\"o\" class=\"\"><span>Log in</span></a>\n",
      "</li>\n",
      "\n",
      "\t\t\t\n",
      "\t\t</ul>\n",
      "\t\t\n",
      "\t</div>\n",
      "</div>\n",
      "\n",
      "\t</div>\n",
      "\t\n",
      "<div id=\"vector-user-links-dropdown\" class=\"vector-dropdown vector-user-menu vector-button-flush-right vector-user-menu-logged-out\"  title=\"Log in and more options\" >\n",
      "\t<input type=\"checkbox\" id=\"vector-user-links-dropdown-checkbox\" role=\"button\" aria-haspopup=\"true\" data-event-name=\"ui.dropdown-vector-user-links-dropdown\" class=\"vector-dropdown-checkbox \"  aria-label=\"Personal tools\"  >\n",
      "\t<label id=\"vector-user-links-dropdown-label\" for=\"vector-user-links-dropdown-checkbox\" class=\"vector-dropdown-label cdx-button cdx-button--fake-button cdx-button--fake-button--enabled cdx-button--weight-quiet cdx-button--icon-only \" aria-hidden=\"true\"  ><span class=\"vector-icon mw-ui-icon-ellipsis mw-ui-icon-wikimedia-ellipsis\"></span>\n",
      "\n",
      "<span class=\"vector-dropdown-label-text\">Personal tools</span>\n",
      "\t</label>\n",
      "\t<div class=\"vector-dropdown-content\">\n",
      "\n",
      "\n",
      "\t\t\n",
      "<div id=\"p-personal\" class=\"vector-menu mw-portlet mw-portlet-personal user-links-collapsible-item\"  title=\"User menu\" >\n",
      "\t<div class=\"vector-menu-content\">\n",
      "\t\t\n",
      "\t\t<ul class=\"vector-menu-content-list\">\n",
      "\t\t\t\n",
      "\t\t\t<li id=\"pt-createaccount\" class=\"user-links-collapsible-item mw-list-item\"><a href=\"/w/index.php?title=Special:CreateAccount&amp;returnto=Cosmic+latte\" title=\"You are encouraged to create an account and log in; however, it is not mandatory\"><span class=\"vector-icon mw-ui-icon-userAdd mw-ui-icon-wikimedia-userAdd\"></span> <span>Create account</span></a></li><li id=\"pt-login\" class=\"user-links-collapsible-item mw-list-item\"><a href=\"/w/index.php?title=Special:UserLogin&amp;returnto=Cosmic+latte\" title=\"You&#039;re encouraged to log in; however, it&#039;s not mandatory. [o]\" accesskey=\"o\"><span class=\"vector-icon mw-ui-icon-logIn mw-ui-icon-wikimedia-logIn\"></span> <span>Log in</span></a></li>\n",
      "\t\t</ul>\n",
      "\t\t\n",
      "\t</div>\n",
      "</div>\n",
      "\n",
      "<div id=\"p-user-menu-anon-editor\" class=\"vector-menu mw-portlet mw-portlet-user-menu-anon-editor\"  >\n",
      "\t<div class=\"vector-menu-heading\">\n",
      "\t\tPages for logged out editors <a href=\"/wiki/Help:Introduction\" aria-label=\"Learn more about editing\"><span>learn more</span></a>\n",
      "\t</div>\n",
      "\t<div class=\"vector-menu-content\">\n",
      "\t\t\n",
      "\t\t<ul class=\"vector-menu-content-list\">\n",
      "\t\t\t\n",
      "\t\t\t<li id=\"pt-anoncontribs\" class=\"mw-list-item\"><a href=\"/wiki/Special:MyContributions\" title=\"A list of edits made from this IP address [y]\" accesskey=\"y\"><span>Contributions</span></a></li><li id=\"pt-anontalk\" class=\"mw-list-item\"><a href=\"/wiki/Special:MyTalk\" title=\"Discussion about edits from this IP address [n]\" accesskey=\"n\"><span>Talk</span></a></li>\n",
      "\t\t</ul>\n",
      "\t\t\n",
      "\t</div>\n",
      "</div>\n",
      "\n",
      "\t\n",
      "\t</div>\n",
      "</div>\n",
      "\n",
      "</nav>\n",
      "\n",
      "\t\t</div>\n",
      "\t</header>\n",
      "</div>\n",
      "<div class=\"mw-page-container\">\n",
      "\t<div class=\"mw-page-container-inner\">\n",
      "\t\t<div class=\"vector-sitenotice-container\">\n",
      "\t\t\t<div id=\"siteNotice\"><!-- CentralNotice --></div>\n",
      "\t\t</div>\n",
      "\t\t<div class=\"vector-column-start\">\n",
      "\t\t\t<div class=\"vector-main-menu-container\">\n",
      "\t\t<div id=\"mw-navigation\">\n",
      "\t\t\t<nav id=\"mw-panel\" class=\"vector-main-menu-landmark\" aria-label=\"Site\">\n",
      "\t\t\t\t<div id=\"vector-main-menu-pinned-container\" class=\"vector-pinned-container\">\n",
      "\t\t\t\t\n",
      "\t\t\t\t</div>\n",
      "\t\t</nav>\n",
      "\t\t</div>\n",
      "\t</div>\n",
      "\t<div class=\"vector-sticky-pinned-container\">\n",
      "\t\t\t\t<nav id=\"mw-panel-toc\" aria-label=\"Contents\" data-event-name=\"ui.sidebar-toc\" class=\"mw-table-of-contents-container vector-toc-landmark\">\n",
      "\t\t\t\t\t<div id=\"vector-toc-pinned-container\" class=\"vector-pinned-container\">\n",
      "\t\t\t\t\t<div id=\"vector-toc\" class=\"vector-toc vector-pinnable-element\">\n",
      "\t<div\n",
      "\tclass=\"vector-pinnable-header vector-toc-pinnable-header vector-pinnable-header-pinned\"\n",
      "\tdata-feature-name=\"toc-pinned\"\n",
      "\tdata-pinnable-element-id=\"vector-toc\"\n",
      "\t\n",
      "\t\n",
      ">\n",
      "\t<h2 class=\"vector-pinnable-header-label\">Contents</h2>\n",
      "\t<button class=\"vector-pinnable-header-toggle-button vector-pinnable-header-pin-button\" data-event-name=\"pinnable-header.vector-toc.pin\">move to sidebar</button>\n",
      "\t<button class=\"vector-pinnable-header-toggle-button vector-pinnable-header-unpin-button\" data-event-name=\"pinnable-header.vector-toc.unpin\">hide</button>\n",
      "</div>\n",
      "\n",
      "\n",
      "\t<ul class=\"vector-toc-contents\" id=\"mw-panel-toc-list\">\n",
      "\t\t<li id=\"toc-mw-content-text\"\n",
      "\t\t\tclass=\"vector-toc-list-item vector-toc-level-1\">\n",
      "\t\t\t<a href=\"#\" class=\"vector-toc-link\">\n",
      "\t\t\t\t<div class=\"vector-toc-text\">(Top)</div>\n",
      "\t\t\t</a>\n",
      "\t\t</li>\n",
      "\t\t<li id=\"toc-Discovery_of_the_color\"\n",
      "\t\tclass=\"vector-toc-list-item vector-toc-level-1 vector-toc-list-item-expanded\">\n",
      "\t\t<a class=\"vector-toc-link\" href=\"#Discovery_of_the_color\">\n",
      "\t\t\t<div class=\"vector-toc-text\">\n",
      "\t\t\t\t<span class=\"vector-toc-numb\">1</span>\n",
      "\t\t\t\t<span>Discovery of the color</span>\n",
      "\t\t\t</div>\n",
      "\t\t</a>\n",
      "\t\t\n",
      "\t\t\t<button aria-controls=\"toc-Discovery_of_the_color-sublist\" class=\"cdx-button cdx-button--weight-quiet cdx-button--icon-only vector-toc-toggle\">\n",
      "\t\t\t\t<span class=\"vector-icon mw-ui-icon-wikimedia-expand\"></span>\n",
      "\t\t\t\t<span>Toggle Discovery of the color subsection</span>\n",
      "\t\t\t</button>\n",
      "\t\t\n",
      "\t\t<ul id=\"toc-Discovery_of_the_color-sublist\" class=\"vector-toc-list\">\n",
      "\t\t\t<li id=\"toc-Naming_the_color\"\n",
      "\t\t\tclass=\"vector-toc-list-item vector-toc-level-2\">\n",
      "\t\t\t<a class=\"vector-toc-link\" href=\"#Naming_the_color\">\n",
      "\t\t\t\t<div class=\"vector-toc-text\">\n",
      "\t\t\t\t\t<span class=\"vector-toc-numb\">1.1</span>\n",
      "\t\t\t\t\t<span>Naming the color</span>\n",
      "\t\t\t\t</div>\n",
      "\t\t\t</a>\n",
      "\t\t\t\n",
      "\t\t\t<ul id=\"toc-Naming_the_color-sublist\" class=\"vector-toc-list\">\n",
      "\t\t\t</ul>\n",
      "\t\t</li>\n",
      "\t</ul>\n",
      "\t</li>\n",
      "\t<li id=\"toc-See_also\"\n",
      "\t\tclass=\"vector-toc-list-item vector-toc-level-1 vector-toc-list-item-expanded\">\n",
      "\t\t<a class=\"vector-toc-link\" href=\"#See_also\">\n",
      "\t\t\t<div class=\"vector-toc-text\">\n",
      "\t\t\t\t<span class=\"vector-toc-numb\">2</span>\n",
      "\t\t\t\t<span>See also</span>\n",
      "\t\t\t</div>\n",
      "\t\t</a>\n",
      "\t\t\n",
      "\t\t<ul id=\"toc-See_also-sublist\" class=\"vector-toc-list\">\n",
      "\t\t</ul>\n",
      "\t</li>\n",
      "\t<li id=\"toc-References\"\n",
      "\t\tclass=\"vector-toc-list-item vector-toc-level-1 vector-toc-list-item-expanded\">\n",
      "\t\t<a class=\"vector-toc-link\" href=\"#References\">\n",
      "\t\t\t<div class=\"vector-toc-text\">\n",
      "\t\t\t\t<span class=\"vector-toc-numb\">3</span>\n",
      "\t\t\t\t<span>References</span>\n",
      "\t\t\t</div>\n",
      "\t\t</a>\n",
      "\t\t\n",
      "\t\t<ul id=\"toc-References-sublist\" class=\"vector-toc-list\">\n",
      "\t\t</ul>\n",
      "\t</li>\n",
      "\t<li id=\"toc-External_links\"\n",
      "\t\tclass=\"vector-toc-list-item vector-toc-level-1 vector-toc-list-item-expanded\">\n",
      "\t\t<a class=\"vector-toc-link\" href=\"#External_links\">\n",
      "\t\t\t<div class=\"vector-toc-text\">\n",
      "\t\t\t\t<span class=\"vector-toc-numb\">4</span>\n",
      "\t\t\t\t<span>External links</span>\n",
      "\t\t\t</div>\n",
      "\t\t</a>\n",
      "\t\t\n",
      "\t\t<ul id=\"toc-External_links-sublist\" class=\"vector-toc-list\">\n",
      "\t\t</ul>\n",
      "\t</li>\n",
      "</ul>\n",
      "</div>\n",
      "\n",
      "\t\t\t\t\t</div>\n",
      "\t\t</nav>\n",
      "\t\t\t</div>\n",
      "\t\t</div>\n",
      "\t\t<div class=\"mw-content-container\">\n",
      "\t\t\t<main id=\"content\" class=\"mw-body\">\n",
      "\t\t\t\t<header class=\"mw-body-header vector-page-titlebar\">\n",
      "\t\t\t\t\t<nav aria-label=\"Contents\" class=\"vector-toc-landmark\">\n",
      "\t\t\t\t\t\t\n",
      "<div id=\"vector-page-titlebar-toc\" class=\"vector-dropdown vector-page-titlebar-toc vector-button-flush-left\"  >\n",
      "\t<input type=\"checkbox\" id=\"vector-page-titlebar-toc-checkbox\" role=\"button\" aria-haspopup=\"true\" data-event-name=\"ui.dropdown-vector-page-titlebar-toc\" class=\"vector-dropdown-checkbox \"  aria-label=\"Toggle the table of contents\"  >\n",
      "\t<label id=\"vector-page-titlebar-toc-label\" for=\"vector-page-titlebar-toc-checkbox\" class=\"vector-dropdown-label cdx-button cdx-button--fake-button cdx-button--fake-button--enabled cdx-button--weight-quiet cdx-button--icon-only \" aria-hidden=\"true\"  ><span class=\"vector-icon mw-ui-icon-listBullet mw-ui-icon-wikimedia-listBullet\"></span>\n",
      "\n",
      "<span class=\"vector-dropdown-label-text\">Toggle the table of contents</span>\n",
      "\t</label>\n",
      "\t<div class=\"vector-dropdown-content\">\n",
      "\n",
      "\n",
      "\t\t\t\t\t\t\t<div id=\"vector-page-titlebar-toc-unpinned-container\" class=\"vector-unpinned-container\">\n",
      "\t\t\t</div>\n",
      "\t\t\n",
      "\t</div>\n",
      "</div>\n",
      "\n",
      "\t\t\t\t\t</nav>\n",
      "\t\t\t\t\t<h1 id=\"firstHeading\" class=\"firstHeading mw-first-heading\"><span class=\"mw-page-title-main\">Cosmic latte</span></h1>\n",
      "\t\t\t\t\t\t\t\n",
      "<div id=\"p-lang-btn\" class=\"vector-dropdown mw-portlet mw-portlet-lang\"  >\n",
      "\t<input type=\"checkbox\" id=\"p-lang-btn-checkbox\" role=\"button\" aria-haspopup=\"true\" data-event-name=\"ui.dropdown-p-lang-btn\" class=\"vector-dropdown-checkbox mw-interlanguage-selector\" aria-label=\"Go to an article in another language. Available in 23 languages\"   >\n",
      "\t<label id=\"p-lang-btn-label\" for=\"p-lang-btn-checkbox\" class=\"vector-dropdown-label cdx-button cdx-button--fake-button cdx-button--fake-button--enabled cdx-button--weight-quiet cdx-button--action-progressive mw-portlet-lang-heading-23\" aria-hidden=\"true\"  ><span class=\"vector-icon mw-ui-icon-language-progressive mw-ui-icon-wikimedia-language-progressive\"></span>\n",
      "\n",
      "<span class=\"vector-dropdown-label-text\">23 languages</span>\n",
      "\t</label>\n",
      "\t<div class=\"vector-dropdown-content\">\n",
      "\n",
      "\t\t<div class=\"vector-menu-content\">\n",
      "\t\t\t\n",
      "\t\t\t<ul class=\"vector-menu-content-list\">\n",
      "\t\t\t\t\n",
      "\t\t\t\t<li class=\"interlanguage-link interwiki-az mw-list-item\"><a href=\"https://az.wikipedia.org/wiki/Kosmik_latte\" title=\"Kosmik latte – Azerbaijani\" lang=\"az\" hreflang=\"az\" data-title=\"Kosmik latte\" data-language-autonym=\"Azərbaycanca\" data-language-local-name=\"Azerbaijani\" class=\"interlanguage-link-target\"><span>Azərbaycanca</span></a></li><li class=\"interlanguage-link interwiki-da mw-list-item\"><a href=\"https://da.wikipedia.org/wiki/Kosmisk_latte\" title=\"Kosmisk latte – Danish\" lang=\"da\" hreflang=\"da\" data-title=\"Kosmisk latte\" data-language-autonym=\"Dansk\" data-language-local-name=\"Danish\" class=\"interlanguage-link-target\"><span>Dansk</span></a></li><li class=\"interlanguage-link interwiki-de mw-list-item\"><a href=\"https://de.wikipedia.org/wiki/Kosmisch-Latte\" title=\"Kosmisch-Latte – German\" lang=\"de\" hreflang=\"de\" data-title=\"Kosmisch-Latte\" data-language-autonym=\"Deutsch\" data-language-local-name=\"German\" class=\"interlanguage-link-target\"><span>Deutsch</span></a></li><li class=\"interlanguage-link interwiki-el mw-list-item\"><a href=\"https://el.wikipedia.org/wiki/%CE%9A%CE%BF%CF%83%CE%BC%CE%B9%CE%BA%CF%8C_%CE%BB%CE%AC%CF%84%CE%B5\" title=\"Κοσμικό λάτε – Greek\" lang=\"el\" hreflang=\"el\" data-title=\"Κοσμικό λάτε\" data-language-autonym=\"Ελληνικά\" data-language-local-name=\"Greek\" class=\"interlanguage-link-target\"><span>Ελληνικά</span></a></li><li class=\"interlanguage-link interwiki-es mw-list-item\"><a href=\"https://es.wikipedia.org/wiki/Caf%C3%A9_con_leche_c%C3%B3smico\" title=\"Café con leche cósmico – Spanish\" lang=\"es\" hreflang=\"es\" data-title=\"Café con leche cósmico\" data-language-autonym=\"Español\" data-language-local-name=\"Spanish\" class=\"interlanguage-link-target\"><span>Español</span></a></li><li class=\"interlanguage-link interwiki-eu mw-list-item\"><a href=\"https://eu.wikipedia.org/wiki/Kafesne_kosmiko\" title=\"Kafesne kosmiko – Basque\" lang=\"eu\" hreflang=\"eu\" data-title=\"Kafesne kosmiko\" data-language-autonym=\"Euskara\" data-language-local-name=\"Basque\" class=\"interlanguage-link-target\"><span>Euskara</span></a></li><li class=\"interlanguage-link interwiki-fa mw-list-item\"><a href=\"https://fa.wikipedia.org/wiki/%D9%84%D8%A7%D8%AA%D9%87_%DA%A9%DB%8C%D9%87%D8%A7%D9%86%DB%8C\" title=\"لاته کیهانی – Persian\" lang=\"fa\" hreflang=\"fa\" data-title=\"لاته کیهانی\" data-language-autonym=\"فارسی\" data-language-local-name=\"Persian\" class=\"interlanguage-link-target\"><span>فارسی</span></a></li><li class=\"interlanguage-link interwiki-fr mw-list-item\"><a href=\"https://fr.wikipedia.org/wiki/Cosmic_latte\" title=\"Cosmic latte – French\" lang=\"fr\" hreflang=\"fr\" data-title=\"Cosmic latte\" data-language-autonym=\"Français\" data-language-local-name=\"French\" class=\"interlanguage-link-target\"><span>Français</span></a></li><li class=\"interlanguage-link interwiki-ko mw-list-item\"><a href=\"https://ko.wikipedia.org/wiki/%EC%BD%94%EC%8A%A4%EB%AF%B9_%EB%9D%BC%ED%85%8C\" title=\"코스믹 라테 – Korean\" lang=\"ko\" hreflang=\"ko\" data-title=\"코스믹 라테\" data-language-autonym=\"한국어\" data-language-local-name=\"Korean\" class=\"interlanguage-link-target\"><span>한국어</span></a></li><li class=\"interlanguage-link interwiki-hy mw-list-item\"><a href=\"https://hy.wikipedia.org/wiki/%D5%8F%D5%AB%D5%A5%D5%A6%D5%A5%D6%80%D5%A1%D5%AF%D5%A1%D5%B6_%D5%AC%D5%A1%D5%BF%D5%A5\" title=\"Տիեզերական լատե – Armenian\" lang=\"hy\" hreflang=\"hy\" data-title=\"Տիեզերական լատե\" data-language-autonym=\"Հայերեն\" data-language-local-name=\"Armenian\" class=\"interlanguage-link-target\"><span>Հայերեն</span></a></li><li class=\"interlanguage-link interwiki-id mw-list-item\"><a href=\"https://id.wikipedia.org/wiki/Krem_kosmik\" title=\"Krem kosmik – Indonesian\" lang=\"id\" hreflang=\"id\" data-title=\"Krem kosmik\" data-language-autonym=\"Bahasa Indonesia\" data-language-local-name=\"Indonesian\" class=\"interlanguage-link-target\"><span>Bahasa Indonesia</span></a></li><li class=\"interlanguage-link interwiki-it mw-list-item\"><a href=\"https://it.wikipedia.org/wiki/Cosmic_latte\" title=\"Cosmic latte – Italian\" lang=\"it\" hreflang=\"it\" data-title=\"Cosmic latte\" data-language-autonym=\"Italiano\" data-language-local-name=\"Italian\" class=\"interlanguage-link-target\"><span>Italiano</span></a></li><li class=\"interlanguage-link interwiki-lmo mw-list-item\"><a href=\"https://lmo.wikipedia.org/wiki/Cosmic_latte\" title=\"Cosmic latte – Lombard\" lang=\"lmo\" hreflang=\"lmo\" data-title=\"Cosmic latte\" data-language-autonym=\"Lombard\" data-language-local-name=\"Lombard\" class=\"interlanguage-link-target\"><span>Lombard</span></a></li><li class=\"interlanguage-link interwiki-ml mw-list-item\"><a href=\"https://ml.wikipedia.org/wiki/%E0%B4%95%E0%B5%8B%E0%B4%B8%E0%B5%8D%E0%B4%AE%E0%B4%BF%E0%B4%95%E0%B5%8D_%E0%B4%B2%E0%B4%BE%E0%B4%B1%E0%B5%8D%E0%B4%B1%E0%B5%86\" title=\"കോസ്മിക് ലാറ്റെ – Malayalam\" lang=\"ml\" hreflang=\"ml\" data-title=\"കോസ്മിക് ലാറ്റെ\" data-language-autonym=\"മലയാളം\" data-language-local-name=\"Malayalam\" class=\"interlanguage-link-target\"><span>മലയാളം</span></a></li><li class=\"interlanguage-link interwiki-ja mw-list-item\"><a href=\"https://ja.wikipedia.org/wiki/%E3%82%B3%E3%82%BA%E3%83%9F%E3%83%83%E3%82%AF%E3%83%A9%E3%83%86\" title=\"コズミックラテ – Japanese\" lang=\"ja\" hreflang=\"ja\" data-title=\"コズミックラテ\" data-language-autonym=\"日本語\" data-language-local-name=\"Japanese\" class=\"interlanguage-link-target\"><span>日本語</span></a></li><li class=\"interlanguage-link interwiki-no mw-list-item\"><a href=\"https://no.wikipedia.org/wiki/Kosmisk_latte\" title=\"Kosmisk latte – Norwegian Bokmål\" lang=\"nb\" hreflang=\"nb\" data-title=\"Kosmisk latte\" data-language-autonym=\"Norsk bokmål\" data-language-local-name=\"Norwegian Bokmål\" class=\"interlanguage-link-target\"><span>Norsk bokmål</span></a></li><li class=\"interlanguage-link interwiki-pl mw-list-item\"><a href=\"https://pl.wikipedia.org/wiki/Kosmiczne_latte\" title=\"Kosmiczne latte – Polish\" lang=\"pl\" hreflang=\"pl\" data-title=\"Kosmiczne latte\" data-language-autonym=\"Polski\" data-language-local-name=\"Polish\" class=\"interlanguage-link-target\"><span>Polski</span></a></li><li class=\"interlanguage-link interwiki-pt mw-list-item\"><a href=\"https://pt.wikipedia.org/wiki/Caf%C3%A9_com_leite_c%C3%B3smico\" title=\"Café com leite cósmico – Portuguese\" lang=\"pt\" hreflang=\"pt\" data-title=\"Café com leite cósmico\" data-language-autonym=\"Português\" data-language-local-name=\"Portuguese\" class=\"interlanguage-link-target\"><span>Português</span></a></li><li class=\"interlanguage-link interwiki-ru mw-list-item\"><a href=\"https://ru.wikipedia.org/wiki/%D0%9A%D0%BE%D1%81%D0%BC%D0%B8%D1%87%D0%B5%D1%81%D0%BA%D0%B8%D0%B9_%D0%BB%D0%B0%D1%82%D1%82%D0%B5\" title=\"Космический латте – Russian\" lang=\"ru\" hreflang=\"ru\" data-title=\"Космический латте\" data-language-autonym=\"Русский\" data-language-local-name=\"Russian\" class=\"interlanguage-link-target\"><span>Русский</span></a></li><li class=\"interlanguage-link interwiki-simple mw-list-item\"><a href=\"https://simple.wikipedia.org/wiki/Cosmic_latte\" title=\"Cosmic latte – Simple English\" lang=\"en-simple\" hreflang=\"en-simple\" data-title=\"Cosmic latte\" data-language-autonym=\"Simple English\" data-language-local-name=\"Simple English\" class=\"interlanguage-link-target\"><span>Simple English</span></a></li><li class=\"interlanguage-link interwiki-sr mw-list-item\"><a href=\"https://sr.wikipedia.org/wiki/%D0%9A%D0%BE%D1%81%D0%BC%D0%B8%D1%87%D0%BA%D0%B8_%D0%BB%D0%B0%D1%82%D0%B5\" title=\"Космички лате – Serbian\" lang=\"sr\" hreflang=\"sr\" data-title=\"Космички лате\" data-language-autonym=\"Српски / srpski\" data-language-local-name=\"Serbian\" class=\"interlanguage-link-target\"><span>Српски / srpski</span></a></li><li class=\"interlanguage-link interwiki-tr mw-list-item\"><a href=\"https://tr.wikipedia.org/wiki/Kozmik_latte\" title=\"Kozmik latte – Turkish\" lang=\"tr\" hreflang=\"tr\" data-title=\"Kozmik latte\" data-language-autonym=\"Türkçe\" data-language-local-name=\"Turkish\" class=\"interlanguage-link-target\"><span>Türkçe</span></a></li><li class=\"interlanguage-link interwiki-zh mw-list-item\"><a href=\"https://zh.wikipedia.org/wiki/%E5%AE%87%E5%AE%99%E6%8B%BF%E9%90%B5\" title=\"宇宙拿鐵 – Chinese\" lang=\"zh\" hreflang=\"zh\" data-title=\"宇宙拿鐵\" data-language-autonym=\"中文\" data-language-local-name=\"Chinese\" class=\"interlanguage-link-target\"><span>中文</span></a></li>\n",
      "\t\t\t</ul>\n",
      "\t\t\t<div class=\"after-portlet after-portlet-lang\"><span class=\"wb-langlinks-edit wb-langlinks-link\"><a href=\"https://www.wikidata.org/wiki/Special:EntityPage/Q2510690#sitelinks-wikipedia\" title=\"Edit interlanguage links\" class=\"wbc-editpage\">Edit links</a></span></div>\n",
      "\t\t</div>\n",
      "\n",
      "\t</div>\n",
      "</div>\n",
      "</header>\n",
      "\t\t\t\t<div class=\"vector-page-toolbar\">\n",
      "\t\t\t\t\t<div class=\"vector-page-toolbar-container\">\n",
      "\t\t\t\t\t\t<div id=\"left-navigation\">\n",
      "\t\t\t\t\t\t\t<nav aria-label=\"Namespaces\">\n",
      "\t\t\t\t\t\t\t\t\n",
      "<div id=\"p-associated-pages\" class=\"vector-menu vector-menu-tabs mw-portlet mw-portlet-associated-pages\"  >\n",
      "\t<div class=\"vector-menu-content\">\n",
      "\t\t\n",
      "\t\t<ul class=\"vector-menu-content-list\">\n",
      "\t\t\t\n",
      "\t\t\t<li id=\"ca-nstab-main\" class=\"selected vector-tab-noicon mw-list-item\"><a href=\"/wiki/Cosmic_latte\" title=\"View the content page [c]\" accesskey=\"c\"><span>Article</span></a></li><li id=\"ca-talk\" class=\"vector-tab-noicon mw-list-item\"><a href=\"/wiki/Talk:Cosmic_latte\" rel=\"discussion\" title=\"Discuss improvements to the content page [t]\" accesskey=\"t\"><span>Talk</span></a></li>\n",
      "\t\t</ul>\n",
      "\t\t\n",
      "\t</div>\n",
      "</div>\n",
      "\n",
      "\t\t\t\t\t\t\t\t\n",
      "<div id=\"vector-variants-dropdown\" class=\"vector-dropdown emptyPortlet\"  >\n",
      "\t<input type=\"checkbox\" id=\"vector-variants-dropdown-checkbox\" role=\"button\" aria-haspopup=\"true\" data-event-name=\"ui.dropdown-vector-variants-dropdown\" class=\"vector-dropdown-checkbox \" aria-label=\"Change language variant\"   >\n",
      "\t<label id=\"vector-variants-dropdown-label\" for=\"vector-variants-dropdown-checkbox\" class=\"vector-dropdown-label cdx-button cdx-button--fake-button cdx-button--fake-button--enabled cdx-button--weight-quiet\" aria-hidden=\"true\"  ><span class=\"vector-dropdown-label-text\">English</span>\n",
      "\t</label>\n",
      "\t<div class=\"vector-dropdown-content\">\n",
      "\n",
      "\n",
      "\t\t\t\t\t\n",
      "<div id=\"p-variants\" class=\"vector-menu mw-portlet mw-portlet-variants emptyPortlet\"  >\n",
      "\t<div class=\"vector-menu-content\">\n",
      "\t\t\n",
      "\t\t<ul class=\"vector-menu-content-list\">\n",
      "\t\t\t\n",
      "\t\t\t\n",
      "\t\t</ul>\n",
      "\t\t\n",
      "\t</div>\n",
      "</div>\n",
      "\n",
      "\t\t\t\t\n",
      "\t</div>\n",
      "</div>\n",
      "\n",
      "\t\t\t\t\t\t\t</nav>\n",
      "\t\t\t\t\t\t</div>\n",
      "\t\t\t\t\t\t<div id=\"right-navigation\" class=\"vector-collapsible\">\n",
      "\t\t\t\t\t\t\t<nav aria-label=\"Views\">\n",
      "\t\t\t\t\t\t\t\t\n",
      "<div id=\"p-views\" class=\"vector-menu vector-menu-tabs mw-portlet mw-portlet-views\"  >\n",
      "\t<div class=\"vector-menu-content\">\n",
      "\t\t\n",
      "\t\t<ul class=\"vector-menu-content-list\">\n",
      "\t\t\t\n",
      "\t\t\t<li id=\"ca-view\" class=\"selected vector-tab-noicon mw-list-item\"><a href=\"/wiki/Cosmic_latte\"><span>Read</span></a></li><li id=\"ca-edit\" class=\"vector-tab-noicon mw-list-item\"><a href=\"/w/index.php?title=Cosmic_latte&amp;action=edit\" title=\"Edit this page [e]\" accesskey=\"e\"><span>Edit</span></a></li><li id=\"ca-history\" class=\"vector-tab-noicon mw-list-item\"><a href=\"/w/index.php?title=Cosmic_latte&amp;action=history\" title=\"Past revisions of this page [h]\" accesskey=\"h\"><span>View history</span></a></li>\n",
      "\t\t</ul>\n",
      "\t\t\n",
      "\t</div>\n",
      "</div>\n",
      "\n",
      "\t\t\t\t\t\t\t</nav>\n",
      "\t\t\t\t\n",
      "\t\t\t\t\t\t\t<nav class=\"vector-page-tools-landmark\" aria-label=\"Page tools\">\n",
      "\t\t\t\t\t\t\t\t\n",
      "<div id=\"vector-page-tools-dropdown\" class=\"vector-dropdown vector-page-tools-dropdown\"  >\n",
      "\t<input type=\"checkbox\" id=\"vector-page-tools-dropdown-checkbox\" role=\"button\" aria-haspopup=\"true\" data-event-name=\"ui.dropdown-vector-page-tools-dropdown\" class=\"vector-dropdown-checkbox \"  aria-label=\"Tools\"  >\n",
      "\t<label id=\"vector-page-tools-dropdown-label\" for=\"vector-page-tools-dropdown-checkbox\" class=\"vector-dropdown-label cdx-button cdx-button--fake-button cdx-button--fake-button--enabled cdx-button--weight-quiet\" aria-hidden=\"true\"  ><span class=\"vector-dropdown-label-text\">Tools</span>\n",
      "\t</label>\n",
      "\t<div class=\"vector-dropdown-content\">\n",
      "\n",
      "\n",
      "\t\t\t\t\t\t\t\t\t<div id=\"vector-page-tools-unpinned-container\" class=\"vector-unpinned-container\">\n",
      "\t\t\t\t\t\t\n",
      "<div id=\"vector-page-tools\" class=\"vector-page-tools vector-pinnable-element\">\n",
      "\t<div\n",
      "\tclass=\"vector-pinnable-header vector-page-tools-pinnable-header vector-pinnable-header-unpinned\"\n",
      "\tdata-feature-name=\"page-tools-pinned\"\n",
      "\tdata-pinnable-element-id=\"vector-page-tools\"\n",
      "\tdata-pinned-container-id=\"vector-page-tools-pinned-container\"\n",
      "\tdata-unpinned-container-id=\"vector-page-tools-unpinned-container\"\n",
      ">\n",
      "\t<div class=\"vector-pinnable-header-label\">Tools</div>\n",
      "\t<button class=\"vector-pinnable-header-toggle-button vector-pinnable-header-pin-button\" data-event-name=\"pinnable-header.vector-page-tools.pin\">move to sidebar</button>\n",
      "\t<button class=\"vector-pinnable-header-toggle-button vector-pinnable-header-unpin-button\" data-event-name=\"pinnable-header.vector-page-tools.unpin\">hide</button>\n",
      "</div>\n",
      "\n",
      "\t\n",
      "<div id=\"p-cactions\" class=\"vector-menu mw-portlet mw-portlet-cactions emptyPortlet vector-has-collapsible-items\"  title=\"More options\" >\n",
      "\t<div class=\"vector-menu-heading\">\n",
      "\t\tActions\n",
      "\t</div>\n",
      "\t<div class=\"vector-menu-content\">\n",
      "\t\t\n",
      "\t\t<ul class=\"vector-menu-content-list\">\n",
      "\t\t\t\n",
      "\t\t\t<li id=\"ca-more-view\" class=\"selected vector-more-collapsible-item mw-list-item\"><a href=\"/wiki/Cosmic_latte\"><span>Read</span></a></li><li id=\"ca-more-edit\" class=\"vector-more-collapsible-item mw-list-item\"><a href=\"/w/index.php?title=Cosmic_latte&amp;action=edit\" title=\"Edit this page [e]\" accesskey=\"e\"><span>Edit</span></a></li><li id=\"ca-more-history\" class=\"vector-more-collapsible-item mw-list-item\"><a href=\"/w/index.php?title=Cosmic_latte&amp;action=history\"><span>View history</span></a></li>\n",
      "\t\t</ul>\n",
      "\t\t\n",
      "\t</div>\n",
      "</div>\n",
      "\n",
      "<div id=\"p-tb\" class=\"vector-menu mw-portlet mw-portlet-tb\"  >\n",
      "\t<div class=\"vector-menu-heading\">\n",
      "\t\tGeneral\n",
      "\t</div>\n",
      "\t<div class=\"vector-menu-content\">\n",
      "\t\t\n",
      "\t\t<ul class=\"vector-menu-content-list\">\n",
      "\t\t\t\n",
      "\t\t\t<li id=\"t-whatlinkshere\" class=\"mw-list-item\"><a href=\"/wiki/Special:WhatLinksHere/Cosmic_latte\" title=\"List of all English Wikipedia pages containing links to this page [j]\" accesskey=\"j\"><span>What links here</span></a></li><li id=\"t-recentchangeslinked\" class=\"mw-list-item\"><a href=\"/wiki/Special:RecentChangesLinked/Cosmic_latte\" rel=\"nofollow\" title=\"Recent changes in pages linked from this page [k]\" accesskey=\"k\"><span>Related changes</span></a></li><li id=\"t-upload\" class=\"mw-list-item\"><a href=\"/wiki/Wikipedia:File_Upload_Wizard\" title=\"Upload files [u]\" accesskey=\"u\"><span>Upload file</span></a></li><li id=\"t-specialpages\" class=\"mw-list-item\"><a href=\"/wiki/Special:SpecialPages\" title=\"A list of all special pages [q]\" accesskey=\"q\"><span>Special pages</span></a></li><li id=\"t-permalink\" class=\"mw-list-item\"><a href=\"/w/index.php?title=Cosmic_latte&amp;oldid=1234183977\" title=\"Permanent link to this revision of this page\"><span>Permanent link</span></a></li><li id=\"t-info\" class=\"mw-list-item\"><a href=\"/w/index.php?title=Cosmic_latte&amp;action=info\" title=\"More information about this page\"><span>Page information</span></a></li><li id=\"t-cite\" class=\"mw-list-item\"><a href=\"/w/index.php?title=Special:CiteThisPage&amp;page=Cosmic_latte&amp;id=1234183977&amp;wpFormIdentifier=titleform\" title=\"Information on how to cite this page\"><span>Cite this page</span></a></li><li id=\"t-urlshortener\" class=\"mw-list-item\"><a href=\"/w/index.php?title=Special:UrlShortener&amp;url=https%3A%2F%2Fen.wikipedia.org%2Fwiki%2FCosmic_latte\"><span>Get shortened URL</span></a></li><li id=\"t-urlshortener-qrcode\" class=\"mw-list-item\"><a href=\"/w/index.php?title=Special:QrCode&amp;url=https%3A%2F%2Fen.wikipedia.org%2Fwiki%2FCosmic_latte\"><span>Download QR code</span></a></li><li id=\"t-wikibase\" class=\"mw-list-item\"><a href=\"https://www.wikidata.org/wiki/Special:EntityPage/Q2510690\" title=\"Structured data on this page hosted by Wikidata [g]\" accesskey=\"g\"><span>Wikidata item</span></a></li>\n",
      "\t\t</ul>\n",
      "\t\t\n",
      "\t</div>\n",
      "</div>\n",
      "\n",
      "<div id=\"p-coll-print_export\" class=\"vector-menu mw-portlet mw-portlet-coll-print_export\"  >\n",
      "\t<div class=\"vector-menu-heading\">\n",
      "\t\tPrint/export\n",
      "\t</div>\n",
      "\t<div class=\"vector-menu-content\">\n",
      "\t\t\n",
      "\t\t<ul class=\"vector-menu-content-list\">\n",
      "\t\t\t\n",
      "\t\t\t<li id=\"coll-download-as-rl\" class=\"mw-list-item\"><a href=\"/w/index.php?title=Special:DownloadAsPdf&amp;page=Cosmic_latte&amp;action=show-download-screen\" title=\"Download this page as a PDF file\"><span>Download as PDF</span></a></li><li id=\"t-print\" class=\"mw-list-item\"><a href=\"/w/index.php?title=Cosmic_latte&amp;printable=yes\" title=\"Printable version of this page [p]\" accesskey=\"p\"><span>Printable version</span></a></li>\n",
      "\t\t</ul>\n",
      "\t\t\n",
      "\t</div>\n",
      "</div>\n",
      "\n",
      "<div id=\"p-wikibase-otherprojects\" class=\"vector-menu mw-portlet mw-portlet-wikibase-otherprojects emptyPortlet\"  >\n",
      "\t<div class=\"vector-menu-heading\">\n",
      "\t\tIn other projects\n",
      "\t</div>\n",
      "\t<div class=\"vector-menu-content\">\n",
      "\t\t\n",
      "\t\t<ul class=\"vector-menu-content-list\">\n",
      "\t\t\t\n",
      "\t\t\t\n",
      "\t\t</ul>\n",
      "\t\t\n",
      "\t</div>\n",
      "</div>\n",
      "\n",
      "</div>\n",
      "\n",
      "\t\t\t\t\t\t\t\t\t</div>\n",
      "\t\t\t\t\n",
      "\t</div>\n",
      "</div>\n",
      "\n",
      "\t\t\t\t\t\t\t</nav>\n",
      "\t\t\t\t\t\t</div>\n",
      "\t\t\t\t\t</div>\n",
      "\t\t\t\t</div>\n",
      "\t\t\t\t<div class=\"vector-column-end\">\n",
      "\t\t\t\t\t<div class=\"vector-sticky-pinned-container\">\n",
      "\t\t\t\t\t\t<nav class=\"vector-page-tools-landmark\" aria-label=\"Page tools\">\n",
      "\t\t\t\t\t\t\t<div id=\"vector-page-tools-pinned-container\" class=\"vector-pinned-container\">\n",
      "\t\t\t\t\n",
      "\t\t\t\t\t\t\t</div>\n",
      "\t\t</nav>\n",
      "\t\t\t\t\t\t<nav class=\"vector-appearance-landmark\" aria-label=\"Appearance\">\n",
      "\t\t\t\t\t\t\t<div id=\"vector-appearance-pinned-container\" class=\"vector-pinned-container\">\n",
      "\t\t\t\t<div id=\"vector-appearance\" class=\"vector-appearance vector-pinnable-element\">\n",
      "\t<div\n",
      "\tclass=\"vector-pinnable-header vector-appearance-pinnable-header vector-pinnable-header-pinned\"\n",
      "\tdata-feature-name=\"appearance-pinned\"\n",
      "\tdata-pinnable-element-id=\"vector-appearance\"\n",
      "\tdata-pinned-container-id=\"vector-appearance-pinned-container\"\n",
      "\tdata-unpinned-container-id=\"vector-appearance-unpinned-container\"\n",
      ">\n",
      "\t<div class=\"vector-pinnable-header-label\">Appearance</div>\n",
      "\t<button class=\"vector-pinnable-header-toggle-button vector-pinnable-header-pin-button\" data-event-name=\"pinnable-header.vector-appearance.pin\">move to sidebar</button>\n",
      "\t<button class=\"vector-pinnable-header-toggle-button vector-pinnable-header-unpin-button\" data-event-name=\"pinnable-header.vector-appearance.unpin\">hide</button>\n",
      "</div>\n",
      "\n",
      "\n",
      "</div>\n",
      "\n",
      "\t\t\t\t\t\t\t</div>\n",
      "\t\t</nav>\n",
      "\t\t\t\t\t</div>\n",
      "\t\t\t\t</div>\n",
      "\t\t\t\t<div id=\"bodyContent\" class=\"vector-body\" aria-labelledby=\"firstHeading\" data-mw-ve-target-container>\n",
      "\t\t\t\t\t<div class=\"vector-body-before-content\">\n",
      "\t\t\t\t\t\t\t<div class=\"mw-indicators\">\n",
      "\t\t</div>\n",
      "\n",
      "\t\t\t\t\t\t<div id=\"siteSub\" class=\"noprint\">From Wikipedia, the free encyclopedia</div>\n",
      "\t\t\t\t\t</div>\n",
      "\t\t\t\t\t<div id=\"contentSub\"><div id=\"mw-content-subtitle\"></div></div>\n",
      "\t\t\t\t\t\n",
      "\t\t\t\t\t\n",
      "\t\t\t\t\t<div id=\"mw-content-text\" class=\"mw-body-content\"><div class=\"mw-content-ltr mw-parser-output\" lang=\"en\" dir=\"ltr\"><div class=\"shortdescription nomobile noexcerpt noprint searchaux\" style=\"display:none\">Average color of the universe</div>\n",
      "<p class=\"mw-empty-elt\">\n",
      "</p>\n",
      "<style data-mw-deduplicate=\"TemplateStyles:r1237879389\">.mw-parser-output .infobox-subbox{padding:0;border:none;margin:-3px;width:auto;min-width:100%;font-size:100%;clear:none;float:none;background-color:transparent}.mw-parser-output .infobox-3cols-child{margin:auto}.mw-parser-output .infobox .navbar{font-size:100%}body.skin-minerva .mw-parser-output .infobox-header,body.skin-minerva .mw-parser-output .infobox-subheader,body.skin-minerva .mw-parser-output .infobox-above,body.skin-minerva .mw-parser-output .infobox-title,body.skin-minerva .mw-parser-output .infobox-image,body.skin-minerva .mw-parser-output .infobox-full-data,body.skin-minerva .mw-parser-output .infobox-below{text-align:center}@media screen{html.skin-theme-clientpref-night .mw-parser-output .infobox-full-data:not(.notheme)>div:not(.notheme)[style]{background:#1f1f23!important;color:#f8f9fa}}@media screen and (prefers-color-scheme:dark){html.skin-theme-clientpref-os .mw-parser-output .infobox-full-data:not(.notheme) div:not(.notheme){background:#1f1f23!important;color:#f8f9fa}}@media(min-width:640px){body.skin--responsive .mw-parser-output .infobox-table{display:table!important}body.skin--responsive .mw-parser-output .infobox-table>caption{display:table-caption!important}body.skin--responsive .mw-parser-output .infobox-table>tbody{display:table-row-group}body.skin--responsive .mw-parser-output .infobox-table tr{display:table-row!important}body.skin--responsive .mw-parser-output .infobox-table th,body.skin--responsive .mw-parser-output .infobox-table td{padding-left:inherit;padding-right:inherit}}</style><table class=\"infobox\"><tbody><tr><th colspan=\"2\" class=\"infobox-above\">Cosmic latte</th></tr><tr><td colspan=\"2\" class=\"infobox-subheader mw-no-invert\" style=\"line-height:12px; background-color:#FFF8E7!important; border: 0.1px solid #000000\">&#160;</td></tr><tr><th colspan=\"2\" class=\"infobox-header\"><span style=\"position: relative; float: right; font-size: 70%\"><span typeof=\"mw:File\"><a href=\"/wiki/Wikipedia:WikiProject_Color/Normalized_Color_Coordinates\" title=\"About these coordinates\"><img alt=\"About these coordinates\" src=\"//upload.wikimedia.org/wikipedia/commons/thumb/b/b4/Gtk-dialog-info.svg/15px-Gtk-dialog-info.svg.png\" decoding=\"async\" width=\"15\" height=\"15\" class=\"mw-file-element\" srcset=\"//upload.wikimedia.org/wikipedia/commons/thumb/b/b4/Gtk-dialog-info.svg/23px-Gtk-dialog-info.svg.png 1.5x, //upload.wikimedia.org/wikipedia/commons/thumb/b/b4/Gtk-dialog-info.svg/30px-Gtk-dialog-info.svg.png 2x\" data-file-width=\"60\" data-file-height=\"60\" /></a></span></span> &#160; &#160; Color coordinates</th></tr><tr><th scope=\"row\" class=\"infobox-label\"><a href=\"/wiki/Web_colors#Hex_triplet\" title=\"Web colors\">Hex triplet</a></th><td class=\"infobox-data\">&#35;FFF8E7</td></tr><tr><th scope=\"row\" class=\"infobox-label\"><span class=\"nowrap\"><a href=\"/wiki/SRGB\" title=\"SRGB\">sRGB</a><sup><b>B</b></sup> (<a href=\"/wiki/Red\" title=\"Red\">r</a>, <a href=\"/wiki/Green\" title=\"Green\">g</a>, <a href=\"/wiki/Blue\" title=\"Blue\">b</a>)</span></th><td class=\"infobox-data\"><span class=\"nowrap\">(255, 248, 231)</span></td></tr><tr><th scope=\"row\" class=\"infobox-label\"><span class=\"nowrap\"><a href=\"/wiki/HSL_and_HSV\" title=\"HSL and HSV\">HSV</a> (<a href=\"/wiki/Hue\" title=\"Hue\">h</a>, <a href=\"/wiki/Colorfulness#Saturation\" title=\"Colorfulness\">s</a>, <a href=\"/wiki/Brightness\" title=\"Brightness\">v</a>)</span></th><td class=\"infobox-data\"><span class=\"nowrap\">(42°, 9%, 100%)</span></td></tr><tr><th scope=\"row\" class=\"infobox-label\"><span class=\"nowrap\"><a href=\"/wiki/CIELChuv\" class=\"mw-redirect\" title=\"CIELChuv\">CIELCh<sub>uv</sub></a> (<a href=\"/wiki/Lightness\" title=\"Lightness\">L</a>, <a href=\"/wiki/Colorfulness\" title=\"Colorfulness\">C</a>, <a href=\"/wiki/Hue\" title=\"Hue\">h</a>)</span></th><td class=\"infobox-data\"><span class=\"nowrap\">(98, 15, 70°)</span></td></tr><tr><th scope=\"row\" class=\"infobox-label\">Source</th><td class=\"infobox-data\"><a rel=\"nofollow\" class=\"external text\" href=\"https://web.archive.org/web/20060104173304/http://www.pha.jhu.edu:80/~kgb/cosspec/\">JHU</a></td></tr><tr><th scope=\"row\" class=\"infobox-label\"><a href=\"/wiki/ISCC%E2%80%93NBS_system\" title=\"ISCC–NBS system\">ISCC–NBS descriptor</a></th><td class=\"infobox-data\">Pale yellow green</td></tr><tr><td colspan=\"2\" class=\"infobox-full-data\"><b>B</b>: Normalized to [0–255] (byte)<br /></td></tr><tr><th colspan=\"2\" class=\"infobox-header\"><hr /><span style=\"font-weight:normal !important\">Due to flawed calculations, the average color of the universe was originally thought to be turquoise.<sup id=\"cite_ref-Wired_2002_1-0\" class=\"reference\"><a href=\"#cite_note-Wired_2002-1\"><span class=\"cite-bracket\">&#91;</span>1<span class=\"cite-bracket\">&#93;</span></a></sup></span></th></tr><tr><th scope=\"row\" class=\"infobox-label\">Cosmic spectrum green</th><td class=\"infobox-data\"><span style=\"background-color:#9CFFCE; border:1px solid #9CFFCE;display:block\" class=\"mw-no-invert\">&#160;</span></td></tr></tbody></table>\n",
      "<p><b>Cosmic latte</b> is the average color of the galaxies of the <a href=\"/wiki/Universe\" title=\"Universe\">universe</a> as perceived from the Earth, found by a team of <a href=\"/wiki/Astronomer\" title=\"Astronomer\">astronomers</a> from <a href=\"/wiki/Johns_Hopkins_University\" title=\"Johns Hopkins University\">Johns Hopkins University</a> (JHU). In 2002, <a href=\"/wiki/Karl_Glazebrook\" title=\"Karl Glazebrook\">Karl Glazebrook</a> and Ivan Baldry determined that the average color of the universe was a <a href=\"/wiki/Green\" title=\"Green\">greenish</a> white, but they soon corrected their analysis in a 2003 paper in which they reported that their survey of the light from over 200,000 <a href=\"/wiki/Galaxies\" class=\"mw-redirect\" title=\"Galaxies\">galaxies</a> averaged to a slightly <a href=\"/wiki/Beige\" title=\"Beige\">beigeish</a> <a href=\"/wiki/White\" title=\"White\">white</a>.<sup id=\"cite_ref-2\" class=\"reference\"><a href=\"#cite_note-2\"><span class=\"cite-bracket\">&#91;</span>2<span class=\"cite-bracket\">&#93;</span></a></sup> The <a href=\"/wiki/Hex_triplet\" class=\"mw-redirect\" title=\"Hex triplet\">hex triplet</a> value for cosmic latte is <code>#FFF8E7</code>.\n",
      "</p>\n",
      "<meta property=\"mw:PageProp/toc\" />\n",
      "<div class=\"mw-heading mw-heading2\"><h2 id=\"Discovery_of_the_color\">Discovery of the color</h2><span class=\"mw-editsection\"><span class=\"mw-editsection-bracket\">[</span><a href=\"/w/index.php?title=Cosmic_latte&amp;action=edit&amp;section=1\" title=\"Edit section: Discovery of the color\"><span>edit</span></a><span class=\"mw-editsection-bracket\">]</span></span></div>\n",
      "<p>Finding the average colour of the universe was not the focus of the study. Rather, the study examined spectral analysis of different galaxies to study <a href=\"/wiki/Star_formation\" title=\"Star formation\">star formation</a>. Like <a href=\"/wiki/Fraunhofer_lines\" title=\"Fraunhofer lines\">Fraunhofer lines</a>, the dark lines displayed in the study's spectral ranges display older and younger stars and allow Glazebrook and Baldry to determine the age of different galaxies and <a href=\"/wiki/Star_system\" title=\"Star system\">star systems</a>. What the study revealed is that the overwhelming majority of stars formed about 5 billion years ago. Because these stars would have been \"brighter\" in the past, the color of the universe changes over time, shifting from blue to red as more blue stars change to yellow and eventually <a href=\"/wiki/Red_giant\" title=\"Red giant\">red giants</a>.\n",
      "</p><p>As light from distant galaxies reaches the Earth, the average \"color of the universe\" (as seen from Earth) tends towards pure white, due to the light coming from the stars when they were much younger and bluer.<sup id=\"cite_ref-Cosmic_Spectrum_2004_3-0\" class=\"reference\"><a href=\"#cite_note-Cosmic_Spectrum_2004-3\"><span class=\"cite-bracket\">&#91;</span>3<span class=\"cite-bracket\">&#93;</span></a></sup>\n",
      "</p>\n",
      "<div class=\"mw-heading mw-heading3\"><h3 id=\"Naming_the_color\">Naming the color</h3><span class=\"mw-editsection\"><span class=\"mw-editsection-bracket\">[</span><a href=\"/w/index.php?title=Cosmic_latte&amp;action=edit&amp;section=2\" title=\"Edit section: Naming the color\"><span>edit</span></a><span class=\"mw-editsection-bracket\">]</span></span></div>\n",
      "<p>The corrected color was initially published on the Johns Hopkins University (JHU) News website and updated on the team's initial announcement.<sup id=\"cite_ref-4\" class=\"reference\"><a href=\"#cite_note-4\"><span class=\"cite-bracket\">&#91;</span>4<span class=\"cite-bracket\">&#93;</span></a></sup> Multiple news outlets, including <a href=\"/wiki/NPR\" title=\"NPR\">NPR</a> and <a href=\"/wiki/BBC_News\" title=\"BBC News\">BBC</a>, displayed the color in stories<sup id=\"cite_ref-5\" class=\"reference\"><a href=\"#cite_note-5\"><span class=\"cite-bracket\">&#91;</span>5<span class=\"cite-bracket\">&#93;</span></a></sup> and some relayed the request by Glazebrook on the announcement asking for suggestions for names, jokingly adding all were welcome as long as they were not \"beige\".<sup id=\"cite_ref-6\" class=\"reference\"><a href=\"#cite_note-6\"><span class=\"cite-bracket\">&#91;</span>6<span class=\"cite-bracket\">&#93;</span></a></sup><sup id=\"cite_ref-Wired_2002_1-1\" class=\"reference\"><a href=\"#cite_note-Wired_2002-1\"><span class=\"cite-bracket\">&#91;</span>1<span class=\"cite-bracket\">&#93;</span></a></sup>\n",
      "</p><p>These were the results of a vote of the JHU astronomers involved based on the new color:<sup id=\"cite_ref-name_votes_7-0\" class=\"reference\"><a href=\"#cite_note-name_votes-7\"><span class=\"cite-bracket\">&#91;</span>7<span class=\"cite-bracket\">&#93;</span></a></sup>\n",
      "</p>\n",
      "<table class=\"wikitable sortable\">\n",
      "<tbody><tr>\n",
      "<th>Color name</th>\n",
      "<th>Credit</th>\n",
      "<th>Votes\n",
      "</th></tr>\n",
      "<tr>\n",
      "<td>Cosmic Latte</td>\n",
      "<td>Peter Drum</td>\n",
      "<td>6\n",
      "</td></tr>\n",
      "<tr>\n",
      "<td>Cappuccino Cosmico</td>\n",
      "<td>Peter Drum</td>\n",
      "<td>17\n",
      "</td></tr>\n",
      "<tr>\n",
      "<td>Big Bang Buff/Blush/Beige</td>\n",
      "<td><i>Several entrants</i></td>\n",
      "<td>13\n",
      "</td></tr>\n",
      "<tr>\n",
      "<td>Cosmic Cream</td>\n",
      "<td><i>Several entrants</i></td>\n",
      "<td>8\n",
      "</td></tr>\n",
      "<tr>\n",
      "<td>Astronomer Green</td>\n",
      "<td><i>Unknown</i></td>\n",
      "<td>8\n",
      "</td></tr>\n",
      "<tr>\n",
      "<td>Astronomer Almond</td>\n",
      "<td>Lisa Rose</td>\n",
      "<td>7\n",
      "</td></tr>\n",
      "<tr>\n",
      "<td>Skyvory</td>\n",
      "<td>Michael Howard</td>\n",
      "<td>7\n",
      "</td></tr>\n",
      "<tr>\n",
      "<td>Univeige</td>\n",
      "<td><i>Several entrants</i></td>\n",
      "<td>6\n",
      "</td></tr>\n",
      "<tr>\n",
      "<td>Cosmic Khaki</td>\n",
      "<td><i>Unknown</i></td>\n",
      "<td>5\n",
      "</td></tr>\n",
      "<tr>\n",
      "<td>Primordial Clam Chowder</td>\n",
      "<td><i>Unknown</i></td>\n",
      "<td>4\n",
      "</td></tr></tbody></table>\n",
      "<p>Though Drum's suggestion of \"<a href=\"/wiki/Cappuccino\" title=\"Cappuccino\">cappuccino</a> cosmico\" received the most votes, the researchers favored Drum's other suggestion, \"cosmic <a href=\"/wiki/Latte\" title=\"Latte\">latte</a>\". \"<i><span title=\"Italian-language text\"><i lang=\"it\">Latte</i></span></i>\" means \"milk\" in <a href=\"/wiki/Italian_language\" title=\"Italian language\">Italian</a>, <a href=\"/wiki/Galileo_Galilei\" title=\"Galileo Galilei\">Galileo's</a> native language, and the similar \"<i><span title=\"Italian-language text\"><i lang=\"it\">latteo</i></span></i>\" means \"milky\", similar to the Italian term for the <a href=\"/wiki/Milky_Way\" title=\"Milky Way\">Milky Way</a>, \"<i><span title=\"Italian-language text\"><i lang=\"it\">Via Lattea</i></span></i>\". They enjoyed the fact that the color would be similar to the Milky Way's average color as well, as it is part of the sum of the universe.<sup id=\"cite_ref-name_votes_7-1\" class=\"reference\"><a href=\"#cite_note-name_votes-7\"><span class=\"cite-bracket\">&#91;</span>7<span class=\"cite-bracket\">&#93;</span></a></sup><sup id=\"cite_ref-8\" class=\"reference\"><a href=\"#cite_note-8\"><span class=\"cite-bracket\">&#91;</span>8<span class=\"cite-bracket\">&#93;</span></a></sup> They also claimed to be \"<a href=\"/wiki/Caffeine\" title=\"Caffeine\">caffeine</a> biased\".<sup id=\"cite_ref-Cosmic_Spectrum_2004_3-1\" class=\"reference\"><a href=\"#cite_note-Cosmic_Spectrum_2004-3\"><span class=\"cite-bracket\">&#91;</span>3<span class=\"cite-bracket\">&#93;</span></a></sup>\n",
      "</p>\n",
      "<div class=\"mw-heading mw-heading2\"><h2 id=\"See_also\">See also</h2><span class=\"mw-editsection\"><span class=\"mw-editsection-bracket\">[</span><a href=\"/w/index.php?title=Cosmic_latte&amp;action=edit&amp;section=3\" title=\"Edit section: See also\"><span>edit</span></a><span class=\"mw-editsection-bracket\">]</span></span></div>\n",
      "<ul><li><a href=\"/wiki/Cosmic_microwave_background\" title=\"Cosmic microwave background\">Cosmic microwave background</a>&#160;– Trace radiation from the early universe</li>\n",
      "<li><a href=\"/wiki/Electromagnetic_spectrum\" title=\"Electromagnetic spectrum\">Electromagnetic spectrum</a>&#160;– Range of frequencies or wavelengths of electromagnetic radiation</li>\n",
      "<li><a href=\"/wiki/List_of_colors\" class=\"mw-redirect\" title=\"List of colors\">List of colors</a></li>\n",
      "<li><a href=\"/wiki/Shades_of_white\" title=\"Shades of white\">Shades of white</a>&#160;– Varieties of the color white</li>\n",
      "<li><a href=\"/wiki/Variations_of_white\" class=\"mw-redirect\" title=\"Variations of white\">Variations of white</a>&#160;– Varieties of the color white<span style=\"display:none\" class=\"category-annotation-with-redirected-description\">Pages displaying short descriptions of redirect targets</span></li>\n",
      "<li><a href=\"/wiki/Visible_spectrum\" title=\"Visible spectrum\">Visible spectrum</a>&#160;– Portion of the electromagnetic spectrum that is visible to the human eye</li></ul>\n",
      "<div class=\"mw-heading mw-heading2\"><h2 id=\"References\">References</h2><span class=\"mw-editsection\"><span class=\"mw-editsection-bracket\">[</span><a href=\"/w/index.php?title=Cosmic_latte&amp;action=edit&amp;section=4\" title=\"Edit section: References\"><span>edit</span></a><span class=\"mw-editsection-bracket\">]</span></span></div>\n",
      "<style data-mw-deduplicate=\"TemplateStyles:r1239543626\">.mw-parser-output .reflist{margin-bottom:0.5em;list-style-type:decimal}@media screen{.mw-parser-output .reflist{font-size:90%}}.mw-parser-output .reflist .references{font-size:100%;margin-bottom:0;list-style-type:inherit}.mw-parser-output .reflist-columns-2{column-width:30em}.mw-parser-output .reflist-columns-3{column-width:25em}.mw-parser-output .reflist-columns{margin-top:0.3em}.mw-parser-output .reflist-columns ol{margin-top:0}.mw-parser-output .reflist-columns li{page-break-inside:avoid;break-inside:avoid-column}.mw-parser-output .reflist-upper-alpha{list-style-type:upper-alpha}.mw-parser-output .reflist-upper-roman{list-style-type:upper-roman}.mw-parser-output .reflist-lower-alpha{list-style-type:lower-alpha}.mw-parser-output .reflist-lower-greek{list-style-type:lower-greek}.mw-parser-output .reflist-lower-roman{list-style-type:lower-roman}</style><div class=\"reflist reflist-columns references-column-width\" style=\"column-width: 30em;\">\n",
      "<ol class=\"references\">\n",
      "<li id=\"cite_note-Wired_2002-1\"><span class=\"mw-cite-backlink\">^ <a href=\"#cite_ref-Wired_2002_1-0\"><sup><i><b>a</b></i></sup></a> <a href=\"#cite_ref-Wired_2002_1-1\"><sup><i><b>b</b></i></sup></a></span> <span class=\"reference-text\"><style data-mw-deduplicate=\"TemplateStyles:r1238218222\">.mw-parser-output cite.citation{font-style:inherit;word-wrap:break-word}.mw-parser-output .citation q{quotes:\"\\\"\"\"\\\"\"\"'\"\"'\"}.mw-parser-output .citation:target{background-color:rgba(0,127,255,0.133)}.mw-parser-output .id-lock-free.id-lock-free a{background:url(\"//upload.wikimedia.org/wikipedia/commons/6/65/Lock-green.svg\")right 0.1em center/9px no-repeat}.mw-parser-output .id-lock-limited.id-lock-limited a,.mw-parser-output .id-lock-registration.id-lock-registration a{background:url(\"//upload.wikimedia.org/wikipedia/commons/d/d6/Lock-gray-alt-2.svg\")right 0.1em center/9px no-repeat}.mw-parser-output .id-lock-subscription.id-lock-subscription a{background:url(\"//upload.wikimedia.org/wikipedia/commons/a/aa/Lock-red-alt-2.svg\")right 0.1em center/9px no-repeat}.mw-parser-output .cs1-ws-icon a{background:url(\"//upload.wikimedia.org/wikipedia/commons/4/4c/Wikisource-logo.svg\")right 0.1em center/12px no-repeat}body:not(.skin-timeless):not(.skin-minerva) .mw-parser-output .id-lock-free a,body:not(.skin-timeless):not(.skin-minerva) .mw-parser-output .id-lock-limited a,body:not(.skin-timeless):not(.skin-minerva) .mw-parser-output .id-lock-registration a,body:not(.skin-timeless):not(.skin-minerva) .mw-parser-output .id-lock-subscription a,body:not(.skin-timeless):not(.skin-minerva) .mw-parser-output .cs1-ws-icon a{background-size:contain;padding:0 1em 0 0}.mw-parser-output .cs1-code{color:inherit;background:inherit;border:none;padding:inherit}.mw-parser-output .cs1-hidden-error{display:none;color:var(--color-error,#d33)}.mw-parser-output .cs1-visible-error{color:var(--color-error,#d33)}.mw-parser-output .cs1-maint{display:none;color:#085;margin-left:0.3em}.mw-parser-output .cs1-kern-left{padding-left:0.2em}.mw-parser-output .cs1-kern-right{padding-right:0.2em}.mw-parser-output .citation .mw-selflink{font-weight:inherit}@media screen{.mw-parser-output .cs1-format{font-size:95%}html.skin-theme-clientpref-night .mw-parser-output .cs1-maint{color:#18911f}}@media screen and (prefers-color-scheme:dark){html.skin-theme-clientpref-os .mw-parser-output .cs1-maint{color:#18911f}}</style><cite class=\"citation magazine cs1\"><a rel=\"nofollow\" class=\"external text\" href=\"https://www.wired.com/2002/03/universe-beige-not-turquoise/\">\"Universe: Beige, not Turquoise\"</a>. <i><a href=\"/wiki/Wired_(magazine)\" title=\"Wired (magazine)\">Wired</a></i>. 8 March 2002. <a rel=\"nofollow\" class=\"external text\" href=\"https://web.archive.org/web/20080724125440/http://www.wired.com/news/technology/0%2C1282%2C50930%2C00.html\">Archived</a> from the original on 24 July 2008<span class=\"reference-accessdate\">. Retrieved <span class=\"nowrap\">26 August</span> 2020</span>.</cite><span title=\"ctx_ver=Z39.88-2004&amp;rft_val_fmt=info%3Aofi%2Ffmt%3Akev%3Amtx%3Ajournal&amp;rft.genre=article&amp;rft.jtitle=Wired&amp;rft.atitle=Universe%3A+Beige%2C+not+Turquoise&amp;rft.date=2002-03-08&amp;rft_id=https%3A%2F%2Fwww.wired.com%2F2002%2F03%2Funiverse-beige-not-turquoise%2F&amp;rfr_id=info%3Asid%2Fen.wikipedia.org%3ACosmic+latte\" class=\"Z3988\"></span></span>\n",
      "</li>\n",
      "<li id=\"cite_note-2\"><span class=\"mw-cite-backlink\"><b><a href=\"#cite_ref-2\">^</a></b></span> <span class=\"reference-text\"><link rel=\"mw-deduplicated-inline-style\" href=\"mw-data:TemplateStyles:r1238218222\"><cite id=\"CITEREFBaldryGlazebrookBaughBland-hawthorn2002\" class=\"citation journal cs1\">Baldry, Ivan K.; Glazebrook, Karl; Baugh, Carlton M.; Bland-hawthorn, Joss; Bridges, Terry; Cannon, Russell; Cole, Shaun; Colless, Matthew; Collins, Chris (2002). \"The 2dF Galaxy Redshift Survey: Constraints on Cosmic Star Formation History from the Cosmic Spectrum\". <i>The Astrophysical Journal</i>. <b>569</b> (2) (published 20 April 2002): 582–594. <a href=\"/wiki/ArXiv_(identifier)\" class=\"mw-redirect\" title=\"ArXiv (identifier)\">arXiv</a>:<span class=\"id-lock-free\" title=\"Freely accessible\"><a rel=\"nofollow\" class=\"external text\" href=\"https://arxiv.org/abs/astro-ph/0110676\">astro-ph/0110676</a></span>. <a href=\"/wiki/Bibcode_(identifier)\" class=\"mw-redirect\" title=\"Bibcode (identifier)\">Bibcode</a>:<a rel=\"nofollow\" class=\"external text\" href=\"https://ui.adsabs.harvard.edu/abs/2002ApJ...569..582B\">2002ApJ...569..582B</a>. <a href=\"/wiki/Doi_(identifier)\" class=\"mw-redirect\" title=\"Doi (identifier)\">doi</a>:<a rel=\"nofollow\" class=\"external text\" href=\"https://doi.org/10.1086%2F339477\">10.1086/339477</a>. <a href=\"/wiki/S2CID_(identifier)\" class=\"mw-redirect\" title=\"S2CID (identifier)\">S2CID</a>&#160;<a rel=\"nofollow\" class=\"external text\" href=\"https://api.semanticscholar.org/CorpusID:54838840\">54838840</a>.</cite><span title=\"ctx_ver=Z39.88-2004&amp;rft_val_fmt=info%3Aofi%2Ffmt%3Akev%3Amtx%3Ajournal&amp;rft.genre=article&amp;rft.jtitle=The+Astrophysical+Journal&amp;rft.atitle=The+2dF+Galaxy+Redshift+Survey%3A+Constraints+on+Cosmic+Star+Formation+History+from+the+Cosmic+Spectrum&amp;rft.volume=569&amp;rft.issue=2&amp;rft.pages=582-594&amp;rft.date=2002&amp;rft_id=info%3Aarxiv%2Fastro-ph%2F0110676&amp;rft_id=https%3A%2F%2Fapi.semanticscholar.org%2FCorpusID%3A54838840%23id-name%3DS2CID&amp;rft_id=info%3Adoi%2F10.1086%2F339477&amp;rft_id=info%3Abibcode%2F2002ApJ...569..582B&amp;rft.aulast=Baldry&amp;rft.aufirst=Ivan+K.&amp;rft.au=Glazebrook%2C+Karl&amp;rft.au=Baugh%2C+Carlton+M.&amp;rft.au=Bland-hawthorn%2C+Joss&amp;rft.au=Bridges%2C+Terry&amp;rft.au=Cannon%2C+Russell&amp;rft.au=Cole%2C+Shaun&amp;rft.au=Colless%2C+Matthew&amp;rft.au=Collins%2C+Chris&amp;rfr_id=info%3Asid%2Fen.wikipedia.org%3ACosmic+latte\" class=\"Z3988\"></span></span>\n",
      "</li>\n",
      "<li id=\"cite_note-Cosmic_Spectrum_2004-3\"><span class=\"mw-cite-backlink\">^ <a href=\"#cite_ref-Cosmic_Spectrum_2004_3-0\"><sup><i><b>a</b></i></sup></a> <a href=\"#cite_ref-Cosmic_Spectrum_2004_3-1\"><sup><i><b>b</b></i></sup></a></span> <span class=\"reference-text\"><link rel=\"mw-deduplicated-inline-style\" href=\"mw-data:TemplateStyles:r1238218222\"><cite id=\"CITEREFGlazebrookBaldry2004\" class=\"citation web cs1\">Glazebrook, Karl; Baldry, Ivan (28 December 2004). <a rel=\"nofollow\" class=\"external text\" href=\"https://www.astro.ljmu.ac.uk/~ikb/Cosmic-Spectrum.html\">\"The Cosmic Spectrum\"</a>. <a href=\"/wiki/Astrophysics_Research_Institute\" title=\"Astrophysics Research Institute\">Astrophysics Research Institute</a><span class=\"reference-accessdate\">. Retrieved <span class=\"nowrap\">17 August</span> 2017</span>.</cite><span title=\"ctx_ver=Z39.88-2004&amp;rft_val_fmt=info%3Aofi%2Ffmt%3Akev%3Amtx%3Abook&amp;rft.genre=unknown&amp;rft.btitle=The+Cosmic+Spectrum&amp;rft.pub=Astrophysics+Research+Institute&amp;rft.date=2004-12-28&amp;rft.aulast=Glazebrook&amp;rft.aufirst=Karl&amp;rft.au=Baldry%2C+Ivan&amp;rft_id=https%3A%2F%2Fwww.astro.ljmu.ac.uk%2F~ikb%2FCosmic-Spectrum.html&amp;rfr_id=info%3Asid%2Fen.wikipedia.org%3ACosmic+latte\" class=\"Z3988\"></span></span>\n",
      "</li>\n",
      "<li id=\"cite_note-4\"><span class=\"mw-cite-backlink\"><b><a href=\"#cite_ref-4\">^</a></b></span> <span class=\"reference-text\"><link rel=\"mw-deduplicated-inline-style\" href=\"mw-data:TemplateStyles:r1238218222\"><cite class=\"citation pressrelease cs1\"><a rel=\"nofollow\" class=\"external text\" href=\"https://www.astro.ljmu.ac.uk/~ikb/press/color.html\">\"Color of the Universe Corrected by Astronomers\"</a> (Press release). <a href=\"/wiki/Astrophysics_Research_Institute\" title=\"Astrophysics Research Institute\">Astrophysics Research Institute</a>. <a href=\"/wiki/Johns_Hopkins_University\" title=\"Johns Hopkins University\">Johns Hopkins University</a> Office of News and Information. 7 March 2002<span class=\"reference-accessdate\">. Retrieved <span class=\"nowrap\">26 August</span> 2020</span>.</cite><span title=\"ctx_ver=Z39.88-2004&amp;rft_val_fmt=info%3Aofi%2Ffmt%3Akev%3Amtx%3Abook&amp;rft.genre=unknown&amp;rft.btitle=Color+of+the+Universe+Corrected+by+Astronomers&amp;rft.pub=Astrophysics+Research+Institute&amp;rft.date=2002-03-07&amp;rft_id=https%3A%2F%2Fwww.astro.ljmu.ac.uk%2F~ikb%2Fpress%2Fcolor.html&amp;rfr_id=info%3Asid%2Fen.wikipedia.org%3ACosmic+latte\" class=\"Z3988\"></span></span>\n",
      "</li>\n",
      "<li id=\"cite_note-5\"><span class=\"mw-cite-backlink\"><b><a href=\"#cite_ref-5\">^</a></b></span> <span class=\"reference-text\"><link rel=\"mw-deduplicated-inline-style\" href=\"mw-data:TemplateStyles:r1238218222\"><cite id=\"CITEREFValentine2002\" class=\"citation news cs1\">Valentine, Vikki (7 March 2002). <a rel=\"nofollow\" class=\"external text\" href=\"https://www.npr.org/programs/atc/features/2002/jan/aas/020110.aas.html\">\"The Color of the Universe Is...\"</a> <i><a href=\"/wiki/NPR\" title=\"NPR\">NPR</a></i><span class=\"reference-accessdate\">. Retrieved <span class=\"nowrap\">17 August</span> 2017</span>.</cite><span title=\"ctx_ver=Z39.88-2004&amp;rft_val_fmt=info%3Aofi%2Ffmt%3Akev%3Amtx%3Ajournal&amp;rft.genre=article&amp;rft.jtitle=NPR&amp;rft.atitle=The+Color+of+the+Universe+Is...&amp;rft.date=2002-03-07&amp;rft.aulast=Valentine&amp;rft.aufirst=Vikki&amp;rft_id=https%3A%2F%2Fwww.npr.org%2Fprograms%2Fatc%2Ffeatures%2F2002%2Fjan%2Faas%2F020110.aas.html&amp;rfr_id=info%3Asid%2Fen.wikipedia.org%3ACosmic+latte\" class=\"Z3988\"></span></span>\n",
      "</li>\n",
      "<li id=\"cite_note-6\"><span class=\"mw-cite-backlink\"><b><a href=\"#cite_ref-6\">^</a></b></span> <span class=\"reference-text\"><link rel=\"mw-deduplicated-inline-style\" href=\"mw-data:TemplateStyles:r1238218222\"><cite class=\"citation news cs1\"><a rel=\"nofollow\" class=\"external text\" href=\"https://news.bbc.co.uk/1/hi/sci/tech/1861957.stm\">\"Universe is off colour\"</a>. <i><a href=\"/wiki/BBC\" title=\"BBC\">BBC</a></i>. 8 March 2002<span class=\"reference-accessdate\">. Retrieved <span class=\"nowrap\">17 August</span> 2017</span>.</cite><span title=\"ctx_ver=Z39.88-2004&amp;rft_val_fmt=info%3Aofi%2Ffmt%3Akev%3Amtx%3Ajournal&amp;rft.genre=article&amp;rft.jtitle=BBC&amp;rft.atitle=Universe+is+off+colour&amp;rft.date=2002-03-08&amp;rft_id=https%3A%2F%2Fnews.bbc.co.uk%2F1%2Fhi%2Fsci%2Ftech%2F1861957.stm&amp;rfr_id=info%3Asid%2Fen.wikipedia.org%3ACosmic+latte\" class=\"Z3988\"></span></span>\n",
      "</li>\n",
      "<li id=\"cite_note-name_votes-7\"><span class=\"mw-cite-backlink\">^ <a href=\"#cite_ref-name_votes_7-0\"><sup><i><b>a</b></i></sup></a> <a href=\"#cite_ref-name_votes_7-1\"><sup><i><b>b</b></i></sup></a></span> <span class=\"reference-text\"><link rel=\"mw-deduplicated-inline-style\" href=\"mw-data:TemplateStyles:r1238218222\"><cite class=\"citation web cs1\"><a rel=\"nofollow\" class=\"external text\" href=\"https://web.archive.org/web/20021005185037/http://www.pha.jhu.edu/~kgb/cosspec/topten.htm\">\"The Cosmic Spectrum\"</a>. 5 October 2002. Archived from <a rel=\"nofollow\" class=\"external text\" href=\"http://www.pha.jhu.edu/~kgb/cosspec/topten.htm\">the original</a> on 5 October 2002<span class=\"reference-accessdate\">. Retrieved <span class=\"nowrap\">17 August</span> 2017</span>.</cite><span title=\"ctx_ver=Z39.88-2004&amp;rft_val_fmt=info%3Aofi%2Ffmt%3Akev%3Amtx%3Abook&amp;rft.genre=unknown&amp;rft.btitle=The+Cosmic+Spectrum&amp;rft.date=2002-10-05&amp;rft_id=http%3A%2F%2Fwww.pha.jhu.edu%2F~kgb%2Fcosspec%2Ftopten.htm&amp;rfr_id=info%3Asid%2Fen.wikipedia.org%3ACosmic+latte\" class=\"Z3988\"></span></span>\n",
      "</li>\n",
      "<li id=\"cite_note-8\"><span class=\"mw-cite-backlink\"><b><a href=\"#cite_ref-8\">^</a></b></span> <span class=\"reference-text\"><link rel=\"mw-deduplicated-inline-style\" href=\"mw-data:TemplateStyles:r1238218222\"><cite id=\"CITEREFVedantamKaufmanStein2002\" class=\"citation news cs1\">Vedantam, Shankar; Kaufman, Marc; Stein, Rob (1 July 2002). <a rel=\"nofollow\" class=\"external text\" href=\"https://www.washingtonpost.com/archive/politics/2002/07/01/science/6faba612-7ee5-49bf-a652-6a0eae42d7c5/\">\"Not Just a Milky Way Anymore - Science\"</a>. <i><a href=\"/wiki/The_Washington_Post\" title=\"The Washington Post\">The Washington Post</a></i>. <a href=\"/wiki/ISSN_(identifier)\" class=\"mw-redirect\" title=\"ISSN (identifier)\">ISSN</a>&#160;<a rel=\"nofollow\" class=\"external text\" href=\"https://search.worldcat.org/issn/0190-8286\">0190-8286</a><span class=\"reference-accessdate\">. Retrieved <span class=\"nowrap\">17 August</span> 2017</span>.</cite><span title=\"ctx_ver=Z39.88-2004&amp;rft_val_fmt=info%3Aofi%2Ffmt%3Akev%3Amtx%3Ajournal&amp;rft.genre=article&amp;rft.jtitle=The+Washington+Post&amp;rft.atitle=Not+Just+a+Milky+Way+Anymore+-+Science&amp;rft.date=2002-07-01&amp;rft.issn=0190-8286&amp;rft.aulast=Vedantam&amp;rft.aufirst=Shankar&amp;rft.au=Kaufman%2C+Marc&amp;rft.au=Stein%2C+Rob&amp;rft_id=https%3A%2F%2Fwww.washingtonpost.com%2Farchive%2Fpolitics%2F2002%2F07%2F01%2Fscience%2F6faba612-7ee5-49bf-a652-6a0eae42d7c5%2F&amp;rfr_id=info%3Asid%2Fen.wikipedia.org%3ACosmic+latte\" class=\"Z3988\"></span></span>\n",
      "</li>\n",
      "</ol></div>\n",
      "<div class=\"mw-heading mw-heading2\"><h2 id=\"External_links\">External links</h2><span class=\"mw-editsection\"><span class=\"mw-editsection-bracket\">[</span><a href=\"/w/index.php?title=Cosmic_latte&amp;action=edit&amp;section=5\" title=\"Edit section: External links\"><span>edit</span></a><span class=\"mw-editsection-bracket\">]</span></span></div>\n",
      "<ul><li>Official project website: <a rel=\"nofollow\" class=\"external text\" href=\"https://web.archive.org/web/20161222101809/http://www.pha.jhu.edu/~kgb/cosspec/\">The Cosmic Spectrum</a> at the <a href=\"/wiki/Wayback_Machine\" title=\"Wayback Machine\">Wayback Machine</a>&#32;(archived 22 December 2016)</li>\n",
      "<li><a rel=\"nofollow\" class=\"external text\" href=\"https://apod.nasa.gov/apod/ap091101.html\">NASA Astronomy Picture of the Day: The Average Color of the Universe (1 November 2009)</a></li></ul>\n",
      "<div class=\"navbox-styles\"><style data-mw-deduplicate=\"TemplateStyles:r1129693374\">.mw-parser-output .hlist dl,.mw-parser-output .hlist ol,.mw-parser-output .hlist ul{margin:0;padding:0}.mw-parser-output .hlist dd,.mw-parser-output .hlist dt,.mw-parser-output .hlist li{margin:0;display:inline}.mw-parser-output .hlist.inline,.mw-parser-output .hlist.inline dl,.mw-parser-output .hlist.inline ol,.mw-parser-output .hlist.inline ul,.mw-parser-output .hlist dl dl,.mw-parser-output .hlist dl ol,.mw-parser-output .hlist dl ul,.mw-parser-output .hlist ol dl,.mw-parser-output .hlist ol ol,.mw-parser-output .hlist ol ul,.mw-parser-output .hlist ul dl,.mw-parser-output .hlist ul ol,.mw-parser-output .hlist ul ul{display:inline}.mw-parser-output .hlist .mw-empty-li{display:none}.mw-parser-output .hlist dt::after{content:\": \"}.mw-parser-output .hlist dd::after,.mw-parser-output .hlist li::after{content:\" · \";font-weight:bold}.mw-parser-output .hlist dd:last-child::after,.mw-parser-output .hlist dt:last-child::after,.mw-parser-output .hlist li:last-child::after{content:none}.mw-parser-output .hlist dd dd:first-child::before,.mw-parser-output .hlist dd dt:first-child::before,.mw-parser-output .hlist dd li:first-child::before,.mw-parser-output .hlist dt dd:first-child::before,.mw-parser-output .hlist dt dt:first-child::before,.mw-parser-output .hlist dt li:first-child::before,.mw-parser-output .hlist li dd:first-child::before,.mw-parser-output .hlist li dt:first-child::before,.mw-parser-output .hlist li li:first-child::before{content:\" (\";font-weight:normal}.mw-parser-output .hlist dd dd:last-child::after,.mw-parser-output .hlist dd dt:last-child::after,.mw-parser-output .hlist dd li:last-child::after,.mw-parser-output .hlist dt dd:last-child::after,.mw-parser-output .hlist dt dt:last-child::after,.mw-parser-output .hlist dt li:last-child::after,.mw-parser-output .hlist li dd:last-child::after,.mw-parser-output .hlist li dt:last-child::after,.mw-parser-output .hlist li li:last-child::after{content:\")\";font-weight:normal}.mw-parser-output .hlist ol{counter-reset:listitem}.mw-parser-output .hlist ol>li{counter-increment:listitem}.mw-parser-output .hlist ol>li::before{content:\" \"counter(listitem)\"\\a0 \"}.mw-parser-output .hlist dd ol>li:first-child::before,.mw-parser-output .hlist dt ol>li:first-child::before,.mw-parser-output .hlist li ol>li:first-child::before{content:\" (\"counter(listitem)\"\\a0 \"}</style><style data-mw-deduplicate=\"TemplateStyles:r1236075235\">.mw-parser-output .navbox{box-sizing:border-box;border:1px solid #a2a9b1;width:100%;clear:both;font-size:88%;text-align:center;padding:1px;margin:1em auto 0}.mw-parser-output .navbox .navbox{margin-top:0}.mw-parser-output .navbox+.navbox,.mw-parser-output .navbox+.navbox-styles+.navbox{margin-top:-1px}.mw-parser-output .navbox-inner,.mw-parser-output .navbox-subgroup{width:100%}.mw-parser-output .navbox-group,.mw-parser-output .navbox-title,.mw-parser-output .navbox-abovebelow{padding:0.25em 1em;line-height:1.5em;text-align:center}.mw-parser-output .navbox-group{white-space:nowrap;text-align:right}.mw-parser-output .navbox,.mw-parser-output .navbox-subgroup{background-color:#fdfdfd}.mw-parser-output .navbox-list{line-height:1.5em;border-color:#fdfdfd}.mw-parser-output .navbox-list-with-group{text-align:left;border-left-width:2px;border-left-style:solid}.mw-parser-output tr+tr>.navbox-abovebelow,.mw-parser-output tr+tr>.navbox-group,.mw-parser-output tr+tr>.navbox-image,.mw-parser-output tr+tr>.navbox-list{border-top:2px solid #fdfdfd}.mw-parser-output .navbox-title{background-color:#ccf}.mw-parser-output .navbox-abovebelow,.mw-parser-output .navbox-group,.mw-parser-output .navbox-subgroup .navbox-title{background-color:#ddf}.mw-parser-output .navbox-subgroup .navbox-group,.mw-parser-output .navbox-subgroup .navbox-abovebelow{background-color:#e6e6ff}.mw-parser-output .navbox-even{background-color:#f7f7f7}.mw-parser-output .navbox-odd{background-color:transparent}.mw-parser-output .navbox .hlist td dl,.mw-parser-output .navbox .hlist td ol,.mw-parser-output .navbox .hlist td ul,.mw-parser-output .navbox td.hlist dl,.mw-parser-output .navbox td.hlist ol,.mw-parser-output .navbox td.hlist ul{padding:0.125em 0}.mw-parser-output .navbox .navbar{display:block;font-size:100%}.mw-parser-output .navbox-title .navbar{float:left;text-align:left;margin-right:0.5em}body.skin--responsive .mw-parser-output .navbox-image img{max-width:none!important}@media print{body.ns-0 .mw-parser-output .navbox{display:none!important}}</style></div><div role=\"navigation\" class=\"navbox\" aria-labelledby=\"Shades_of_white\" style=\"padding:3px\"><table class=\"nowraplinks wraplinks mw-collapsible autocollapse navbox-inner\" style=\"border-spacing:0;background:transparent;color:inherit\"><tbody><tr><th scope=\"col\" class=\"navbox-title\" colspan=\"2\" style=\"background:white; color:black; box-shadow: inset 1px 1px 0 #000000, inset -1px -1px 0 #000000;\"><link rel=\"mw-deduplicated-inline-style\" href=\"mw-data:TemplateStyles:r1129693374\"><style data-mw-deduplicate=\"TemplateStyles:r1239400231\">.mw-parser-output .navbar{display:inline;font-size:88%;font-weight:normal}.mw-parser-output .navbar-collapse{float:left;text-align:left}.mw-parser-output .navbar-boxtext{word-spacing:0}.mw-parser-output .navbar ul{display:inline-block;white-space:nowrap;line-height:inherit}.mw-parser-output .navbar-brackets::before{margin-right:-0.125em;content:\"[ \"}.mw-parser-output .navbar-brackets::after{margin-left:-0.125em;content:\" ]\"}.mw-parser-output .navbar li{word-spacing:-0.125em}.mw-parser-output .navbar a>span,.mw-parser-output .navbar a>abbr{text-decoration:inherit}.mw-parser-output .navbar-mini abbr{font-variant:small-caps;border-bottom:none;text-decoration:none;cursor:inherit}.mw-parser-output .navbar-ct-full{font-size:114%;margin:0 7em}.mw-parser-output .navbar-ct-mini{font-size:114%;margin:0 4em}html.skin-theme-clientpref-night .mw-parser-output .navbar li a abbr{color:var(--color-base)!important}@media(prefers-color-scheme:dark){html.skin-theme-clientpref-os .mw-parser-output .navbar li a abbr{color:var(--color-base)!important}}@media print{.mw-parser-output .navbar{display:none!important}}</style><div class=\"navbar plainlinks hlist navbar-mini\"><ul><li class=\"nv-view\"><a href=\"/wiki/Template:Shades_of_white\" title=\"Template:Shades of white\"><abbr title=\"View this template\" style=\"color:black\">v</abbr></a></li><li class=\"nv-talk\"><a href=\"/wiki/Template_talk:Shades_of_white\" title=\"Template talk:Shades of white\"><abbr title=\"Discuss this template\" style=\"color:black\">t</abbr></a></li><li class=\"nv-edit\"><a href=\"/wiki/Special:EditPage/Template:Shades_of_white\" title=\"Special:EditPage/Template:Shades of white\"><abbr title=\"Edit this template\" style=\"color:black\">e</abbr></a></li></ul></div><div id=\"Shades_of_white\" style=\"font-size:114%;margin:0 4em\"><a href=\"/wiki/Shades_of_white\" title=\"Shades of white\"><span class=\"tmpl-colored-link\" style=\"color: black; text-decoration: inherit;\">Shades of white</span></a></div></th></tr><tr><td colspan=\"2\" class=\"navbox-list navbox-odd\" style=\"width:100%;padding:0\"><div style=\"padding:0\"><table style=\"background:transparent; width:100%\">\n",
      "<tbody><tr style=\"vertical-align:bottom;font-size:90%\"><td style=\"width:5%\"><a href=\"/wiki/Shades_of_white#Alabaster\" title=\"Shades of white\">Alabaster</a></td><td style=\"width:5%\"><a href=\"/wiki/Alice_blue\" title=\"Alice blue\">Alice blue</a></td><td style=\"width:5%\"><a href=\"/wiki/Almond\" title=\"Almond\">Almond</a></td><td style=\"width:5%\"><a href=\"/wiki/Anti-flash_white\" title=\"Anti-flash white\">Anti-flash white</a></td><td style=\"width:5%\"><a href=\"/wiki/Antique_white\" class=\"mw-redirect\" title=\"Antique white\">Antique white</a></td><td style=\"width:5%\"><a href=\"/wiki/Shades_of_white#Web_colors\" title=\"Shades of white\">Azure white</a></td><td style=\"width:5%\"><a href=\"/wiki/Shades_of_white#Baby_powder\" title=\"Shades of white\">Baby powder</a></td><td style=\"width:5%\"><a href=\"/wiki/Beige\" title=\"Beige\">Beige</a></td><td style=\"width:5%\"><a href=\"/wiki/Shades_of_white#Bone\" title=\"Shades of white\">Bone</a></td><td style=\"width:5%\"><a href=\"/wiki/Champagne_(color)\" title=\"Champagne (color)\">Champagne</a></td></tr><tr><td style=\"background:#EDEAE0!important;border:1px solid;\" class=\"mw-no-invert\">&#160;</td><td style=\"background:#F0F8FF!important;border:1px solid;\" class=\"mw-no-invert\">&#160;</td><td style=\"background:#EFDECD!important;border:1px solid;\" class=\"mw-no-invert\">&#160;</td><td style=\"background:#F2F3F4!important;border:1px solid;\" class=\"mw-no-invert\">&#160;</td><td style=\"background:#FAEBD7!important;border:1px solid;\" class=\"mw-no-invert\">&#160;</td><td style=\"background:#F0FFFF!important;border:1px solid;\" class=\"mw-no-invert\">&#160;</td><td style=\"background:#FEFEFA!important;border:1px solid;\" class=\"mw-no-invert\">&#160;</td><td style=\"background:#F5F5DC!important;border:1px solid;\" class=\"mw-no-invert\">&#160;</td><td style=\"background:#E3DAC9!important;border:1px solid;\" class=\"mw-no-invert\">&#160;</td><td style=\"background:#F7E7CE!important;border:1px solid;\" class=\"mw-no-invert\">&#160;</td></tr><tr style=\"vertical-align:bottom;font-size:90%\"><td style=\"width:5%\"><a href=\"/wiki/Cornsilk_(color)\" class=\"mw-redirect\" title=\"Cornsilk (color)\">Cornsilk</a></td><td style=\"width:5%\"><a class=\"mw-selflink selflink\">Cosmic latte</a></td><td style=\"width:5%\"><a href=\"/wiki/Cream_(colour)\" title=\"Cream (colour)\">Cream</a></td><td style=\"width:5%\"><a href=\"/wiki/Shades_of_white#Dutch_white\" title=\"Shades of white\">Dutch white</a></td><td style=\"width:5%\"><a href=\"/wiki/Eggshell_(color)\" title=\"Eggshell (color)\">Eggshell</a></td><td style=\"width:5%\"><a href=\"/wiki/Flax_(color)\" title=\"Flax (color)\">Flax</a></td><td style=\"width:5%\"><a href=\"/wiki/Floral_white\" class=\"mw-redirect\" title=\"Floral white\">Floral white</a></td><td style=\"width:5%\"><a href=\"/wiki/Ghost_white\" class=\"mw-redirect\" title=\"Ghost white\">Ghost white</a></td><td style=\"width:5%\"><a href=\"/wiki/Honeydew_(color)\" class=\"mw-redirect\" title=\"Honeydew (color)\">Honeydew</a></td><td style=\"width:5%\"><a href=\"/wiki/Isabelline_(colour)\" title=\"Isabelline (colour)\">Isabelline</a></td></tr><tr><td style=\"background:#FFF8DC!important;border:1px solid;\" class=\"mw-no-invert\">&#160;</td><td style=\"background:#FFF8E7!important;border:1px solid;\" class=\"mw-no-invert\">&#160;</td><td style=\"background:#FFFDD0!important;border:1px solid;\" class=\"mw-no-invert\">&#160;</td><td style=\"background:#EFDFBB!important;border:1px solid;\" class=\"mw-no-invert\">&#160;</td><td style=\"background:#F0EAD6!important;border:1px solid;\" class=\"mw-no-invert\">&#160;</td><td style=\"background:#EEDC82!important;border:1px solid;\" class=\"mw-no-invert\">&#160;</td><td style=\"background:#FFFAF0!important;border:1px solid;\" class=\"mw-no-invert\">&#160;</td><td style=\"background:#F8F8FF!important;border:1px solid;\" class=\"mw-no-invert\">&#160;</td><td style=\"background:#F0FFF0!important;border:1px solid;\" class=\"mw-no-invert\">&#160;</td><td style=\"background:#F4F0EC!important;border:1px solid;\" class=\"mw-no-invert\">&#160;</td></tr><tr style=\"vertical-align:bottom;font-size:90%\"><td style=\"width:5%\"><a href=\"/wiki/Ivory_(color)\" title=\"Ivory (color)\">Ivory</a></td><td style=\"width:5%\"><a href=\"/wiki/Lavender_blush\" class=\"mw-redirect\" title=\"Lavender blush\">Lavender blush</a></td><td style=\"width:5%\"><a href=\"/wiki/Lemon_chiffon\" class=\"mw-redirect\" title=\"Lemon chiffon\">Lemon chiffon</a></td><td style=\"width:5%\"><a href=\"/wiki/Linen_(color)\" class=\"mw-redirect\" title=\"Linen (color)\">Linen</a></td><td style=\"width:5%\"><a href=\"/wiki/Magnolia_(color)\" title=\"Magnolia (color)\">Magnolia</a></td><td style=\"width:5%\"><a href=\"/wiki/Spring_green#Mint_cream\" title=\"Spring green\">Mint cream</a></td><td style=\"width:5%\"><a href=\"/wiki/Rose_(color)#Misty_rose\" title=\"Rose (color)\">Misty rose</a></td><td style=\"width:5%\"><a href=\"/wiki/Navajo_white\" title=\"Navajo white\">Navajo white</a></td><td style=\"width:5%\"><a href=\"/wiki/Chartreuse_(color)#Nyanza\" title=\"Chartreuse (color)\">Nyanza</a></td><td style=\"width:5%\"><a href=\"/wiki/Old_lace_(color)\" class=\"mw-redirect\" title=\"Old lace (color)\">Old lace</a></td></tr><tr><td style=\"background:#FFFFF0!important;border:1px solid;\" class=\"mw-no-invert\">&#160;</td><td style=\"background:#FFF0F5!important;border:1px solid;\" class=\"mw-no-invert\">&#160;</td><td style=\"background:#FFFACD!important;border:1px solid;\" class=\"mw-no-invert\">&#160;</td><td style=\"background:#FAF0E6!important;border:1px solid;\" class=\"mw-no-invert\">&#160;</td><td style=\"background:#F8F4FF!important;border:1px solid;\" class=\"mw-no-invert\">&#160;</td><td style=\"background:#F5FFFA!important;border:1px solid;\" class=\"mw-no-invert\">&#160;</td><td style=\"background:#FFE4E1!important;border:1px solid;\" class=\"mw-no-invert\">&#160;</td><td style=\"background:#FFDEAD!important;border:1px solid;\" class=\"mw-no-invert\">&#160;</td><td style=\"background:#E9FFDB!important;border:1px solid;\" class=\"mw-no-invert\">&#160;</td><td style=\"background:#FDF5E6!important;border:1px solid;\" class=\"mw-no-invert\">&#160;</td></tr><tr style=\"vertical-align:bottom;font-size:90%\"><td style=\"width:5%\"><a href=\"/wiki/Papaya_whip\" class=\"mw-redirect\" title=\"Papaya whip\">Papaya whip</a></td><td style=\"width:5%\"><a href=\"/wiki/Shades_of_white#Parchment\" title=\"Shades of white\">Parchment</a></td><td style=\"width:5%\"><a href=\"/wiki/Peach_(color)\" title=\"Peach (color)\">Peach</a></td><td style=\"width:5%\"><a href=\"/wiki/Pearl_(color)\" title=\"Pearl (color)\">Pearl</a></td><td style=\"width:5%\"><a href=\"/wiki/Platinum_(color)\" title=\"Platinum (color)\">Platinum</a></td><td style=\"width:5%\"><a href=\"/wiki/Seasalt\" class=\"mw-redirect\" title=\"Seasalt\">Seasalt</a></td><td style=\"width:5%\"><a href=\"/wiki/Seashell_(color)\" title=\"Seashell (color)\">Seashell</a></td><td style=\"width:5%\"><a href=\"/wiki/Snow_(color)\" class=\"mw-redirect\" title=\"Snow (color)\">Snow</a></td><td style=\"width:5%\"><a href=\"/wiki/Vanilla_(color)\" title=\"Vanilla (color)\">Vanilla</a></td><td style=\"width:5%\"><a href=\"/wiki/White_(color)\" class=\"mw-redirect\" title=\"White (color)\">White</a></td></tr><tr><td style=\"background:#FFEFD5!important;border:1px solid;\" class=\"mw-no-invert\">&#160;</td><td style=\"background:#F1E9D2!important;border:1px solid;\" class=\"mw-no-invert\">&#160;</td><td style=\"background:#FFE5B4!important;border:1px solid;\" class=\"mw-no-invert\">&#160;</td><td style=\"background:#EAE0C8!important;border:1px solid;\" class=\"mw-no-invert\">&#160;</td><td style=\"background:#E5E4E2!important;border:1px solid;\" class=\"mw-no-invert\">&#160;</td><td style=\"background:#F7F7F7!important;border:1px solid;\" class=\"mw-no-invert\">&#160;</td><td style=\"background:#FFF5EE!important;border:1px solid;\" class=\"mw-no-invert\">&#160;</td><td style=\"background:#FFFAFA!important;border:1px solid;\" class=\"mw-no-invert\">&#160;</td><td style=\"background:#F3E5AB!important;border:1px solid;\" class=\"mw-no-invert\">&#160;</td><td style=\"background:#FFFFFF!important;border:1px solid;\" class=\"mw-no-invert\">&#160;</td></tr><tr style=\"vertical-align:bottom;font-size:90%\"><td style=\"width:5%\"><a href=\"/wiki/White_smoke_(color)\" class=\"mw-redirect\" title=\"White smoke (color)\">White smoke</a></td></tr><tr><td style=\"background:#F5F5F5!important;border:1px solid;\" class=\"mw-no-invert\">&#160;</td></tr>\n",
      "</tbody></table></div></td></tr><tr><td class=\"navbox-abovebelow\" colspan=\"2\" style=\"font-size:smaller; background:transparent; box-shadow: inset 0 1px 0 0 white;\"><div>A typical sample is shown for each name; a range of color-variations is commonly associated with each color-name.</div></td></tr></tbody></table></div>\n",
      "<!-- \n",
      "NewPP limit report\n",
      "Parsed by mw‐web.eqiad.main‐57bd959859‐zgh2s\n",
      "Cached time: 20240911213600\n",
      "Cache expiry: 2592000\n",
      "Reduced expiry: false\n",
      "Complications: [vary‐revision‐sha1, show‐toc]\n",
      "CPU time usage: 0.513 seconds\n",
      "Real time usage: 0.680 seconds\n",
      "Preprocessor visited node count: 4415/1000000\n",
      "Post‐expand include size: 85597/2097152 bytes\n",
      "Template argument size: 7712/2097152 bytes\n",
      "Highest expansion depth: 14/100\n",
      "Expensive parser function count: 2/500\n",
      "Unstrip recursion depth: 1/20\n",
      "Unstrip post‐expand size: 39914/5000000 bytes\n",
      "Lua time usage: 0.334/10.000 seconds\n",
      "Lua memory usage: 12945865/52428800 bytes\n",
      "Number of Wikibase entities loaded: 0/400\n",
      "-->\n",
      "<!--\n",
      "Transclusion expansion time report (%,ms,calls,template)\n",
      "100.00%  627.702      1 -total\n",
      " 22.33%  140.167      1 Template:Reflist\n",
      " 20.42%  128.168      1 Template:Shades_of_white\n",
      " 19.96%  125.258      1 Template:Shades_of_color\n",
      " 19.17%  120.325      1 Template:Navbox\n",
      " 18.84%  118.233      3 Template:Lang\n",
      " 13.58%   85.259      1 Template:Cite_magazine\n",
      " 13.31%   83.576      1 Template:Short_description\n",
      " 10.61%   66.594      6 Template:Annotated_link\n",
      "  8.66%   54.373      2 Template:Pagetype\n",
      "-->\n",
      "\n",
      "<!-- Saved in parser cache with key enwiki:pcache:idhash:1643492-0!canonical and timestamp 20240911213600 and revision id 1234183977. Rendering was triggered because: page-view\n",
      " -->\n",
      "</div><!--esi <esi:include src=\"/esitest-fa8a495983347898/content\" /> --><noscript><img src=\"https://login.wikimedia.org/wiki/Special:CentralAutoLogin/start?type=1x1\" alt=\"\" width=\"1\" height=\"1\" style=\"border: none; position: absolute;\"></noscript>\n",
      "<div class=\"printfooter\" data-nosnippet=\"\">Retrieved from \"<a dir=\"ltr\" href=\"https://en.wikipedia.org/w/index.php?title=Cosmic_latte&amp;oldid=1234183977\">https://en.wikipedia.org/w/index.php?title=Cosmic_latte&amp;oldid=1234183977</a>\"</div></div>\n",
      "\t\t\t\t\t<div id=\"catlinks\" class=\"catlinks\" data-mw=\"interface\"><div id=\"mw-normal-catlinks\" class=\"mw-normal-catlinks\"><a href=\"/wiki/Help:Category\" title=\"Help:Category\">Categories</a>: <ul><li><a href=\"/wiki/Category:Shades_of_white\" title=\"Category:Shades of white\">Shades of white</a></li><li><a href=\"/wiki/Category:Color\" title=\"Category:Color\">Color</a></li><li><a href=\"/wiki/Category:Physical_cosmology\" title=\"Category:Physical cosmology\">Physical cosmology</a></li></ul></div><div id=\"mw-hidden-catlinks\" class=\"mw-hidden-catlinks mw-hidden-cats-hidden\">Hidden categories: <ul><li><a href=\"/wiki/Category:Articles_with_short_description\" title=\"Category:Articles with short description\">Articles with short description</a></li><li><a href=\"/wiki/Category:Short_description_is_different_from_Wikidata\" title=\"Category:Short description is different from Wikidata\">Short description is different from Wikidata</a></li><li><a href=\"/wiki/Category:Use_dmy_dates_from_September_2016\" title=\"Category:Use dmy dates from September 2016\">Use dmy dates from September 2016</a></li><li><a href=\"/wiki/Category:Color_articles_with_suppressed_CMYK_data\" title=\"Category:Color articles with suppressed CMYK data\">Color articles with suppressed CMYK data</a></li><li><a href=\"/wiki/Category:Articles_containing_Italian-language_text\" title=\"Category:Articles containing Italian-language text\">Articles containing Italian-language text</a></li><li><a href=\"/wiki/Category:Pages_displaying_short_descriptions_of_redirect_targets_via_Module:Annotated_link\" title=\"Category:Pages displaying short descriptions of redirect targets via Module:Annotated link\">Pages displaying short descriptions of redirect targets via Module:Annotated link</a></li><li><a href=\"/wiki/Category:Webarchive_template_wayback_links\" title=\"Category:Webarchive template wayback links\">Webarchive template wayback links</a></li></ul></div></div>\n",
      "\t\t\t\t</div>\n",
      "\t\t\t</main>\n",
      "\t\t\t\n",
      "\t\t</div>\n",
      "\t\t<div class=\"mw-footer-container\">\n",
      "\t\t\t\n",
      "<footer id=\"footer\" class=\"mw-footer\" >\n",
      "\t<ul id=\"footer-info\">\n",
      "\t<li id=\"footer-info-lastmod\"> This page was last edited on 13 July 2024, at 01:18<span class=\"anonymous-show\">&#160;(UTC)</span>.</li>\n",
      "\t<li id=\"footer-info-copyright\">Text is available under the <a rel=\"license\" href=\"//en.wikipedia.org/wiki/Wikipedia:Text_of_the_Creative_Commons_Attribution-ShareAlike_4.0_International_License\">Creative Commons Attribution-ShareAlike License 4.0</a><a rel=\"license\" href=\"//en.wikipedia.org/wiki/Wikipedia:Text_of_the_Creative_Commons_Attribution-ShareAlike_4.0_International_License\" style=\"display:none;\"></a>;\n",
      "additional terms may apply. By using this site, you agree to the <a href=\"//foundation.wikimedia.org/wiki/Special:MyLanguage/Policy:Terms_of_Use\">Terms of Use</a> and <a href=\"//foundation.wikimedia.org/wiki/Special:MyLanguage/Policy:Privacy_policy\">Privacy Policy</a>. Wikipedia® is a registered trademark of the <a href=\"//wikimediafoundation.org/\">Wikimedia Foundation, Inc.</a>, a non-profit organization.</li>\n",
      "</ul>\n",
      "\n",
      "\t<ul id=\"footer-places\">\n",
      "\t<li id=\"footer-places-privacy\"><a href=\"https://foundation.wikimedia.org/wiki/Special:MyLanguage/Policy:Privacy_policy\">Privacy policy</a></li>\n",
      "\t<li id=\"footer-places-about\"><a href=\"/wiki/Wikipedia:About\">About Wikipedia</a></li>\n",
      "\t<li id=\"footer-places-disclaimers\"><a href=\"/wiki/Wikipedia:General_disclaimer\">Disclaimers</a></li>\n",
      "\t<li id=\"footer-places-contact\"><a href=\"//en.wikipedia.org/wiki/Wikipedia:Contact_us\">Contact Wikipedia</a></li>\n",
      "\t<li id=\"footer-places-wm-codeofconduct\"><a href=\"https://foundation.wikimedia.org/wiki/Special:MyLanguage/Policy:Universal_Code_of_Conduct\">Code of Conduct</a></li>\n",
      "\t<li id=\"footer-places-developers\"><a href=\"https://developer.wikimedia.org\">Developers</a></li>\n",
      "\t<li id=\"footer-places-statslink\"><a href=\"https://stats.wikimedia.org/#/en.wikipedia.org\">Statistics</a></li>\n",
      "\t<li id=\"footer-places-cookiestatement\"><a href=\"https://foundation.wikimedia.org/wiki/Special:MyLanguage/Policy:Cookie_statement\">Cookie statement</a></li>\n",
      "\t<li id=\"footer-places-mobileview\"><a href=\"//en.m.wikipedia.org/w/index.php?title=Cosmic_latte&amp;mobileaction=toggle_view_mobile\" class=\"noprint stopMobileRedirectToggle\">Mobile view</a></li>\n",
      "</ul>\n",
      "\n",
      "\t<ul id=\"footer-icons\" class=\"noprint\">\n",
      "\t<li id=\"footer-copyrightico\"><a class=\"cdx-button cdx-button--fake-button cdx-button--size-large cdx-button--fake-button--enabled\" style=\"padding-left: 8px; padding-right: 8px;\" href=\"https://wikimediafoundation.org/\" target=\"https://wikimediafoundation.org/\"><img src=\"/static/images/footer/wikimedia-button.svg\" width=\"84\" height=\"29\" alt=\"Wikimedia Foundation\"></a></li>\n",
      "\t<li id=\"footer-poweredbyico\"><a href=\"https://www.mediawiki.org/\" class=\"cdx-button cdx-button--fake-button cdx-button--size-large cdx-button--fake-button--enabled\"><img src=\"/w/resources/assets/poweredby_mediawiki.svg\" alt=\"Powered by MediaWiki\" width=\"88\" height=\"31\" loading=\"lazy\"></a></li>\n",
      "</ul>\n",
      "\n",
      "</footer>\n",
      "\n",
      "\t\t</div>\n",
      "\t</div> \n",
      "</div> \n",
      "<div class=\"vector-settings\" id=\"p-dock-bottom\">\n",
      "\t<ul></ul>\n",
      "</div><script>(RLQ=window.RLQ||[]).push(function(){mw.config.set({\"wgHostname\":\"mw-web.eqiad.main-7c4784c657-p52fq\",\"wgBackendResponseTime\":151,\"wgPageParseReport\":{\"limitreport\":{\"cputime\":\"0.513\",\"walltime\":\"0.680\",\"ppvisitednodes\":{\"value\":4415,\"limit\":1000000},\"postexpandincludesize\":{\"value\":85597,\"limit\":2097152},\"templateargumentsize\":{\"value\":7712,\"limit\":2097152},\"expansiondepth\":{\"value\":14,\"limit\":100},\"expensivefunctioncount\":{\"value\":2,\"limit\":500},\"unstrip-depth\":{\"value\":1,\"limit\":20},\"unstrip-size\":{\"value\":39914,\"limit\":5000000},\"entityaccesscount\":{\"value\":0,\"limit\":400},\"timingprofile\":[\"100.00%  627.702      1 -total\",\" 22.33%  140.167      1 Template:Reflist\",\" 20.42%  128.168      1 Template:Shades_of_white\",\" 19.96%  125.258      1 Template:Shades_of_color\",\" 19.17%  120.325      1 Template:Navbox\",\" 18.84%  118.233      3 Template:Lang\",\" 13.58%   85.259      1 Template:Cite_magazine\",\" 13.31%   83.576      1 Template:Short_description\",\" 10.61%   66.594      6 Template:Annotated_link\",\"  8.66%   54.373      2 Template:Pagetype\"]},\"scribunto\":{\"limitreport-timeusage\":{\"value\":\"0.334\",\"limit\":\"10.000\"},\"limitreport-memusage\":{\"value\":12945865,\"limit\":52428800}},\"cachereport\":{\"origin\":\"mw-web.eqiad.main-57bd959859-zgh2s\",\"timestamp\":\"20240911213600\",\"ttl\":2592000,\"transientcontent\":false}}});});</script>\n",
      "<script type=\"application/ld+json\">{\"@context\":\"https:\\/\\/schema.org\",\"@type\":\"Article\",\"name\":\"Cosmic latte\",\"url\":\"https:\\/\\/en.wikipedia.org\\/wiki\\/Cosmic_latte\",\"sameAs\":\"http:\\/\\/www.wikidata.org\\/entity\\/Q2510690\",\"mainEntity\":\"http:\\/\\/www.wikidata.org\\/entity\\/Q2510690\",\"author\":{\"@type\":\"Organization\",\"name\":\"Contributors to Wikimedia projects\"},\"publisher\":{\"@type\":\"Organization\",\"name\":\"Wikimedia Foundation, Inc.\",\"logo\":{\"@type\":\"ImageObject\",\"url\":\"https:\\/\\/www.wikimedia.org\\/static\\/images\\/wmf-hor-googpub.png\"}},\"datePublished\":\"2005-03-24T14:52:26Z\",\"dateModified\":\"2024-07-13T01:18:58Z\",\"headline\":\"name assigned to the average color of the universe\"}</script>\n",
      "</body>\n",
      "</html>\n"
     ]
    }
   ],
   "source": [
    "url = 'https://en.wikipedia.org/wiki/Cosmic_latte'\n",
    "response = urllib.request.urlopen(url)\n",
    "data = response.read()\n",
    "text = data.decode('utf-8')\n",
    "print(text)"
   ]
  },
  {
   "cell_type": "markdown",
   "id": "ec9b5d6d",
   "metadata": {},
   "source": [
    "Create query based on Wikipedia's API parameters."
   ]
  },
  {
   "cell_type": "code",
   "execution_count": 7,
   "id": "4f292a69",
   "metadata": {},
   "outputs": [
    {
     "name": "stdout",
     "output_type": "stream",
     "text": [
      "https://en.wikipedia.org/w/api.php?action=query&prop=revisions&rvprop=content&titles=Cosmic_latte&format=json\n"
     ]
    }
   ],
   "source": [
    "baseurl = \"https://en.wikipedia.org/w/api.php?\" # Specify endpoint - English Wikipedia APIs\n",
    "action = \"action=query\" # Specify action - query\n",
    "title = \"titles=Cosmic_latte\" # query-specific parameter - titles\n",
    "content = \"prop=revisions&rvprop=content\" # query-specific properties for page and revision\n",
    "dataformat =\"format=json\" # Specify output format of data - JSON\n",
    "\n",
    "# Format the url string based on convention, i.e. '&'\n",
    "query = \"{}{}&{}&{}&{}\".format(baseurl, action, content, title, dataformat)\n",
    "print(query)"
   ]
  },
  {
   "cell_type": "markdown",
   "id": "1fe5ba1c",
   "metadata": {},
   "source": [
    "Use the query string to send a HTTP request via URL.\n",
    "\n",
    "Load the JSON response and print it."
   ]
  },
  {
   "cell_type": "code",
   "execution_count": 8,
   "id": "3de551bc",
   "metadata": {},
   "outputs": [
    {
     "data": {
      "text/plain": [
       "{'batchcomplete': '',\n",
       " 'warnings': {'main': {'*': 'Subscribe to the mediawiki-api-announce mailing list at <https://lists.wikimedia.org/postorius/lists/mediawiki-api-announce.lists.wikimedia.org/> for notice of API deprecations and breaking changes. Use [[Special:ApiFeatureUsage]] to see usage of deprecated features by your application.'},\n",
       "  'revisions': {'*': 'Because \"rvslots\" was not specified, a legacy format has been used for the output. This format is deprecated, and in the future the new format will always be used.'}},\n",
       " 'query': {'normalized': [{'from': 'Cosmic_latte', 'to': 'Cosmic latte'}],\n",
       "  'pages': {'1643492': {'pageid': 1643492,\n",
       "    'ns': 0,\n",
       "    'title': 'Cosmic latte',\n",
       "    'revisions': [{'contentformat': 'text/x-wiki',\n",
       "      'contentmodel': 'wikitext',\n",
       "      '*': '{{Short description|Average color of the universe}}\\n{{Use dmy dates|date=September 2016}}\\n{{infobox color\\n| title=Cosmic latte\\n| hex=FFF8E7\\n| source=[https://web.archive.org/web/20060104173304/http://www.pha.jhu.edu:80/~kgb/cosspec/ JHU]\\n| variations=yes\\n| variationstitle=<hr><span style=\"font-weight:normal !important\">Due to flawed calculations, the average color of the universe was originally thought to be turquoise.<ref name=\"Wired 2002\" /></span>\\n| variation1=Cosmic spectrum green\\n| variation1color=#9CFFCE\\n| isccname=Pale yellow green\\n}}\\n\\n\\'\\'\\'Cosmic latte\\'\\'\\' is the average color of the galaxies of the [[universe]] as perceived from the Earth, found by a team of [[astronomer]]s from [[Johns Hopkins University]] (JHU). In 2002, [[Karl Glazebrook]] and Ivan Baldry determined that the average color of the universe was a [[green]]ish white, but they soon corrected their analysis in a 2003 paper in which they reported that their survey of the light from over 200,000 [[galaxies]] averaged to a slightly [[beige]]ish [[white]].<ref>{{cite journal|last1=Baldry|first1=Ivan K.|last2=Glazebrook|first2=Karl|last3=Baugh|first3=Carlton M.|last4=Bland-hawthorn|first4=Joss|last5=Bridges|first5=Terry|last6=Cannon|first6=Russell|last7=Cole|first7=Shaun|last8=Colless|first8=Matthew|last9=Collins|first9=Chris|year=2002|title=The 2dF Galaxy Redshift Survey: Constraints on Cosmic Star Formation History from the Cosmic Spectrum|publication-date=20 April 2002|volume=569|issue=2|pages=582–594|doi=10.1086/339477|periodical=The Astrophysical Journal|arxiv=astro-ph/0110676|bibcode=2002ApJ...569..582B|s2cid=54838840}}</ref> The [[hex triplet]] value for cosmic latte is <code>#FFF8E7</code>.\\n\\n==Discovery of the color==\\n\\nFinding the average colour of the universe was not the focus of the study. Rather, the study examined spectral analysis of different galaxies to study [[star formation]]. Like [[Fraunhofer lines]], the dark lines displayed in the study\\'s spectral ranges display older and younger stars and allow Glazebrook and Baldry to determine the age of different galaxies and [[star system]]s. What the study revealed is that the overwhelming majority of stars formed about 5 billion years ago. Because these stars would have been \"brighter\" in the past, the color of the universe changes over time, shifting from blue to red as more blue stars change to yellow and eventually [[red giant]]s.\\n\\nAs light from distant galaxies reaches the Earth, the average \"color of the universe\" (as seen from Earth) tends towards pure white, due to the light coming from the stars when they were much younger and bluer.<ref name=\"Cosmic Spectrum 2004\">{{Cite web|url=https://www.astro.ljmu.ac.uk/~ikb/Cosmic-Spectrum.html|title=The Cosmic Spectrum|last1=Glazebrook|first1=Karl|last2=Baldry|first2=Ivan|date=2004-12-28|publisher=[[Astrophysics Research Institute]]|access-date=2017-08-17}}</ref>\\n\\n===Naming the color===\\n\\nThe corrected color was initially published on the Johns Hopkins University (JHU) News website and updated on the team\\'s initial announcement.<ref>{{cite press release |author=<!--Staff writer(s); no by-line.--> |title=Color of the Universe Corrected by Astronomers |url=https://www.astro.ljmu.ac.uk/~ikb/press/color.html |publisher=[[Astrophysics Research Institute]] |agency=[[Johns Hopkins University]] Office of News and Information |date=2002-03-07 |access-date=2020-08-26}}</ref> Multiple news outlets, including [[NPR]] and [[BBC News|BBC]], displayed the color in stories<ref>{{Cite news|url=https://www.npr.org/programs/atc/features/2002/jan/aas/020110.aas.html|title=The Color of the Universe Is...|last=Valentine|first=Vikki|website=[[NPR]] |date=2002-03-07 |access-date=2017-08-17}}</ref> and some relayed the request by Glazebrook on the announcement asking for suggestions for names, jokingly adding all were welcome as long as they were not \"beige\".<ref>{{Cite news|url=https://news.bbc.co.uk/1/hi/sci/tech/1861957.stm|title=Universe is off colour |author=<!--Staff writer(s); no by-line.--> |date=2002-03-08|website=[[BBC]]|access-date=2017-08-17}}</ref><ref name=\"Wired 2002\">{{cite magazine |title=Universe: Beige, not Turquoise |date=8 March 2002 |magazine=[[Wired (magazine)|Wired]] |url= https://www.wired.com/2002/03/universe-beige-not-turquoise/ |access-date=26 August 2020 |url-status=live |archive-url=https://web.archive.org/web/20080724125440/http://www.wired.com/news/technology/0%2C1282%2C50930%2C00.html |archive-date=24 July 2008 |df=dmy |language=en-US}}</ref>\\n\\nThese were the results of a vote of the JHU astronomers involved based on the new color:<ref name=\"name votes\">{{Cite web|url=http://www.pha.jhu.edu/~kgb/cosspec/topten.htm|title=The Cosmic Spectrum|date=2002-10-05|archive-url=https://web.archive.org/web/20021005185037/http://www.pha.jhu.edu/~kgb/cosspec/topten.htm|archive-date=2002-10-05|url-status=dead|access-date=2017-08-17}}</ref>\\n\\n{| class=\"wikitable sortable\"\\n! Color name !! Credit !! Votes\\n|-\\n|Cosmic Latte || Peter Drum ||  6\\n|-\\n|Cappuccino Cosmico || Peter Drum || 17\\n|-\\n|Big Bang Buff/Blush/Beige || \\'\\'Several entrants\\'\\' || 13\\n|-\\n|Cosmic Cream || \\'\\'Several entrants\\'\\' || 8\\n|-\\n|Astronomer Green || \\'\\'Unknown\\'\\' || 8\\n|-\\n|Astronomer Almond || Lisa Rose || 7\\n|-\\n|Skyvory || Michael Howard || 7\\n|-\\n|Univeige || \\'\\'Several entrants\\'\\' || 6\\n|-\\n|Cosmic Khaki || \\'\\'Unknown\\'\\'  || 5\\n|-\\n|Primordial Clam Chowder || \\'\\'Unknown\\'\\' || 4\\n|}\\nThough Drum\\'s suggestion of \"[[cappuccino]] cosmico\" received the most votes, the researchers favored Drum\\'s other suggestion, \"cosmic [[latte]]\". \"\\'\\'{{lang|it|Latte}}\\'\\'\" means \"milk\" in [[Italian language|Italian]], [[Galileo Galilei|Galileo\\'s]] native language, and the similar \"\\'\\'{{lang|it|latteo}}\\'\\'\" means \"milky\", similar to the Italian term for the [[Milky Way]], \"\\'\\'{{lang|it|Via Lattea}}\\'\\'\". They enjoyed the fact that the color would be similar to the Milky Way\\'s average color as well, as it is part of the sum of the universe.<ref name=\"name votes\" /><ref>{{Cite news|first1=Shankar|last1=Vedantam|first2=Marc|last2=Kaufman|first3=Rob|last3=Stein|url=https://www.washingtonpost.com/archive/politics/2002/07/01/science/6faba612-7ee5-49bf-a652-6a0eae42d7c5/|title=Not Just a Milky Way Anymore - Science|date=2002-07-01|newspaper=[[The Washington Post]]|access-date=2017-08-17|language=en-US|issn=0190-8286}}</ref> They also claimed to be \"[[caffeine]] biased\".<ref name=\"Cosmic Spectrum 2004\" />\\n\\n==See also==\\n\\n* {{annotated link|Cosmic microwave background}}\\n* {{annotated link|Electromagnetic spectrum}}\\n* {{annotated link|List of colors}}\\n* {{annotated link|Shades of white}}\\n* {{annotated link|Variations of white}}\\n* {{annotated link|Visible spectrum}}\\n\\n==References==\\n\\n{{reflist|30em}}\\n\\n==External links==\\n* Official project website: {{webarchive |url=https://web.archive.org/web/20161222101809/http://www.pha.jhu.edu/~kgb/cosspec/ |date=22 December 2016 |title=The Cosmic Spectrum}}\\n* {{APOD|date=1 November 2009|title=The Average Color of the Universe}}\\n\\n{{Shades of white|Cosmic latte}}\\n\\n[[Category:Color]]\\n[[Category:Physical cosmology]]\\n[[Category:Shades of white]]\\n\\n[[de:Kosmisch-Latte]]'}]}}}}"
      ]
     },
     "execution_count": 8,
     "metadata": {},
     "output_type": "execute_result"
    }
   ],
   "source": [
    "wiki_response = urllib.request.urlopen(query)\n",
    "wiki_data = wiki_response.read()\n",
    "wiki_text = wiki_data.decode('utf-8')\n",
    "\n",
    "# Print JSON response\n",
    "json_response = json.loads(wiki_text)\n",
    "json_response"
   ]
  },
  {
   "cell_type": "markdown",
   "id": "9c80210a",
   "metadata": {},
   "source": [
    "The JSON is a _dictionary_-dataobject with fields and subfields which can be sorted through. If we are interested in specific '_keys_' or attributes, we can pluck them out of the object."
   ]
  },
  {
   "cell_type": "code",
   "execution_count": 9,
   "id": "5ccc3264",
   "metadata": {},
   "outputs": [
    {
     "data": {
      "text/plain": [
       "dict_keys(['batchcomplete', 'warnings', 'query'])"
      ]
     },
     "execution_count": 9,
     "metadata": {},
     "output_type": "execute_result"
    }
   ],
   "source": [
    "json_response.keys()"
   ]
  },
  {
   "cell_type": "markdown",
   "id": "37e527eb",
   "metadata": {},
   "source": [
    "We can then traverse the JSON via it's keys:"
   ]
  },
  {
   "cell_type": "code",
   "execution_count": 10,
   "id": "30108392",
   "metadata": {},
   "outputs": [
    {
     "data": {
      "text/plain": [
       "dict_keys(['normalized', 'pages'])"
      ]
     },
     "execution_count": 10,
     "metadata": {},
     "output_type": "execute_result"
    }
   ],
   "source": [
    "json_response['query'].keys()"
   ]
  },
  {
   "cell_type": "code",
   "execution_count": 11,
   "id": "929508f5",
   "metadata": {},
   "outputs": [
    {
     "data": {
      "text/plain": [
       "dict_keys(['1643492'])"
      ]
     },
     "execution_count": 11,
     "metadata": {},
     "output_type": "execute_result"
    }
   ],
   "source": [
    "json_response['query']['pages'].keys()"
   ]
  },
  {
   "cell_type": "code",
   "execution_count": 12,
   "id": "78a80e20",
   "metadata": {},
   "outputs": [
    {
     "data": {
      "text/plain": [
       "dict_keys(['pageid', 'ns', 'title', 'revisions'])"
      ]
     },
     "execution_count": 12,
     "metadata": {},
     "output_type": "execute_result"
    }
   ],
   "source": [
    "json_response['query']['pages']['1643492'].keys()"
   ]
  },
  {
   "cell_type": "code",
   "execution_count": 13,
   "id": "24a79a48",
   "metadata": {},
   "outputs": [
    {
     "ename": "AttributeError",
     "evalue": "'list' object has no attribute 'keys'",
     "output_type": "error",
     "traceback": [
      "\u001b[1;31m---------------------------------------------------------------------------\u001b[0m",
      "\u001b[1;31mAttributeError\u001b[0m                            Traceback (most recent call last)",
      "Cell \u001b[1;32mIn[13], line 1\u001b[0m\n\u001b[1;32m----> 1\u001b[0m json_response[\u001b[38;5;124m'\u001b[39m\u001b[38;5;124mquery\u001b[39m\u001b[38;5;124m'\u001b[39m][\u001b[38;5;124m'\u001b[39m\u001b[38;5;124mpages\u001b[39m\u001b[38;5;124m'\u001b[39m][\u001b[38;5;124m'\u001b[39m\u001b[38;5;124m1643492\u001b[39m\u001b[38;5;124m'\u001b[39m][\u001b[38;5;124m'\u001b[39m\u001b[38;5;124mrevisions\u001b[39m\u001b[38;5;124m'\u001b[39m]\u001b[38;5;241m.\u001b[39mkeys()\n",
      "\u001b[1;31mAttributeError\u001b[0m: 'list' object has no attribute 'keys'"
     ]
    }
   ],
   "source": [
    "json_response['query']['pages']['1643492']['revisions'].keys()"
   ]
  },
  {
   "cell_type": "code",
   "execution_count": null,
   "id": "afafa635",
   "metadata": {},
   "outputs": [],
   "source": [
    "# Check datatype of python object\n",
    "type(json_response['query']['pages']['1643492']['revisions'])"
   ]
  },
  {
   "cell_type": "markdown",
   "id": "7aa55d02",
   "metadata": {},
   "source": [
    "Note that the above key 'revisions' is of type 'list', meaning that it does not have any subkeys. To traverse a list we then use indexing."
   ]
  },
  {
   "cell_type": "code",
   "execution_count": 14,
   "id": "89e74d50",
   "metadata": {},
   "outputs": [
    {
     "data": {
      "text/plain": [
       "dict_keys(['contentformat', 'contentmodel', '*'])"
      ]
     },
     "execution_count": 14,
     "metadata": {},
     "output_type": "execute_result"
    }
   ],
   "source": [
    "json_response['query']['pages']['1643492']['revisions'][0].keys()"
   ]
  },
  {
   "cell_type": "code",
   "execution_count": 15,
   "id": "c5748c3b",
   "metadata": {},
   "outputs": [
    {
     "data": {
      "text/plain": [
       "str"
      ]
     },
     "execution_count": 15,
     "metadata": {},
     "output_type": "execute_result"
    }
   ],
   "source": [
    "type(json_response['query']['pages']['1643492']['revisions'][0]['*'])"
   ]
  },
  {
   "cell_type": "code",
   "execution_count": 16,
   "id": "e327ea24",
   "metadata": {},
   "outputs": [
    {
     "data": {
      "text/plain": [
       "'{{Short description|Average color of the universe}}\\n{{Use dmy dates|date=September 2016}}\\n{{infobox color\\n| title=Cosmic latte\\n| hex=FFF8E7\\n| source=[https://web.archive.org/web/20060104173304/http://www.pha.jhu.edu:80/~kgb/cosspec/ JHU]\\n| variations=yes\\n| variationstitle=<hr><span style=\"font-weight:normal !important\">Due to flawed calculations, the average color of the universe was originally thought to be turquoise.<ref name=\"Wired 2002\" /></span>\\n| variation1=Cosmic spectrum green\\n| variation1color=#9CFFCE\\n| isccname=Pale yellow green\\n}}\\n\\n\\'\\'\\'Cosmic latte\\'\\'\\' is the average color of the galaxies of the [[universe]] as perceived from the Earth, found by a team of [[astronomer]]s from [[Johns Hopkins University]] (JHU). In 2002, [[Karl Glazebrook]] and Ivan Baldry determined that the average color of the universe was a [[green]]ish white, but they soon corrected their analysis in a 2003 paper in which they reported that their survey of the light from over 200,000 [[galaxies]] averaged to a slightly [[beige]]ish [[white]].<ref>{{cite journal|last1=Baldry|first1=Ivan K.|last2=Glazebrook|first2=Karl|last3=Baugh|first3=Carlton M.|last4=Bland-hawthorn|first4=Joss|last5=Bridges|first5=Terry|last6=Cannon|first6=Russell|last7=Cole|first7=Shaun|last8=Colless|first8=Matthew|last9=Collins|first9=Chris|year=2002|title=The 2dF Galaxy Redshift Survey: Constraints on Cosmic Star Formation History from the Cosmic Spectrum|publication-date=20 April 2002|volume=569|issue=2|pages=582–594|doi=10.1086/339477|periodical=The Astrophysical Journal|arxiv=astro-ph/0110676|bibcode=2002ApJ...569..582B|s2cid=54838840}}</ref> The [[hex triplet]] value for cosmic latte is <code>#FFF8E7</code>.\\n\\n==Discovery of the color==\\n\\nFinding the average colour of the universe was not the focus of the study. Rather, the study examined spectral analysis of different galaxies to study [[star formation]]. Like [[Fraunhofer lines]], the dark lines displayed in the study\\'s spectral ranges display older and younger stars and allow Glazebrook and Baldry to determine the age of different galaxies and [[star system]]s. What the study revealed is that the overwhelming majority of stars formed about 5 billion years ago. Because these stars would have been \"brighter\" in the past, the color of the universe changes over time, shifting from blue to red as more blue stars change to yellow and eventually [[red giant]]s.\\n\\nAs light from distant galaxies reaches the Earth, the average \"color of the universe\" (as seen from Earth) tends towards pure white, due to the light coming from the stars when they were much younger and bluer.<ref name=\"Cosmic Spectrum 2004\">{{Cite web|url=https://www.astro.ljmu.ac.uk/~ikb/Cosmic-Spectrum.html|title=The Cosmic Spectrum|last1=Glazebrook|first1=Karl|last2=Baldry|first2=Ivan|date=2004-12-28|publisher=[[Astrophysics Research Institute]]|access-date=2017-08-17}}</ref>\\n\\n===Naming the color===\\n\\nThe corrected color was initially published on the Johns Hopkins University (JHU) News website and updated on the team\\'s initial announcement.<ref>{{cite press release |author=<!--Staff writer(s); no by-line.--> |title=Color of the Universe Corrected by Astronomers |url=https://www.astro.ljmu.ac.uk/~ikb/press/color.html |publisher=[[Astrophysics Research Institute]] |agency=[[Johns Hopkins University]] Office of News and Information |date=2002-03-07 |access-date=2020-08-26}}</ref> Multiple news outlets, including [[NPR]] and [[BBC News|BBC]], displayed the color in stories<ref>{{Cite news|url=https://www.npr.org/programs/atc/features/2002/jan/aas/020110.aas.html|title=The Color of the Universe Is...|last=Valentine|first=Vikki|website=[[NPR]] |date=2002-03-07 |access-date=2017-08-17}}</ref> and some relayed the request by Glazebrook on the announcement asking for suggestions for names, jokingly adding all were welcome as long as they were not \"beige\".<ref>{{Cite news|url=https://news.bbc.co.uk/1/hi/sci/tech/1861957.stm|title=Universe is off colour |author=<!--Staff writer(s); no by-line.--> |date=2002-03-08|website=[[BBC]]|access-date=2017-08-17}}</ref><ref name=\"Wired 2002\">{{cite magazine |title=Universe: Beige, not Turquoise |date=8 March 2002 |magazine=[[Wired (magazine)|Wired]] |url= https://www.wired.com/2002/03/universe-beige-not-turquoise/ |access-date=26 August 2020 |url-status=live |archive-url=https://web.archive.org/web/20080724125440/http://www.wired.com/news/technology/0%2C1282%2C50930%2C00.html |archive-date=24 July 2008 |df=dmy |language=en-US}}</ref>\\n\\nThese were the results of a vote of the JHU astronomers involved based on the new color:<ref name=\"name votes\">{{Cite web|url=http://www.pha.jhu.edu/~kgb/cosspec/topten.htm|title=The Cosmic Spectrum|date=2002-10-05|archive-url=https://web.archive.org/web/20021005185037/http://www.pha.jhu.edu/~kgb/cosspec/topten.htm|archive-date=2002-10-05|url-status=dead|access-date=2017-08-17}}</ref>\\n\\n{| class=\"wikitable sortable\"\\n! Color name !! Credit !! Votes\\n|-\\n|Cosmic Latte || Peter Drum ||  6\\n|-\\n|Cappuccino Cosmico || Peter Drum || 17\\n|-\\n|Big Bang Buff/Blush/Beige || \\'\\'Several entrants\\'\\' || 13\\n|-\\n|Cosmic Cream || \\'\\'Several entrants\\'\\' || 8\\n|-\\n|Astronomer Green || \\'\\'Unknown\\'\\' || 8\\n|-\\n|Astronomer Almond || Lisa Rose || 7\\n|-\\n|Skyvory || Michael Howard || 7\\n|-\\n|Univeige || \\'\\'Several entrants\\'\\' || 6\\n|-\\n|Cosmic Khaki || \\'\\'Unknown\\'\\'  || 5\\n|-\\n|Primordial Clam Chowder || \\'\\'Unknown\\'\\' || 4\\n|}\\nThough Drum\\'s suggestion of \"[[cappuccino]] cosmico\" received the most votes, the researchers favored Drum\\'s other suggestion, \"cosmic [[latte]]\". \"\\'\\'{{lang|it|Latte}}\\'\\'\" means \"milk\" in [[Italian language|Italian]], [[Galileo Galilei|Galileo\\'s]] native language, and the similar \"\\'\\'{{lang|it|latteo}}\\'\\'\" means \"milky\", similar to the Italian term for the [[Milky Way]], \"\\'\\'{{lang|it|Via Lattea}}\\'\\'\". They enjoyed the fact that the color would be similar to the Milky Way\\'s average color as well, as it is part of the sum of the universe.<ref name=\"name votes\" /><ref>{{Cite news|first1=Shankar|last1=Vedantam|first2=Marc|last2=Kaufman|first3=Rob|last3=Stein|url=https://www.washingtonpost.com/archive/politics/2002/07/01/science/6faba612-7ee5-49bf-a652-6a0eae42d7c5/|title=Not Just a Milky Way Anymore - Science|date=2002-07-01|newspaper=[[The Washington Post]]|access-date=2017-08-17|language=en-US|issn=0190-8286}}</ref> They also claimed to be \"[[caffeine]] biased\".<ref name=\"Cosmic Spectrum 2004\" />\\n\\n==See also==\\n\\n* {{annotated link|Cosmic microwave background}}\\n* {{annotated link|Electromagnetic spectrum}}\\n* {{annotated link|List of colors}}\\n* {{annotated link|Shades of white}}\\n* {{annotated link|Variations of white}}\\n* {{annotated link|Visible spectrum}}\\n\\n==References==\\n\\n{{reflist|30em}}\\n\\n==External links==\\n* Official project website: {{webarchive |url=https://web.archive.org/web/20161222101809/http://www.pha.jhu.edu/~kgb/cosspec/ |date=22 December 2016 |title=The Cosmic Spectrum}}\\n* {{APOD|date=1 November 2009|title=The Average Color of the Universe}}\\n\\n{{Shades of white|Cosmic latte}}\\n\\n[[Category:Color]]\\n[[Category:Physical cosmology]]\\n[[Category:Shades of white]]\\n\\n[[de:Kosmisch-Latte]]'"
      ]
     },
     "execution_count": 16,
     "metadata": {},
     "output_type": "execute_result"
    }
   ],
   "source": [
    "json_response['query']['pages']['1643492']['revisions'][0]['*']"
   ]
  },
  {
   "cell_type": "markdown",
   "id": "33d6d10f",
   "metadata": {},
   "source": [
    "**Julia**\n",
    "\n",
    "Send and receive HTTP request/response via URL.\n",
    "\n",
    "Then read the response content and print it."
   ]
  },
  {
   "cell_type": "code",
   "execution_count": null,
   "id": "dc93e701",
   "metadata": {},
   "outputs": [],
   "source": [
    "url = 'https://en.wikipedia.org/wiki/Clever_Hans'\n",
    "response = urllib.request.urlopen(url)\n",
    "data = response.read()      # a `bytes` object\n",
    "text = data.decode('utf-8')\n",
    "\n",
    "#print(text)"
   ]
  },
  {
   "cell_type": "code",
   "execution_count": null,
   "id": "5bb30f6d",
   "metadata": {},
   "outputs": [],
   "source": [
    "baseurl = \"https://en.wikipedia.org/w/api.php?\"\n",
    "action = \"action=query\"\n",
    "title = \"titles=Clever_Hans\"\n",
    "content = \"prop=revisions&rvprop=content\"\n",
    "dataformat =\"format=json\"\n",
    "\n",
    "query = \"{}{}&{}&{}&{}\".format(baseurl, action, content, title, dataformat)\n",
    "print(query)"
   ]
  },
  {
   "cell_type": "code",
   "execution_count": null,
   "id": "3f4f4bf1",
   "metadata": {},
   "outputs": [],
   "source": [
    "wikiresponse = urllib.request.urlopen(query)\n",
    "wikidata = wikiresponse.read()\n",
    "wikitext = wikidata.decode('utf-8')"
   ]
  },
  {
   "cell_type": "code",
   "execution_count": null,
   "id": "bbb89012",
   "metadata": {},
   "outputs": [],
   "source": [
    "json.loads(wikitext)"
   ]
  },
  {
   "cell_type": "code",
   "execution_count": null,
   "id": "7661d466",
   "metadata": {},
   "outputs": [],
   "source": [
    "#len(json.loads(wikitext)[\"query\"][\"pages\"][\"456590\"][\"revisions\"])\n",
    "\n",
    "json.loads(wikitext)[\"query\"][\"pages\"][\"456590\"][\"revisions\"][0][\"*\"]\n"
   ]
  },
  {
   "cell_type": "code",
   "execution_count": null,
   "id": "e4396c55",
   "metadata": {},
   "outputs": [],
   "source": [
    "for title in [\"Batyr\",\"Alex_(parrot)\",\"Viki_(chimpanzee)\"]:\n",
    "    baseurl = \"https://en.wikipedia.org/w/api.php?\"\n",
    "    action = \"action=query\"\n",
    "    title = f'titles={title}'\n",
    "    content = \"prop=revisions&rvprop=content\"\n",
    "    dataformat =\"format=json\"\n",
    "\n",
    "    query = \"{}{}&{}&{}&{}\".format(baseurl, action, content, title, dataformat)\n",
    "    wikiresponse = urllib.request.urlopen(query)\n",
    "    wikidata = wikiresponse.read()\n",
    "    wikitext = wikidata.decode('utf-8')\n",
    "    print(json.loads(wikitext))"
   ]
  },
  {
   "cell_type": "markdown",
   "id": "afbe32f6",
   "metadata": {},
   "source": [
    "#### Clara"
   ]
  },
  {
   "cell_type": "code",
   "execution_count": null,
   "id": "104bc1dc",
   "metadata": {},
   "outputs": [],
   "source": [
    "url = 'https://en.wikipedia.org/wiki/Wow!_signal'\n",
    "response = urllib.request.urlopen(url)\n",
    "data = response.read()\n",
    "text = data.decode('utf-8')"
   ]
  },
  {
   "cell_type": "code",
   "execution_count": null,
   "id": "e1dcf4f0",
   "metadata": {},
   "outputs": [],
   "source": [
    "baseurl = \"https://en.wikipedia.org/w/api.php?\" # Specify endpoint - English Wikipedia API\n",
    "action = \"action=query\" # Specify action - query\n",
    "title = \"titles=Wow!_signal\" # query-specific parameter - titles\n",
    "content = \"prop=revisions&rvprop=content\" # query-specific properties for page and revision\n",
    "dataformat =\"format=json\" # Specify output format of data - JSON\n",
    "\n",
    "query = \"{}{}&{}&{}&{}\".format(baseurl, action, content, title, dataformat)\n",
    "print(query)"
   ]
  },
  {
   "cell_type": "markdown",
   "id": "f9caa84f",
   "metadata": {},
   "source": [
    "### Exercises_Part2"
   ]
  },
  {
   "cell_type": "markdown",
   "id": "350485eb",
   "metadata": {},
   "source": [
    "#### List three different real networks and state the nodes and links for each of them."
   ]
  },
  {
   "cell_type": "code",
   "execution_count": null,
   "id": "ed1fb094",
   "metadata": {},
   "outputs": [],
   "source": [
    "Print(\"J\")"
   ]
  },
  {
   "cell_type": "code",
   "execution_count": null,
   "id": "f4580d5a-886d-45d3-adb4-2e549dec2c08",
   "metadata": {},
   "outputs": [],
   "source": [
    "Print(\"C\")"
   ]
  },
  {
   "cell_type": "markdown",
   "id": "b579a67f",
   "metadata": {},
   "source": [
    "1. Family tree would be a form of network where the nodes would a parent and a child and the link would be the relationsship between the two for instance. The bigger the family is, the bigger the network would be.\n",
    "\n",
    "2. Network protocols is a network. the protocols being the nodes and the links are the transmissions between."
   ]
  },
  {
   "cell_type": "code",
   "execution_count": null,
   "id": "8baeab2b-3fa8-4781-99eb-1038a0c71d1d",
   "metadata": {},
   "outputs": [],
   "source": [
    "Print(\"A\")"
   ]
  },
  {
   "cell_type": "markdown",
   "id": "78d2c78c",
   "metadata": {},
   "source": [
    "#### Tell us of the network you are personally most interested in (a fourth one). Address the following questions:"
   ]
  },
  {
   "cell_type": "code",
   "execution_count": null,
   "id": "d0c32436",
   "metadata": {},
   "outputs": [],
   "source": []
  },
  {
   "cell_type": "markdown",
   "id": "1ebbd12b",
   "metadata": {},
   "source": [
    "#### In your view what would be the area where network science could have the biggest impact in the next decade? Explain your answer - and base it on the text in the book."
   ]
  },
  {
   "cell_type": "code",
   "execution_count": null,
   "id": "3e5bb2d7",
   "metadata": {},
   "outputs": [],
   "source": []
  },
  {
   "cell_type": "markdown",
   "id": "44cbd2c9",
   "metadata": {},
   "source": [
    "### Exercises_Part2"
   ]
  },
  {
   "cell_type": "markdown",
   "id": "8760198e",
   "metadata": {},
   "source": [
    "#### Go to the NetworkX project's tutorial page. The goal of this exercise is to create your own Notebook that contains the entire tutorial. You're free to add your own (e.g. shorter) comments in place of the ones in the official tutorial - and change the code to make it your own where ever it makes sense.\n"
   ]
  },
  {
   "cell_type": "code",
   "execution_count": null,
   "id": "2688edcf",
   "metadata": {},
   "outputs": [],
   "source": []
  }
 ],
 "metadata": {
  "kernelspec": {
   "display_name": "Python 3 (ipykernel)",
   "language": "python",
   "name": "python3"
  },
  "language_info": {
   "codemirror_mode": {
    "name": "ipython",
    "version": 3
   },
   "file_extension": ".py",
   "mimetype": "text/x-python",
   "name": "python",
   "nbconvert_exporter": "python",
   "pygments_lexer": "ipython3",
   "version": "3.11.4"
  }
 },
 "nbformat": 4,
 "nbformat_minor": 5
}

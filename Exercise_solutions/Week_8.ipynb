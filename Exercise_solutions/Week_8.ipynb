{
 "cells": [
  {
   "cell_type": "markdown",
   "id": "c70174d3",
   "metadata": {},
   "source": [
    "# Week 8"
   ]
  },
  {
   "cell_type": "markdown",
   "id": "d4deaeaa",
   "metadata": {},
   "source": [
    "## Part x"
   ]
  },
  {
   "cell_type": "markdown",
   "id": "45db7ba0",
   "metadata": {},
   "source": [
    "##### Exercise x\n",
    "\n",
    "<font color='gray'> Exercise questions </font>"
   ]
  },
  {
   "cell_type": "code",
   "execution_count": null,
   "id": "31961a92",
   "metadata": {},
   "outputs": [],
   "source": []
  },
  {
   "cell_type": "markdown",
   "id": "905c73ba",
   "metadata": {},
   "source": [
    "Exercise answers"
   ]
  },
  {
   "cell_type": "code",
   "execution_count": null,
   "id": "8f5224f3",
   "metadata": {},
   "outputs": [],
   "source": []
  }
 ],
 "metadata": {
  "kernelspec": {
   "display_name": "Python 3 (ipykernel)",
   "language": "python",
   "name": "python3"
  },
  "language_info": {
   "codemirror_mode": {
    "name": "ipython",
    "version": 3
   },
   "file_extension": ".py",
   "mimetype": "text/x-python",
   "name": "python",
   "nbconvert_exporter": "python",
   "pygments_lexer": "ipython3",
   "version": "3.11.5"
  }
 },
 "nbformat": 4,
 "nbformat_minor": 5
}

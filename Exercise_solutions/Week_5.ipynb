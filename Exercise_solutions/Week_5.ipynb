{
 "cells": [
  {
   "cell_type": "markdown",
   "id": "c1ea43af",
   "metadata": {},
   "source": [
    "# Week 5"
   ]
  },
  {
   "cell_type": "markdown",
   "id": "8ceec407",
   "metadata": {},
   "source": [
    "## Part A"
   ]
  },
  {
   "cell_type": "markdown",
   "id": "d2a9eeac",
   "metadata": {},
   "source": [
    "Exercise 1: Plot the Network using ForceAtlas2."
   ]
  },
  {
   "cell_type": "code",
   "execution_count": null,
   "id": "a1a2ab0f",
   "metadata": {},
   "outputs": [],
   "source": []
  },
  {
   "cell_type": "markdown",
   "id": "d5f3a74d",
   "metadata": {},
   "source": [
    "Exercise 2: We continue with a qualitative inspection of the Wikipedia pages. Inspecting the data manually will develop intuitions that will help us to intepret our quantitative results. We investigate the reasons for links between characters to exist on Wikipedia."
   ]
  },
  {
   "cell_type": "code",
   "execution_count": null,
   "id": "696ca65a",
   "metadata": {},
   "outputs": [],
   "source": []
  },
  {
   "cell_type": "markdown",
   "id": "e0ba44e9",
   "metadata": {},
   "source": [
    "## Part B"
   ]
  },
  {
   "cell_type": "markdown",
   "id": "e21e9bbd",
   "metadata": {},
   "source": [
    "Exercise 3: Last time we visually analyzed (plotted) the degree distributions of our network. Now, let's analyze it using some of the tools from previous lectures. For this exercise we are going to look at the directed graph (rememeber, we asked you to keep one?)."
   ]
  },
  {
   "cell_type": "code",
   "execution_count": null,
   "id": "0e8c3681",
   "metadata": {},
   "outputs": [],
   "source": []
  },
  {
   "cell_type": "markdown",
   "id": "7166a2c7",
   "metadata": {},
   "source": [
    "1.What are the average, median, mode, minimum and maximum value of the in-degree? And of the out-degree? How do you intepret the results?"
   ]
  },
  {
   "cell_type": "code",
   "execution_count": null,
   "id": "14a0f8b1",
   "metadata": {},
   "outputs": [],
   "source": []
  },
  {
   "cell_type": "markdown",
   "id": "1c2b0f6c",
   "metadata": {},
   "source": [
    "Exercise 4: Centralities, assortativity and more."
   ]
  },
  {
   "cell_type": "code",
   "execution_count": null,
   "id": "1ae5ee1d",
   "metadata": {},
   "outputs": [],
   "source": []
  },
  {
   "cell_type": "markdown",
   "id": "1dedb1de",
   "metadata": {},
   "source": [
    "1.Find the 5 most central characters according to degree centrality."
   ]
  },
  {
   "cell_type": "code",
   "execution_count": null,
   "id": "6941a9ca",
   "metadata": {},
   "outputs": [],
   "source": []
  },
  {
   "cell_type": "markdown",
   "id": "20538202",
   "metadata": {},
   "source": [
    "2.Find the 5 most central characters according to betweenness centrality."
   ]
  },
  {
   "cell_type": "code",
   "execution_count": null,
   "id": "fafe056e",
   "metadata": {},
   "outputs": [],
   "source": []
  },
  {
   "cell_type": "markdown",
   "id": "5897bb31",
   "metadata": {},
   "source": [
    "3.Find the 5 most central characters according to eigenvector centrality. Calculate centrality corresponding to both in- and out-edges (see NetworkX documentation for details)."
   ]
  },
  {
   "cell_type": "code",
   "execution_count": null,
   "id": "48b1e4f2",
   "metadata": {},
   "outputs": [],
   "source": []
  },
  {
   "cell_type": "markdown",
   "id": "76d5cdde",
   "metadata": {},
   "source": [
    "4.Plot the betweenness centrality of nodes vs their degree centrality. Is there a correlation between the two? Did you expect that? Why?"
   ]
  },
  {
   "cell_type": "code",
   "execution_count": null,
   "id": "a5ba2f20",
   "metadata": {},
   "outputs": [],
   "source": []
  },
  {
   "cell_type": "markdown",
   "id": "c8c1ab4c",
   "metadata": {},
   "source": [
    "5.Is the undirected version of the graph assortative with respect to degree? (e.g. do high-degree characters tend to link to other high-degree characters, and low-degree characters to other low-degree characters?). Provide an interpretation of your answer."
   ]
  },
  {
   "cell_type": "markdown",
   "id": "15fb12a6",
   "metadata": {},
   "source": [
    "6.Is the undirected version of the graph assortative with respect do the length_of_content nodal properties? e.g. do characters with long Wikipedia pages tend to link to other charakters with long Wiki-pages, and vice versa?"
   ]
  },
  {
   "cell_type": "markdown",
   "id": "51698d3c",
   "metadata": {},
   "source": [
    "7.What is the average shortest path length? Is it similar to the one of a random graph with the same number of nodes N and probablity of connection p?"
   ]
  },
  {
   "cell_type": "markdown",
   "id": "7361399f",
   "metadata": {},
   "source": [
    "## Part C"
   ]
  },
  {
   "cell_type": "markdown",
   "id": "c5b4acc1",
   "metadata": {},
   "source": [
    "Exercise 5: Visualizing the Network Backbone"
   ]
  },
  {
   "cell_type": "markdown",
   "id": "e9325a67",
   "metadata": {},
   "source": [
    "1.Extract the network backbone for both Weighted Network 1 and 2. You can implement it yourself based on the scientific paper or find an implentation on GitHub (there are several ones to choose from ... I like this implementation, which also includes other interesting edge filters). Figure out how your particular backbone extractor works (you may have to inspect the code itself, these packages are not always well documented). Play around with values of α to get an aestetically pleasing visualization (but don't make the resulting network too sparse)."
   ]
  },
  {
   "cell_type": "code",
   "execution_count": null,
   "id": "55c6a009",
   "metadata": {},
   "outputs": [],
   "source": []
  },
  {
   "cell_type": "markdown",
   "id": "aea9f89b",
   "metadata": {},
   "source": [
    "2.Plot the resulting two networks using ForceAtlas2, still sizing nodes according to total degree. No need to color them. If your backbone has some disconnected nodes, feel free to not plot them. And remember to calculate a new layout to see how the structure has changed."
   ]
  },
  {
   "cell_type": "code",
   "execution_count": null,
   "id": "5ea614e5",
   "metadata": {},
   "outputs": [],
   "source": []
  },
  {
   "cell_type": "markdown",
   "id": "169b2b5e",
   "metadata": {},
   "source": [
    "3.Comment on your results\n",
    "\n",
    "- Do you see any structures in the networks now? Inspect some nodes to get a sense of what the structures captures in the two networks. Describe your findings in your own words.\n",
    "- Weighted network 1 and 2 are very different. We have removed edges with low/high edge betweenness centrality respectively. What has that done to the networks? Describe what you see visually, and your explain your thoughts on what we've done to the network structure.\n"
   ]
  },
  {
   "cell_type": "code",
   "execution_count": null,
   "id": "0f9f6f1a",
   "metadata": {},
   "outputs": [],
   "source": []
  }
 ],
 "metadata": {
  "kernelspec": {
   "display_name": "Python 3 (ipykernel)",
   "language": "python",
   "name": "python3"
  },
  "language_info": {
   "codemirror_mode": {
    "name": "ipython",
    "version": 3
   },
   "file_extension": ".py",
   "mimetype": "text/x-python",
   "name": "python",
   "nbconvert_exporter": "python",
   "pygments_lexer": "ipython3",
   "version": "3.11.5"
  }
 },
 "nbformat": 4,
 "nbformat_minor": 5
}

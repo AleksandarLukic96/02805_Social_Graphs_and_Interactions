{
 "cells": [
  {
   "cell_type": "code",
   "execution_count": 10,
   "id": "72f26dd7",
   "metadata": {},
   "outputs": [
    {
     "data": {
      "text/html": [
       "<style>.container { width:100% !important; }</style>"
      ],
      "text/plain": [
       "<IPython.core.display.HTML object>"
      ]
     },
     "metadata": {},
     "output_type": "display_data"
    }
   ],
   "source": [
    "# This cell expands the cells of the notebook to the width of the window\n",
    "from IPython.display import display, HTML\n",
    "display(HTML(\"<style>.container { width:100% !important; }</style>\"))"
   ]
  },
  {
   "cell_type": "markdown",
   "id": "c1ea43af",
   "metadata": {},
   "source": [
    "# Week 5"
   ]
  },
  {
   "cell_type": "markdown",
   "id": "39db3312",
   "metadata": {},
   "source": [
    "## Python setup"
   ]
  },
  {
   "cell_type": "code",
   "execution_count": 11,
   "id": "475a6f00",
   "metadata": {},
   "outputs": [],
   "source": [
    "%%capture\n",
    "pip install fa2_modified"
   ]
  },
  {
   "cell_type": "code",
   "execution_count": 12,
   "id": "da4a2186",
   "metadata": {},
   "outputs": [
    {
     "ename": "ModuleNotFoundError",
     "evalue": "No module named 'fa2_modified'",
     "output_type": "error",
     "traceback": [
      "\u001b[1;31m---------------------------------------------------------------------------\u001b[0m",
      "\u001b[1;31mModuleNotFoundError\u001b[0m                       Traceback (most recent call last)",
      "Cell \u001b[1;32mIn[12], line 1\u001b[0m\n\u001b[1;32m----> 1\u001b[0m \u001b[38;5;28;01mfrom\u001b[39;00m \u001b[38;5;21;01mfa2_modified\u001b[39;00m \u001b[38;5;28;01mimport\u001b[39;00m ForceAtlas2\n\u001b[0;32m      2\u001b[0m \u001b[38;5;28;01mimport\u001b[39;00m \u001b[38;5;21;01mjson\u001b[39;00m\n\u001b[0;32m      3\u001b[0m \u001b[38;5;28;01mimport\u001b[39;00m \u001b[38;5;21;01mmath\u001b[39;00m\n",
      "\u001b[1;31mModuleNotFoundError\u001b[0m: No module named 'fa2_modified'"
     ]
    }
   ],
   "source": [
    "from fa2_modified import ForceAtlas2\n",
    "import json\n",
    "import math\n",
    "import matplotlib as mpl\n",
    "from matplotlib import colormaps\n",
    "import matplotlib.pyplot as plt\n",
    "import networkx as nx\n",
    "import numpy as np\n",
    "import os\n",
    "import pickle\n",
    "import random\n",
    "import re\n",
    "import urllib.request"
   ]
  },
  {
   "cell_type": "markdown",
   "id": "8ceec407",
   "metadata": {},
   "source": [
    "## Exercises Part A: Visualizations"
   ]
  },
  {
   "cell_type": "markdown",
   "id": "55f0ce9c",
   "metadata": {},
   "source": [
    "In this section, we are introduced to the library [ForceAtlas2 (_Modified version)_](https://github.com/AminAlam/fa2_modified). The library is a more powerful alternative to the networkX library and can help create better visualisations."
   ]
  },
  {
   "cell_type": "code",
   "execution_count": null,
   "id": "a1a2ab0f",
   "metadata": {},
   "outputs": [],
   "source": [
    "# Folder to store the text files\n",
    "cwd = os.getcwd()\n",
    "folder_name = \"saved_graphs\"\n",
    "folder_path = os.path.join(cwd, folder_name)\n",
    "folder_path"
   ]
  },
  {
   "cell_type": "code",
   "execution_count": null,
   "id": "135bc187",
   "metadata": {},
   "outputs": [],
   "source": [
    "# Create file path\n",
    "file_path = os.path.join(folder_path, \"country_musicians.gexf\")"
   ]
  },
  {
   "cell_type": "code",
   "execution_count": null,
   "id": "cf8b1f1a",
   "metadata": {},
   "outputs": [],
   "source": [
    "# load graph object from file\n",
    "G = nx.read_gexf(file_path)\n",
    "\n",
    "# Test similarity:\n",
    "print(G)"
   ]
  },
  {
   "cell_type": "markdown",
   "id": "d2a9eeac",
   "metadata": {},
   "source": [
    "### A.1 Plot the Network using ForceAtlas2"
   ]
  },
  {
   "cell_type": "markdown",
   "id": "53ff4615",
   "metadata": {},
   "source": [
    "Below is the code taken from the example in the documentation:"
   ]
  },
  {
   "cell_type": "code",
   "execution_count": null,
   "id": "1bd048b0",
   "metadata": {},
   "outputs": [],
   "source": [
    "fa2 = ForceAtlas2(\n",
    "    # Behavior alternatives\n",
    "    outboundAttractionDistribution=True,  # Dissuade hubs\n",
    "    linLogMode=False,  # NOT IMPLEMENTED\n",
    "    adjustSizes=False,  # Prevent overlap (NOT IMPLEMENTED)\n",
    "    edgeWeightInfluence=1.0,\n",
    "\n",
    "    # Performance\n",
    "    jitterTolerance=1.0,  # Tolerance\n",
    "    barnesHutOptimize=True,\n",
    "    barnesHutTheta=1.2,\n",
    "    multiThreaded=False,  # NOT IMPLEMENTED\n",
    "\n",
    "    # Tuning\n",
    "    scalingRatio=2.0,\n",
    "    strongGravityMode=False,\n",
    "    gravity=1.0,\n",
    "\n",
    "    # Log\n",
    "    verbose=True)"
   ]
  },
  {
   "cell_type": "code",
   "execution_count": null,
   "id": "e9fb5819",
   "metadata": {},
   "outputs": [],
   "source": [
    "positions = fa2.forceatlas2_networkx_layout(G, pos=None, iterations=2000)"
   ]
  },
  {
   "cell_type": "code",
   "execution_count": 7,
   "id": "2d186741",
   "metadata": {},
   "outputs": [
    {
     "ename": "NameError",
     "evalue": "name 'nx' is not defined",
     "output_type": "error",
     "traceback": [
      "\u001b[1;31m---------------------------------------------------------------------------\u001b[0m",
      "\u001b[1;31mNameError\u001b[0m                                 Traceback (most recent call last)",
      "Cell \u001b[1;32mIn[7], line 4\u001b[0m\n\u001b[0;32m      1\u001b[0m \u001b[38;5;66;03m# nx.draw_networkx_nodes(G, positions, node_size=20, node_color=\"blue\", alpha=0.4)\u001b[39;00m\n\u001b[0;32m      2\u001b[0m \u001b[38;5;66;03m# nx.draw_networkx_edges(G, positions, edge_color=\"green\", alpha=0.1)\u001b[39;00m\n\u001b[1;32m----> 4\u001b[0m nx\u001b[38;5;241m.\u001b[39mdraw(\n\u001b[0;32m      5\u001b[0m     G,\n\u001b[0;32m      6\u001b[0m     pos\u001b[38;5;241m=\u001b[39mpositions,\n\u001b[0;32m      7\u001b[0m     node_size\u001b[38;5;241m=\u001b[39m\u001b[38;5;241m20\u001b[39m,\n\u001b[0;32m      8\u001b[0m     node_color\u001b[38;5;241m=\u001b[39m\u001b[38;5;124m\"\u001b[39m\u001b[38;5;124mblue\u001b[39m\u001b[38;5;124m\"\u001b[39m,\n\u001b[0;32m      9\u001b[0m     alpha\u001b[38;5;241m=\u001b[39m\u001b[38;5;241m0.4\u001b[39m,\n\u001b[0;32m     10\u001b[0m     width\u001b[38;5;241m=\u001b[39m\u001b[38;5;241m0.1\u001b[39m,\n\u001b[0;32m     11\u001b[0m     edge_color\u001b[38;5;241m=\u001b[39m\u001b[38;5;124m\"\u001b[39m\u001b[38;5;124mgreen\u001b[39m\u001b[38;5;124m\"\u001b[39m,\n\u001b[0;32m     12\u001b[0m     with_labels\u001b[38;5;241m=\u001b[39m\u001b[38;5;28;01mFalse\u001b[39;00m\n\u001b[0;32m     13\u001b[0m )\n\u001b[0;32m     15\u001b[0m plt\u001b[38;5;241m.\u001b[39maxis(\u001b[38;5;124m'\u001b[39m\u001b[38;5;124moff\u001b[39m\u001b[38;5;124m'\u001b[39m)\n\u001b[0;32m     16\u001b[0m plt\u001b[38;5;241m.\u001b[39mshow()\n",
      "\u001b[1;31mNameError\u001b[0m: name 'nx' is not defined"
     ]
    }
   ],
   "source": [
    "# nx.draw_networkx_nodes(G, positions, node_size=20, node_color=\"blue\", alpha=0.4)\n",
    "# nx.draw_networkx_edges(G, positions, edge_color=\"green\", alpha=0.1)\n",
    "\n",
    "nx.draw(\n",
    "    G,\n",
    "    pos=positions,\n",
    "    node_size=20,\n",
    "    node_color=\"blue\",\n",
    "    alpha=0.4,\n",
    "    width=0.1,\n",
    "    edge_color=\"green\",\n",
    "    with_labels=False\n",
    ")\n",
    "\n",
    "plt.axis('off')\n",
    "plt.show()"
   ]
  },
  {
   "cell_type": "code",
   "execution_count": null,
   "id": "85860768",
   "metadata": {},
   "outputs": [],
   "source": []
  },
  {
   "cell_type": "markdown",
   "id": "d5f3a74d",
   "metadata": {},
   "source": [
    "Exercise 2: We continue with a qualitative inspection of the Wikipedia pages. Inspecting the data manually will develop intuitions that will help us to intepret our quantitative results. We investigate the reasons for links between characters to exist on Wikipedia."
   ]
  },
  {
   "cell_type": "code",
   "execution_count": null,
   "id": "696ca65a",
   "metadata": {},
   "outputs": [],
   "source": []
  },
  {
   "cell_type": "markdown",
   "id": "e0ba44e9",
   "metadata": {},
   "source": [
    "## Part B"
   ]
  },
  {
   "cell_type": "markdown",
   "id": "e21e9bbd",
   "metadata": {},
   "source": [
    "Exercise 3: Last time we visually analyzed (plotted) the degree distributions of our network. Now, let's analyze it using some of the tools from previous lectures. For this exercise we are going to look at the directed graph (rememeber, we asked you to keep one?)."
   ]
  },
  {
   "cell_type": "code",
   "execution_count": null,
   "id": "0e8c3681",
   "metadata": {},
   "outputs": [],
   "source": []
  },
  {
   "cell_type": "markdown",
   "id": "7166a2c7",
   "metadata": {},
   "source": [
    "1.What are the average, median, mode, minimum and maximum value of the in-degree? And of the out-degree? How do you intepret the results?"
   ]
  },
  {
   "cell_type": "code",
   "execution_count": null,
   "id": "14a0f8b1",
   "metadata": {},
   "outputs": [],
   "source": []
  },
  {
   "cell_type": "markdown",
   "id": "1c2b0f6c",
   "metadata": {},
   "source": [
    "Exercise 4: Centralities, assortativity and more."
   ]
  },
  {
   "cell_type": "code",
   "execution_count": null,
   "id": "1ae5ee1d",
   "metadata": {},
   "outputs": [],
   "source": []
  },
  {
   "cell_type": "markdown",
   "id": "1dedb1de",
   "metadata": {},
   "source": [
    "1.Find the 5 most central characters according to degree centrality."
   ]
  },
  {
   "cell_type": "code",
   "execution_count": null,
   "id": "6941a9ca",
   "metadata": {},
   "outputs": [],
   "source": []
  },
  {
   "cell_type": "markdown",
   "id": "20538202",
   "metadata": {},
   "source": [
    "2.Find the 5 most central characters according to betweenness centrality."
   ]
  },
  {
   "cell_type": "code",
   "execution_count": null,
   "id": "fafe056e",
   "metadata": {},
   "outputs": [],
   "source": []
  },
  {
   "cell_type": "markdown",
   "id": "5897bb31",
   "metadata": {},
   "source": [
    "3.Find the 5 most central characters according to eigenvector centrality. Calculate centrality corresponding to both in- and out-edges (see NetworkX documentation for details)."
   ]
  },
  {
   "cell_type": "code",
   "execution_count": null,
   "id": "48b1e4f2",
   "metadata": {},
   "outputs": [],
   "source": []
  },
  {
   "cell_type": "markdown",
   "id": "76d5cdde",
   "metadata": {},
   "source": [
    "4.Plot the betweenness centrality of nodes vs their degree centrality. Is there a correlation between the two? Did you expect that? Why?"
   ]
  },
  {
   "cell_type": "code",
   "execution_count": null,
   "id": "a5ba2f20",
   "metadata": {},
   "outputs": [],
   "source": []
  },
  {
   "cell_type": "markdown",
   "id": "c8c1ab4c",
   "metadata": {},
   "source": [
    "5.Is the undirected version of the graph assortative with respect to degree? (e.g. do high-degree characters tend to link to other high-degree characters, and low-degree characters to other low-degree characters?). Provide an interpretation of your answer."
   ]
  },
  {
   "cell_type": "markdown",
   "id": "15fb12a6",
   "metadata": {},
   "source": [
    "6.Is the undirected version of the graph assortative with respect do the length_of_content nodal properties? e.g. do characters with long Wikipedia pages tend to link to other charakters with long Wiki-pages, and vice versa?"
   ]
  },
  {
   "cell_type": "markdown",
   "id": "51698d3c",
   "metadata": {},
   "source": [
    "7.What is the average shortest path length? Is it similar to the one of a random graph with the same number of nodes N and probablity of connection p?"
   ]
  },
  {
   "cell_type": "markdown",
   "id": "7361399f",
   "metadata": {},
   "source": [
    "## Part C"
   ]
  },
  {
   "cell_type": "markdown",
   "id": "c5b4acc1",
   "metadata": {},
   "source": [
    "Exercise 5: Visualizing the Network Backbone"
   ]
  },
  {
   "cell_type": "markdown",
   "id": "e9325a67",
   "metadata": {},
   "source": [
    "1.Extract the network backbone for both Weighted Network 1 and 2. You can implement it yourself based on the scientific paper or find an implentation on GitHub (there are several ones to choose from ... I like this implementation, which also includes other interesting edge filters). Figure out how your particular backbone extractor works (you may have to inspect the code itself, these packages are not always well documented). Play around with values of α to get an aestetically pleasing visualization (but don't make the resulting network too sparse)."
   ]
  },
  {
   "cell_type": "code",
   "execution_count": null,
   "id": "55c6a009",
   "metadata": {},
   "outputs": [],
   "source": []
  },
  {
   "cell_type": "markdown",
   "id": "aea9f89b",
   "metadata": {},
   "source": [
    "2.Plot the resulting two networks using ForceAtlas2, still sizing nodes according to total degree. No need to color them. If your backbone has some disconnected nodes, feel free to not plot them. And remember to calculate a new layout to see how the structure has changed."
   ]
  },
  {
   "cell_type": "code",
   "execution_count": null,
   "id": "5ea614e5",
   "metadata": {},
   "outputs": [],
   "source": []
  },
  {
   "cell_type": "markdown",
   "id": "169b2b5e",
   "metadata": {},
   "source": [
    "3.Comment on your results\n",
    "\n",
    "- Do you see any structures in the networks now? Inspect some nodes to get a sense of what the structures captures in the two networks. Describe your findings in your own words.\n",
    "- Weighted network 1 and 2 are very different. We have removed edges with low/high edge betweenness centrality respectively. What has that done to the networks? Describe what you see visually, and your explain your thoughts on what we've done to the network structure.\n"
   ]
  },
  {
   "cell_type": "code",
   "execution_count": null,
   "id": "0f9f6f1a",
   "metadata": {},
   "outputs": [],
   "source": []
  }
 ],
 "metadata": {
  "kernelspec": {
   "display_name": "Python 3 (ipykernel)",
   "language": "python",
   "name": "python3"
  },
  "language_info": {
   "codemirror_mode": {
    "name": "ipython",
    "version": 3
   },
   "file_extension": ".py",
   "mimetype": "text/x-python",
   "name": "python",
   "nbconvert_exporter": "python",
   "pygments_lexer": "ipython3",
   "version": "3.11.5"
  }
 },
 "nbformat": 4,
 "nbformat_minor": 5
}

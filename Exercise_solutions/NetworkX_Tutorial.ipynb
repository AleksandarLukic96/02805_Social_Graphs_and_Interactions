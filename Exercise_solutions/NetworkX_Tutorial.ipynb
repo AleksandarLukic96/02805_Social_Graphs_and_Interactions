{
 "cells": [
  {
   "cell_type": "markdown",
   "id": "d7e014be",
   "metadata": {},
   "source": [
    "# NetworkX Tutorial Notebook"
   ]
  },
  {
   "cell_type": "markdown",
   "id": "1ffb6d0f",
   "metadata": {},
   "source": [
    "This tutorial is based on the [guided introduction](https://networkx.org/documentation/stable/tutorial.html) to the [**NetworkX** python library](https://networkx.org/documentation/stable/index.html)."
   ]
  },
  {
   "cell_type": "markdown",
   "id": "268f54cb",
   "metadata": {},
   "source": [
    "## 0. Getting started"
   ]
  },
  {
   "cell_type": "code",
   "execution_count": null,
   "id": "54c1f657",
   "metadata": {},
   "outputs": [],
   "source": [
    "import networkx as nx"
   ]
  },
  {
   "cell_type": "code",
   "execution_count": null,
   "id": "4632bc78",
   "metadata": {},
   "outputs": [],
   "source": [
    "G = nx.Graph()"
   ]
  },
  {
   "cell_type": "code",
   "execution_count": null,
   "id": "39012fae",
   "metadata": {},
   "outputs": [],
   "source": [
    "# We can check the size of a graph by printing it.\n",
    "print(G)"
   ]
  },
  {
   "cell_type": "markdown",
   "id": "2eb57c04",
   "metadata": {},
   "source": [
    "By definition, a [Graph](https://networkx.org/documentation/stable/reference/classes/graph.html#networkx.Graph) is a collection of nodes (vertices) along with identified pairs of nodes (called edges, links, etc). In NetworkX, nodes can be any [hashable](https://docs.python.org/3/glossary.html#term-hashable) object e.g., a text string, an image, an XML object, another Graph, a customized node object, etc."
   ]
  },
  {
   "cell_type": "markdown",
   "id": "0b0020fb",
   "metadata": {},
   "source": [
    "## 1. Nodes\n",
    "We start out simple by seing how we can manually add nodes to our graph."
   ]
  },
  {
   "cell_type": "code",
   "execution_count": null,
   "id": "ac142f9c",
   "metadata": {},
   "outputs": [],
   "source": [
    "G.add_node(1)\n",
    "print(G)"
   ]
  },
  {
   "cell_type": "code",
   "execution_count": null,
   "id": "cd9b9d59",
   "metadata": {},
   "outputs": [],
   "source": [
    "G.add_nodes_from([2, 3])\n",
    "print(G)"
   ]
  },
  {
   "cell_type": "code",
   "execution_count": null,
   "id": "961530a8",
   "metadata": {},
   "outputs": [],
   "source": [
    "G.add_nodes_from([(4, {\"color\": \"red\"}), (5, {\"color\": \"green\"})])\n",
    "print(G)"
   ]
  },
  {
   "cell_type": "markdown",
   "id": "a22c0c35",
   "metadata": {},
   "source": [
    "We can then combine two graphs in a set of ways. We may use the nodes from H to create the nodes in G or append H as a new node in G."
   ]
  },
  {
   "cell_type": "code",
   "execution_count": null,
   "id": "cdcf0cae",
   "metadata": {},
   "outputs": [],
   "source": [
    "H = nx.path_graph(10)\n",
    "print(H)"
   ]
  },
  {
   "cell_type": "code",
   "execution_count": null,
   "id": "8c64ad52",
   "metadata": {},
   "outputs": [],
   "source": [
    "G.add_nodes_from(H)\n",
    "print(G)"
   ]
  },
  {
   "cell_type": "code",
   "execution_count": null,
   "id": "64a861ee",
   "metadata": {},
   "outputs": [],
   "source": [
    "G.add_node(H)\n",
    "print(G)"
   ]
  },
  {
   "cell_type": "markdown",
   "id": "aa5998c4",
   "metadata": {},
   "source": [
    "## 2. Edges\n",
    "Again, we can manually create links/edges between nodes using the library functions.\n",
    "\n",
    "We could add a single edge:"
   ]
  },
  {
   "cell_type": "code",
   "execution_count": null,
   "id": "19b294fc",
   "metadata": {},
   "outputs": [],
   "source": [
    "G.add_edge(1, 2)\n",
    "print(G)\n",
    "\n",
    "e = (2, 3)\n",
    "G.add_edge(*e)  # unpack edge tuple*\n",
    "print(G)"
   ]
  },
  {
   "cell_type": "code",
   "execution_count": null,
   "id": "249925af",
   "metadata": {},
   "outputs": [],
   "source": [
    "# Note: unpacking returns the values stored in a datatype:\n",
    "print(e)  # (2, 3)\n",
    "print(*e) # 2 3"
   ]
  },
  {
   "cell_type": "markdown",
   "id": "584019fb",
   "metadata": {},
   "source": [
    "or we could add a list of edges:"
   ]
  },
  {
   "cell_type": "code",
   "execution_count": null,
   "id": "66286139",
   "metadata": {},
   "outputs": [],
   "source": [
    "G.add_edges_from([(1,2), (1,3)]) # Note: G already has the edge (1,2). Thus, this is simply ignored. \n",
    "print(G)"
   ]
  },
  {
   "cell_type": "code",
   "execution_count": null,
   "id": "7d64ed23",
   "metadata": {},
   "outputs": [],
   "source": [
    "e1 = (1,4)\n",
    "e2 = (1,5)\n",
    "edges = [e1, e2]\n",
    "\n",
    "G.add_edges_from(edges)\n",
    "print(G)"
   ]
  },
  {
   "cell_type": "markdown",
   "id": "be73d82b",
   "metadata": {},
   "source": [
    "We can again copy another graph and this time use it's edges: "
   ]
  },
  {
   "cell_type": "code",
   "execution_count": null,
   "id": "3165d6cd",
   "metadata": {},
   "outputs": [],
   "source": [
    "G.add_edges_from(H.edges) # Note: duplicate edges are ignored.\n",
    "print(G)"
   ]
  },
  {
   "cell_type": "markdown",
   "id": "d9a01c87",
   "metadata": {},
   "source": [
    "To start over, we can clear the graph:"
   ]
  },
  {
   "cell_type": "code",
   "execution_count": null,
   "id": "00b74e4b",
   "metadata": {},
   "outputs": [],
   "source": [
    "G.clear()\n",
    "print(G)"
   ]
  },
  {
   "cell_type": "code",
   "execution_count": null,
   "id": "ca90217d",
   "metadata": {},
   "outputs": [],
   "source": [
    "G.add_edges_from([(1, 2), (1, 3)])\n",
    "G.add_node(1)\n",
    "G.add_edge(1, 2)\n",
    "G.add_node(\"spam\")        # adds node \"spam\"\n",
    "G.add_nodes_from(\"spam\")  # adds 4 nodes: 's', 'p', 'a', 'm'\n",
    "G.add_edge(3, 'm')"
   ]
  },
  {
   "cell_type": "markdown",
   "id": "642068c2",
   "metadata": {},
   "source": [
    "We can check the number of nodes and edges:"
   ]
  },
  {
   "cell_type": "code",
   "execution_count": null,
   "id": "01ad67d1",
   "metadata": {},
   "outputs": [],
   "source": [
    "print(f\"Nodes: {G.number_of_nodes()}\")\n",
    "print(f\"Edges: {G.number_of_edges()}\")\n",
    "print(G)"
   ]
  },
  {
   "cell_type": "markdown",
   "id": "f66a6dee",
   "metadata": {},
   "source": [
    "## 3. Examining elements of a graph\n",
    "To examine the content of a graph, we can look at all the nodes and edges as well as each node's adjacent/neighbouring nodes and degree, i.e. number of edges for a given node."
   ]
  },
  {
   "cell_type": "code",
   "execution_count": null,
   "id": "7245f933",
   "metadata": {},
   "outputs": [],
   "source": [
    "list(G.nodes)"
   ]
  },
  {
   "cell_type": "code",
   "execution_count": null,
   "id": "24fee731",
   "metadata": {},
   "outputs": [],
   "source": [
    "list(G.edges)"
   ]
  },
  {
   "cell_type": "code",
   "execution_count": null,
   "id": "80fb9a43",
   "metadata": {},
   "outputs": [],
   "source": [
    "list(G.adj[1])  # or list(G.neighbors(1))"
   ]
  },
  {
   "cell_type": "code",
   "execution_count": null,
   "id": "cb061f89",
   "metadata": {},
   "outputs": [],
   "source": [
    "G.degree[1]  # the number of edges incident to 1"
   ]
  },
  {
   "cell_type": "markdown",
   "id": "2a652847",
   "metadata": {},
   "source": [
    "We can check subsets of nodes from a graph and look at their edges and degrees:"
   ]
  },
  {
   "cell_type": "code",
   "execution_count": null,
   "id": "c44dfbc2",
   "metadata": {},
   "outputs": [],
   "source": [
    "G.edges([2, 'm'])"
   ]
  },
  {
   "cell_type": "code",
   "execution_count": null,
   "id": "95795067",
   "metadata": {},
   "outputs": [],
   "source": [
    "G.degree([2, 3])"
   ]
  },
  {
   "cell_type": "markdown",
   "id": "094468bf",
   "metadata": {},
   "source": [
    "## 4. Removing elements from a graph\n",
    "We can manually remove nodes or edges from a graph, either one by one or in sets."
   ]
  },
  {
   "cell_type": "code",
   "execution_count": null,
   "id": "1d1b14ae",
   "metadata": {},
   "outputs": [],
   "source": [
    "G.remove_node(2) # node '2' removed\n",
    "G.remove_nodes_from(\"spam\") # nodes 's', 'p', 'a' and 'm' removed\n",
    "list(G.nodes)"
   ]
  },
  {
   "cell_type": "code",
   "execution_count": null,
   "id": "1823f4e0",
   "metadata": {},
   "outputs": [],
   "source": [
    "list(G.edges)"
   ]
  },
  {
   "cell_type": "code",
   "execution_count": null,
   "id": "5aed069d",
   "metadata": {},
   "outputs": [],
   "source": [
    "G.remove_edge(1, 3)\n",
    "list(G.edges)"
   ]
  },
  {
   "cell_type": "markdown",
   "id": "1427aed6",
   "metadata": {},
   "source": [
    "## 5. Using the graph constructors\n",
    "The NeworkX library contains a set of [Graph Types](https://networkx.org/documentation/stable/reference/classes/index.html), making a graph either directed or undirected, and single edged or multiple parallel edged."
   ]
  },
  {
   "cell_type": "code",
   "execution_count": null,
   "id": "40b50614",
   "metadata": {},
   "outputs": [],
   "source": [
    "G.add_edge(1, 2)\n",
    "H = nx.DiGraph(G)  # create a DiGraph using the connections from G\n",
    "list(H.edges())"
   ]
  },
  {
   "cell_type": "code",
   "execution_count": null,
   "id": "7d631b29",
   "metadata": {},
   "outputs": [],
   "source": [
    "edgelist = [(0, 1), (1, 2), (2, 3)]\n",
    "H = nx.Graph(edgelist)  # create a graph from an edge list\n",
    "list(H.edges())"
   ]
  },
  {
   "cell_type": "code",
   "execution_count": null,
   "id": "c3a27ca8",
   "metadata": {},
   "outputs": [],
   "source": [
    "adjacency_dict = {0: (1, 2), 1: (0, 2), 2: (0, 1)}\n",
    "H = nx.Graph(adjacency_dict)  # create a Graph dict mapping nodes to nbrs\n",
    "list(H.edges())"
   ]
  },
  {
   "cell_type": "markdown",
   "id": "5f159cba",
   "metadata": {},
   "source": [
    "## 6. Accessing edges and neighbors\n",
    "In addition to the views Graph.edges, and Graph.adj, access to edges and neighbors is possible using _**subscript notation**_."
   ]
  },
  {
   "cell_type": "code",
   "execution_count": null,
   "id": "d6ad949f",
   "metadata": {},
   "outputs": [],
   "source": [
    "G = nx.Graph([(1, 2, {\"color\": \"yellow\"})])\n",
    "G[1]  # same as G.adj[1]"
   ]
  },
  {
   "cell_type": "code",
   "execution_count": null,
   "id": "f559b7cc",
   "metadata": {},
   "outputs": [],
   "source": [
    "G[1][2]"
   ]
  },
  {
   "cell_type": "code",
   "execution_count": null,
   "id": "a359c05f",
   "metadata": {},
   "outputs": [],
   "source": [
    "G.edges[1, 2]"
   ]
  },
  {
   "cell_type": "code",
   "execution_count": null,
   "id": "2d15ce6a",
   "metadata": {},
   "outputs": [],
   "source": [
    "G.add_edge(1, 3)\n",
    "G[1][3]['color'] = \"blue\"\n",
    "G.edges[1, 2]['color'] = \"red\"\n",
    "G.edges[1, 2]"
   ]
  },
  {
   "cell_type": "markdown",
   "id": "8143643b",
   "metadata": {},
   "source": [
    "Fast examination of all (node, adjacency) pairs is achieved using `G.adjacency()`, or `G.adj.items()`. Note that for undirected graphs, adjacency iteration sees each edge twice."
   ]
  },
  {
   "cell_type": "code",
   "execution_count": null,
   "id": "e0fac74c",
   "metadata": {},
   "outputs": [],
   "source": [
    "FG = nx.Graph()\n",
    "\n",
    "# Add edges with weight\n",
    "FG.add_weighted_edges_from([(1, 2, 0.125), (1, 3, 0.75), (2, 4, 1.2), (3, 4, 0.375)])\n",
    "\n",
    "# GLOSSARY\n",
    "# n    : node\n",
    "# nbrs : neighbours/adjecent nodes and edges  \n",
    "# nbr  : neighbour/adjecent node\n",
    "# eattr: Edge attribute\n",
    "\n",
    "for n, nbrs in FG.adj.items():\n",
    "                                                #print(f\"n: {n}, nbrs: {nbrs}\")\n",
    "    for nbr, eattr in nbrs.items():\n",
    "                                                #print(f\"nbr: {nbr}, eattr: {eattr}\")\n",
    "        wt = eattr['weight']\n",
    "        if wt < 0.5: \n",
    "            print(f\"({n}, {nbr}, {wt:.3})\")"
   ]
  },
  {
   "cell_type": "code",
   "execution_count": null,
   "id": "5f68e9fb",
   "metadata": {},
   "outputs": [],
   "source": [
    "FG.adj.items()"
   ]
  },
  {
   "cell_type": "code",
   "execution_count": null,
   "id": "6460943c",
   "metadata": {},
   "outputs": [],
   "source": [
    "# Extract the weight value of the edge from 2 into 1.\n",
    "list(FG.adj[2][1].items())[0][1]"
   ]
  },
  {
   "cell_type": "markdown",
   "id": "15cc4256",
   "metadata": {},
   "source": [
    "We can also check all edges in the graph and fetch any which hold true for some statement or value:"
   ]
  },
  {
   "cell_type": "code",
   "execution_count": null,
   "id": "4d63d387",
   "metadata": {},
   "outputs": [],
   "source": [
    "for (u, v, wt) in FG.edges.data('weight'):\n",
    "    if wt < 0.5:\n",
    "        print(f\"({u}, {v}, {wt:.3})\") # <--- :.3 rounds the value to 3 decimals"
   ]
  },
  {
   "cell_type": "code",
   "execution_count": null,
   "id": "9cf81c34",
   "metadata": {},
   "outputs": [],
   "source": [
    "FG.edges.data('weight')"
   ]
  },
  {
   "cell_type": "markdown",
   "id": "070ed8ff",
   "metadata": {},
   "source": [
    "## 7. Attributes\n",
    "An attribute can be any kind of information that we want to associate with a graph or nodes. "
   ]
  },
  {
   "cell_type": "markdown",
   "id": "460f4c7e",
   "metadata": {},
   "source": [
    "### 7.1 Graph Attributes"
   ]
  },
  {
   "cell_type": "code",
   "execution_count": null,
   "id": "6c3d591c",
   "metadata": {},
   "outputs": [],
   "source": [
    "G = nx.Graph(day=\"Friday\")\n",
    "G.graph"
   ]
  },
  {
   "cell_type": "code",
   "execution_count": null,
   "id": "da29f08d",
   "metadata": {},
   "outputs": [],
   "source": [
    "G.graph['day'] = \"Monday\"\n",
    "G.graph"
   ]
  },
  {
   "cell_type": "markdown",
   "id": "8ea8b4c5",
   "metadata": {},
   "source": [
    "### 7.2 Node Attributes"
   ]
  },
  {
   "cell_type": "code",
   "execution_count": null,
   "id": "9c7b4210",
   "metadata": {},
   "outputs": [],
   "source": [
    "G.add_node(1, time='5pm')\n",
    "G.add_nodes_from([3], time='2pm')\n",
    "G.nodes[1]"
   ]
  },
  {
   "cell_type": "code",
   "execution_count": null,
   "id": "f85600b7",
   "metadata": {},
   "outputs": [],
   "source": [
    "G.nodes[1]['room'] = 714\n",
    "G.nodes.data()"
   ]
  },
  {
   "cell_type": "markdown",
   "id": "c516e343",
   "metadata": {},
   "source": [
    "### 7.3 Edge Attributes"
   ]
  },
  {
   "cell_type": "code",
   "execution_count": null,
   "id": "1f65eb74",
   "metadata": {},
   "outputs": [],
   "source": [
    "G.add_edge(1, 2, weight=4.7 )\n",
    "G.add_edges_from([(3, 4), (4, 5)], color='red')\n",
    "G.add_edges_from([(1, 2, {'color': 'blue'}), (2, 3, {'weight': 8})])\n",
    "G[1][2]['weight'] = 4.7\n",
    "G.edges[3, 4]['weight'] = 4.2"
   ]
  },
  {
   "cell_type": "code",
   "execution_count": null,
   "id": "026a3a0c",
   "metadata": {},
   "outputs": [],
   "source": [
    "G.adj.items()"
   ]
  },
  {
   "cell_type": "markdown",
   "id": "c59516d7",
   "metadata": {},
   "source": [
    "## 8. Directed graphs\n",
    "The [`DiGraph`](https://networkx.org/documentation/stable/reference/classes/digraph.html#networkx.DiGraph) class provides additional methods and properties specific to directed edges, e.g., [`DiGraph.out_edges`](https://networkx.org/documentation/stable/reference/classes/generated/networkx.DiGraph.out_edges.html#networkx.DiGraph.out_edges), [`DiGraph.in_degree`](https://networkx.org/documentation/stable/reference/classes/generated/networkx.DiGraph.in_degree.html#networkx.DiGraph.in_degree), [`DiGraph.predecessors()`](https://networkx.org/documentation/stable/reference/classes/generated/networkx.DiGraph.predecessors.html#networkx.DiGraph.predecessors), [`DiGraph.successors()`](https://networkx.org/documentation/stable/reference/classes/generated/networkx.DiGraph.successors.html#networkx.DiGraph.successors) etc. To allow algorithms to work with both classes easily, the directed versions of [`neighbors`](https://networkx.org/documentation/stable/reference/classes/generated/networkx.DiGraph.neighbors.html#networkx.DiGraph.neighbors) is equivalent to [`successors`](https://networkx.org/documentation/stable/reference/classes/generated/networkx.DiGraph.successors.html#networkx.DiGraph.successors) while [`DiGraph.degree`](https://networkx.org/documentation/stable/reference/classes/generated/networkx.DiGraph.degree.html#networkx.DiGraph.degree) reports the sum of [`DiGraph.in_degree`](https://networkx.org/documentation/stable/reference/classes/generated/networkx.DiGraph.in_degree.html#networkx.DiGraph.in_degree) and [`DiGraph.out_degree`](https://networkx.org/documentation/stable/reference/classes/generated/networkx.DiGraph.out_degree.html#networkx.DiGraph.out_degree) even though that may feel inconsistent at times."
   ]
  },
  {
   "cell_type": "code",
   "execution_count": null,
   "id": "e02c5525",
   "metadata": {},
   "outputs": [],
   "source": [
    "DG = nx.DiGraph()\n",
    "DG.add_weighted_edges_from([(1, 2, 0.5), (3, 1, 0.75)])\n",
    "DG.out_degree(1, weight='weight')"
   ]
  },
  {
   "cell_type": "code",
   "execution_count": null,
   "id": "8016e494",
   "metadata": {},
   "outputs": [],
   "source": [
    "DG.degree(1, weight='weight')"
   ]
  },
  {
   "cell_type": "code",
   "execution_count": null,
   "id": "3c011b71",
   "metadata": {},
   "outputs": [],
   "source": [
    "list(DG.successors(1))"
   ]
  },
  {
   "cell_type": "code",
   "execution_count": null,
   "id": "e451e719",
   "metadata": {},
   "outputs": [],
   "source": [
    "list(DG.neighbors(1))"
   ]
  },
  {
   "cell_type": "markdown",
   "id": "9ce8d641",
   "metadata": {},
   "source": [
    "Some algorithms work only for directed graphs and others are not well defined for directed graphs. Indeed the tendency to lump directed and undirected graphs together is dangerous. If you want to treat a directed graph as undirected for some measurement you should probably convert it using [`Graph.to_undirected()`](https://networkx.org/documentation/stable/reference/classes/generated/networkx.Graph.to_undirected.html#networkx.Graph.to_undirected) or with"
   ]
  },
  {
   "cell_type": "code",
   "execution_count": null,
   "id": "959e2d3d",
   "metadata": {},
   "outputs": [],
   "source": [
    "H = nx.Graph(G)  # create an undirected graph H from a directed graph G"
   ]
  },
  {
   "cell_type": "markdown",
   "id": "d3494b82",
   "metadata": {},
   "source": [
    "## 9. Multigraphs\n",
    "\n"
   ]
  },
  {
   "cell_type": "markdown",
   "id": "89d4081c",
   "metadata": {},
   "source": [
    "NetworkX provides classes for graphs which allow multiple edges between any pair of nodes. The [`MultiGraph`](https://networkx.org/documentation/stable/reference/classes/multigraph.html#networkx.MultiGraph) and [`MultiDiGraph`](https://networkx.org/documentation/stable/reference/classes/multidigraph.html#networkx.MultiDiGraph) classes allow you to add the same edge twice, possibly with different edge data. This can be powerful for some applications, but many algorithms are not well defined on such graphs. Where results are well defined, e.g., [`MultiGraph.degree()`](https://networkx.org/documentation/stable/reference/classes/generated/networkx.MultiGraph.degree.html#networkx.MultiGraph.degree) we provide the function. Otherwise you should convert to a standard graph in a way that makes the measurement well defined."
   ]
  },
  {
   "cell_type": "code",
   "execution_count": null,
   "id": "5d8bd0a8",
   "metadata": {},
   "outputs": [],
   "source": [
    "MG = nx.MultiGraph()\n",
    "MG.add_weighted_edges_from([(1, 2, 0.5), (1, 2, 0.75), (2, 3, 0.5)])\n",
    "dict(MG.degree(weight='weight'))"
   ]
  },
  {
   "cell_type": "code",
   "execution_count": null,
   "id": "da80addb",
   "metadata": {},
   "outputs": [],
   "source": [
    "GG = nx.Graph()\n",
    "for n, nbrs in MG.adjacency():\n",
    "   for nbr, edict in nbrs.items():\n",
    "       minvalue = min([d['weight'] for d in edict.values()])\n",
    "       GG.add_edge(n, nbr, weight = minvalue)\n",
    "\n",
    "nx.shortest_path(GG, 1, 3)"
   ]
  },
  {
   "cell_type": "markdown",
   "id": "ae087e7e",
   "metadata": {},
   "source": [
    "## 10. Graph generators and graph operations\n",
    "For a 5 step walkthroug, go to the tutorial [link](https://networkx.org/documentation/stable/tutorial.html#graph-generators-and-graph-operations)."
   ]
  },
  {
   "cell_type": "markdown",
   "id": "a0dbf7d6",
   "metadata": {},
   "source": [
    "## 11. Analyzing graphs\n",
    "The structure of G can be analyzed using various graph-theoretic functions/algorithms. \n",
    "\n",
    "See the list [here](https://networkx.org/documentation/stable/reference/algorithms/index.html)."
   ]
  },
  {
   "cell_type": "code",
   "execution_count": null,
   "id": "3e852d30",
   "metadata": {},
   "outputs": [],
   "source": [
    "G = nx.Graph()\n",
    "G.add_edges_from([(1, 2), (1, 3)])\n",
    "G.add_node(\"spam\")       # adds node \"spam\"\n",
    "list(nx.connected_components(G))"
   ]
  },
  {
   "cell_type": "code",
   "execution_count": null,
   "id": "68e504cc",
   "metadata": {},
   "outputs": [],
   "source": [
    "sorted(d for n, d in G.degree())"
   ]
  },
  {
   "cell_type": "code",
   "execution_count": null,
   "id": "e405a446",
   "metadata": {},
   "outputs": [],
   "source": [
    "nx.clustering(G)"
   ]
  },
  {
   "cell_type": "markdown",
   "id": "a87b3b92",
   "metadata": {},
   "source": [
    "Some functions with large output iterate over (node, value) 2-tuples. These are easily stored in a dict structure if you desire."
   ]
  },
  {
   "cell_type": "code",
   "execution_count": null,
   "id": "8f18a34e",
   "metadata": {},
   "outputs": [],
   "source": [
    "sp = dict(nx.all_pairs_shortest_path(G))\n",
    "sp[3]"
   ]
  },
  {
   "cell_type": "markdown",
   "id": "40d1fbe6",
   "metadata": {},
   "source": [
    "## 12. Drawing graphs\n",
    "NetworkX is not primarily a graph drawing package but basic drawing with Matplotlib as well as an interface to use the open source Graphviz software package are included. These are part of the [`networkx.drawing module`](https://networkx.org/documentation/stable/reference/drawing.html) and will be imported if possible."
   ]
  },
  {
   "cell_type": "markdown",
   "id": "cdd5850a",
   "metadata": {},
   "source": [
    "First import Matplotlib’s plot interface (pylab works too)"
   ]
  },
  {
   "cell_type": "code",
   "execution_count": null,
   "id": "b2d2c5b0",
   "metadata": {},
   "outputs": [],
   "source": [
    "import matplotlib.pyplot as plt"
   ]
  },
  {
   "cell_type": "code",
   "execution_count": null,
   "id": "be0a6ebe",
   "metadata": {},
   "outputs": [],
   "source": [
    "G = nx.petersen_graph()\n",
    "subax1 = plt.subplot(121)\n",
    "nx.draw(G, with_labels=True, font_weight='bold')\n",
    "subax2 = plt.subplot(122)\n",
    "nx.draw_shell(G, nlist=[range(5, 10), range(5)], with_labels=True, font_weight='bold')"
   ]
  },
  {
   "cell_type": "markdown",
   "id": "f4ea9036",
   "metadata": {},
   "source": [
    "when drawing to an interactive display. Note that you may need to issue a Matplotlib command if you are not using matplotlib in interactive mode:"
   ]
  },
  {
   "cell_type": "code",
   "execution_count": null,
   "id": "bfc4c9f2",
   "metadata": {},
   "outputs": [],
   "source": [
    "plt.show()"
   ]
  },
  {
   "cell_type": "code",
   "execution_count": null,
   "id": "d8a70952",
   "metadata": {},
   "outputs": [],
   "source": [
    "options = {\n",
    "    'node_color': 'black',\n",
    "    'node_size': 100,\n",
    "    'width': 3,\n",
    "}\n",
    "subax1 = plt.subplot(221)\n",
    "nx.draw_random(G, **options)\n",
    "subax2 = plt.subplot(222)\n",
    "nx.draw_circular(G, **options)\n",
    "subax3 = plt.subplot(223)\n",
    "nx.draw_spectral(G, **options)\n",
    "subax4 = plt.subplot(224)\n",
    "nx.draw_shell(G, nlist=[range(5,10), range(5)], **options)"
   ]
  },
  {
   "cell_type": "markdown",
   "id": "f678f23f",
   "metadata": {},
   "source": [
    "You can find additional options via draw_networkx() and layouts via the layout module. You can use multiple shells with draw_shell()."
   ]
  },
  {
   "cell_type": "code",
   "execution_count": null,
   "id": "b7932e4d",
   "metadata": {},
   "outputs": [],
   "source": [
    "G = nx.dodecahedral_graph()\n",
    "shells = [[2, 3, 4, 5, 6], [8, 1, 0, 19, 18, 17, 16, 15, 14, 7], [9, 10, 11, 12, 13]]\n",
    "nx.draw_shell(G, nlist=shells, **options)"
   ]
  },
  {
   "cell_type": "markdown",
   "id": "8ceb8106",
   "metadata": {},
   "source": [
    " ## 13. Save graph drawings\n",
    " To save drawings to a file, use, for example:"
   ]
  },
  {
   "cell_type": "code",
   "execution_count": null,
   "id": "c6ac319e",
   "metadata": {},
   "outputs": [],
   "source": [
    "nx.draw(G)\n",
    "plt.savefig(\"path.png\")"
   ]
  },
  {
   "cell_type": "markdown",
   "id": "45e1b29a",
   "metadata": {},
   "source": [
    "The function `plt.savefig()` writes to the file _path.png_ in the local directory. If [Graphviz](https://graphviz.org/) and [PyGraphviz](https://pygraphviz.github.io/) or [pydot](https://pypi.org/project/pydot/), are available on your system, you can also use networkx.drawing.nx_agraph.graphviz_layout or networkx.drawing.nx_pydot.graphviz_layout to get the node positions, or write the graph in dot format for further processing."
   ]
  },
  {
   "cell_type": "code",
   "execution_count": null,
   "id": "55c85f7b",
   "metadata": {},
   "outputs": [],
   "source": [
    "from networkx.drawing.nx_pydot import write_dot\n",
    "pos = nx.nx_agraph.graphviz_layout(G)\n",
    "nx.draw(G, pos=pos)\n",
    "write_dot(G, 'file.dot')"
   ]
  }
 ],
 "metadata": {
  "kernelspec": {
   "display_name": "Python 3 (ipykernel)",
   "language": "python",
   "name": "python3"
  },
  "language_info": {
   "codemirror_mode": {
    "name": "ipython",
    "version": 3
   },
   "file_extension": ".py",
   "mimetype": "text/x-python",
   "name": "python",
   "nbconvert_exporter": "python",
   "pygments_lexer": "ipython3",
   "version": "3.11.5"
  }
 },
 "nbformat": 4,
 "nbformat_minor": 5
}

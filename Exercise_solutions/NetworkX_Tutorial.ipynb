{
 "cells": [
  {
   "cell_type": "markdown",
   "id": "d7e014be",
   "metadata": {},
   "source": [
    "# NetworkX Tutorial Notebook"
   ]
  },
  {
   "cell_type": "markdown",
   "id": "1ffb6d0f",
   "metadata": {},
   "source": [
    "This tutorial is based on the [guided introduction](https://networkx.org/documentation/stable/tutorial.html) to the [**NetworkX** python library](https://networkx.org/documentation/stable/index.html)."
   ]
  },
  {
   "cell_type": "markdown",
   "id": "268f54cb",
   "metadata": {},
   "source": [
    "## 0. Getting started"
   ]
  },
  {
   "cell_type": "code",
   "execution_count": 1,
   "id": "54c1f657",
   "metadata": {},
   "outputs": [],
   "source": [
    "import networkx as nx"
   ]
  },
  {
   "cell_type": "code",
   "execution_count": 2,
   "id": "4632bc78",
   "metadata": {},
   "outputs": [],
   "source": [
    "G = nx.Graph()"
   ]
  },
  {
   "cell_type": "code",
   "execution_count": 3,
   "id": "39012fae",
   "metadata": {},
   "outputs": [
    {
     "name": "stdout",
     "output_type": "stream",
     "text": [
      "Graph with 0 nodes and 0 edges\n"
     ]
    }
   ],
   "source": [
    "# We can check the size of a graph by printing it.\n",
    "print(G)"
   ]
  },
  {
   "cell_type": "markdown",
   "id": "2eb57c04",
   "metadata": {},
   "source": [
    "By definition, a [Graph](https://networkx.org/documentation/stable/reference/classes/graph.html#networkx.Graph) is a collection of nodes (vertices) along with identified pairs of nodes (called edges, links, etc). In NetworkX, nodes can be any [hashable](https://docs.python.org/3/glossary.html#term-hashable) object e.g., a text string, an image, an XML object, another Graph, a customized node object, etc."
   ]
  },
  {
   "cell_type": "markdown",
   "id": "0b0020fb",
   "metadata": {},
   "source": [
    "## 1. Nodes\n",
    "We start out simple by seing how we can manually add nodes to our graph."
   ]
  },
  {
   "cell_type": "code",
   "execution_count": 4,
   "id": "ac142f9c",
   "metadata": {},
   "outputs": [
    {
     "name": "stdout",
     "output_type": "stream",
     "text": [
      "Graph with 1 nodes and 0 edges\n"
     ]
    }
   ],
   "source": [
    "G.add_node(1)\n",
    "print(G)"
   ]
  },
  {
   "cell_type": "code",
   "execution_count": 5,
   "id": "cd9b9d59",
   "metadata": {},
   "outputs": [
    {
     "name": "stdout",
     "output_type": "stream",
     "text": [
      "Graph with 3 nodes and 0 edges\n"
     ]
    }
   ],
   "source": [
    "G.add_nodes_from([2, 3])\n",
    "print(G)"
   ]
  },
  {
   "cell_type": "code",
   "execution_count": 6,
   "id": "961530a8",
   "metadata": {},
   "outputs": [
    {
     "name": "stdout",
     "output_type": "stream",
     "text": [
      "Graph with 5 nodes and 0 edges\n"
     ]
    }
   ],
   "source": [
    "G.add_nodes_from([(4, {\"color\": \"red\"}), (5, {\"color\": \"green\"})])\n",
    "print(G)"
   ]
  },
  {
   "cell_type": "markdown",
   "id": "a22c0c35",
   "metadata": {},
   "source": [
    "We can then combine two graphs in a set of ways. We may use the nodes from H to create the nodes in G or append H as a new node in G."
   ]
  },
  {
   "cell_type": "code",
   "execution_count": 7,
   "id": "cdcf0cae",
   "metadata": {},
   "outputs": [
    {
     "name": "stdout",
     "output_type": "stream",
     "text": [
      "Graph with 10 nodes and 9 edges\n"
     ]
    }
   ],
   "source": [
    "H = nx.path_graph(10)\n",
    "print(H)"
   ]
  },
  {
   "cell_type": "code",
   "execution_count": 8,
   "id": "8c64ad52",
   "metadata": {},
   "outputs": [
    {
     "name": "stdout",
     "output_type": "stream",
     "text": [
      "Graph with 10 nodes and 0 edges\n"
     ]
    }
   ],
   "source": [
    "G.add_nodes_from(H)\n",
    "print(G)"
   ]
  },
  {
   "cell_type": "code",
   "execution_count": 9,
   "id": "64a861ee",
   "metadata": {},
   "outputs": [
    {
     "name": "stdout",
     "output_type": "stream",
     "text": [
      "Graph with 11 nodes and 0 edges\n"
     ]
    }
   ],
   "source": [
    "G.add_node(H)\n",
    "print(G)"
   ]
  },
  {
   "cell_type": "markdown",
   "id": "aa5998c4",
   "metadata": {},
   "source": [
    "## 2. Edges\n",
    "Again, we can manually create links/edges between nodes using the library functions.\n",
    "\n",
    "We could add a single edge:"
   ]
  },
  {
   "cell_type": "code",
   "execution_count": 10,
   "id": "19b294fc",
   "metadata": {},
   "outputs": [
    {
     "name": "stdout",
     "output_type": "stream",
     "text": [
      "Graph with 11 nodes and 1 edges\n",
      "Graph with 11 nodes and 2 edges\n"
     ]
    }
   ],
   "source": [
    "G.add_edge(1, 2)\n",
    "print(G)\n",
    "\n",
    "e = (2, 3)\n",
    "G.add_edge(*e)  # unpack edge tuple*\n",
    "print(G)"
   ]
  },
  {
   "cell_type": "code",
   "execution_count": 11,
   "id": "249925af",
   "metadata": {},
   "outputs": [
    {
     "name": "stdout",
     "output_type": "stream",
     "text": [
      "(2, 3)\n",
      "2 3\n"
     ]
    }
   ],
   "source": [
    "# Note: unpacking returns the values stored in a datatype:\n",
    "print(e)  # (2, 3)\n",
    "print(*e) # 2 3"
   ]
  },
  {
   "cell_type": "markdown",
   "id": "584019fb",
   "metadata": {},
   "source": [
    "or we could add a list of edges:"
   ]
  },
  {
   "cell_type": "code",
   "execution_count": 12,
   "id": "66286139",
   "metadata": {},
   "outputs": [
    {
     "name": "stdout",
     "output_type": "stream",
     "text": [
      "Graph with 11 nodes and 3 edges\n"
     ]
    }
   ],
   "source": [
    "G.add_edges_from([(1,2), (1,3)]) # Note: G already has the edge (1,2). Thus, this is simply ignored. \n",
    "print(G)"
   ]
  },
  {
   "cell_type": "code",
   "execution_count": 13,
   "id": "7d64ed23",
   "metadata": {},
   "outputs": [
    {
     "name": "stdout",
     "output_type": "stream",
     "text": [
      "Graph with 11 nodes and 5 edges\n"
     ]
    }
   ],
   "source": [
    "e1 = (1,4)\n",
    "e2 = (1,5)\n",
    "edges = [e1, e2]\n",
    "\n",
    "G.add_edges_from(edges)\n",
    "print(G)"
   ]
  },
  {
   "cell_type": "markdown",
   "id": "be73d82b",
   "metadata": {},
   "source": [
    "We can again copy another graph and this time use it's edges: "
   ]
  },
  {
   "cell_type": "code",
   "execution_count": 14,
   "id": "3165d6cd",
   "metadata": {},
   "outputs": [
    {
     "name": "stdout",
     "output_type": "stream",
     "text": [
      "Graph with 11 nodes and 12 edges\n"
     ]
    }
   ],
   "source": [
    "G.add_edges_from(H.edges) # Note: duplicate edges are ignored.\n",
    "print(G)"
   ]
  },
  {
   "cell_type": "markdown",
   "id": "d9a01c87",
   "metadata": {},
   "source": [
    "To start over, we can clear the graph:"
   ]
  },
  {
   "cell_type": "code",
   "execution_count": 15,
   "id": "00b74e4b",
   "metadata": {},
   "outputs": [
    {
     "name": "stdout",
     "output_type": "stream",
     "text": [
      "Graph with 0 nodes and 0 edges\n"
     ]
    }
   ],
   "source": [
    "G.clear()\n",
    "print(G)"
   ]
  },
  {
   "cell_type": "code",
   "execution_count": 16,
   "id": "ca90217d",
   "metadata": {},
   "outputs": [],
   "source": [
    "G.add_edges_from([(1, 2), (1, 3)])\n",
    "G.add_node(1)\n",
    "G.add_edge(1, 2)\n",
    "G.add_node(\"spam\")        # adds node \"spam\"\n",
    "G.add_nodes_from(\"spam\")  # adds 4 nodes: 's', 'p', 'a', 'm'\n",
    "G.add_edge(3, 'm')"
   ]
  },
  {
   "cell_type": "markdown",
   "id": "642068c2",
   "metadata": {},
   "source": [
    "We can check the number of nodes and edges:"
   ]
  },
  {
   "cell_type": "code",
   "execution_count": 17,
   "id": "01ad67d1",
   "metadata": {},
   "outputs": [
    {
     "name": "stdout",
     "output_type": "stream",
     "text": [
      "Nodes: 8\n",
      "Edges: 3\n",
      "Graph with 8 nodes and 3 edges\n"
     ]
    }
   ],
   "source": [
    "print(f\"Nodes: {G.number_of_nodes()}\")\n",
    "print(f\"Edges: {G.number_of_edges()}\")\n",
    "print(G)"
   ]
  },
  {
   "cell_type": "markdown",
   "id": "f66a6dee",
   "metadata": {},
   "source": [
    "## 3. Examining elements of a graph\n",
    "To examine the content of a graph, we can look at all the nodes and edges as well as each node's adjacent/neighbouring nodes and degree, i.e. number of edges for a given node."
   ]
  },
  {
   "cell_type": "code",
   "execution_count": 18,
   "id": "7245f933",
   "metadata": {},
   "outputs": [
    {
     "data": {
      "text/plain": [
       "[1, 2, 3, 'spam', 's', 'p', 'a', 'm']"
      ]
     },
     "execution_count": 18,
     "metadata": {},
     "output_type": "execute_result"
    }
   ],
   "source": [
    "list(G.nodes)"
   ]
  },
  {
   "cell_type": "code",
   "execution_count": 19,
   "id": "24fee731",
   "metadata": {},
   "outputs": [
    {
     "data": {
      "text/plain": [
       "[(1, 2), (1, 3), (3, 'm')]"
      ]
     },
     "execution_count": 19,
     "metadata": {},
     "output_type": "execute_result"
    }
   ],
   "source": [
    "list(G.edges)"
   ]
  },
  {
   "cell_type": "code",
   "execution_count": 20,
   "id": "80fb9a43",
   "metadata": {},
   "outputs": [
    {
     "data": {
      "text/plain": [
       "[2, 3]"
      ]
     },
     "execution_count": 20,
     "metadata": {},
     "output_type": "execute_result"
    }
   ],
   "source": [
    "list(G.adj[1])  # or list(G.neighbors(1))"
   ]
  },
  {
   "cell_type": "code",
   "execution_count": 21,
   "id": "cb061f89",
   "metadata": {},
   "outputs": [
    {
     "data": {
      "text/plain": [
       "2"
      ]
     },
     "execution_count": 21,
     "metadata": {},
     "output_type": "execute_result"
    }
   ],
   "source": [
    "G.degree[1]  # the number of edges incident to 1"
   ]
  },
  {
   "cell_type": "markdown",
   "id": "2a652847",
   "metadata": {},
   "source": [
    "We can check subsets of nodes from a graph and look at their edges and degrees:"
   ]
  },
  {
   "cell_type": "code",
   "execution_count": 22,
   "id": "c44dfbc2",
   "metadata": {},
   "outputs": [
    {
     "data": {
      "text/plain": [
       "EdgeDataView([(2, 1), ('m', 3)])"
      ]
     },
     "execution_count": 22,
     "metadata": {},
     "output_type": "execute_result"
    }
   ],
   "source": [
    "G.edges([2, 'm'])"
   ]
  },
  {
   "cell_type": "code",
   "execution_count": 23,
   "id": "95795067",
   "metadata": {},
   "outputs": [
    {
     "data": {
      "text/plain": [
       "DegreeView({2: 1, 3: 2})"
      ]
     },
     "execution_count": 23,
     "metadata": {},
     "output_type": "execute_result"
    }
   ],
   "source": [
    "G.degree([2, 3])"
   ]
  },
  {
   "cell_type": "markdown",
   "id": "094468bf",
   "metadata": {},
   "source": [
    "## 4. Removing elements from a graph\n",
    "We can manually remove nodes or edges from a graph, either one by one or in sets."
   ]
  },
  {
   "cell_type": "code",
   "execution_count": 24,
   "id": "1d1b14ae",
   "metadata": {},
   "outputs": [
    {
     "data": {
      "text/plain": [
       "[1, 3, 'spam']"
      ]
     },
     "execution_count": 24,
     "metadata": {},
     "output_type": "execute_result"
    }
   ],
   "source": [
    "G.remove_node(2) # node '2' removed\n",
    "G.remove_nodes_from(\"spam\") # nodes 's', 'p', 'a' and 'm' removed\n",
    "list(G.nodes)"
   ]
  },
  {
   "cell_type": "code",
   "execution_count": 25,
   "id": "1823f4e0",
   "metadata": {},
   "outputs": [
    {
     "data": {
      "text/plain": [
       "[(1, 3)]"
      ]
     },
     "execution_count": 25,
     "metadata": {},
     "output_type": "execute_result"
    }
   ],
   "source": [
    "list(G.edges)"
   ]
  },
  {
   "cell_type": "code",
   "execution_count": 26,
   "id": "5aed069d",
   "metadata": {},
   "outputs": [
    {
     "data": {
      "text/plain": [
       "[]"
      ]
     },
     "execution_count": 26,
     "metadata": {},
     "output_type": "execute_result"
    }
   ],
   "source": [
    "G.remove_edge(1, 3)\n",
    "list(G.edges)"
   ]
  },
  {
   "cell_type": "markdown",
   "id": "1427aed6",
   "metadata": {},
   "source": [
    "## 5. Using the graph constructors\n",
    "The NeworkX library contains a set of [Graph Types](https://networkx.org/documentation/stable/reference/classes/index.html), making a graph either directed or undirected, and single edged or multiple parallel edged."
   ]
  },
  {
   "cell_type": "code",
   "execution_count": 27,
   "id": "40b50614",
   "metadata": {},
   "outputs": [
    {
     "data": {
      "text/plain": [
       "[(1, 2), (2, 1)]"
      ]
     },
     "execution_count": 27,
     "metadata": {},
     "output_type": "execute_result"
    }
   ],
   "source": [
    "G.add_edge(1, 2)\n",
    "H = nx.DiGraph(G)  # create a DiGraph using the connections from G\n",
    "list(H.edges())"
   ]
  },
  {
   "cell_type": "code",
   "execution_count": 28,
   "id": "7d631b29",
   "metadata": {},
   "outputs": [
    {
     "data": {
      "text/plain": [
       "[(0, 1), (1, 2), (2, 3)]"
      ]
     },
     "execution_count": 28,
     "metadata": {},
     "output_type": "execute_result"
    }
   ],
   "source": [
    "edgelist = [(0, 1), (1, 2), (2, 3)]\n",
    "H = nx.Graph(edgelist)  # create a graph from an edge list\n",
    "list(H.edges())"
   ]
  },
  {
   "cell_type": "code",
   "execution_count": 29,
   "id": "c3a27ca8",
   "metadata": {},
   "outputs": [
    {
     "data": {
      "text/plain": [
       "[(0, 1), (0, 2), (1, 2)]"
      ]
     },
     "execution_count": 29,
     "metadata": {},
     "output_type": "execute_result"
    }
   ],
   "source": [
    "adjacency_dict = {0: (1, 2), 1: (0, 2), 2: (0, 1)}\n",
    "H = nx.Graph(adjacency_dict)  # create a Graph dict mapping nodes to nbrs\n",
    "list(H.edges())"
   ]
  },
  {
   "cell_type": "markdown",
   "id": "5f159cba",
   "metadata": {},
   "source": [
    "## 6. Accessing edges and neighbors\n",
    "In addition to the views Graph.edges, and Graph.adj, access to edges and neighbors is possible using _**subscript notation**_."
   ]
  },
  {
   "cell_type": "code",
   "execution_count": 30,
   "id": "d6ad949f",
   "metadata": {},
   "outputs": [
    {
     "data": {
      "text/plain": [
       "AtlasView({2: {'color': 'yellow'}})"
      ]
     },
     "execution_count": 30,
     "metadata": {},
     "output_type": "execute_result"
    }
   ],
   "source": [
    "G = nx.Graph([(1, 2, {\"color\": \"yellow\"})])\n",
    "G[1]  # same as G.adj[1]"
   ]
  },
  {
   "cell_type": "code",
   "execution_count": 31,
   "id": "f559b7cc",
   "metadata": {},
   "outputs": [
    {
     "data": {
      "text/plain": [
       "{'color': 'yellow'}"
      ]
     },
     "execution_count": 31,
     "metadata": {},
     "output_type": "execute_result"
    }
   ],
   "source": [
    "G[1][2]"
   ]
  },
  {
   "cell_type": "code",
   "execution_count": 32,
   "id": "a359c05f",
   "metadata": {},
   "outputs": [
    {
     "data": {
      "text/plain": [
       "{'color': 'yellow'}"
      ]
     },
     "execution_count": 32,
     "metadata": {},
     "output_type": "execute_result"
    }
   ],
   "source": [
    "G.edges[1, 2]"
   ]
  },
  {
   "cell_type": "code",
   "execution_count": 33,
   "id": "2d15ce6a",
   "metadata": {},
   "outputs": [
    {
     "data": {
      "text/plain": [
       "{'color': 'red'}"
      ]
     },
     "execution_count": 33,
     "metadata": {},
     "output_type": "execute_result"
    }
   ],
   "source": [
    "G.add_edge(1, 3)\n",
    "G[1][3]['color'] = \"blue\"\n",
    "G.edges[1, 2]['color'] = \"red\"\n",
    "G.edges[1, 2]"
   ]
  },
  {
   "cell_type": "markdown",
   "id": "8143643b",
   "metadata": {},
   "source": [
    "Fast examination of all (node, adjacency) pairs is achieved using `G.adjacency()`, or `G.adj.items()`. Note that for undirected graphs, adjacency iteration sees each edge twice."
   ]
  },
  {
   "cell_type": "code",
   "execution_count": 34,
   "id": "e0fac74c",
   "metadata": {},
   "outputs": [
    {
     "name": "stdout",
     "output_type": "stream",
     "text": [
      "(1, 2, 0.125)\n",
      "(2, 1, 0.125)\n",
      "(3, 4, 0.375)\n",
      "(4, 3, 0.375)\n"
     ]
    }
   ],
   "source": [
    "FG = nx.Graph()\n",
    "\n",
    "# Add edges with weight\n",
    "FG.add_weighted_edges_from([(1, 2, 0.125), (1, 3, 0.75), (2, 4, 1.2), (3, 4, 0.375)])\n",
    "\n",
    "# GLOSSARY\n",
    "# n    : node\n",
    "# nbrs : neighbours/adjecent nodes and edges  \n",
    "# nbr  : neighbour/adjecent node\n",
    "# eattr: Edge attribute\n",
    "\n",
    "for n, nbrs in FG.adj.items():\n",
    "                                                #print(f\"n: {n}, nbrs: {nbrs}\")\n",
    "    for nbr, eattr in nbrs.items():\n",
    "                                                #print(f\"nbr: {nbr}, eattr: {eattr}\")\n",
    "        wt = eattr['weight']\n",
    "        if wt < 0.5: \n",
    "            print(f\"({n}, {nbr}, {wt:.3})\")"
   ]
  },
  {
   "cell_type": "code",
   "execution_count": 35,
   "id": "5f68e9fb",
   "metadata": {},
   "outputs": [
    {
     "data": {
      "text/plain": [
       "ItemsView(AdjacencyView({1: {2: {'weight': 0.125}, 3: {'weight': 0.75}}, 2: {1: {'weight': 0.125}, 4: {'weight': 1.2}}, 3: {1: {'weight': 0.75}, 4: {'weight': 0.375}}, 4: {2: {'weight': 1.2}, 3: {'weight': 0.375}}}))"
      ]
     },
     "execution_count": 35,
     "metadata": {},
     "output_type": "execute_result"
    }
   ],
   "source": [
    "FG.adj.items()"
   ]
  },
  {
   "cell_type": "code",
   "execution_count": 36,
   "id": "6460943c",
   "metadata": {},
   "outputs": [
    {
     "data": {
      "text/plain": [
       "0.125"
      ]
     },
     "execution_count": 36,
     "metadata": {},
     "output_type": "execute_result"
    }
   ],
   "source": [
    "# Extract the weight value of the edge from 2 into 1.\n",
    "list(FG.adj[2][1].items())[0][1]"
   ]
  },
  {
   "cell_type": "markdown",
   "id": "15cc4256",
   "metadata": {},
   "source": [
    "We can also check all edges in the graph and fetch any which hold true for some statement or value:"
   ]
  },
  {
   "cell_type": "code",
   "execution_count": 37,
   "id": "4d63d387",
   "metadata": {},
   "outputs": [
    {
     "name": "stdout",
     "output_type": "stream",
     "text": [
      "(1, 2, 0.125)\n",
      "(3, 4, 0.375)\n"
     ]
    }
   ],
   "source": [
    "for (u, v, wt) in FG.edges.data('weight'):\n",
    "    if wt < 0.5:\n",
    "        print(f\"({u}, {v}, {wt:.3})\") # <--- :.3 rounds the value to 3 decimals"
   ]
  },
  {
   "cell_type": "code",
   "execution_count": 38,
   "id": "9cf81c34",
   "metadata": {},
   "outputs": [
    {
     "data": {
      "text/plain": [
       "EdgeDataView([(1, 2, 0.125), (1, 3, 0.75), (2, 4, 1.2), (3, 4, 0.375)])"
      ]
     },
     "execution_count": 38,
     "metadata": {},
     "output_type": "execute_result"
    }
   ],
   "source": [
    "FG.edges.data('weight')"
   ]
  },
  {
   "cell_type": "markdown",
   "id": "070ed8ff",
   "metadata": {},
   "source": [
    "## 7. Attributes\n",
    "An attribute can be any kind of information that we want to associate with a graph or nodes. "
   ]
  },
  {
   "cell_type": "markdown",
   "id": "460f4c7e",
   "metadata": {},
   "source": [
    "### 7.1 Graph Attributes"
   ]
  },
  {
   "cell_type": "code",
   "execution_count": 39,
   "id": "6c3d591c",
   "metadata": {},
   "outputs": [
    {
     "data": {
      "text/plain": [
       "{'day': 'Friday'}"
      ]
     },
     "execution_count": 39,
     "metadata": {},
     "output_type": "execute_result"
    }
   ],
   "source": [
    "G = nx.Graph(day=\"Friday\")\n",
    "G.graph"
   ]
  },
  {
   "cell_type": "code",
   "execution_count": 40,
   "id": "da29f08d",
   "metadata": {},
   "outputs": [
    {
     "data": {
      "text/plain": [
       "{'day': 'Monday'}"
      ]
     },
     "execution_count": 40,
     "metadata": {},
     "output_type": "execute_result"
    }
   ],
   "source": [
    "G.graph['day'] = \"Monday\"\n",
    "G.graph"
   ]
  },
  {
   "cell_type": "markdown",
   "id": "8ea8b4c5",
   "metadata": {},
   "source": [
    "### 7.2 Node Attributes"
   ]
  },
  {
   "cell_type": "code",
   "execution_count": 41,
   "id": "9c7b4210",
   "metadata": {},
   "outputs": [
    {
     "data": {
      "text/plain": [
       "{'time': '5pm'}"
      ]
     },
     "execution_count": 41,
     "metadata": {},
     "output_type": "execute_result"
    }
   ],
   "source": [
    "G.add_node(1, time='5pm')\n",
    "G.add_nodes_from([3], time='2pm')\n",
    "G.nodes[1]"
   ]
  },
  {
   "cell_type": "code",
   "execution_count": 42,
   "id": "f85600b7",
   "metadata": {},
   "outputs": [
    {
     "data": {
      "text/plain": [
       "NodeDataView({1: {'time': '5pm', 'room': 714}, 3: {'time': '2pm'}})"
      ]
     },
     "execution_count": 42,
     "metadata": {},
     "output_type": "execute_result"
    }
   ],
   "source": [
    "G.nodes[1]['room'] = 714\n",
    "G.nodes.data()"
   ]
  },
  {
   "cell_type": "markdown",
   "id": "c516e343",
   "metadata": {},
   "source": [
    "### 7.3 Edge Attributes"
   ]
  },
  {
   "cell_type": "code",
   "execution_count": 43,
   "id": "1f65eb74",
   "metadata": {},
   "outputs": [],
   "source": [
    "G.add_edge(1, 2, weight=4.7 )\n",
    "G.add_edges_from([(3, 4), (4, 5)], color='red')\n",
    "G.add_edges_from([(1, 2, {'color': 'blue'}), (2, 3, {'weight': 8})])\n",
    "G[1][2]['weight'] = 4.7\n",
    "G.edges[3, 4]['weight'] = 4.2"
   ]
  },
  {
   "cell_type": "code",
   "execution_count": 44,
   "id": "026a3a0c",
   "metadata": {},
   "outputs": [
    {
     "data": {
      "text/plain": [
       "ItemsView(AdjacencyView({1: {2: {'weight': 4.7, 'color': 'blue'}}, 3: {4: {'color': 'red', 'weight': 4.2}, 2: {'weight': 8}}, 2: {1: {'weight': 4.7, 'color': 'blue'}, 3: {'weight': 8}}, 4: {3: {'color': 'red', 'weight': 4.2}, 5: {'color': 'red'}}, 5: {4: {'color': 'red'}}}))"
      ]
     },
     "execution_count": 44,
     "metadata": {},
     "output_type": "execute_result"
    }
   ],
   "source": [
    "G.adj.items()"
   ]
  },
  {
   "cell_type": "markdown",
   "id": "c59516d7",
   "metadata": {},
   "source": [
    "## 8. Directed graphs\n",
    "The [`DiGraph`](https://networkx.org/documentation/stable/reference/classes/digraph.html#networkx.DiGraph) class provides additional methods and properties specific to directed edges, e.g., [`DiGraph.out_edges`](https://networkx.org/documentation/stable/reference/classes/generated/networkx.DiGraph.out_edges.html#networkx.DiGraph.out_edges), [`DiGraph.in_degree`](https://networkx.org/documentation/stable/reference/classes/generated/networkx.DiGraph.in_degree.html#networkx.DiGraph.in_degree), [`DiGraph.predecessors()`](https://networkx.org/documentation/stable/reference/classes/generated/networkx.DiGraph.predecessors.html#networkx.DiGraph.predecessors), [`DiGraph.successors()`](https://networkx.org/documentation/stable/reference/classes/generated/networkx.DiGraph.successors.html#networkx.DiGraph.successors) etc. To allow algorithms to work with both classes easily, the directed versions of [`neighbors`](https://networkx.org/documentation/stable/reference/classes/generated/networkx.DiGraph.neighbors.html#networkx.DiGraph.neighbors) is equivalent to [`successors`](https://networkx.org/documentation/stable/reference/classes/generated/networkx.DiGraph.successors.html#networkx.DiGraph.successors) while [`DiGraph.degree`](https://networkx.org/documentation/stable/reference/classes/generated/networkx.DiGraph.degree.html#networkx.DiGraph.degree) reports the sum of [`DiGraph.in_degree`](https://networkx.org/documentation/stable/reference/classes/generated/networkx.DiGraph.in_degree.html#networkx.DiGraph.in_degree) and [`DiGraph.out_degree`](https://networkx.org/documentation/stable/reference/classes/generated/networkx.DiGraph.out_degree.html#networkx.DiGraph.out_degree) even though that may feel inconsistent at times."
   ]
  },
  {
   "cell_type": "code",
   "execution_count": 45,
   "id": "e02c5525",
   "metadata": {},
   "outputs": [
    {
     "data": {
      "text/plain": [
       "0.5"
      ]
     },
     "execution_count": 45,
     "metadata": {},
     "output_type": "execute_result"
    }
   ],
   "source": [
    "DG = nx.DiGraph()\n",
    "DG.add_weighted_edges_from([(1, 2, 0.5), (3, 1, 0.75)])\n",
    "DG.out_degree(1, weight='weight')"
   ]
  },
  {
   "cell_type": "code",
   "execution_count": 46,
   "id": "8016e494",
   "metadata": {},
   "outputs": [
    {
     "data": {
      "text/plain": [
       "1.25"
      ]
     },
     "execution_count": 46,
     "metadata": {},
     "output_type": "execute_result"
    }
   ],
   "source": [
    "DG.degree(1, weight='weight')"
   ]
  },
  {
   "cell_type": "code",
   "execution_count": 47,
   "id": "3c011b71",
   "metadata": {},
   "outputs": [
    {
     "data": {
      "text/plain": [
       "[2]"
      ]
     },
     "execution_count": 47,
     "metadata": {},
     "output_type": "execute_result"
    }
   ],
   "source": [
    "list(DG.successors(1))"
   ]
  },
  {
   "cell_type": "code",
   "execution_count": 48,
   "id": "e451e719",
   "metadata": {},
   "outputs": [
    {
     "data": {
      "text/plain": [
       "[2]"
      ]
     },
     "execution_count": 48,
     "metadata": {},
     "output_type": "execute_result"
    }
   ],
   "source": [
    "list(DG.neighbors(1))"
   ]
  },
  {
   "cell_type": "markdown",
   "id": "9ce8d641",
   "metadata": {},
   "source": [
    "Some algorithms work only for directed graphs and others are not well defined for directed graphs. Indeed the tendency to lump directed and undirected graphs together is dangerous. If you want to treat a directed graph as undirected for some measurement you should probably convert it using [`Graph.to_undirected()`](https://networkx.org/documentation/stable/reference/classes/generated/networkx.Graph.to_undirected.html#networkx.Graph.to_undirected) or with"
   ]
  },
  {
   "cell_type": "code",
   "execution_count": 49,
   "id": "959e2d3d",
   "metadata": {},
   "outputs": [],
   "source": [
    "H = nx.Graph(G)  # create an undirected graph H from a directed graph G"
   ]
  },
  {
   "cell_type": "markdown",
   "id": "d3494b82",
   "metadata": {},
   "source": [
    "## 9. Multigraphs\n",
    "\n"
   ]
  },
  {
   "cell_type": "markdown",
   "id": "89d4081c",
   "metadata": {},
   "source": [
    "NetworkX provides classes for graphs which allow multiple edges between any pair of nodes. The [`MultiGraph`](https://networkx.org/documentation/stable/reference/classes/multigraph.html#networkx.MultiGraph) and [`MultiDiGraph`](https://networkx.org/documentation/stable/reference/classes/multidigraph.html#networkx.MultiDiGraph) classes allow you to add the same edge twice, possibly with different edge data. This can be powerful for some applications, but many algorithms are not well defined on such graphs. Where results are well defined, e.g., [`MultiGraph.degree()`](https://networkx.org/documentation/stable/reference/classes/generated/networkx.MultiGraph.degree.html#networkx.MultiGraph.degree) we provide the function. Otherwise you should convert to a standard graph in a way that makes the measurement well defined."
   ]
  },
  {
   "cell_type": "code",
   "execution_count": 50,
   "id": "5d8bd0a8",
   "metadata": {},
   "outputs": [
    {
     "data": {
      "text/plain": [
       "{1: 1.25, 2: 1.75, 3: 0.5}"
      ]
     },
     "execution_count": 50,
     "metadata": {},
     "output_type": "execute_result"
    }
   ],
   "source": [
    "MG = nx.MultiGraph()\n",
    "MG.add_weighted_edges_from([(1, 2, 0.5), (1, 2, 0.75), (2, 3, 0.5)])\n",
    "dict(MG.degree(weight='weight'))"
   ]
  },
  {
   "cell_type": "code",
   "execution_count": 51,
   "id": "da80addb",
   "metadata": {},
   "outputs": [
    {
     "data": {
      "text/plain": [
       "[1, 2, 3]"
      ]
     },
     "execution_count": 51,
     "metadata": {},
     "output_type": "execute_result"
    }
   ],
   "source": [
    "GG = nx.Graph()\n",
    "for n, nbrs in MG.adjacency():\n",
    "   for nbr, edict in nbrs.items():\n",
    "       minvalue = min([d['weight'] for d in edict.values()])\n",
    "       GG.add_edge(n, nbr, weight = minvalue)\n",
    "\n",
    "nx.shortest_path(GG, 1, 3)"
   ]
  },
  {
   "cell_type": "markdown",
   "id": "ae087e7e",
   "metadata": {},
   "source": [
    "## 10. Graph generators and graph operations\n",
    "For a 5 step walkthroug, go to the tutorial [link](https://networkx.org/documentation/stable/tutorial.html#graph-generators-and-graph-operations)."
   ]
  },
  {
   "cell_type": "markdown",
   "id": "a0dbf7d6",
   "metadata": {},
   "source": [
    "## 11. Analyzing graphs\n",
    "The structure of G can be analyzed using various graph-theoretic functions/algorithms. \n",
    "\n",
    "See the list [here](https://networkx.org/documentation/stable/reference/algorithms/index.html)."
   ]
  },
  {
   "cell_type": "code",
   "execution_count": 52,
   "id": "3e852d30",
   "metadata": {},
   "outputs": [
    {
     "data": {
      "text/plain": [
       "[{1, 2, 3}, {'spam'}]"
      ]
     },
     "execution_count": 52,
     "metadata": {},
     "output_type": "execute_result"
    }
   ],
   "source": [
    "G = nx.Graph()\n",
    "G.add_edges_from([(1, 2), (1, 3)])\n",
    "G.add_node(\"spam\")       # adds node \"spam\"\n",
    "list(nx.connected_components(G))"
   ]
  },
  {
   "cell_type": "code",
   "execution_count": 53,
   "id": "68e504cc",
   "metadata": {},
   "outputs": [
    {
     "data": {
      "text/plain": [
       "[0, 1, 1, 2]"
      ]
     },
     "execution_count": 53,
     "metadata": {},
     "output_type": "execute_result"
    }
   ],
   "source": [
    "sorted(d for n, d in G.degree())"
   ]
  },
  {
   "cell_type": "code",
   "execution_count": 54,
   "id": "e405a446",
   "metadata": {},
   "outputs": [
    {
     "data": {
      "text/plain": [
       "{1: 0, 2: 0, 3: 0, 'spam': 0}"
      ]
     },
     "execution_count": 54,
     "metadata": {},
     "output_type": "execute_result"
    }
   ],
   "source": [
    "nx.clustering(G)"
   ]
  },
  {
   "cell_type": "markdown",
   "id": "a87b3b92",
   "metadata": {},
   "source": [
    "Some functions with large output iterate over (node, value) 2-tuples. These are easily stored in a dict structure if you desire."
   ]
  },
  {
   "cell_type": "code",
   "execution_count": 55,
   "id": "8f18a34e",
   "metadata": {},
   "outputs": [
    {
     "data": {
      "text/plain": [
       "{3: [3], 1: [3, 1], 2: [3, 1, 2]}"
      ]
     },
     "execution_count": 55,
     "metadata": {},
     "output_type": "execute_result"
    }
   ],
   "source": [
    "sp = dict(nx.all_pairs_shortest_path(G))\n",
    "sp[3]"
   ]
  },
  {
   "cell_type": "markdown",
   "id": "40d1fbe6",
   "metadata": {},
   "source": [
    "## 12. Drawing graphs\n",
    "NetworkX is not primarily a graph drawing package but basic drawing with Matplotlib as well as an interface to use the open source Graphviz software package are included. These are part of the [`networkx.drawing module`](https://networkx.org/documentation/stable/reference/drawing.html) and will be imported if possible."
   ]
  },
  {
   "cell_type": "markdown",
   "id": "cdd5850a",
   "metadata": {},
   "source": [
    "First import Matplotlib’s plot interface (pylab works too)"
   ]
  },
  {
   "cell_type": "code",
   "execution_count": 56,
   "id": "b2d2c5b0",
   "metadata": {},
   "outputs": [],
   "source": [
    "import matplotlib.pyplot as plt"
   ]
  },
  {
   "cell_type": "code",
   "execution_count": 57,
   "id": "be0a6ebe",
   "metadata": {},
   "outputs": [
    {
     "data": {
      "image/png": "[encoded data removed]",
      "text/plain": [
       "<Figure size 432x288 with 2 Axes>"
      ]
     },
     "metadata": {},
     "output_type": "display_data"
    }
   ],
   "source": [
    "G = nx.petersen_graph()\n",
    "subax1 = plt.subplot(121)\n",
    "nx.draw(G, with_labels=True, font_weight='bold')\n",
    "subax2 = plt.subplot(122)\n",
    "nx.draw_shell(G, nlist=[range(5, 10), range(5)], with_labels=True, font_weight='bold')"
   ]
  },
  {
   "cell_type": "markdown",
   "id": "f4ea9036",
   "metadata": {},
   "source": [
    "when drawing to an interactive display. Note that you may need to issue a Matplotlib command if you are not using matplotlib in interactive mode:"
   ]
  },
  {
   "cell_type": "code",
   "execution_count": 58,
   "id": "bfc4c9f2",
   "metadata": {},
   "outputs": [],
   "source": [
    "plt.show()"
   ]
  },
  {
   "cell_type": "code",
   "execution_count": 59,
   "id": "d8a70952",
   "metadata": {},
   "outputs": [
    {
     "data": {
      "image/png": "[encoded data removed]",
      "text/plain": [
       "<Figure size 432x288 with 4 Axes>"
      ]
     },
     "metadata": {},
     "output_type": "display_data"
    }
   ],
   "source": [
    "options = {\n",
    "    'node_color': 'black',\n",
    "    'node_size': 100,\n",
    "    'width': 3,\n",
    "}\n",
    "subax1 = plt.subplot(221)\n",
    "nx.draw_random(G, **options)\n",
    "subax2 = plt.subplot(222)\n",
    "nx.draw_circular(G, **options)\n",
    "subax3 = plt.subplot(223)\n",
    "nx.draw_spectral(G, **options)\n",
    "subax4 = plt.subplot(224)\n",
    "nx.draw_shell(G, nlist=[range(5,10), range(5)], **options)"
   ]
  },
  {
   "cell_type": "markdown",
   "id": "f678f23f",
   "metadata": {},
   "source": [
    "You can find additional options via draw_networkx() and layouts via the layout module. You can use multiple shells with draw_shell()."
   ]
  },
  {
   "cell_type": "code",
   "execution_count": 60,
   "id": "b7932e4d",
   "metadata": {},
   "outputs": [
    {
     "data": {
      "image/png": "[encoded data removed]",
      "text/plain": [
       "<Figure size 432x288 with 1 Axes>"
      ]
     },
     "metadata": {},
     "output_type": "display_data"
    }
   ],
   "source": [
    "G = nx.dodecahedral_graph()\n",
    "shells = [[2, 3, 4, 5, 6], [8, 1, 0, 19, 18, 17, 16, 15, 14, 7], [9, 10, 11, 12, 13]]\n",
    "nx.draw_shell(G, nlist=shells, **options)"
   ]
  },
  {
   "cell_type": "markdown",
   "id": "8ceb8106",
   "metadata": {},
   "source": [
    " ## 13. Save graph drawings\n",
    " To save drawings to a file, use, for example:"
   ]
  },
  {
   "cell_type": "code",
   "execution_count": 61,
   "id": "c6ac319e",
   "metadata": {},
   "outputs": [
    {
     "data": {
      "image/png": "[encoded data removed]",
      "text/plain": [
       "<Figure size 432x288 with 1 Axes>"
      ]
     },
     "metadata": {},
     "output_type": "display_data"
    }
   ],
   "source": [
    "nx.draw(G)\n",
    "plt.savefig(\"path.png\")"
   ]
  },
  {
   "cell_type": "markdown",
   "id": "45e1b29a",
   "metadata": {},
   "source": [
    "The function `plt.savefig()` writes to the file _path.png_ in the local directory. If [Graphviz](https://graphviz.org/) and [PyGraphviz](https://pygraphviz.github.io/) or [pydot](https://pypi.org/project/pydot/), are available on your system, you can also use networkx.drawing.nx_agraph.graphviz_layout or networkx.drawing.nx_pydot.graphviz_layout to get the node positions, or write the graph in dot format for further processing."
   ]
  },
  {
   "cell_type": "code",
   "execution_count": 62,
   "id": "55c85f7b",
   "metadata": {},
   "outputs": [
    {
     "ename": "ImportError",
     "evalue": "requires pygraphviz http://pygraphviz.github.io/",
     "output_type": "error",
     "traceback": [
      "\u001b[1;31m---------------------------------------------------------------------------\u001b[0m",
      "\u001b[1;31mModuleNotFoundError\u001b[0m                       Traceback (most recent call last)",
      "File \u001b[1;32mC:\\tools\\Manim\\Lib\\site-packages\\networkx\\drawing\\nx_agraph.py:295\u001b[0m, in \u001b[0;36mpygraphviz_layout\u001b[1;34m(G, prog, root, args)\u001b[0m\n\u001b[0;32m    294\u001b[0m \u001b[38;5;28;01mtry\u001b[39;00m:\n\u001b[1;32m--> 295\u001b[0m     \u001b[38;5;28;01mimport\u001b[39;00m \u001b[38;5;21;01mpygraphviz\u001b[39;00m\n\u001b[0;32m    296\u001b[0m \u001b[38;5;28;01mexcept\u001b[39;00m \u001b[38;5;167;01mImportError\u001b[39;00m \u001b[38;5;28;01mas\u001b[39;00m err:\n",
      "\u001b[1;31mModuleNotFoundError\u001b[0m: No module named 'pygraphviz'",
      "\nThe above exception was the direct cause of the following exception:\n",
      "\u001b[1;31mImportError\u001b[0m                               Traceback (most recent call last)",
      "Input \u001b[1;32mIn [62]\u001b[0m, in \u001b[0;36m<cell line: 2>\u001b[1;34m()\u001b[0m\n\u001b[0;32m      1\u001b[0m \u001b[38;5;28;01mfrom\u001b[39;00m \u001b[38;5;21;01mnetworkx\u001b[39;00m\u001b[38;5;21;01m.\u001b[39;00m\u001b[38;5;21;01mdrawing\u001b[39;00m\u001b[38;5;21;01m.\u001b[39;00m\u001b[38;5;21;01mnx_pydot\u001b[39;00m \u001b[38;5;28;01mimport\u001b[39;00m write_dot\n\u001b[1;32m----> 2\u001b[0m pos \u001b[38;5;241m=\u001b[39m \u001b[43mnx\u001b[49m\u001b[38;5;241;43m.\u001b[39;49m\u001b[43mnx_agraph\u001b[49m\u001b[38;5;241;43m.\u001b[39;49m\u001b[43mgraphviz_layout\u001b[49m\u001b[43m(\u001b[49m\u001b[43mG\u001b[49m\u001b[43m)\u001b[49m\n\u001b[0;32m      3\u001b[0m nx\u001b[38;5;241m.\u001b[39mdraw(G, pos\u001b[38;5;241m=\u001b[39mpos)\n\u001b[0;32m      4\u001b[0m write_dot(G, \u001b[38;5;124m'\u001b[39m\u001b[38;5;124mfile.dot\u001b[39m\u001b[38;5;124m'\u001b[39m)\n",
      "File \u001b[1;32mC:\\tools\\Manim\\Lib\\site-packages\\networkx\\drawing\\nx_agraph.py:251\u001b[0m, in \u001b[0;36mgraphviz_layout\u001b[1;34m(G, prog, root, args)\u001b[0m\n\u001b[0;32m    220\u001b[0m \u001b[38;5;28;01mdef\u001b[39;00m \u001b[38;5;21mgraphviz_layout\u001b[39m(G, prog\u001b[38;5;241m=\u001b[39m\u001b[38;5;124m\"\u001b[39m\u001b[38;5;124mneato\u001b[39m\u001b[38;5;124m\"\u001b[39m, root\u001b[38;5;241m=\u001b[39m\u001b[38;5;28;01mNone\u001b[39;00m, args\u001b[38;5;241m=\u001b[39m\u001b[38;5;124m\"\u001b[39m\u001b[38;5;124m\"\u001b[39m):\n\u001b[0;32m    221\u001b[0m \u001b[38;5;250m    \u001b[39m\u001b[38;5;124;03m\"\"\"Create node positions for G using Graphviz.\u001b[39;00m\n\u001b[0;32m    222\u001b[0m \n\u001b[0;32m    223\u001b[0m \u001b[38;5;124;03m    Parameters\u001b[39;00m\n\u001b[1;32m   (...)\u001b[0m\n\u001b[0;32m    249\u001b[0m \u001b[38;5;124;03m    see https://gitlab.com/graphviz/graphviz/-/issues/1767 for more info.\u001b[39;00m\n\u001b[0;32m    250\u001b[0m \u001b[38;5;124;03m    \"\"\"\u001b[39;00m\n\u001b[1;32m--> 251\u001b[0m     \u001b[38;5;28;01mreturn\u001b[39;00m \u001b[43mpygraphviz_layout\u001b[49m\u001b[43m(\u001b[49m\u001b[43mG\u001b[49m\u001b[43m,\u001b[49m\u001b[43m \u001b[49m\u001b[43mprog\u001b[49m\u001b[38;5;241;43m=\u001b[39;49m\u001b[43mprog\u001b[49m\u001b[43m,\u001b[49m\u001b[43m \u001b[49m\u001b[43mroot\u001b[49m\u001b[38;5;241;43m=\u001b[39;49m\u001b[43mroot\u001b[49m\u001b[43m,\u001b[49m\u001b[43m \u001b[49m\u001b[43margs\u001b[49m\u001b[38;5;241;43m=\u001b[39;49m\u001b[43margs\u001b[49m\u001b[43m)\u001b[49m\n",
      "File \u001b[1;32mC:\\tools\\Manim\\Lib\\site-packages\\networkx\\drawing\\nx_agraph.py:297\u001b[0m, in \u001b[0;36mpygraphviz_layout\u001b[1;34m(G, prog, root, args)\u001b[0m\n\u001b[0;32m    295\u001b[0m     \u001b[38;5;28;01mimport\u001b[39;00m \u001b[38;5;21;01mpygraphviz\u001b[39;00m\n\u001b[0;32m    296\u001b[0m \u001b[38;5;28;01mexcept\u001b[39;00m \u001b[38;5;167;01mImportError\u001b[39;00m \u001b[38;5;28;01mas\u001b[39;00m err:\n\u001b[1;32m--> 297\u001b[0m     \u001b[38;5;28;01mraise\u001b[39;00m \u001b[38;5;167;01mImportError\u001b[39;00m(\n\u001b[0;32m    298\u001b[0m         \u001b[38;5;124m\"\u001b[39m\u001b[38;5;124mrequires pygraphviz \u001b[39m\u001b[38;5;124m\"\u001b[39m \u001b[38;5;124m\"\u001b[39m\u001b[38;5;124mhttp://pygraphviz.github.io/\u001b[39m\u001b[38;5;124m\"\u001b[39m\n\u001b[0;32m    299\u001b[0m     ) \u001b[38;5;28;01mfrom\u001b[39;00m \u001b[38;5;21;01merr\u001b[39;00m\n\u001b[0;32m    300\u001b[0m \u001b[38;5;28;01mif\u001b[39;00m root \u001b[38;5;129;01mis\u001b[39;00m \u001b[38;5;129;01mnot\u001b[39;00m \u001b[38;5;28;01mNone\u001b[39;00m:\n\u001b[0;32m    301\u001b[0m     args \u001b[38;5;241m+\u001b[39m\u001b[38;5;241m=\u001b[39m \u001b[38;5;124mf\u001b[39m\u001b[38;5;124m\"\u001b[39m\u001b[38;5;124m-Groot=\u001b[39m\u001b[38;5;132;01m{\u001b[39;00mroot\u001b[38;5;132;01m}\u001b[39;00m\u001b[38;5;124m\"\u001b[39m\n",
      "\u001b[1;31mImportError\u001b[0m: requires pygraphviz http://pygraphviz.github.io/"
     ]
    }
   ],
   "source": [
    "from networkx.drawing.nx_pydot import write_dot\n",
    "pos = nx.nx_agraph.graphviz_layout(G)\n",
    "nx.draw(G, pos=pos)\n",
    "write_dot(G, 'file.dot')"
   ]
  }
 ],
 "metadata": {
  "kernelspec": {
   "display_name": "Python 3 (ipykernel)",
   "language": "python",
   "name": "python3"
  },
  "language_info": {
   "codemirror_mode": {
    "name": "ipython",
    "version": 3
   },
   "file_extension": ".py",
   "mimetype": "text/x-python",
   "name": "python",
   "nbconvert_exporter": "python",
   "pygments_lexer": "ipython3",
   "version": "3.11.5"
  }
 },
 "nbformat": 4,
 "nbformat_minor": 5
}

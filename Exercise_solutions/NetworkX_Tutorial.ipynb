{
 "cells": [
  {
   "cell_type": "markdown",
   "id": "d7e014be",
   "metadata": {},
   "source": [
    "# NetworkX Tutorial Notebook"
   ]
  },
  {
   "cell_type": "markdown",
   "id": "1ffb6d0f",
   "metadata": {},
   "source": [
    "This tutorial is based on the [guided introduction](https://networkx.org/documentation/stable/tutorial.html) to the [**NetworkX** python library](https://networkx.org/documentation/stable/index.html)."
   ]
  },
  {
   "cell_type": "code",
   "execution_count": null,
   "id": "54c1f657",
   "metadata": {},
   "outputs": [],
   "source": []
  }
 ],
 "metadata": {
  "kernelspec": {
   "display_name": "Python 3 (ipykernel)",
   "language": "python",
   "name": "python3"
  },
  "language_info": {
   "codemirror_mode": {
    "name": "ipython",
    "version": 3
   },
   "file_extension": ".py",
   "mimetype": "text/x-python",
   "name": "python",
   "nbconvert_exporter": "python",
   "pygments_lexer": "ipython3",
   "version": "3.11.5"
  }
 },
 "nbformat": 4,
 "nbformat_minor": 5
}

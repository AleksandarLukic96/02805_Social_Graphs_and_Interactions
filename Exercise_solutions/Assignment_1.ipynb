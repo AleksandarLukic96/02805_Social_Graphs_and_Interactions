{
 "cells": [
  {
   "cell_type": "markdown",
   "id": "33950a98",
   "metadata": {},
   "source": [
    "# Assignment 1"
   ]
  },
  {
   "cell_type": "markdown",
   "id": "76c383ac",
   "metadata": {},
   "source": [
    "#### Group 30:\n",
    "\n",
    "Aleksandar Lukic, s19\n",
    "\n",
    "Clara Mejlhede Lorenzen, s180350\n",
    "\n",
    "Julia Katarzyna Zalewska, s24"
   ]
  },
  {
   "cell_type": "markdown",
   "id": "b52bc082",
   "metadata": {},
   "source": [
    "## Part 1: Exploring the friendship paradox."
   ]
  },
  {
   "cell_type": "code",
   "execution_count": null,
   "id": "e60f037a",
   "metadata": {},
   "outputs": [],
   "source": []
  },
  {
   "cell_type": "markdown",
   "id": "29bde2fd",
   "metadata": {},
   "source": [
    "## Part 2: Stats of the Country Music Network"
   ]
  },
  {
   "cell_type": "code",
   "execution_count": null,
   "id": "70fd41e9",
   "metadata": {},
   "outputs": [],
   "source": []
  }
 ],
 "metadata": {
  "kernelspec": {
   "display_name": "Python 3 (ipykernel)",
   "language": "python",
   "name": "python3"
  },
  "language_info": {
   "codemirror_mode": {
    "name": "ipython",
    "version": 3
   },
   "file_extension": ".py",
   "mimetype": "text/x-python",
   "name": "python",
   "nbconvert_exporter": "python",
   "pygments_lexer": "ipython3",
   "version": "3.11.5"
  }
 },
 "nbformat": 4,
 "nbformat_minor": 5
}

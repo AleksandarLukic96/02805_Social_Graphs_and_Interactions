{
 "cells": [
  {
   "cell_type": "markdown",
   "id": "44784232",
   "metadata": {},
   "source": [
    "# Week 2"
   ]
  },
  {
   "cell_type": "markdown",
   "id": "3321a53c",
   "metadata": {},
   "source": [
    "### Part 1: Basic mathematical description of networks"
   ]
  },
  {
   "cell_type": "markdown",
   "id": "523bc074",
   "metadata": {},
   "source": [
    "Exercises: Chapter 2 in Network Science.\n",
    "\n",
    "    Section 2.5 states that real networks are sparse. Can you think of a real network where each node has many connections? Is that network still sparse? If yes, can you explain why?\n"
   ]
  },
  {
   "cell_type": "markdown",
   "id": "2087a0b1",
   "metadata": {},
   "source": [
    "#### Answer\n",
    "\n",
    "Real networks are sparse since the number of potential links will be larger than the number of the connected links. Example with social media one person can follow another but that doesn't mean that the other person will follow back.\n",
    "\n",
    "In twitter Eg. a invidual can have a lot of connections but since twitter is so large the potential amount of connections won't be insufficent to be a sparse network"
   ]
  },
  {
   "cell_type": "markdown",
   "id": "0505d126",
   "metadata": {},
   "source": [
    "### Part 2: Exercises using the NetworkX library"
   ]
  },
  {
   "cell_type": "markdown",
   "id": "af2e9dd5",
   "metadata": {},
   "source": [
    "Exercises:\n",
    "\n",
    "    Write the solution exercise 2.1 (the 'Königsberg Problem') from NS in your notebook.\n",
    "\n",
    "    Solve exercise 2.3 ('Graph representation') from NS using NetworkX in your notebook. (You don't have to solve the last sub-question about cycles of length 4 ... but I'll be impressed if you do it. One more thing on that last sub-exercise: It's easier to solve if you don't use NetworkX, but simple pen and paper).\n",
    "\n",
    "    Solve exercise 2.5 ('Bipartite Networks') from NS using NetworkX in your notebook. Important note: There is a a mistake in the book. When it says \"Block diagonal\", they mean \"Anti-diagonal\" (all elements are away from the diagonal blocks)."
   ]
  },
  {
   "cell_type": "code",
   "execution_count": null,
   "id": "5a8c77af",
   "metadata": {},
   "outputs": [],
   "source": []
  },
  {
   "cell_type": "markdown",
   "id": "dd3f5525",
   "metadata": {},
   "source": [
    "### Part 3: Plotting degree distributions"
   ]
  },
  {
   "cell_type": "code",
   "execution_count": null,
   "id": "496bef01",
   "metadata": {},
   "outputs": [],
   "source": []
  },
  {
   "cell_type": "markdown",
   "id": "d1337da7",
   "metadata": {},
   "source": [
    "### Part 4: Random networks"
   ]
  },
  {
   "cell_type": "code",
   "execution_count": null,
   "id": "610c7ef3",
   "metadata": {},
   "outputs": [],
   "source": []
  }
 ],
 "metadata": {
  "kernelspec": {
   "display_name": "Python 3 (ipykernel)",
   "language": "python",
   "name": "python3"
  },
  "language_info": {
   "codemirror_mode": {
    "name": "ipython",
    "version": 3
   },
   "file_extension": ".py",
   "mimetype": "text/x-python",
   "name": "python",
   "nbconvert_exporter": "python",
   "pygments_lexer": "ipython3",
   "version": "3.11.5"
  }
 },
 "nbformat": 4,
 "nbformat_minor": 5
}

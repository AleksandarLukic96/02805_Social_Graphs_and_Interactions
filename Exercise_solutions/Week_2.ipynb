{
 "cells": [
  {
   "cell_type": "markdown",
   "id": "44784232",
   "metadata": {},
   "source": [
    "# Week 2"
   ]
  },
  {
   "cell_type": "markdown",
   "id": "5ac76e0a",
   "metadata": {},
   "source": [
    "### Part 1: Basic mathematical description of networks"
   ]
  },
  {
   "cell_type": "markdown",
   "id": "51b739fe",
   "metadata": {},
   "source": [
    "Exercises: Chapter 2 in Network Science.\n",
    "\n",
    "    Section 2.5 states that real networks are sparse. Can you think of a real network where each node has many connections? Is that network still sparse? If yes, can you explain why?\n"
   ]
  },
  {
   "cell_type": "markdown",
   "id": "d320c66d",
   "metadata": {},
   "source": [
    "#### Answer\n",
    "\n",
    "Real networks are sparse since the number of potential links will be larger than the number of the connected links. Example with social media one person can follow another but that doesn't mean that the other person will follow back.\n",
    "\n",
    "In twitter Eg. a invidual can have a lot of connections but since twitter is so large the potential amount of connections won't be insufficent and will therefore still be a sparse network."
   ]
  },
  {
   "cell_type": "markdown",
   "id": "a9903f77",
   "metadata": {},
   "source": [
    "### Part 2: Exercises using the NetworkX library"
   ]
  },
  {
   "attachments": {},
   "cell_type": "markdown",
   "id": "11890078",
   "metadata": {},
   "source": [
    "Exercise:\n",
    "\n",
    "    Write the solution exercise 2.1 (the 'Königsberg Problem') from NS in your notebook.\n",
    "    \n",
    "    Which of the icons in the Image in 2.12 in the book can be drawn without raising your pencil from the paper, and without drawing any line more than once? Why? "
   ]
  },
  {
   "cell_type": "markdown",
   "id": "d2a74326",
   "metadata": {},
   "source": [
    "##### Answer\n",
    "\n",
    "    All of them except B can be drawn without lifting the pen. If the number of nodes are even then it is possible."
   ]
  },
  {
   "cell_type": "markdown",
   "id": "8463082d",
   "metadata": {},
   "source": [
    "Exercise:\n",
    "\n",
    "    Solve exercise 2.3 ('Graph representation') from NS using NetworkX in your notebook. (You don't have to solve the last sub-question about cycles of length 4 ... but I'll be impressed if you do it. One more thing on that last sub-exercise: It's easier to solve if you don't use NetworkX, but simple pen and paper)."
   ]
  },
  {
   "cell_type": "markdown",
   "id": "26752a2c",
   "metadata": {},
   "source": [
    "##### Answer"
   ]
  },
  {
   "cell_type": "code",
   "execution_count": 19,
   "id": "71d59ea6",
   "metadata": {},
   "outputs": [
    {
     "name": "stdout",
     "output_type": "stream",
     "text": [
      "Graph with 6 nodes and 7 edges\n"
     ]
    },
    {
     "data": {
      "image/png": "[encoded data removed]",
      "text/plain": [
       "<Figure size 640x480 with 1 Axes>"
      ]
     },
     "metadata": {},
     "output_type": "display_data"
    }
   ],
   "source": [
    "import networkx as nx\n",
    "G = nx.Graph()\n",
    "G.add_edges_from([(1, 4), (1, 3), (1, 6), (1, 2), (3, 2), (6, 3), (4, 2)])\n",
    "G.add_node(5)\n",
    "list(nx.connected_components(G))\n",
    "\n",
    "print(G)\n",
    "\n",
    "nx.draw(G, with_labels=True, font_weight='bold')"
   ]
  },
  {
   "cell_type": "markdown",
   "id": "d6e8c416",
   "metadata": {},
   "source": [
    "Exercise:\n",
    "\n",
    "    Solve exercise 2.5 ('Bipartite Networks') from NS using NetworkX in your notebook. Important note: There is a a mistake in the book. When it says \"Block diagonal\", they mean \"Anti-diagonal\" (all elements are away from the diagonal blocks)."
   ]
  },
  {
   "cell_type": "markdown",
   "id": "14770e93",
   "metadata": {},
   "source": [
    "##### Answer\n",
    "        "
   ]
  },
  {
   "cell_type": "markdown",
   "id": "915022b7",
   "metadata": {},
   "source": [
    "### Part 3: Plotting degree distributions"
   ]
  },
  {
   "cell_type": "code",
   "execution_count": null,
   "id": "b60e1d98",
   "metadata": {},
   "outputs": [],
   "source": []
  },
  {
   "cell_type": "markdown",
   "id": "bfc30ade",
   "metadata": {},
   "source": [
    "### Part 4: Random networks"
   ]
  },
  {
   "cell_type": "code",
   "execution_count": null,
   "id": "db8da0c8",
   "metadata": {},
   "outputs": [],
   "source": []
  }
 ],
 "metadata": {
  "kernelspec": {
   "display_name": "Python 3 (ipykernel)",
   "language": "python",
   "name": "python3"
  },
  "language_info": {
   "codemirror_mode": {
    "name": "ipython",
    "version": 3
   },
   "file_extension": ".py",
   "mimetype": "text/x-python",
   "name": "python",
   "nbconvert_exporter": "python",
   "pygments_lexer": "ipython3",
   "version": "3.11.5"
  }
 },
 "nbformat": 4,
 "nbformat_minor": 5
}

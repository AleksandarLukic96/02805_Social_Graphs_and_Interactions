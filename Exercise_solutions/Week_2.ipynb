{
 "cells": [
  {
   "cell_type": "markdown",
   "id": "44784232",
   "metadata": {},
   "source": [
    "# Week 2"
   ]
  },
  {
   "cell_type": "markdown",
   "id": "f8906efb",
   "metadata": {},
   "source": [
    "### Part 1: Basic mathematical description of networks"
   ]
  },
  {
   "cell_type": "markdown",
   "id": "52a27993",
   "metadata": {},
   "source": [
    "Exercises: Chapter 2 in Network Science.\n",
    "\n",
    "    Section 2.5 states that real networks are sparse. Can you think of a real network where each node has many connections? Is that network still sparse? If yes, can you explain why?\n"
   ]
  },
  {
   "cell_type": "markdown",
   "id": "da400eac",
   "metadata": {},
   "source": [
    "#### Answer\n",
    "\n",
    "Real networks are sparse since the number of potential links will be larger than the number of the connected links. Example with social media one person can follow another but that doesn't mean that the other person will follow back.\n",
    "\n",
    "In twitter Eg. a invidual can have a lot of connections but since twitter is so large the potential amount of connections won't be insufficent and will therefore still be a sparse network."
   ]
  },
  {
   "cell_type": "markdown",
   "id": "9e5e6543",
   "metadata": {},
   "source": [
    "### Part 2: Exercises using the NetworkX library"
   ]
  },
  {
   "attachments": {},
   "cell_type": "markdown",
   "id": "7c2fde94",
   "metadata": {},
   "source": [
    "Exercise:\n",
    "\n",
    "    Write the solution exercise 2.1 (the 'Königsberg Problem') from NS in your notebook.\n",
    "    \n",
    "    Which of the icons in the Image below can be drawn without raising your pencil from the paper, and without drawing any line more than once? Why? \n",
    "    \n",
    "    \n",
    "![billede.png](attachment:billede.png)"
   ]
  },
  {
   "cell_type": "markdown",
   "id": "daeaa0aa",
   "metadata": {},
   "source": [
    "#### Answer\n",
    "\n",
    "All of them except B can be drawn without lifting the pen. "
   ]
  },
  {
   "cell_type": "markdown",
   "id": "eeea0783",
   "metadata": {},
   "source": [
    "Exercise:\n",
    "\n",
    "    Solve exercise 2.3 ('Graph representation') from NS using NetworkX in your notebook. (You don't have to solve the last sub-question about cycles of length 4 ... but I'll be impressed if you do it. One more thing on that last sub-exercise: It's easier to solve if you don't use NetworkX, but simple pen and paper)."
   ]
  },
  {
   "cell_type": "markdown",
   "id": "61d7b707",
   "metadata": {},
   "source": [
    "Exercise:\n",
    "\n",
    "    Solve exercise 2.5 ('Bipartite Networks') from NS using NetworkX in your notebook. Important note: There is a a mistake in the book. When it says \"Block diagonal\", they mean \"Anti-diagonal\" (all elements are away from the diagonal blocks)."
   ]
  },
  {
   "cell_type": "markdown",
   "id": "b7525284",
   "metadata": {},
   "source": [
    "### Part 3: Plotting degree distributions"
   ]
  },
  {
   "cell_type": "code",
   "execution_count": null,
   "id": "e81fd64d",
   "metadata": {},
   "outputs": [],
   "source": []
  },
  {
   "cell_type": "markdown",
   "id": "084b558a",
   "metadata": {},
   "source": [
    "### Part 4: Random networks"
   ]
  },
  {
   "cell_type": "code",
   "execution_count": null,
   "id": "fa3f16a6",
   "metadata": {},
   "outputs": [],
   "source": []
  }
 ],
 "metadata": {
  "kernelspec": {
   "display_name": "Python 3 (ipykernel)",
   "language": "python",
   "name": "python3"
  },
  "language_info": {
   "codemirror_mode": {
    "name": "ipython",
    "version": 3
   },
   "file_extension": ".py",
   "mimetype": "text/x-python",
   "name": "python",
   "nbconvert_exporter": "python",
   "pygments_lexer": "ipython3",
   "version": "3.11.5"
  }
 },
 "nbformat": 4,
 "nbformat_minor": 5
}

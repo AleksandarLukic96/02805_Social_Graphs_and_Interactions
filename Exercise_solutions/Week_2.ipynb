{
 "cells": [
  {
   "cell_type": "markdown",
   "id": "44784232",
   "metadata": {},
   "source": [
    "# Week 2"
   ]
  },
  {
   "cell_type": "markdown",
   "id": "dd44262d",
   "metadata": {},
   "source": [
    "## Python setup"
   ]
  },
  {
   "cell_type": "code",
   "execution_count": 1,
   "id": "30fb9412",
   "metadata": {},
   "outputs": [],
   "source": [
    "import networkx as nx\n",
    "import matplotlib.pyplot as plt\n",
    "import numpy as np"
   ]
  },
  {
   "cell_type": "markdown",
   "id": "5ac76e0a",
   "metadata": {},
   "source": [
    "## Exercises Part 1: Basic mathematical description of networks"
   ]
  },
  {
   "cell_type": "markdown",
   "id": "51b739fe",
   "metadata": {},
   "source": [
    "Exercises: Chapter 2 in Network Science.\n",
    "\n",
    "    Section 2.5 states that real networks are sparse. Can you think of a real network where each node has many connections? Is that network still sparse? If yes, can you explain why?\n"
   ]
  },
  {
   "cell_type": "markdown",
   "id": "d320c66d",
   "metadata": {},
   "source": [
    "#### Answer\n",
    "\n",
    "Real networks are sparse since the number of potential links, L<sub>max</sub>, will be larger than the number of the connected links, L. A network is thus sparse, if L << L<sub>max</sub>. _Read << as much less_\n",
    "\n",
    "An example of a real network is a social media like Facebook or Twitter, where a node is a person and the links are friend connections or follows. Each person can have many friends or follow a lot of other profiles, but in reality, this number is dwarfed by the number of every possible connection, i.e. L is much smaller than L<sub>max</sub>.\n",
    "\n",
    "The network is sparse due to the size of the network and thereby the number of possible links being much larger than the actual number of links. This would be evident, if we had to chose between representing the network with a adjacency matrix or an edge list. The edge list would be much more memory efficient, hence the sparsety of the network. "
   ]
  },
  {
   "cell_type": "markdown",
   "id": "a9903f77",
   "metadata": {},
   "source": [
    "## Exercises Part 2: Exercises using the NetworkX library"
   ]
  },
  {
   "cell_type": "markdown",
   "id": "3b52257e",
   "metadata": {},
   "source": [
    "### 2.1 Write the solution exercise 2.1 (the 'Königsberg Problem') from NS in your notebook."
   ]
  },
  {
   "cell_type": "markdown",
   "id": "7df73538",
   "metadata": {},
   "source": [
    "![ns_2_12_1](../images/ns_2_12_1_koningsberg_problem.png)"
   ]
  },
  {
   "cell_type": "markdown",
   "id": "11890078",
   "metadata": {},
   "source": [
    "Which of the icons in the Image in 2.19 in the book can be drawn without raising your pencil from the paper, and without drawing any line more than once? Why? "
   ]
  },
  {
   "cell_type": "markdown",
   "id": "d2a74326",
   "metadata": {},
   "source": [
    "##### Answer:\n",
    "As defined by Euler, such as path cannot exist on a graph that has more than two nodes with an odd number of links.\n",
    "\n",
    "All of them except B can be drawn without lifting the pen. Since B has 4 nodes with each 3 links, Euler's condition is not met, and thus we are not able to draw it without lifting the pen."
   ]
  },
  {
   "cell_type": "markdown",
   "id": "8463082d",
   "metadata": {},
   "source": [
    "### 2.2 Solve exercise 2.3 ('Graph representation') from NS using NetworkX in your notebook. \n",
    "(You don't have to solve the last sub-question about cycles of length 4 ... but I'll be impressed if you do it. One more thing on that last sub-exercise: It's easier to solve if you don't use NetworkX, but simple pen and paper)."
   ]
  },
  {
   "cell_type": "markdown",
   "id": "26752a2c",
   "metadata": {},
   "source": [
    "##### 2.2.1 Undirected graph (a)"
   ]
  },
  {
   "cell_type": "code",
   "execution_count": 2,
   "id": "697f6381",
   "metadata": {},
   "outputs": [],
   "source": [
    "# Create graph and add edges\n",
    "G_a = nx.Graph()\n",
    "G_a.add_edges_from([(1, 4), (1, 3), (1, 6), (1, 2), (3, 2), (6, 3), (4, 2)])\n",
    "G_a.add_node(5)"
   ]
  },
  {
   "cell_type": "code",
   "execution_count": 3,
   "id": "86e22835",
   "metadata": {},
   "outputs": [
    {
     "data": {
      "text/plain": [
       "[{1, 2, 3, 4, 6}, {5}]"
      ]
     },
     "execution_count": 3,
     "metadata": {},
     "output_type": "execute_result"
    }
   ],
   "source": [
    "# Give list of connected components within the graph\n",
    "list(nx.connected_components(G_a))"
   ]
  },
  {
   "cell_type": "code",
   "execution_count": 4,
   "id": "b9b50502",
   "metadata": {},
   "outputs": [
    {
     "name": "stdout",
     "output_type": "stream",
     "text": [
      "Graph with 6 nodes and 7 edges\n"
     ]
    }
   ],
   "source": [
    "# Print the size of the graph and number of edges\n",
    "print(G_a)"
   ]
  },
  {
   "cell_type": "code",
   "execution_count": 5,
   "id": "e0b8cda8",
   "metadata": {},
   "outputs": [
    {
     "data": {
      "text/plain": [
       "[(1, 4), (1, 3), (1, 6), (1, 2), (4, 2), (3, 2), (3, 6)]"
      ]
     },
     "execution_count": 5,
     "metadata": {},
     "output_type": "execute_result"
    }
   ],
   "source": [
    "# Print list of edges\n",
    "list(G_a.edges)"
   ]
  },
  {
   "cell_type": "code",
   "execution_count": 6,
   "id": "23e7d159",
   "metadata": {},
   "outputs": [
    {
     "data": {
      "image/png": "[encoded data removed]",
      "text/plain": [
       "<Figure size 640x480 with 1 Axes>"
      ]
     },
     "metadata": {},
     "output_type": "display_data"
    }
   ],
   "source": [
    "# Draw the graph\n",
    "nx.draw(G_a, with_labels=True, font_weight='bold')"
   ]
  },
  {
   "cell_type": "markdown",
   "id": "86facd7b",
   "metadata": {},
   "source": [
    "##### 2.2.2 Directed graph (b)"
   ]
  },
  {
   "cell_type": "code",
   "execution_count": 7,
   "id": "87b0bf2b",
   "metadata": {},
   "outputs": [],
   "source": [
    "# Create graph and add edges\n",
    "G_b = nx.DiGraph()\n",
    "G_b.add_edges_from([\n",
    "    (1,2), \n",
    "    (2,3), (2,4),\n",
    "    (3,1), (3,2),\n",
    "    (4,1),\n",
    "    (6,1), (6,3)\n",
    "])\n",
    "G_b.add_node(5)"
   ]
  },
  {
   "cell_type": "code",
   "execution_count": 8,
   "id": "90343295",
   "metadata": {},
   "outputs": [
    {
     "data": {
      "text/plain": [
       "[(1, 2), (2, 3), (2, 4), (3, 1), (3, 2), (4, 1), (6, 1), (6, 3)]"
      ]
     },
     "execution_count": 8,
     "metadata": {},
     "output_type": "execute_result"
    }
   ],
   "source": [
    "# Print list of edges\n",
    "list(G_b.edges)"
   ]
  },
  {
   "cell_type": "code",
   "execution_count": 9,
   "id": "45685dfc",
   "metadata": {},
   "outputs": [
    {
     "data": {
      "image/png": "[encoded data removed]",
      "text/plain": [
       "<Figure size 640x480 with 1 Axes>"
      ]
     },
     "metadata": {},
     "output_type": "display_data"
    }
   ],
   "source": [
    "nx.draw(G_b, with_labels=True, font_weight='bold', arrows=True)"
   ]
  },
  {
   "cell_type": "markdown",
   "id": "e1360cb7",
   "metadata": {},
   "source": [
    "##### 2.2.3 The corresponding adjacency matrices."
   ]
  },
  {
   "cell_type": "code",
   "execution_count": 10,
   "id": "63c84dfa",
   "metadata": {},
   "outputs": [
    {
     "name": "stdout",
     "output_type": "stream",
     "text": [
      "Adjacency list for (a):\n",
      "  (0, 1)\t1\n",
      "  (0, 2)\t1\n",
      "  (0, 3)\t1\n",
      "  (0, 4)\t1\n",
      "  (1, 0)\t1\n",
      "  (1, 4)\t1\n",
      "  (2, 0)\t1\n",
      "  (2, 3)\t1\n",
      "  (2, 4)\t1\n",
      "  (3, 0)\t1\n",
      "  (3, 2)\t1\n",
      "  (4, 0)\t1\n",
      "  (4, 1)\t1\n",
      "  (4, 2)\t1\n",
      "Adjacency Matrix for (a):\n",
      "[[0 1 1 1 1 0]\n",
      " [1 0 0 0 1 0]\n",
      " [1 0 0 1 1 0]\n",
      " [1 0 1 0 0 0]\n",
      " [1 1 1 0 0 0]\n",
      " [0 0 0 0 0 0]]\n"
     ]
    }
   ],
   "source": [
    "# Adjacency matrix for (a)\n",
    "A_a = nx.adjacency_matrix(G_a)\n",
    "print(f\"Adjacency list for (a):\\n{A_a}\")\n",
    "print(f\"Adjacency Matrix for (a):\\n{A_a.todense()}\")"
   ]
  },
  {
   "cell_type": "code",
   "execution_count": 11,
   "id": "666e3b34",
   "metadata": {},
   "outputs": [
    {
     "name": "stdout",
     "output_type": "stream",
     "text": [
      "Adjacency list for (b):\n",
      "  (0, 1)\t1\n",
      "  (1, 2)\t1\n",
      "  (1, 3)\t1\n",
      "  (2, 0)\t1\n",
      "  (2, 1)\t1\n",
      "  (3, 0)\t1\n",
      "  (4, 0)\t1\n",
      "  (4, 2)\t1\n",
      "Adjacency Matrix for (b):\n",
      "[[0 1 0 0 0 0]\n",
      " [0 0 1 1 0 0]\n",
      " [1 1 0 0 0 0]\n",
      " [1 0 0 0 0 0]\n",
      " [1 0 1 0 0 0]\n",
      " [0 0 0 0 0 0]]\n"
     ]
    }
   ],
   "source": [
    "# Adjacency matrix for (b)\n",
    "A_b = nx.adjacency_matrix(G_b)\n",
    "print(f\"Adjacency list for (b):\\n{A_b}\")\n",
    "print(f\"Adjacency Matrix for (b):\\n{A_b.todense()}\")"
   ]
  },
  {
   "cell_type": "markdown",
   "id": "2db18696",
   "metadata": {},
   "source": [
    "#### 2.2.4 The corresponding link lists"
   ]
  },
  {
   "cell_type": "markdown",
   "id": "db9a3322",
   "metadata": {},
   "source": [
    "##### a) Built-in functions\n",
    "There was a bit of confusion regarding the definition of 'Link list'. According to this [source](https://dshizuka.github.io/networkanalysis/02_dataformats.html#edge-list), an 'Edge list' is a vector with 2 columns, one for each node in a link. In networkX, we can create an edge list file, which can then be used to create graphs. However, the function does not account for nodes with no edges! Thus, node 6 is discarded which might not be "
   ]
  },
  {
   "cell_type": "code",
   "execution_count": 12,
   "id": "dff0f598",
   "metadata": {},
   "outputs": [
    {
     "name": "stdout",
     "output_type": "stream",
     "text": [
      "Graph with 5 nodes and 7 edges\n"
     ]
    }
   ],
   "source": [
    "# Save graph as a link list (called an edgelist)\n",
    "nx.write_edgelist(G_a, \"w02_2_2_4_a.edgelist\")\n",
    "\n",
    "# Create graph from edgelist file\n",
    "G_a_2 = nx.read_edgelist(\"w02_2_2_4_a.edgelist\", create_using=nx.Graph)\n",
    "\n",
    "print(G_a_2)"
   ]
  },
  {
   "cell_type": "code",
   "execution_count": 13,
   "id": "8eeb0df8",
   "metadata": {},
   "outputs": [
    {
     "name": "stdout",
     "output_type": "stream",
     "text": [
      "Graph with 5 nodes and 7 edges\n"
     ]
    }
   ],
   "source": [
    "# Save graph as a link list (called an edgelist)\n",
    "nx.write_edgelist(G_b, \"w02_2_2_4_b.edgelist\")\n",
    "\n",
    "# Create graph from edgelist file\n",
    "G_b_2 = nx.read_edgelist(\"w02_2_2_4_b.edgelist\", create_using=nx.Graph)\n",
    "\n",
    "print(G_b_2)"
   ]
  },
  {
   "cell_type": "code",
   "execution_count": 14,
   "id": "e9a41764",
   "metadata": {},
   "outputs": [
    {
     "data": {
      "image/png": "[encoded data removed]",
      "text/plain": [
       "<Figure size 640x480 with 2 Axes>"
      ]
     },
     "metadata": {},
     "output_type": "display_data"
    }
   ],
   "source": [
    "# Check that they look the same as the original graphs above\n",
    "subax1 = plt.subplot(121)\n",
    "nx.draw(G_a_2, with_labels=True, font_weight='bold', arrows=True)\n",
    "subax2 = plt.subplot(122)\n",
    "nx.draw(G_b_2, with_labels=True, font_weight='bold', arrows=True)"
   ]
  },
  {
   "cell_type": "markdown",
   "id": "0f1cc511",
   "metadata": {},
   "source": [
    "Then again, to avoid the loss of node 5, we could simply stick to the _Adjacency list_ given by the function `nx.adjacency_matrix(G)`. \n",
    "\n",
    "See the answer to 2.2.3."
   ]
  },
  {
   "cell_type": "markdown",
   "id": "ff5493f7",
   "metadata": {},
   "source": [
    "##### a) Linked list interpretation\n",
    "If we were to understand the term _'link list'_ as _'linked list'_ from computer science, then we could implement a class and accompanying functions for representing the data type:"
   ]
  },
  {
   "cell_type": "code",
   "execution_count": 15,
   "id": "1ec9bce8",
   "metadata": {},
   "outputs": [
    {
     "name": "stdout",
     "output_type": "stream",
     "text": [
      "Linked list for node 1: 1 -> 4 -> 3 -> 6 -> 2 -> None\n",
      "Linked list for node 4: 4 -> 2 -> None\n",
      "Linked list for node 3: 3 -> 2 -> None\n",
      "Linked list for node 6: 6 -> 3 -> None\n",
      "Linked list for node 2: 2 -> 3 -> None\n",
      "Linked list for node 5: 5 -> None\n"
     ]
    }
   ],
   "source": [
    "import networkx as nx\n",
    "\n",
    "# Create the directed graph\n",
    "G = nx.DiGraph()\n",
    "G.add_edges_from([(1, 4), (1, 3), (1, 6), (1, 2), (3, 2), (2, 3), (6, 3), (4, 2)])\n",
    "G.add_node(5)\n",
    "\n",
    "# Define the linked list node class\n",
    "class LinkedListNode:\n",
    "    def __init__(self, value):\n",
    "        self.value = value\n",
    "        self.next = None\n",
    "\n",
    "# Function to convert a graph's adjacency list to a linked list for each node\n",
    "def graph_to_linked_list(graph):\n",
    "    linked_list_dict = {}\n",
    "\n",
    "    for node in graph.nodes:\n",
    "        # Create the head of the linked list for this node\n",
    "        if node not in linked_list_dict:\n",
    "            linked_list_dict[node] = LinkedListNode(node)\n",
    "        \n",
    "        head = linked_list_dict[node]\n",
    "        current = head\n",
    "        \n",
    "        # For each successor (neighbor) of the node, create a linked list node\n",
    "        for neighbor in graph.successors(node):\n",
    "            new_node = LinkedListNode(neighbor)\n",
    "            current.next = new_node\n",
    "            current = current.next\n",
    "\n",
    "    return linked_list_dict\n",
    "\n",
    "# Convert the directed graph to linked lists\n",
    "linked_lists = graph_to_linked_list(G)\n",
    "\n",
    "# Function to print linked list\n",
    "def print_linked_list(node):\n",
    "    current = node\n",
    "    while current:\n",
    "        print(f\"{current.value} -> \", end=\"\")\n",
    "        current = current.next\n",
    "    print(\"None\")\n",
    "\n",
    "# Print the linked list for each node\n",
    "for node in linked_lists:\n",
    "    print(f\"Linked list for node {node}: \", end=\"\")\n",
    "    print_linked_list(linked_lists[node])\n"
   ]
  },
  {
   "cell_type": "markdown",
   "id": "9d32df43",
   "metadata": {},
   "source": [
    "#### 2.2.5 The average clustering coefficient\n",
    "\n",
    "The average clustering coefficient of a graph can be calculated using the build-in function."
   ]
  },
  {
   "cell_type": "code",
   "execution_count": 16,
   "id": "78eb2265",
   "metadata": {},
   "outputs": [
    {
     "name": "stdout",
     "output_type": "stream",
     "text": [
      "Average clustering coefficient for G_a: 0.6389\n"
     ]
    }
   ],
   "source": [
    "G_a_avg_clustering = nx.average_clustering(G_a)\n",
    "\n",
    "print(f\"Average clustering coefficient for G_a: {round(G_a_avg_clustering, 4)}\")"
   ]
  },
  {
   "cell_type": "markdown",
   "id": "c6664539",
   "metadata": {},
   "source": [
    "#### 2.2.6 Switching node 5 and 6 \n",
    "\n",
    "By switching the edges of node 5 and 6, the adjacency matrix and link list will changed for every (x,y), where either x or y are 5 or 6. \n",
    "\n",
    "We were not able to find any build-in functions for this purpose, so we tried to create a function ourselves.\n",
    "\n",
    "See the output below for context:"
   ]
  },
  {
   "cell_type": "code",
   "execution_count": 17,
   "id": "d72c61b8",
   "metadata": {},
   "outputs": [],
   "source": [
    "# Initialise the new graph\n",
    "G_a_new = nx.Graph()\n",
    "\n",
    "# Copy nodes and edges from original graph\n",
    "G_a_new.add_nodes_from(G_a)\n",
    "G_a_new.add_edges_from(G_a.edges)"
   ]
  },
  {
   "cell_type": "code",
   "execution_count": 18,
   "id": "f2995201",
   "metadata": {},
   "outputs": [],
   "source": [
    "# Define a function to swap the edges between two nodes in a graph\n",
    "def swap_nodes(G, node_a, node_b):\n",
    "    # Copy nodes and edges from original graph into placeholder\n",
    "    G_new = nx.Graph()\n",
    "    G_new.add_nodes_from(G)\n",
    "    G_new.add_edges_from(G.edges)\n",
    "    \n",
    "    \n",
    "    # Get the edges involving node_a and node_b\n",
    "    edges_a = [(node_a, v) for v in G.neighbors(node_a)]\n",
    "    edges_b = [(node_b, v) for v in G.neighbors(node_b)]\n",
    "    \n",
    "    # Remove the edges connected to node_a and node_b\n",
    "    G_new.remove_edges_from(edges_a)\n",
    "    G_new.remove_edges_from(edges_b)\n",
    "    \n",
    "    # Add edges back but swapped\n",
    "    for u, v in edges_a:\n",
    "        G_new.add_edge(node_b, v if v != node_b else node_a)\n",
    "    for u, v in edges_b:\n",
    "        G_new.add_edge(node_a, v if v != node_a else node_b)\n",
    "    \n",
    "    return G_new"
   ]
  },
  {
   "cell_type": "code",
   "execution_count": 19,
   "id": "9c362706",
   "metadata": {},
   "outputs": [],
   "source": [
    "# Get the neighbors (i.e., edges) of both nodes\n",
    "def swap_nodes(G, node_a, node_b):\n",
    "    # Copy nodes and edges from original graph into placeholder\n",
    "    G_new = nx.Graph()\n",
    "    G_new.add_nodes_from(G)\n",
    "    G_new.add_edges_from(G.edges)\n",
    "    \n",
    "    neighbors_a = list(G_new.neighbors(node_a))\n",
    "    neighbors_b = list(G_new.neighbors(node_b))\n",
    "    \n",
    "    # Remove edges connected to node_a and node_b\n",
    "    for neighbor in neighbors_a:\n",
    "        G_new.remove_edge(node_a, neighbor)\n",
    "    for neighbor in neighbors_b:\n",
    "        G_new.remove_edge(node_b, neighbor)\n",
    "    \n",
    "    # Reassign edges: all edges from node_a should go to node_b and vice versa\n",
    "    for neighbor in neighbors_a:\n",
    "        if neighbor != node_b:  # Avoid creating a self-loop\n",
    "            G_new.add_edge(node_b, neighbor)\n",
    "    for neighbor in neighbors_b:\n",
    "        if neighbor != node_a:  # Avoid creating a self-loop\n",
    "            G_new.add_edge(node_a, neighbor)\n",
    "    \n",
    "    return G_new"
   ]
  },
  {
   "cell_type": "code",
   "execution_count": 20,
   "id": "d539ace1",
   "metadata": {},
   "outputs": [],
   "source": [
    "# Function call to create new graph with edges of 5 and 6 swapped\n",
    "G_a_new = swap_nodes(G_a, 5, 6)"
   ]
  },
  {
   "cell_type": "code",
   "execution_count": 21,
   "id": "067268c4",
   "metadata": {},
   "outputs": [
    {
     "data": {
      "image/png": "[encoded data removed]",
      "text/plain": [
       "<Figure size 640x480 with 2 Axes>"
      ]
     },
     "metadata": {},
     "output_type": "display_data"
    }
   ],
   "source": [
    "# Check that they look the same as the original graphs above\n",
    "subax1 = plt.subplot(121)\n",
    "nx.draw(G_a, with_labels=True, font_weight='bold', arrows=True)\n",
    "subax2 = plt.subplot(122)\n",
    "nx.draw(G_a_new, with_labels=True, font_weight='bold', arrows=True)"
   ]
  },
  {
   "cell_type": "code",
   "execution_count": 22,
   "id": "4069b406",
   "metadata": {},
   "outputs": [
    {
     "name": "stdout",
     "output_type": "stream",
     "text": [
      "[(1, 4), (1, 3), (1, 6), (1, 2), (4, 2), (3, 2), (3, 6)]\n",
      "[(1, 4), (1, 3), (1, 2), (1, 5), (4, 2), (3, 2), (3, 5)]\n"
     ]
    }
   ],
   "source": [
    "# Print edges of new and original graph\n",
    "print(list(G_a.edges))\n",
    "print(list(G_a_new.edges))"
   ]
  },
  {
   "cell_type": "markdown",
   "id": "05e831ac",
   "metadata": {},
   "source": [
    "#### 2.2.7 What kind of information can you not infer from the link list representation of the network that you can infer from the adjacency matrix?\n",
    "\n",
    "Since the two data representations contain the same information, they both tell us the same. However, the visual representation of the matrix offers some insight into the symmetry of the graph as well as quick overview to see if the graph is connected or unconnected."
   ]
  },
  {
   "cell_type": "markdown",
   "id": "45b4673d",
   "metadata": {},
   "source": [
    "![ns_2_15](../images/ns_2_15_disconnected_graph.jpg)"
   ]
  },
  {
   "cell_type": "markdown",
   "id": "89997e8e",
   "metadata": {},
   "source": [
    "#### 2.2.8 In the networks, how many paths (with possible repetition of nodes and links) of length 3 exist starting from node 1 and ending at node 3?"
   ]
  },
  {
   "cell_type": "code",
   "execution_count": 23,
   "id": "ee1e559e",
   "metadata": {},
   "outputs": [],
   "source": [
    "def find_paths_of_length_n(G, start, end, n):\n",
    "    def dfs(current_node, current_path, current_length):\n",
    "        # Base case: If the path length is n and we are at the end node\n",
    "        if current_length == n:\n",
    "            if current_node == end:\n",
    "                paths.append(current_path[:])  # Record the path\n",
    "            return\n",
    "        \n",
    "        # Explore neighbors\n",
    "        for neighbor in G.neighbors(current_node):\n",
    "            # Continue DFS if we haven't reached the desired path length\n",
    "            current_path.append(neighbor)\n",
    "            dfs(neighbor, current_path, current_length + 1)\n",
    "            current_path.pop()  # Backtrack after exploring\n",
    "\n",
    "    paths = []\n",
    "    dfs(start, [start], 0)\n",
    "    return paths"
   ]
  },
  {
   "cell_type": "markdown",
   "id": "8edd30bf",
   "metadata": {},
   "source": [
    "##### a)"
   ]
  },
  {
   "cell_type": "code",
   "execution_count": 24,
   "id": "63cefb82",
   "metadata": {},
   "outputs": [
    {
     "name": "stdout",
     "output_type": "stream",
     "text": [
      "There are 7 possible paths between 1 and 3 with length 3.\n",
      "[1, 4, 1, 3]\n",
      "[1, 4, 2, 3]\n",
      "[1, 3, 1, 3]\n",
      "[1, 3, 2, 3]\n",
      "[1, 3, 6, 3]\n",
      "[1, 6, 1, 3]\n",
      "[1, 2, 1, 3]\n"
     ]
    }
   ],
   "source": [
    "# Find all paths from node 1 to node 3 of length 3\n",
    "node_a = 1\n",
    "node_b = 3\n",
    "n = 3\n",
    "\n",
    "all_paths = find_paths_of_length_n(G_a, node_a, node_b, n)\n",
    "\n",
    "print(f\"There are {len(all_paths)} possible paths between {node_a} and {node_b} with length {n}.\")\n",
    "\n",
    "# Output the paths\n",
    "for path in all_paths:\n",
    "    print(path)"
   ]
  },
  {
   "cell_type": "markdown",
   "id": "54483368",
   "metadata": {},
   "source": [
    "##### b)"
   ]
  },
  {
   "cell_type": "code",
   "execution_count": 25,
   "id": "f492d6c0",
   "metadata": {},
   "outputs": [
    {
     "name": "stdout",
     "output_type": "stream",
     "text": [
      "There are 0 possible paths between 1 and 3 with length 3.\n"
     ]
    }
   ],
   "source": [
    "# Find all paths from node 1 to node 3 of length 3\n",
    "node_a = 1\n",
    "node_b = 3\n",
    "n = 3\n",
    "\n",
    "all_paths = find_paths_of_length_n(G_b, node_a, node_b, n)\n",
    "\n",
    "print(f\"There are {len(all_paths)} possible paths between {node_a} and {node_b} with length {n}.\")\n",
    "\n",
    "# Output the paths\n",
    "for path in all_paths:\n",
    "    print(path)"
   ]
  },
  {
   "cell_type": "markdown",
   "id": "81493343",
   "metadata": {},
   "source": [
    "#### 2.2.9 Count the number of cycles of length 4 in both networks"
   ]
  },
  {
   "cell_type": "code",
   "execution_count": 26,
   "id": "a709968f",
   "metadata": {},
   "outputs": [],
   "source": [
    "# Function to return list of all loops of length n in G \n",
    "def find_all_loops_of_len_n(G, n):\n",
    "    all_paths = []\n",
    "    for node in G.nodes():\n",
    "        all_paths = all_paths + find_paths_of_length_n(G, node, node, n)\n",
    "    return all_paths"
   ]
  },
  {
   "cell_type": "code",
   "execution_count": 27,
   "id": "4d8b439a",
   "metadata": {},
   "outputs": [
    {
     "name": "stdout",
     "output_type": "stream",
     "text": [
      "There are 86 possible loops with length 3 in the graph.\n"
     ]
    }
   ],
   "source": [
    "# Find all loops of length 4 in graph\n",
    "loops_a = find_all_loops_of_len_n(G_a, 4)\n",
    "\n",
    "print(f\"There are {len(loops_a)} possible loops with length {n} in the graph.\")\n",
    "\n",
    "# Output the loops\n",
    "# for loop in loops_a:\n",
    "#     print(loop)"
   ]
  },
  {
   "cell_type": "code",
   "execution_count": 28,
   "id": "38c1de08",
   "metadata": {},
   "outputs": [
    {
     "name": "stdout",
     "output_type": "stream",
     "text": [
      "There are 2 possible loops with length 3 in the graph.\n",
      "[2, 3, 2, 3, 2]\n",
      "[3, 2, 3, 2, 3]\n"
     ]
    }
   ],
   "source": [
    "# Find all loops of length 4 in graph\n",
    "loops_b = find_all_loops_of_len_n(G_b, 4)\n",
    "\n",
    "print(f\"There are {len(loops_b)} possible loops with length {n} in the graph.\")\n",
    "\n",
    "# Output the loops\n",
    "for loop in loops_b:\n",
    "    print(loop)"
   ]
  },
  {
   "cell_type": "markdown",
   "id": "d6e8c416",
   "metadata": {},
   "source": [
    "### 2.3 Solve exercise 2.5 ('Bipartite Networks') from NS using NetworkX \n",
    "Important note: There is a a mistake in the book. When it says \"Block diagonal\", they mean \"Anti-diagonal\" (all elements are away from the diagonal blocks)."
   ]
  },
  {
   "cell_type": "code",
   "execution_count": 29,
   "id": "5edc0acb",
   "metadata": {},
   "outputs": [
    {
     "name": "stdout",
     "output_type": "stream",
     "text": [
      "Nodes:\n",
      "[1, 2, 3, 4, 5, 6, 7, 8, 9, 10, 11]\n",
      "Edges:\n",
      "[(1, 7), (2, 9), (3, 7), (3, 8), (3, 9), (4, 9), (4, 10), (5, 9), (5, 11), (6, 11)]\n"
     ]
    }
   ],
   "source": [
    "# Create bipartite graph\n",
    "G = nx.Graph()\n",
    "G.add_nodes_from(list(range(1, 7)), bipartite=0, )\n",
    "G.add_nodes_from(list(range(7, 12)), bipartite=1)\n",
    "\n",
    "G.add_edges_from([\n",
    "    (1,7),\n",
    "    (2,9),\n",
    "    (3,7),(3,8),(3,9),\n",
    "    (4,9),(4,10),\n",
    "    (5,9),(5,11),\n",
    "    (6,11)\n",
    "])\n",
    "print(f\"Nodes:\\n{G.nodes}\")\n",
    "print(f\"Edges:\\n{G.edges}\")"
   ]
  },
  {
   "cell_type": "code",
   "execution_count": 30,
   "id": "d6ade988",
   "metadata": {},
   "outputs": [
    {
     "data": {
      "image/png": "[encoded data removed]",
      "text/plain": [
       "<Figure size 1500x400 with 1 Axes>"
      ]
     },
     "metadata": {},
     "output_type": "display_data"
    }
   ],
   "source": [
    "# Sketch of the bipartite graph\n",
    "m = 6+1\n",
    "n = 11+1\n",
    "\n",
    "pos = {}\n",
    "pos.update((i, (i - m/2, 1)) for i in range(m))\n",
    "pos.update((i, (i - m - n/2 + 4, 0)) for i in range(m, n)) # the +4 is hard coded in for padding! \n",
    "\n",
    "color_dict = {0:'purple',1:'green'}\n",
    "color_list = [color_dict[i[1]] for i in G.nodes.data('bipartite')]\n",
    "\n",
    "fig, ax = plt.subplots()\n",
    "fig.set_size_inches(15, 4)\n",
    "nx.draw(\n",
    "    G, \n",
    "    with_labels=True, \n",
    "    pos=pos, \n",
    "    node_size=700, \n",
    "    width=2, \n",
    "    node_color = color_list, \n",
    "    font_size = 18,\n",
    "    font_color = \"white\"\n",
    ")\n",
    "plt.show()"
   ]
  },
  {
   "cell_type": "markdown",
   "id": "19108b28",
   "metadata": {},
   "source": [
    "#### 2.3.1 Maximum number of links L<sub>max</sub> in a bipartite network"
   ]
  },
  {
   "cell_type": "markdown",
   "id": "038f51cc",
   "metadata": {},
   "source": [
    "The maximum number of links of a bipartite network can be found as\n",
    " \n",
    "$L_{max} = N1 \\cdot N2$\n",
    "\n",
    ", where N1 and N2 represent the cardinality of each respective node set (number of nodes in each partition).\n",
    "\n",
    "The maximum number of links without the constraint of being bipartite (a complete graph): \n",
    "\n",
    "$L_{max} = \\frac{N(N-1)}{2}$\n"
   ]
  },
  {
   "cell_type": "markdown",
   "id": "3db8cae0",
   "metadata": {},
   "source": [
    "For the graph given in the exercise, we have:"
   ]
  },
  {
   "cell_type": "code",
   "execution_count": 31,
   "id": "35c876ba",
   "metadata": {},
   "outputs": [
    {
     "name": "stdout",
     "output_type": "stream",
     "text": [
      "L_max_bipartite = 30\n"
     ]
    }
   ],
   "source": [
    "N1 = 6\n",
    "N2 = 5\n",
    "\n",
    "L_max_bipartite = N1 * N2\n",
    "print(f\"L_max_bipartite = {L_max_bipartite}\")"
   ]
  },
  {
   "cell_type": "markdown",
   "id": "746a4723",
   "metadata": {},
   "source": [
    "#### 2.3.2 How many links cannot occur compared to a non-bipartite network of size N = N1 + N2"
   ]
  },
  {
   "cell_type": "markdown",
   "id": "7373506c",
   "metadata": {},
   "source": [
    "We can calculate the difference between L<sub>max</sub> for the two cases by following the formulae from above:"
   ]
  },
  {
   "cell_type": "code",
   "execution_count": 32,
   "id": "e5045f29",
   "metadata": {},
   "outputs": [
    {
     "name": "stdout",
     "output_type": "stream",
     "text": [
      "L_max_complete = 55\n"
     ]
    }
   ],
   "source": [
    "N = N1 + N2\n",
    "\n",
    "L_max_complete = int((N * (N-1))/2)\n",
    "print(f\"L_max_complete = {L_max_complete}\")"
   ]
  },
  {
   "cell_type": "code",
   "execution_count": 33,
   "id": "8fdc2af4",
   "metadata": {},
   "outputs": [
    {
     "name": "stdout",
     "output_type": "stream",
     "text": [
      "The difference is 25 more possible links in a complete network.\n"
     ]
    }
   ],
   "source": [
    "diff = L_max_complete - L_max_bipartite\n",
    "print(f\"The difference is {diff} more possible links in a complete network.\")"
   ]
  },
  {
   "cell_type": "markdown",
   "id": "24f04683",
   "metadata": {},
   "source": [
    "#### 2.3.3 Network density when N1 << N2\n",
    "\n",
    "Fluffy exercise description!"
   ]
  },
  {
   "cell_type": "markdown",
   "id": "d6f46a0c",
   "metadata": {},
   "source": [
    "#### 2.3.4 Expression from N1, N2 and k1, k2\n",
    "\n",
    "Fluffy exercise description!"
   ]
  },
  {
   "cell_type": "markdown",
   "id": "915022b7",
   "metadata": {},
   "source": [
    "## Exercises Part 3: Plotting degree distributions"
   ]
  },
  {
   "cell_type": "markdown",
   "id": "db072fd7",
   "metadata": {},
   "source": [
    "We start by importing the most important libraries"
   ]
  },
  {
   "cell_type": "code",
   "execution_count": 34,
   "id": "330fda42",
   "metadata": {},
   "outputs": [],
   "source": [
    "import matplotlib.pyplot as plt\n",
    "import networkx as nx\n",
    "import numpy as np\n",
    "import random "
   ]
  },
  {
   "cell_type": "markdown",
   "id": "4aafc6f2",
   "metadata": {},
   "source": [
    "### 3.1 Binning real numbers"
   ]
  },
  {
   "cell_type": "markdown",
   "id": "d0987df2",
   "metadata": {},
   "source": [
    "#### 3.1.1 generate random numbers"
   ]
  },
  {
   "cell_type": "code",
   "execution_count": 35,
   "id": "d407aa8c",
   "metadata": {},
   "outputs": [
    {
     "name": "stdout",
     "output_type": "stream",
     "text": [
      "1.5318305153336111\n",
      "2.490941005099091\n"
     ]
    }
   ],
   "source": [
    "# Set seed for this session, i.e. make results replicable\n",
    "np.random.seed(12345)\n",
    "\n",
    "# Set variables\n",
    "mu = 2\n",
    "sigma = 0.125\n",
    "n = 5000\n",
    "\n",
    "s_norm = np.random.normal(mu, sigma, n)\n",
    "print(min(s_norm))\n",
    "print(max(s_norm))"
   ]
  },
  {
   "cell_type": "markdown",
   "id": "91d953a8",
   "metadata": {},
   "source": [
    "#### 3.1.2 Create binned histogram"
   ]
  },
  {
   "cell_type": "code",
   "execution_count": 36,
   "id": "8ddfc70c",
   "metadata": {},
   "outputs": [
    {
     "data": {
      "text/plain": [
       "(array([   7,   38,  198,  591, 1191, 1324,  999,  486,  150,   11],\n",
       "       dtype=int64),\n",
       " array([1.53183052, 1.61902238, 1.70621424, 1.7934061 , 1.88059797,\n",
       "        1.96778983, 2.05498169, 2.14217355, 2.22936542, 2.31655728,\n",
       "        2.40374914]))"
      ]
     },
     "execution_count": 36,
     "metadata": {},
     "output_type": "execute_result"
    }
   ],
   "source": [
    "histogram = np.histogram(\n",
    "    s_norm, \n",
    "    bins = list(np.arange(\n",
    "        min(s_norm),\n",
    "        max(s_norm),\n",
    "        (max(s_norm)-min(s_norm))/11 # Calculate steps between min and max values\n",
    "    ))\n",
    ")\n",
    "hist, bin_edges = histogram\n",
    "hist, bin_edges"
   ]
  },
  {
   "cell_type": "markdown",
   "id": "34dd87d1",
   "metadata": {},
   "source": [
    "**Taken from the documentation:**\n",
    "\n",
    "The function returns two objects:\n",
    "\n",
    "**hist** : array\n",
    "\n",
    "    The values of the histogram. See density and weights for a description of the possible semantics. If weights are given, hist.dtype will be taken from weights.\n",
    "\n",
    "**bin_edges** : array of dtype float\n",
    "\n",
    "    Return the bin edges (length(hist)+1)"
   ]
  },
  {
   "cell_type": "markdown",
   "id": "8bd8f501",
   "metadata": {},
   "source": [
    "#### 3.1.3 Plot the binned data"
   ]
  },
  {
   "cell_type": "code",
   "execution_count": 37,
   "id": "acb6b124",
   "metadata": {},
   "outputs": [
    {
     "data": {
      "image/png": "[encoded data removed]",
      "text/plain": [
       "<Figure size 640x480 with 1 Axes>"
      ]
     },
     "metadata": {},
     "output_type": "display_data"
    }
   ],
   "source": [
    "plt.hist(s_norm, bins = bin_edges, edgecolor='black')\n",
    "plt.title(\"Histogram with bins\")\n",
    "plt.show()"
   ]
  },
  {
   "cell_type": "markdown",
   "id": "60734f19",
   "metadata": {},
   "source": [
    "### 3.2 Binning integers"
   ]
  },
  {
   "cell_type": "markdown",
   "id": "45ce2a22",
   "metadata": {},
   "source": [
    "#### 3.2.1"
   ]
  },
  {
   "cell_type": "code",
   "execution_count": 38,
   "id": "c384ecef",
   "metadata": {},
   "outputs": [],
   "source": [
    "# Set seed for this session, i.e. make results replicable\n",
    "np.random.seed(12345)\n",
    "\n",
    "# Set variables\n",
    "lambda_ = 10\n",
    "n = 5000\n",
    "\n",
    "s_pois = np.random.poisson(lambda_, n)"
   ]
  },
  {
   "cell_type": "code",
   "execution_count": 39,
   "id": "9ed1eafd",
   "metadata": {},
   "outputs": [
    {
     "name": "stdout",
     "output_type": "stream",
     "text": [
      "1\n",
      "23\n",
      "5000\n"
     ]
    }
   ],
   "source": [
    "print(min(s_pois))\n",
    "print(max(s_pois))\n",
    "print(len(s_pois))"
   ]
  },
  {
   "cell_type": "markdown",
   "id": "360b881b",
   "metadata": {},
   "source": [
    "#### 3.2.2"
   ]
  },
  {
   "cell_type": "code",
   "execution_count": 40,
   "id": "0adfe6d4",
   "metadata": {},
   "outputs": [],
   "source": [
    "v = list(range(min(s_pois), max(s_pois)+1, 1))"
   ]
  },
  {
   "cell_type": "code",
   "execution_count": 41,
   "id": "99574d85",
   "metadata": {},
   "outputs": [
    {
     "data": {
      "image/png": "[encoded data removed]",
      "text/plain": [
       "<Figure size 640x480 with 1 Axes>"
      ]
     },
     "metadata": {},
     "output_type": "display_data"
    }
   ],
   "source": [
    "plt.hist(s_pois, bins = v, edgecolor='black')\n",
    "plt.title(\"Histogram with bins\")\n",
    "plt.show()"
   ]
  },
  {
   "cell_type": "markdown",
   "id": "aa50f7d6",
   "metadata": {},
   "source": [
    "#### 3.2.3"
   ]
  },
  {
   "cell_type": "code",
   "execution_count": 42,
   "id": "0556d15f",
   "metadata": {},
   "outputs": [],
   "source": [
    "# Create histogram bars for parsing into bar chart\n",
    "histogram = np.histogram(s_pois, bins = v)\n",
    "hist, bin_edges = histogram"
   ]
  },
  {
   "cell_type": "code",
   "execution_count": 43,
   "id": "4c82bc4b",
   "metadata": {},
   "outputs": [
    {
     "data": {
      "image/png": "[encoded data removed]",
      "text/plain": [
       "<Figure size 640x480 with 1 Axes>"
      ]
     },
     "metadata": {},
     "output_type": "display_data"
    }
   ],
   "source": [
    "plt.bar(x=v[1:len(v)], height=list(hist), edgecolor='black', color='skyblue')\n",
    "plt.xlabel('Value')\n",
    "plt.ylabel('Count')\n",
    "plt.show()"
   ]
  },
  {
   "cell_type": "markdown",
   "id": "9ca812e7",
   "metadata": {},
   "source": [
    "### 3.3 Binning and plotting degree distributions"
   ]
  },
  {
   "cell_type": "markdown",
   "id": "17ff0cd8",
   "metadata": {},
   "source": [
    "#### 3.3.1 Calculate the probabilty using sample size and average degree"
   ]
  },
  {
   "cell_type": "code",
   "execution_count": 44,
   "id": "3c7d2dd9",
   "metadata": {},
   "outputs": [],
   "source": [
    "# Calculate p from the sample size, N, and average degree, k.\n",
    "def calc_p(k, N):\n",
    "    return k / (N-1)"
   ]
  },
  {
   "cell_type": "code",
   "execution_count": 45,
   "id": "a16c4ac8",
   "metadata": {},
   "outputs": [
    {
     "data": {
      "text/plain": [
       "0.002000400080016003"
      ]
     },
     "execution_count": 45,
     "metadata": {},
     "output_type": "execute_result"
    }
   ],
   "source": [
    "k = lambda_\n",
    "N = 5000\n",
    "\n",
    "p = calc_p(k, N)\n",
    "p"
   ]
  },
  {
   "cell_type": "markdown",
   "id": "8cdad79d",
   "metadata": {},
   "source": [
    "#### 3.3.2 Eröds-Renyi graph using p"
   ]
  },
  {
   "cell_type": "code",
   "execution_count": 46,
   "id": "679eaedf",
   "metadata": {},
   "outputs": [
    {
     "name": "stdout",
     "output_type": "stream",
     "text": [
      "Graph with 5000 nodes and 24882 edges\n"
     ]
    }
   ],
   "source": [
    "# Create Eröds-Renyi graph using the computed p\n",
    "G_er = nx.erdos_renyi_graph(n=N, p=p, seed=12345, directed=False)\n",
    "print(G_er)"
   ]
  },
  {
   "cell_type": "markdown",
   "id": "e0c2de05",
   "metadata": {},
   "source": [
    "#### 3.3.3 Bar plot"
   ]
  },
  {
   "cell_type": "code",
   "execution_count": 47,
   "id": "8c0cc70e",
   "metadata": {},
   "outputs": [],
   "source": [
    "# Compute the degree sequence, i.e. the degree of all nodes in the graph and bin them\n",
    "degree_sequence = sorted((d for n, d in G_er.degree()), reverse=True)"
   ]
  },
  {
   "cell_type": "code",
   "execution_count": 48,
   "id": "bb03984e",
   "metadata": {},
   "outputs": [
    {
     "data": {
      "image/png": "[encoded data removed]",
      "text/plain": [
       "<Figure size 640x480 with 1 Axes>"
      ]
     },
     "metadata": {},
     "output_type": "display_data"
    }
   ],
   "source": [
    "# Use the sequence to create a degree distribution bar plot\n",
    "plt.bar(*np.unique(degree_sequence, return_counts=True), edgecolor='black', color='pink')\n",
    "plt.show()"
   ]
  },
  {
   "cell_type": "markdown",
   "id": "bfc30ade",
   "metadata": {},
   "source": [
    "### Part 4: Random networks"
   ]
  },
  {
   "cell_type": "code",
   "execution_count": null,
   "id": "db8da0c8",
   "metadata": {},
   "outputs": [],
   "source": []
  },
  {
   "cell_type": "code",
   "execution_count": null,
   "id": "185e6c09",
   "metadata": {},
   "outputs": [],
   "source": []
  },
  {
   "cell_type": "code",
   "execution_count": null,
   "id": "5afb2159",
   "metadata": {},
   "outputs": [],
   "source": []
  }
 ],
 "metadata": {
  "kernelspec": {
   "display_name": "Python 3 (ipykernel)",
   "language": "python",
   "name": "python3"
  },
  "language_info": {
   "codemirror_mode": {
    "name": "ipython",
    "version": 3
   },
   "file_extension": ".py",
   "mimetype": "text/x-python",
   "name": "python",
   "nbconvert_exporter": "python",
   "pygments_lexer": "ipython3",
   "version": "3.11.5"
  }
 },
 "nbformat": 4,
 "nbformat_minor": 5
}

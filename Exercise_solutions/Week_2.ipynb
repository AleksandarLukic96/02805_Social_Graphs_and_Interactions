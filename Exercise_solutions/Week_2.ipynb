{
 "cells": [
  {
   "cell_type": "markdown",
   "id": "44784232",
   "metadata": {},
   "source": [
    "# Week 2"
   ]
  },
  {
   "cell_type": "markdown",
   "id": "dd44262d",
   "metadata": {},
   "source": [
    "## Python setup"
   ]
  },
  {
   "cell_type": "code",
   "execution_count": 1,
   "id": "30fb9412",
   "metadata": {},
   "outputs": [],
   "source": [
    "import networkx as nx\n",
    "import matplotlib.pyplot as plt"
   ]
  },
  {
   "cell_type": "markdown",
   "id": "5ac76e0a",
   "metadata": {},
   "source": [
    "## Exercises Part 1: Basic mathematical description of networks"
   ]
  },
  {
   "cell_type": "markdown",
   "id": "51b739fe",
   "metadata": {},
   "source": [
    "Exercises: Chapter 2 in Network Science.\n",
    "\n",
    "    Section 2.5 states that real networks are sparse. Can you think of a real network where each node has many connections? Is that network still sparse? If yes, can you explain why?\n"
   ]
  },
  {
   "cell_type": "markdown",
   "id": "d320c66d",
   "metadata": {},
   "source": [
    "#### Answer\n",
    "\n",
    "Real networks are sparse since the number of potential links, L<sub>max</sub>, will be larger than the number of the connected links, L. A network is thus sparse, if L << L<sub>max</sub>. _Read << as much less_\n",
    "\n",
    "An example of a real network is a social media like Facebook or Twitter, where a node is a person and the links are friend connections or follows. Each person can have many friends or follow a lot of other profiles, but in reality, this number is dwarfed by the number of every possible connection, i.e. L is much smaller than L<sub>max</sub>.\n",
    "\n",
    "The network is sparse due to the size of the network and thereby the number of possible links being much larger than the actual number of links. This would be evident, if we had to chose between representing the network with a adjacency matrix or an edge list. The edge list would be much more memory efficient, hence the sparsety of the network. "
   ]
  },
  {
   "cell_type": "markdown",
   "id": "a9903f77",
   "metadata": {},
   "source": [
    "## Exercises Part 2: Exercises using the NetworkX library"
   ]
  },
  {
   "cell_type": "markdown",
   "id": "3b52257e",
   "metadata": {},
   "source": [
    "### 2.1 Write the solution exercise 2.1 (the 'Königsberg Problem') from NS in your notebook."
   ]
  },
  {
   "cell_type": "markdown",
   "id": "7df73538",
   "metadata": {},
   "source": [
    "![ns_2_12_1](../images/ns_2_12_1_koningsberg_problem.png)"
   ]
  },
  {
   "cell_type": "markdown",
   "id": "11890078",
   "metadata": {},
   "source": [
    "Which of the icons in the Image in 2.19 in the book can be drawn without raising your pencil from the paper, and without drawing any line more than once? Why? "
   ]
  },
  {
   "cell_type": "markdown",
   "id": "d2a74326",
   "metadata": {},
   "source": [
    "##### Answer:\n",
    "As defined by Euler, such as path cannot exist on a graph that has more than two nodes with an odd number of links.\n",
    "\n",
    "All of them except B can be drawn without lifting the pen. Since B has 4 nodes with each 3 links, Euler's condition is not met, and thus we are not able to draw it without lifting the pen."
   ]
  },
  {
   "cell_type": "markdown",
   "id": "8463082d",
   "metadata": {},
   "source": [
    "### 2.2 Solve exercise 2.3 ('Graph representation') from NS using NetworkX in your notebook. \n",
    "(You don't have to solve the last sub-question about cycles of length 4 ... but I'll be impressed if you do it. One more thing on that last sub-exercise: It's easier to solve if you don't use NetworkX, but simple pen and paper)."
   ]
  },
  {
   "cell_type": "markdown",
   "id": "26752a2c",
   "metadata": {},
   "source": [
    "##### 2.2.1 Undirected graph (a)"
   ]
  },
  {
   "cell_type": "code",
   "execution_count": 82,
   "id": "697f6381",
   "metadata": {},
   "outputs": [],
   "source": [
    "# Create graph and add edges\n",
    "G_a = nx.Graph()\n",
    "G_a.add_edges_from([(1, 4), (1, 3), (1, 6), (1, 2), (3, 2), (6, 3), (4, 2)])\n",
    "G_a.add_node(5)"
   ]
  },
  {
   "cell_type": "code",
   "execution_count": 83,
   "id": "86e22835",
   "metadata": {},
   "outputs": [
    {
     "data": {
      "text/plain": [
       "[{1, 2, 3, 4, 6}, {5}]"
      ]
     },
     "execution_count": 83,
     "metadata": {},
     "output_type": "execute_result"
    }
   ],
   "source": [
    "# Give list of connected components within the graph\n",
    "list(nx.connected_components(G_a))"
   ]
  },
  {
   "cell_type": "code",
   "execution_count": 84,
   "id": "b9b50502",
   "metadata": {},
   "outputs": [
    {
     "name": "stdout",
     "output_type": "stream",
     "text": [
      "Graph with 6 nodes and 7 edges\n"
     ]
    }
   ],
   "source": [
    "# Print the size of the graph and number of edges\n",
    "print(G_a)"
   ]
  },
  {
   "cell_type": "code",
   "execution_count": 85,
   "id": "e0b8cda8",
   "metadata": {},
   "outputs": [
    {
     "data": {
      "text/plain": [
       "[(1, 4), (1, 3), (1, 6), (1, 2), (4, 2), (3, 2), (3, 6)]"
      ]
     },
     "execution_count": 85,
     "metadata": {},
     "output_type": "execute_result"
    }
   ],
   "source": [
    "# Print list of edges\n",
    "list(G_a.edges)"
   ]
  },
  {
   "cell_type": "code",
   "execution_count": 86,
   "id": "23e7d159",
   "metadata": {},
   "outputs": [
    {
     "data": {
      "image/png": "[encoded data removed]",
      "text/plain": [
       "<Figure size 432x288 with 1 Axes>"
      ]
     },
     "metadata": {},
     "output_type": "display_data"
    }
   ],
   "source": [
    "# Draw the graph\n",
    "nx.draw(G_a, with_labels=True, font_weight='bold')"
   ]
  },
  {
   "cell_type": "markdown",
   "id": "86facd7b",
   "metadata": {},
   "source": [
    "##### 2.2.2 Directed graph (b)"
   ]
  },
  {
   "cell_type": "code",
   "execution_count": 87,
   "id": "87b0bf2b",
   "metadata": {},
   "outputs": [],
   "source": [
    "# Create graph and add edges\n",
    "G_b = nx.DiGraph()\n",
    "G_b.add_edges_from([\n",
    "    (1,2), \n",
    "    (2,3), (2,4),\n",
    "    (3,1), (3,2),\n",
    "    (4,1),\n",
    "    (6,1), (6,3)\n",
    "])\n",
    "G_b.add_node(5)"
   ]
  },
  {
   "cell_type": "code",
   "execution_count": 88,
   "id": "90343295",
   "metadata": {},
   "outputs": [
    {
     "data": {
      "text/plain": [
       "[(1, 2), (2, 3), (2, 4), (3, 1), (3, 2), (4, 1), (6, 1), (6, 3)]"
      ]
     },
     "execution_count": 88,
     "metadata": {},
     "output_type": "execute_result"
    }
   ],
   "source": [
    "# Print list of edges\n",
    "list(G_b.edges)"
   ]
  },
  {
   "cell_type": "code",
   "execution_count": 89,
   "id": "45685dfc",
   "metadata": {},
   "outputs": [
    {
     "data": {
      "image/png": "[encoded data removed]",
      "text/plain": [
       "<Figure size 432x288 with 1 Axes>"
      ]
     },
     "metadata": {},
     "output_type": "display_data"
    }
   ],
   "source": [
    "nx.draw(G_b, with_labels=True, font_weight='bold', arrows=True)"
   ]
  },
  {
   "cell_type": "markdown",
   "id": "e1360cb7",
   "metadata": {},
   "source": [
    "##### 2.2.2 The corresponding adjacency matrices."
   ]
  },
  {
   "cell_type": "code",
   "execution_count": 90,
   "id": "63c84dfa",
   "metadata": {},
   "outputs": [
    {
     "name": "stdout",
     "output_type": "stream",
     "text": [
      "Adjacency list for (a):\n",
      "  (0, 1)\t1\n",
      "  (0, 2)\t1\n",
      "  (0, 3)\t1\n",
      "  (0, 4)\t1\n",
      "  (1, 0)\t1\n",
      "  (1, 4)\t1\n",
      "  (2, 0)\t1\n",
      "  (2, 3)\t1\n",
      "  (2, 4)\t1\n",
      "  (3, 0)\t1\n",
      "  (3, 2)\t1\n",
      "  (4, 0)\t1\n",
      "  (4, 1)\t1\n",
      "  (4, 2)\t1\n",
      "Adjacency Matrix for (a):\n",
      "[[0 1 1 1 1 0]\n",
      " [1 0 0 0 1 0]\n",
      " [1 0 0 1 1 0]\n",
      " [1 0 1 0 0 0]\n",
      " [1 1 1 0 0 0]\n",
      " [0 0 0 0 0 0]]\n"
     ]
    },
    {
     "name": "stderr",
     "output_type": "stream",
     "text": [
      "C:\\Users\\Aleksandar Lukic\\AppData\\Local\\Temp\\ipykernel_11956\\108671617.py:2: FutureWarning: adjacency_matrix will return a scipy.sparse array instead of a matrix in Networkx 3.0.\n",
      "  A_a = nx.adjacency_matrix(G_a)\n"
     ]
    }
   ],
   "source": [
    "# Adjacency matrix for (a)\n",
    "A_a = nx.adjacency_matrix(G_a)\n",
    "print(f\"Adjacency list for (a):\\n{A_a}\")\n",
    "print(f\"Adjacency Matrix for (a):\\n{A_a.todense()}\")"
   ]
  },
  {
   "cell_type": "code",
   "execution_count": 91,
   "id": "666e3b34",
   "metadata": {},
   "outputs": [
    {
     "name": "stdout",
     "output_type": "stream",
     "text": [
      "Adjacency list for (b):\n",
      "  (0, 1)\t1\n",
      "  (1, 2)\t1\n",
      "  (1, 3)\t1\n",
      "  (2, 0)\t1\n",
      "  (2, 1)\t1\n",
      "  (3, 0)\t1\n",
      "  (4, 0)\t1\n",
      "  (4, 2)\t1\n",
      "Adjacency Matrix for (b):\n",
      "[[0 1 0 0 0 0]\n",
      " [0 0 1 1 0 0]\n",
      " [1 1 0 0 0 0]\n",
      " [1 0 0 0 0 0]\n",
      " [1 0 1 0 0 0]\n",
      " [0 0 0 0 0 0]]\n"
     ]
    },
    {
     "name": "stderr",
     "output_type": "stream",
     "text": [
      "C:\\Users\\Aleksandar Lukic\\AppData\\Local\\Temp\\ipykernel_11956\\1443584658.py:2: FutureWarning: adjacency_matrix will return a scipy.sparse array instead of a matrix in Networkx 3.0.\n",
      "  A_b = nx.adjacency_matrix(G_b)\n"
     ]
    }
   ],
   "source": [
    "# Adjacency matrix for (b)\n",
    "A_b = nx.adjacency_matrix(G_b)\n",
    "print(f\"Adjacency list for (b):\\n{A_b}\")\n",
    "print(f\"Adjacency Matrix for (b):\\n{A_b.todense()}\")"
   ]
  },
  {
   "cell_type": "markdown",
   "id": "2db18696",
   "metadata": {},
   "source": [
    "#### 2.2.4 The corresponding link lists"
   ]
  },
  {
   "cell_type": "markdown",
   "id": "db9a3322",
   "metadata": {},
   "source": [
    "There was a bit of confusion regarding the definition of 'Link list'. According to this [source](https://dshizuka.github.io/networkanalysis/02_dataformats.html#edge-list), an 'Edge list' is a vector with 2 columns, one for each node in a link. In networkX, we can create an edge list file, which can then be used to create graphs. However, the function does not account for nodes with no edges! Thus, node 6 is discarded which might not be "
   ]
  },
  {
   "cell_type": "code",
   "execution_count": 104,
   "id": "dff0f598",
   "metadata": {},
   "outputs": [
    {
     "name": "stdout",
     "output_type": "stream",
     "text": [
      "Graph with 5 nodes and 7 edges\n"
     ]
    }
   ],
   "source": [
    "# Save graph as a link list (called an edgelist)\n",
    "nx.write_edgelist(G_a, \"w02_2_2_4_a.edgelist\")\n",
    "\n",
    "# Create graph from edgelist file\n",
    "G_a_2 = nx.read_edgelist(\"w02_2_2_4_a.edgelist\", create_using=nx.Graph)\n",
    "\n",
    "print(G_a_2)"
   ]
  },
  {
   "cell_type": "code",
   "execution_count": 97,
   "id": "8eeb0df8",
   "metadata": {},
   "outputs": [
    {
     "name": "stdout",
     "output_type": "stream",
     "text": [
      "Graph with 5 nodes and 7 edges\n"
     ]
    }
   ],
   "source": [
    "# Save graph as a link list (called an edgelist)\n",
    "nx.write_edgelist(G_b, \"w02_2_2_4_b.edgelist\")\n",
    "\n",
    "# Create graph from edgelist file\n",
    "G_b_2 = nx.read_edgelist(\"w02_2_2_4_b.edgelist\", create_using=nx.Graph)\n",
    "\n",
    "print(G_b_2)"
   ]
  },
  {
   "cell_type": "code",
   "execution_count": 101,
   "id": "e9a41764",
   "metadata": {},
   "outputs": [
    {
     "data": {
      "image/png": "[encoded data removed]",
      "text/plain": [
       "<Figure size 432x288 with 2 Axes>"
      ]
     },
     "metadata": {},
     "output_type": "display_data"
    }
   ],
   "source": [
    "# Check that they look the same as the original graphs above\n",
    "subax1 = plt.subplot(121)\n",
    "nx.draw(G_a_2, with_labels=True, font_weight='bold', arrows=True)\n",
    "subax2 = plt.subplot(122)\n",
    "nx.draw(G_b_2, with_labels=True, font_weight='bold', arrows=True)"
   ]
  },
  {
   "cell_type": "code",
   "execution_count": 93,
   "id": "1ec9bce8",
   "metadata": {},
   "outputs": [
    {
     "name": "stdout",
     "output_type": "stream",
     "text": [
      "Linked list for node 1: 1 -> 4 -> 3 -> 6 -> 2 -> None\n",
      "Linked list for node 4: 4 -> 2 -> None\n",
      "Linked list for node 3: 3 -> 2 -> None\n",
      "Linked list for node 6: 6 -> 3 -> None\n",
      "Linked list for node 2: 2 -> 3 -> None\n",
      "Linked list for node 5: 5 -> None\n"
     ]
    }
   ],
   "source": [
    "import networkx as nx\n",
    "\n",
    "# Create the directed graph\n",
    "G = nx.DiGraph()\n",
    "G.add_edges_from([(1, 4), (1, 3), (1, 6), (1, 2), (3, 2), (2, 3), (6, 3), (4, 2)])\n",
    "G.add_node(5)\n",
    "\n",
    "# Define the linked list node class\n",
    "class LinkedListNode:\n",
    "    def __init__(self, value):\n",
    "        self.value = value\n",
    "        self.next = None\n",
    "\n",
    "# Function to convert a graph's adjacency list to a linked list for each node\n",
    "def graph_to_linked_list(graph):\n",
    "    linked_list_dict = {}\n",
    "\n",
    "    for node in graph.nodes:\n",
    "        # Create the head of the linked list for this node\n",
    "        if node not in linked_list_dict:\n",
    "            linked_list_dict[node] = LinkedListNode(node)\n",
    "        \n",
    "        head = linked_list_dict[node]\n",
    "        current = head\n",
    "        \n",
    "        # For each successor (neighbor) of the node, create a linked list node\n",
    "        for neighbor in graph.successors(node):\n",
    "            new_node = LinkedListNode(neighbor)\n",
    "            current.next = new_node\n",
    "            current = current.next\n",
    "\n",
    "    return linked_list_dict\n",
    "\n",
    "# Convert the directed graph to linked lists\n",
    "linked_lists = graph_to_linked_list(G)\n",
    "\n",
    "# Function to print linked list\n",
    "def print_linked_list(node):\n",
    "    current = node\n",
    "    while current:\n",
    "        print(f\"{current.value} -> \", end=\"\")\n",
    "        current = current.next\n",
    "    print(\"None\")\n",
    "\n",
    "# Print the linked list for each node\n",
    "for node in linked_lists:\n",
    "    print(f\"Linked list for node {node}: \", end=\"\")\n",
    "    print_linked_list(linked_lists[node])\n"
   ]
  },
  {
   "cell_type": "code",
   "execution_count": null,
   "id": "a679cf2e",
   "metadata": {},
   "outputs": [],
   "source": [
    "print(\"Linked list for node 1: 1 -> 4 -> 3 -> 6 -> 2 -> None\")\n",
    "print(\"Linked list for node 4: 4 -> 2 -> None\")\n",
    "print(\"Linked list for node 3: 3 -> 2 -> None\")\n",
    "print(\"Linked list for node 6: 6 -> 3 -> None\")\n",
    "print(\"Linked list for node 2: 2 -> 3 -> None\")\n",
    "print(\"Linked list for node 5: 5 -> None\")"
   ]
  },
  {
   "cell_type": "markdown",
   "id": "9d32df43",
   "metadata": {},
   "source": [
    "Exercise\n",
    "\n",
    "    Determine the average clustering coefficient of the network shown in Image 2.20a"
   ]
  },
  {
   "cell_type": "code",
   "execution_count": null,
   "id": "78eb2265",
   "metadata": {},
   "outputs": [],
   "source": [
    "import networkx as nx\n",
    "\n",
    "G = nx.Graph()\n",
    "G.add_edges_from([(1, 4), (1, 3), (1, 6), (1, 2), (3, 2), (6, 3), (4, 2)])\n",
    "G.add_node(5)\n",
    "\n",
    "avg_clustering = nx.average_clustering(G)\n",
    "\n",
    "print(f\"Average clustering coefficient: {avg_clustering}\")"
   ]
  },
  {
   "cell_type": "markdown",
   "id": "c6664539",
   "metadata": {},
   "source": [
    "Exercise \n",
    "\n",
    "    If you switch the labels of nodes 5 and 6 in Image 2.20a, how does that move change the adjacency matrix? And the link list?"
   ]
  },
  {
   "cell_type": "code",
   "execution_count": null,
   "id": "5ee1edd5",
   "metadata": {},
   "outputs": [],
   "source": [
    "# adjacency matrix\n",
    "(1, 4), (1, 3), (1, 5), (1, 2), (3, 2), (5, 3), (4, 2)"
   ]
  },
  {
   "cell_type": "code",
   "execution_count": null,
   "id": "91717604",
   "metadata": {},
   "outputs": [],
   "source": [
    "# link list\n",
    "print(\"Linked list for node 1: 1 -> 4 -> 3 -> 5 -> 2 -> None\")\n",
    "print(\"Linked list for node 4: 4 -> 2 -> None\")\n",
    "print(\"Linked list for node 3: 3 -> 2 -> None\")\n",
    "print(\"Linked list for node 5: 5-> 3 -> None\")\n",
    "print(\"Linked list for node 2: 2 -> 3 -> None\")\n",
    "print(\"Linked list for node 6: 6 -> None\")"
   ]
  },
  {
   "cell_type": "markdown",
   "id": "05e831ac",
   "metadata": {},
   "source": [
    "Exercise \n",
    "\n",
    "    What kind of information can you not infer from the link list representation of the network that you can infer from the adjacency matrix?"
   ]
  },
  {
   "cell_type": "markdown",
   "id": "89997e8e",
   "metadata": {},
   "source": [
    "Exercise \n",
    "\n",
    "    In the (a) network, how many paths (with possible repetition of nodes and links) of length 3 exist starting from node 1 and ending at node 3? And in (b)?"
   ]
  },
  {
   "cell_type": "markdown",
   "id": "d6e8c416",
   "metadata": {},
   "source": [
    "Exercise:\n",
    "\n",
    "    Solve exercise 2.5 ('Bipartite Networks') from NS using NetworkX in your notebook. Important note: There is a a mistake in the book. When it says \"Block diagonal\", they mean \"Anti-diagonal\" (all elements are away from the diagonal blocks)."
   ]
  },
  {
   "cell_type": "markdown",
   "id": "915022b7",
   "metadata": {},
   "source": [
    "### Part 3: Plotting degree distributions"
   ]
  },
  {
   "cell_type": "code",
   "execution_count": null,
   "id": "b60e1d98",
   "metadata": {},
   "outputs": [],
   "source": []
  },
  {
   "cell_type": "markdown",
   "id": "bfc30ade",
   "metadata": {},
   "source": [
    "### Part 4: Random networks"
   ]
  },
  {
   "cell_type": "code",
   "execution_count": null,
   "id": "db8da0c8",
   "metadata": {},
   "outputs": [],
   "source": []
  }
 ],
 "metadata": {
  "kernelspec": {
   "display_name": "Python 3 (ipykernel)",
   "language": "python",
   "name": "python3"
  },
  "language_info": {
   "codemirror_mode": {
    "name": "ipython",
    "version": 3
   },
   "file_extension": ".py",
   "mimetype": "text/x-python",
   "name": "python",
   "nbconvert_exporter": "python",
   "pygments_lexer": "ipython3",
   "version": "3.9.4"
  }
 },
 "nbformat": 4,
 "nbformat_minor": 5
}

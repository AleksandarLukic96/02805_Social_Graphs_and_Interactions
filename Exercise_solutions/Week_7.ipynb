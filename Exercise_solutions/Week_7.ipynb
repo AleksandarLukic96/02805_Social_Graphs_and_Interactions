{
 "cells": [
  {
   "cell_type": "markdown",
   "id": "7e172417",
   "metadata": {},
   "source": [
    "# Week 7"
   ]
  },
  {
   "cell_type": "markdown",
   "id": "bf42c490",
   "metadata": {},
   "source": [
    "## Part 1"
   ]
  },
  {
   "cell_type": "code",
   "execution_count": 1,
   "id": "6fb75b41",
   "metadata": {},
   "outputs": [
    {
     "data": {
      "image/jpeg": "[encoded data removed]",
      "text/html": [
       "\n",
       "        <iframe\n",
       "            width=\"800\"\n",
       "            height=\"450\"\n",
       "            src=\"https://www.youtube.com/embed/Rwakh-HXPJk\"\n",
       "            frameborder=\"0\"\n",
       "            allowfullscreen\n",
       "            \n",
       "        ></iframe>\n",
       "        "
      ],
      "text/plain": [
       "<IPython.lib.display.YouTubeVideo at 0x1d1ae416790>"
      ]
     },
     "execution_count": 1,
     "metadata": {},
     "output_type": "execute_result"
    }
   ],
   "source": [
    "from IPython.display import YouTubeVideo\n",
    "YouTubeVideo(\"Rwakh-HXPJk\",width=800, height=450)"
   ]
  },
  {
   "cell_type": "markdown",
   "id": "ab5b90da",
   "metadata": {},
   "source": [
    "# Part 2 Community detection"
   ]
  },
  {
   "cell_type": "code",
   "execution_count": 2,
   "id": "343b54fc",
   "metadata": {},
   "outputs": [
    {
     "data": {
      "text/html": [
       "<div>\n",
       "<style scoped>\n",
       "    .dataframe tbody tr th:only-of-type {\n",
       "        vertical-align: middle;\n",
       "    }\n",
       "\n",
       "    .dataframe tbody tr th {\n",
       "        vertical-align: top;\n",
       "    }\n",
       "\n",
       "    .dataframe thead th {\n",
       "        text-align: right;\n",
       "    }\n",
       "</style>\n",
       "<table border=\"1\" class=\"dataframe\">\n",
       "  <thead>\n",
       "    <tr style=\"text-align: right;\">\n",
       "      <th></th>\n",
       "      <th>0</th>\n",
       "    </tr>\n",
       "  </thead>\n",
       "  <tbody>\n",
       "    <tr>\n",
       "      <th>0</th>\n",
       "      <td>{\"A Thousand Horses\": [\"country\", \"country roc...</td>\n",
       "    </tr>\n",
       "  </tbody>\n",
       "</table>\n",
       "</div>"
      ],
      "text/plain": [
       "                                                   0\n",
       "0  {\"A Thousand Horses\": [\"country\", \"country roc..."
      ]
     },
     "execution_count": 2,
     "metadata": {},
     "output_type": "execute_result"
    }
   ],
   "source": [
    "import pandas as pd\n",
    "import nltk\n",
    "\n",
    "# Load the data\n",
    "url = 'https://raw.githubusercontent.com/SocialComplexityLab/socialgraphs2024/refs/heads/main/files/artists_genres_dictionary.txt'\n",
    "data = pd.read_csv(url)\n",
    "data.head()\n",
    "\n",
    "# Create a dictionary of genres\n",
    "genres = {}\n",
    "for i in range(len(data)):\n",
    "    artist = data['artist'][i]\n",
    "    genre = data['genre'][i]\n",
    "    genres[artist] = genre\n",
    "\n",
    "\n",
    "\n"
   ]
  },
  {
   "cell_type": "code",
   "execution_count": 3,
   "id": "f35102a1",
   "metadata": {},
   "outputs": [
    {
     "name": "stdout",
     "output_type": "stream",
     "text": [
      "[('A Thousand Horses', 'A.P. Carter', {'weight': 1}), ('A Thousand Horses', 'Aaron Barker', {'weight': 1}), ('A Thousand Horses', 'Aaron Benward', {'weight': 1}), ('A Thousand Horses', 'Aaron Lewis (musician)', {'weight': 1}), ('A Thousand Horses', 'Aaron Lines', {'weight': 1}), ('A Thousand Horses', 'Aaron Neville', {'weight': 1}), ('A Thousand Horses', 'Aaron Pritchett', {'weight': 1}), ('A Thousand Horses', 'Aaron Watson', {'weight': 1}), ('A.P. Carter', 'Aaron Barker', {'weight': 1}), ('A.P. Carter', 'Aaron Benward', {'weight': 1}), ('A.P. Carter', 'Aaron Lines', {'weight': 1}), ('A.P. Carter', 'Aaron Neville', {'weight': 2}), ('A.P. Carter', 'Aaron Pritchett', {'weight': 1}), ('A.P. Carter', 'Aaron Watson', {'weight': 1}), ('Aaron Barker', 'Aaron Benward', {'weight': 1}), ('Aaron Barker', 'Aaron Lines', {'weight': 1}), ('Aaron Barker', 'Aaron Neville', {'weight': 1}), ('Aaron Barker', 'Aaron Pritchett', {'weight': 1}), ('Aaron Barker', 'Aaron Watson', {'weight': 1}), ('Aaron Benward', 'Aaron Lines', {'weight': 1}), ('Aaron Benward', 'Aaron Neville', {'weight': 1}), ('Aaron Benward', 'Aaron Pritchett', {'weight': 1}), ('Aaron Benward', 'Aaron Watson', {'weight': 1}), ('Aaron Lewis (musician)', 'Ace in the Hole Band', {'weight': 1}), ('Aaron Lines', 'Aaron Neville', {'weight': 1}), ('Aaron Lines', 'Aaron Pritchett', {'weight': 1}), ('Aaron Lines', 'Aaron Watson', {'weight': 1}), ('Aaron Neville', 'Aaron Pritchett', {'weight': 1}), ('Aaron Neville', 'Aaron Watson', {'weight': 1}), ('Aaron Pritchett', 'Aaron Watson', {'weight': 1})]\n"
     ]
    }
   ],
   "source": [
    "import networkx as nx\n",
    "\n",
    "# Sample data as a dictionary\n",
    "artist_genres = {\n",
    "    \"A Thousand Horses\": [\"country\", \"country rock\", \"southern rock\"],\n",
    "    \"A.P. Carter\": [\"country\", \"folk\", \"gospel\"],\n",
    "    \"Aaron Barker\": [\"country\"],\n",
    "    \"Aaron Benward\": [\"country\", \"christian music\"],\n",
    "    \"Aaron Lewis (musician)\": [\"alternative metal\", \"post-grunge\", \"nu metal\", \"country rock\", \"alternative country\"],\n",
    "    \"Aaron Lines\": [\"country\"],\n",
    "    \"Aaron Neville\": [\"soul\", \"country\", \"gospel\", \"jazz\", \"pop\"],\n",
    "    \"Aaron Pritchett\": [\"country\"],\n",
    "    \"Aaron Watson\": [\"country\", \"red dirt\", \"texas country\"],\n",
    "    \"Ace in the Hole Band\": [\"alternative country\", \"neotraditional country\", \"western swing\"],\n",
    "    # Add more artists as needed\n",
    "}\n",
    "\n",
    "# Create an undirected graph\n",
    "G = nx.Graph()\n",
    "\n",
    "# Add nodes and their genres as attributes\n",
    "for artist, genres in artist_genres.items():\n",
    "    G.add_node(artist, genres=genres)\n",
    "\n",
    "# Add edges between artists who share genres\n",
    "for artist1, genres1 in artist_genres.items():\n",
    "    for artist2, genres2 in artist_genres.items():\n",
    "        if artist1 != artist2:\n",
    "            common_genres = set(genres1).intersection(genres2)\n",
    "            if common_genres:  # Create an edge if they share any genre\n",
    "                G.add_edge(artist1, artist2, weight=len(common_genres))  # Weight by the number of common genres\n",
    "\n",
    "# Print undirected graph\n",
    "print(G.edges(data=True))\n"
   ]
  },
  {
   "cell_type": "code",
   "execution_count": 4,
   "id": "0c85332c",
   "metadata": {},
   "outputs": [
    {
     "data": {
      "image/jpeg": "[encoded data removed]",
      "text/html": [
       "\n",
       "        <iframe\n",
       "            width=\"800\"\n",
       "            height=\"450\"\n",
       "            src=\"https://www.youtube.com/embed/FSRoqXw28RI\"\n",
       "            frameborder=\"0\"\n",
       "            allowfullscreen\n",
       "            \n",
       "        ></iframe>\n",
       "        "
      ],
      "text/plain": [
       "<IPython.lib.display.YouTubeVideo at 0x1d1b17c8a10>"
      ]
     },
     "execution_count": 4,
     "metadata": {},
     "output_type": "execute_result"
    }
   ],
   "source": [
    "from IPython.display import YouTubeVideo\n",
    "YouTubeVideo(\"FSRoqXw28RI\",width=800, height=450)"
   ]
  },
  {
   "cell_type": "markdown",
   "id": "ec258ac4",
   "metadata": {},
   "source": [
    "##### Exercise: Use the concept of modularity to explore how community-like the genres are.\n",
    "\n",
    "<font color='gray'> Explain the concept of modularity in your own words. </font>"
   ]
  },
  {
   "cell_type": "markdown",
   "id": "3f4eef87",
   "metadata": {},
   "source": [
    "Modularity is a measure of how well a network can be divided into communities. It is a measure of the density of links inside communities compared to links between communities. A network with high modularity has dense connections between nodes in the same community and sparse connections between nodes in different communities."
   ]
  },
  {
   "cell_type": "markdown",
   "id": "b9784af1",
   "metadata": {},
   "source": [
    "<font color='gray'> Work from the undirected version of the network, keeping only the nodes for which you have genre information in the file above. </font>"
   ]
  },
  {
   "cell_type": "code",
   "execution_count": 5,
   "id": "60d1f233",
   "metadata": {},
   "outputs": [
    {
     "name": "stdout",
     "output_type": "stream",
     "text": [
      "Graph has 1833 nodes and 1657291 edges.\n"
     ]
    }
   ],
   "source": [
    "import pandas as pd\n",
    "import json\n",
    "import networkx as nx\n",
    "\n",
    "# Load the data\n",
    "url = 'https://raw.githubusercontent.com/SocialComplexityLab/socialgraphs2024/refs/heads/main/files/artists_genres_dictionary.txt'\n",
    "data = pd.read_json(url, orient='index')\n",
    "\n",
    "# Convert to dictionary\n",
    "genres = data.to_dict()[0]  \n",
    "\n",
    "# Initialize new undirected graph\n",
    "G = nx.Graph()\n",
    "\n",
    "# Add nodes with genre information\n",
    "for artist, genre_list in genres.items():\n",
    "    G.add_node(artist, genres=genre_list)\n",
    "\n",
    "# Add edges between artists who share genres\n",
    "for artist1, genres1 in genres.items():\n",
    "    for artist2, genres2 in genres.items():\n",
    "        if artist1 != artist2:\n",
    "            common_genres = set(genres1).intersection(genres2)\n",
    "            if common_genres:  \n",
    "                G.add_edge(artist1, artist2, weight=len(common_genres))  \n",
    "\n",
    "# Subgraph containing only artists in dataset\n",
    "artists = list(genres.keys())\n",
    "G = G.subgraph(artists)\n",
    "\n",
    "# Print graph information\n",
    "print(f\"Graph has {G.number_of_nodes()} nodes and {G.number_of_edges()} edges.\")"
   ]
  },
  {
   "cell_type": "markdown",
   "id": "e28d1f17",
   "metadata": {},
   "source": []
  },
  {
   "cell_type": "code",
   "execution_count": 24,
   "id": "bc8a8244",
   "metadata": {},
   "outputs": [],
   "source": []
  },
  {
   "cell_type": "code",
   "execution_count": null,
   "id": "f81704a7",
   "metadata": {},
   "outputs": [],
   "source": []
  }
 ],
 "metadata": {
  "kernelspec": {
   "display_name": "Python 3",
   "language": "python",
   "name": "python3"
  },
  "language_info": {
   "codemirror_mode": {
    "name": "ipython",
    "version": 3
   },
   "file_extension": ".py",
   "mimetype": "text/x-python",
   "name": "python",
   "nbconvert_exporter": "python",
   "pygments_lexer": "ipython3",
   "version": "3.9.1"
  }
 },
 "nbformat": 4,
 "nbformat_minor": 5
}

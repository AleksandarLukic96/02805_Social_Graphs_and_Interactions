{
 "cells": [
  {
   "cell_type": "markdown",
   "id": "7e172417",
   "metadata": {},
   "source": [
    "# Week 7"
   ]
  },
  {
   "cell_type": "markdown",
   "id": "bf42c490",
   "metadata": {},
   "source": [
    "## Part x"
   ]
  },
  {
   "cell_type": "markdown",
   "id": "ec258ac4",
   "metadata": {},
   "source": [
    "##### Exercise x\n",
    "\n",
    "<font color='gray'> Exercise questions </font>"
   ]
  },
  {
   "cell_type": "code",
   "execution_count": null,
   "id": "3f4eef87",
   "metadata": {},
   "outputs": [],
   "source": []
  },
  {
   "cell_type": "markdown",
   "id": "abf26bf5",
   "metadata": {},
   "source": [
    "Exercise answers"
   ]
  },
  {
   "cell_type": "code",
   "execution_count": null,
   "id": "b9784af1",
   "metadata": {},
   "outputs": [],
   "source": []
  }
 ],
 "metadata": {
  "kernelspec": {
   "display_name": "Python 3 (ipykernel)",
   "language": "python",
   "name": "python3"
  },
  "language_info": {
   "codemirror_mode": {
    "name": "ipython",
    "version": 3
   },
   "file_extension": ".py",
   "mimetype": "text/x-python",
   "name": "python",
   "nbconvert_exporter": "python",
   "pygments_lexer": "ipython3",
   "version": "3.11.5"
  }
 },
 "nbformat": 4,
 "nbformat_minor": 5
}

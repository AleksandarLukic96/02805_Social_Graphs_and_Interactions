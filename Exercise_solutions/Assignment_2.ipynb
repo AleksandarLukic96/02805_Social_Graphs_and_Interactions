{
 "cells": [
  {
   "cell_type": "markdown",
   "id": "564a960f",
   "metadata": {},
   "source": [
    "# Social graph and Interactions"
   ]
  },
  {
   "cell_type": "markdown",
   "id": "8d9725c2",
   "metadata": {},
   "source": [
    "# Assignment 2"
   ]
  },
  {
   "cell_type": "markdown",
   "id": "76790b3b",
   "metadata": {},
   "source": [
    "**Group 30:**\n",
    "\n",
    "Aleksandar Lukic, s194066\n",
    "\n",
    "Clara Mejlhede Lorenzen, s180350\n",
    "\n",
    "Julia Katarzyna Zalewska, s244491"
   ]
  },
  {
   "cell_type": "markdown",
   "id": "48ee0bd3",
   "metadata": {},
   "source": [
    "## Python libraries used in this assignment"
   ]
  },
  {
   "cell_type": "code",
   "execution_count": 1,
   "id": "44e11b90",
   "metadata": {},
   "outputs": [],
   "source": [
    "import json\n",
    "import math\n",
    "import matplotlib as mpl\n",
    "from matplotlib import colormaps\n",
    "import matplotlib.pyplot as plt\n",
    "import networkx as nx\n",
    "import numpy as np\n",
    "import os\n",
    "import random\n",
    "import re\n",
    "import urllib.request"
   ]
  },
  {
   "cell_type": "markdown",
   "id": "bebfb2d7",
   "metadata": {},
   "source": [
    "## Part 1: Genres and communities and plotting"
   ]
  },
  {
   "cell_type": "markdown",
   "id": "584a1b39",
   "metadata": {},
   "source": [
    "#### Write about genres and modularity."
   ]
  },
  {
   "cell_type": "markdown",
   "id": "aa55e2b7",
   "metadata": {},
   "source": [
    "<font color='gray'> Explain the concept of modularity in your own words. </font>"
   ]
  },
  {
   "cell_type": "code",
   "execution_count": null,
   "id": "878d33f7",
   "metadata": {},
   "outputs": [],
   "source": []
  },
  {
   "cell_type": "markdown",
   "id": "0f574df1",
   "metadata": {},
   "source": [
    "<font color='gray'> Work from the undirected version of the network, keeping only the nodes for which you have genre information in the file above. </font>"
   ]
  },
  {
   "cell_type": "code",
   "execution_count": null,
   "id": "f60e4cf5",
   "metadata": {},
   "outputs": [],
   "source": []
  },
  {
   "cell_type": "markdown",
   "id": "c4306614",
   "metadata": {},
   "source": [
    "<font color='gray'> Now create your own partition of the network into genres. </font>"
   ]
  },
  {
   "cell_type": "code",
   "execution_count": null,
   "id": "32a14062",
   "metadata": {},
   "outputs": [],
   "source": []
  },
  {
   "cell_type": "markdown",
   "id": "99cf0b75",
   "metadata": {},
   "source": [
    "<font color='gray'> Spoiling your findings a little bit, an issue is the following: Almost all artists have the genre country as their first genre in the list, so by definition the network won't have very high modularity. What happens to the modularity if you grab the first genre that's not country as the genre-assignment for all nodes that have more than one genre? </font>"
   ]
  },
  {
   "cell_type": "code",
   "execution_count": null,
   "id": "c2f90d59",
   "metadata": {},
   "outputs": [],
   "source": []
  },
  {
   "cell_type": "markdown",
   "id": "f00e22b2",
   "metadata": {},
   "source": [
    "#### Detect the communities, discuss the value of modularity in comparison to the genres."
   ]
  },
  {
   "cell_type": "markdown",
   "id": "240a2227",
   "metadata": {},
   "source": [
    "<font color='gray'> Again, work only with the subnetwork of nodes that have a genre according to Aliaksandr's list (that you downloaded above). </font>"
   ]
  },
  {
   "cell_type": "code",
   "execution_count": null,
   "id": "c1afea80",
   "metadata": {},
   "outputs": [],
   "source": []
  },
  {
   "cell_type": "markdown",
   "id": "3c73def0",
   "metadata": {},
   "source": [
    "<font color='gray'> Use the Python Louvain-algorithm implementation to find communities each network. Report the value of modularity found by the algorithm. Is it higher or lower than what you found above for the genres as communities? What does this comparison reveal about them? </font>"
   ]
  },
  {
   "cell_type": "code",
   "execution_count": null,
   "id": "f9235e84",
   "metadata": {},
   "outputs": [],
   "source": []
  },
  {
   "cell_type": "markdown",
   "id": "283d3dbc",
   "metadata": {},
   "source": [
    "<font color='gray'> What is the modularity of this partitioning of the network? Is it more community-like than the genres? </font>"
   ]
  },
  {
   "cell_type": "code",
   "execution_count": null,
   "id": "1689ed30",
   "metadata": {},
   "outputs": [],
   "source": []
  },
  {
   "cell_type": "markdown",
   "id": "39ae246a",
   "metadata": {},
   "source": [
    "<font color='gray'> Visualize the network, using the Force Atlas algorithm (see Lecture 5, exercise 2). </font>"
   ]
  },
  {
   "cell_type": "code",
   "execution_count": null,
   "id": "805d7c5c",
   "metadata": {},
   "outputs": [],
   "source": []
  },
  {
   "cell_type": "markdown",
   "id": "4fa1a404",
   "metadata": {},
   "source": [
    "#### Calculate the matrix $D$ and discuss your findings."
   ]
  },
  {
   "cell_type": "markdown",
   "id": "22cf5107",
   "metadata": {},
   "source": [
    "<font color='gray'> Compare the communities found by your algorithm with the music genres by creating a matrix $D$ with dimension ($G\\times C$), where $G$ is the 7 most common genres and C is the 7 most common communities. We set entry $D(i,j)$ to be the number of nodes that genre $i$ has in common with community $j$. The matrix $D$ is what we call a confusion matrix. </font>"
   ]
  },
  {
   "cell_type": "code",
   "execution_count": null,
   "id": "f7e09f8d",
   "metadata": {},
   "outputs": [],
   "source": []
  },
  {
   "cell_type": "markdown",
   "id": "f5f19c97",
   "metadata": {},
   "source": [
    "<font color='gray'> Use the confusion matrix to explain how well the communities you've detected correspond to the genres. </font>"
   ]
  },
  {
   "cell_type": "code",
   "execution_count": null,
   "id": "933a6484",
   "metadata": {},
   "outputs": [],
   "source": []
  },
  {
   "cell_type": "markdown",
   "id": "07b4e54c",
   "metadata": {},
   "source": [
    "#### Plot the communities and comment on your results."
   ]
  },
  {
   "cell_type": "markdown",
   "id": "d65fe163",
   "metadata": {},
   "source": [
    "<font color='gray'> Exercise text </font>"
   ]
  },
  {
   "cell_type": "markdown",
   "id": "499ee73e",
   "metadata": {},
   "source": [
    "## Part 2: TF-IDF to understand genres and communities"
   ]
  },
  {
   "cell_type": "markdown",
   "id": "57e0ad0b",
   "metadata": {},
   "source": [
    "#### Explain the concept of TF-IDF in your own words and how it can help you understand the genres and communities."
   ]
  },
  {
   "cell_type": "markdown",
   "id": "2414dc54",
   "metadata": {},
   "source": [
    "<font color='gray'> Exercise text </font>"
   ]
  },
  {
   "cell_type": "code",
   "execution_count": null,
   "id": "946364a6",
   "metadata": {},
   "outputs": [],
   "source": []
  },
  {
   "cell_type": "markdown",
   "id": "0f70a2ae",
   "metadata": {},
   "source": [
    "#### Calculate and visualize TF-IDF for the genres and communities."
   ]
  },
  {
   "cell_type": "markdown",
   "id": "8f531cc5",
   "metadata": {},
   "source": [
    "<font color='gray'> Exercise text </font>"
   ]
  },
  {
   "cell_type": "code",
   "execution_count": null,
   "id": "f7740c48",
   "metadata": {},
   "outputs": [],
   "source": []
  },
  {
   "cell_type": "markdown",
   "id": "6ad4b92c",
   "metadata": {},
   "source": [
    "#### Use the matrix D (Lecture 7, part 2) to dicusss the difference between the word-clouds between genres and communities."
   ]
  },
  {
   "cell_type": "markdown",
   "id": "01ea2c2e",
   "metadata": {},
   "source": [
    "<font color='gray'> Exercise text </font>"
   ]
  },
  {
   "cell_type": "markdown",
   "id": "f00675db",
   "metadata": {},
   "source": [
    "## Part 3: Sentiment of the artists and communities"
   ]
  },
  {
   "cell_type": "markdown",
   "id": "2fc13389",
   "metadata": {},
   "source": [
    "#### Calculate the sentiment of the Artists pages (OK to work with the sub-network of artists-with-genre) and describe your findings using stats and visualization, inspired by the first exercise of week 8."
   ]
  },
  {
   "cell_type": "markdown",
   "id": "7ec1835b",
   "metadata": {},
   "source": [
    "<font color='gray'> Exercise text </font>"
   ]
  },
  {
   "cell_type": "code",
   "execution_count": null,
   "id": "e79d2c72",
   "metadata": {},
   "outputs": [],
   "source": []
  },
  {
   "cell_type": "markdown",
   "id": "6976cecf",
   "metadata": {},
   "source": [
    "#### Discuss the sentiment of the largest communities. Do the findings using TF-IDF during Lecture 7 help you understand your results?"
   ]
  },
  {
   "cell_type": "markdown",
   "id": "023a0f6c",
   "metadata": {},
   "source": [
    "<font color='gray'> Exercise text </font>"
   ]
  },
  {
   "cell_type": "code",
   "execution_count": null,
   "id": "a5f1af5b",
   "metadata": {},
   "outputs": [],
   "source": []
  }
 ],
 "metadata": {
  "kernelspec": {
   "display_name": "Python 3 (ipykernel)",
   "language": "python",
   "name": "python3"
  },
  "language_info": {
   "codemirror_mode": {
    "name": "ipython",
    "version": 3
   },
   "file_extension": ".py",
   "mimetype": "text/x-python",
   "name": "python",
   "nbconvert_exporter": "python",
   "pygments_lexer": "ipython3",
   "version": "3.11.5"
  }
 },
 "nbformat": 4,
 "nbformat_minor": 5
}

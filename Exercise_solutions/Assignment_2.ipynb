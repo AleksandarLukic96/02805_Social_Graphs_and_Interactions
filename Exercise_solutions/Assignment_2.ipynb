{
 "cells": [
  {
   "cell_type": "markdown",
   "id": "564a960f",
   "metadata": {},
   "source": [
    "# Social graph and Interactions"
   ]
  },
  {
   "cell_type": "markdown",
   "id": "8d9725c2",
   "metadata": {},
   "source": [
    "# Assignment 2"
   ]
  },
  {
   "cell_type": "markdown",
   "id": "76790b3b",
   "metadata": {},
   "source": [
    "**Group 30:**\n",
    "\n",
    "Aleksandar Lukic, s194066\n",
    "\n",
    "Clara Mejlhede Lorenzen, s180350\n",
    "\n",
    "Julia Katarzyna Zalewska, s244491"
   ]
  },
  {
   "cell_type": "markdown",
   "id": "48ee0bd3",
   "metadata": {},
   "source": [
    "## Python libraries used in this assignment"
   ]
  },
  {
   "cell_type": "code",
   "execution_count": 1,
   "id": "44e11b90",
   "metadata": {},
   "outputs": [],
   "source": [
    "import json\n",
    "import math\n",
    "import matplotlib as mpl\n",
    "from matplotlib import colormaps\n",
    "import matplotlib.pyplot as plt\n",
    "import networkx as nx\n",
    "import numpy as np\n",
    "import os\n",
    "import random\n",
    "import re\n",
    "import urllib.request"
   ]
  },
  {
   "cell_type": "markdown",
   "id": "bebfb2d7",
   "metadata": {},
   "source": [
    "## Part 1: Genres and communities and plotting"
   ]
  },
  {
   "cell_type": "markdown",
   "id": "584a1b39",
   "metadata": {},
   "source": [
    "#### <font color='gray'>  Write about genres and modularity. </font>"
   ]
  },
  {
   "cell_type": "code",
   "execution_count": null,
   "id": "623f9474",
   "metadata": {},
   "outputs": [],
   "source": []
  },
  {
   "cell_type": "markdown",
   "id": "f00e22b2",
   "metadata": {},
   "source": [
    "#### <font color='gray'> Detect the communities, discuss the value of modularity in comparison to the genres.</font>"
   ]
  },
  {
   "cell_type": "code",
   "execution_count": null,
   "id": "ac591921",
   "metadata": {},
   "outputs": [],
   "source": []
  },
  {
   "cell_type": "markdown",
   "id": "4fa1a404",
   "metadata": {},
   "source": [
    "#### <font color='gray'> Calculate the matrix $D$ and discuss your findings.</font>"
   ]
  },
  {
   "cell_type": "code",
   "execution_count": null,
   "id": "f7e09f8d",
   "metadata": {},
   "outputs": [],
   "source": []
  },
  {
   "cell_type": "markdown",
   "id": "07b4e54c",
   "metadata": {},
   "source": [
    "#### <font color='gray'> Plot the communities and comment on your results.</font>"
   ]
  },
  {
   "cell_type": "code",
   "execution_count": null,
   "id": "fed31de8",
   "metadata": {},
   "outputs": [],
   "source": []
  },
  {
   "cell_type": "markdown",
   "id": "499ee73e",
   "metadata": {},
   "source": [
    "## Part 2: TF-IDF to understand genres and communities"
   ]
  },
  {
   "cell_type": "markdown",
   "id": "57e0ad0b",
   "metadata": {},
   "source": [
    "#### <font color='gray'> Explain the concept of TF-IDF in your own words and how it can help you understand the genres and communities. </font>"
   ]
  },
  {
   "cell_type": "code",
   "execution_count": null,
   "id": "946364a6",
   "metadata": {},
   "outputs": [],
   "source": []
  },
  {
   "cell_type": "markdown",
   "id": "0f70a2ae",
   "metadata": {},
   "source": [
    "#### <font color='gray'> Calculate and visualize TF-IDF for the genres and communities.</font>"
   ]
  },
  {
   "cell_type": "code",
   "execution_count": null,
   "id": "f7740c48",
   "metadata": {},
   "outputs": [],
   "source": []
  },
  {
   "cell_type": "markdown",
   "id": "6ad4b92c",
   "metadata": {},
   "source": [
    "#### <font color='gray'> Use the matrix D (Lecture 7, part 2) to dicusss the difference between the word-clouds between genres and communities.</font>"
   ]
  },
  {
   "cell_type": "code",
   "execution_count": null,
   "id": "ca232ae1",
   "metadata": {},
   "outputs": [],
   "source": []
  },
  {
   "cell_type": "markdown",
   "id": "f00675db",
   "metadata": {},
   "source": [
    "## Part 3: Sentiment of the artists and communities"
   ]
  },
  {
   "cell_type": "markdown",
   "id": "2fc13389",
   "metadata": {},
   "source": [
    "#### <font color='gray'> Calculate the sentiment of the Artists pages (OK to work with the sub-network of artists-with-genre) and describe your findings using stats and visualization, inspired by the first exercise of week 8.</font>"
   ]
  },
  {
   "cell_type": "code",
   "execution_count": null,
   "id": "e79d2c72",
   "metadata": {},
   "outputs": [],
   "source": []
  },
  {
   "cell_type": "markdown",
   "id": "6976cecf",
   "metadata": {},
   "source": [
    "#### <font color='gray'> Discuss the sentiment of the largest communities. Do the findings using TF-IDF during Lecture 7 help you understand your results?</font>"
   ]
  },
  {
   "cell_type": "code",
   "execution_count": null,
   "id": "a5f1af5b",
   "metadata": {},
   "outputs": [],
   "source": []
  }
 ],
 "metadata": {
  "kernelspec": {
   "display_name": "Python 3 (ipykernel)",
   "language": "python",
   "name": "python3"
  },
  "language_info": {
   "codemirror_mode": {
    "name": "ipython",
    "version": 3
   },
   "file_extension": ".py",
   "mimetype": "text/x-python",
   "name": "python",
   "nbconvert_exporter": "python",
   "pygments_lexer": "ipython3",
   "version": "3.11.5"
  }
 },
 "nbformat": 4,
 "nbformat_minor": 5
}

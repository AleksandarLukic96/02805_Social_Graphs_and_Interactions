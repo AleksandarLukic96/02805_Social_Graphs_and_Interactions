{
 "cells": [
  {
   "cell_type": "markdown",
   "id": "564a960f",
   "metadata": {},
   "source": [
    "# Social graph and Interactions"
   ]
  },
  {
   "cell_type": "markdown",
   "id": "8d9725c2",
   "metadata": {},
   "source": [
    "# Assignment 2"
   ]
  },
  {
   "cell_type": "markdown",
   "id": "76790b3b",
   "metadata": {},
   "source": [
    "**Group 30:**\n",
    "\n",
    "Aleksandar Lukic, s194066\n",
    "\n",
    "Clara Mejlhede Lorenzen, s180350\n",
    "\n",
    "Julia Katarzyna Zalewska, s244491"
   ]
  },
  {
   "cell_type": "markdown",
   "id": "48ee0bd3",
   "metadata": {},
   "source": [
    "## Python libraries used in this assignment"
   ]
  },
  {
   "cell_type": "code",
   "execution_count": 7,
   "id": "44e11b90",
   "metadata": {},
   "outputs": [],
   "source": [
    "import json\n",
    "import math\n",
    "import matplotlib as mpl\n",
    "from matplotlib import colormaps\n",
    "import matplotlib.pyplot as plt\n",
    "import networkx as nx\n",
    "import numpy as np\n",
    "import os\n",
    "import random\n",
    "import re\n",
    "import urllib.request\n",
    "import pandas as pd\n",
    "#%pip install louvain\n",
    "#import community "
   ]
  },
  {
   "cell_type": "markdown",
   "id": "bebfb2d7",
   "metadata": {},
   "source": [
    "## Part 1: Genres and communities and plotting"
   ]
  },
  {
   "cell_type": "markdown",
   "id": "584a1b39",
   "metadata": {},
   "source": [
    "#### <font color='gray'>  Write about genres and modularity. </font>"
   ]
  },
  {
   "cell_type": "markdown",
   "id": "083c3dfd",
   "metadata": {},
   "source": [
    "Genres is a cluster of communities in a network. Modularity is a measure of how well a network can be divided into communities. A network with high modularity has dense connections between nodes in the same community and sparse connections between nodes in different communities.\n"
   ]
  },
  {
   "cell_type": "markdown",
   "id": "feb703a8",
   "metadata": {},
   "source": [
    "<font color='gray'>  Work from the undirected version of the network, keeping only the nodes for which you have genre information in the file above. </font>"
   ]
  },
  {
   "cell_type": "code",
   "execution_count": 8,
   "id": "2e5d9286",
   "metadata": {},
   "outputs": [
    {
     "name": "stdout",
     "output_type": "stream",
     "text": [
      "Graph has 1833 nodes and 1657291 edges.\n"
     ]
    }
   ],
   "source": [
    "# Load the data\n",
    "url = 'https://raw.githubusercontent.com/SocialComplexityLab/socialgraphs2024/refs/heads/main/files/artists_genres_dictionary.txt'\n",
    "data = pd.read_json(url, orient='index')\n",
    "\n",
    "# Convert to dictionary\n",
    "genres = data.to_dict()[0]  \n",
    "\n",
    "# Initialize new undirected graph\n",
    "G = nx.Graph()\n",
    "\n",
    "# Add nodes with genre information\n",
    "for artist, genre_list in genres.items():\n",
    "    G.add_node(artist, genres=genre_list)\n",
    "\n",
    "# Add edges between artists who share genres\n",
    "for artist1, genres1 in genres.items():\n",
    "    for artist2, genres2 in genres.items():\n",
    "        if artist1 != artist2:\n",
    "            common_genres = set(genres1).intersection(genres2)\n",
    "            if common_genres:  \n",
    "                G.add_edge(artist1, artist2, weight=len(common_genres))  \n",
    "\n",
    "# Subgraph containing only artists in dataset\n",
    "artists = list(genres.keys())\n",
    "G = G.subgraph(artists)\n",
    "\n",
    "# Print graph information\n",
    "print(f\"Graph has {G.number_of_nodes()} nodes and {G.number_of_edges()} edges.\")"
   ]
  },
  {
   "cell_type": "markdown",
   "id": "b220630f",
   "metadata": {},
   "source": [
    "<font color='gray'> Now create your own partition of the network into genres. </font>"
   ]
  },
  {
   "cell_type": "code",
   "execution_count": 9,
   "id": "79ea4143",
   "metadata": {},
   "outputs": [
    {
     "name": "stdout",
     "output_type": "stream",
     "text": [
      "{'A Thousand Horses': 'c', 'A.P. Carter': 'c', 'Aaron Barker': 'c', 'Aaron Benward': 'c', 'Aaron Lewis (musician)': 'a', 'Aaron Lines': 'c', 'Aaron Neville': 's', 'Aaron Pritchett': 'c', 'Aaron Watson': 'c', 'Ace in the Hole Band': 'a', 'Adam Brand (musician)': 'c', 'Adam Gregory': 'c', 'Adam Harvey': 'c', 'Adrienne Young': 'b', 'Al Anderson (NRBQ)': 'r', 'Al Caiola': 'j', 'Al Dexter': 'c', 'Al Downing (musician)': 'r', 'Al Hurricane Jr.': 'n', 'Al Hurricane': 'n', 'Alabama (band)': 'c', 'Alan Jackson': 'n', 'Alecia Elliott': 'c', 'Alecia Nugent': 'b', 'Alee (singer)': 'c', 'Aleyce Simmonds': 'c', 'Alisan Porter': 'p', 'Alison Krauss': 'b', 'Alli Walker': 'c', 'Allison Moorer': 'a', 'Allison Russell': 'a', 'Allman Brothers Band': 's', 'Alyssa Micaela': 'c', 'Amanda Shires': 'a', 'Amanda Stott': 'c', 'Amanda Wilkinson': 'c', 'Amazing Rhythm Aces': 'c', 'Amber Dotson': 'c', 'Amber Hayes': 'c', 'Amber Lawrence': 'a', 'American Young': 'c', 'Amie Comeaux': 'c', 'Amy Dalley': 'c', 'Amy Grant': 'c', 'Amy Helm': 'f', 'Andrew Combs (musician)': 'c', 'Andrew Jenkins (songwriter)': 'c', 'Andy Childs': 'c', 'Andy Gibson (singer)': 'c', 'Andy Griggs': 'c', 'Angaleena Presley': 'c', 'Anita Carter': 'c', 'Anita Cochran': 'c', 'Anne Murray': 'c', 'Anthony Armstrong Jones': 'c', 'Anthony Smith (singer)': 'c', 'Archer/Park': 'c', 'Arlene Harden': 'c', 'Ash Bowers': 'c', 'Ashley Arrison': 'p', 'Ashley Campbell (musician)': 'c', 'Ashley Cooke': 'c', 'Ashley Gearing': 'c', 'Ashley McBryde': 'c', 'Ashley Monroe': 'n', 'Ashton Shepherd': 'c', 'Asleep at the Wheel': 'c', 'Aubrey Haynie': 'b', 'Aubrie Sellers': 'a', 'Audrey Auld-Mezera': 'c', 'Augie Meyers': 'g', 'Austin Lucas': 'p', 'Austin Webb': 'c', 'Autumn Hill': 'c', 'Avicii': 'e', 'B. B. Watson': 'c', 'B. J. Thomas': 'c', 'BR549': 'a', 'Backstreet Boys': 'p', 'Bacon Brothers': 'c', 'Bailey Bryan': 'p', 'Bailey Zimmerman': 'c', 'Baker & Myers': 'c', 'Bandana (country band)': 'c', 'Bap Kennedy': 'r', 'Barbara Fairchild': 'c', 'Barbara Mandrell': 'c', 'Barrett Baber': 'c', 'Bebe Rexha': 'p', 'Beccy Cole': 'c', 'Becky Hobbs': 'c', 'Bekka & Billy': 'c', 'Bering Strait (band)': 'c', 'Bernie Leadon': 'r', 'Bertie Higgins': 'c', 'Beth Nielsen Chapman': 'a', 'Beverley Mahood': 'c', 'Beyoncé': 'p', 'Big & Rich': 'c', 'Big House (American band)': 'c', 'Big Kenny': 'c', 'Big Smo': 'c', 'Big Tom': 'c', 'Bill Anderson (singer)': 'c', 'Bill Carlisle': 'c', 'Bill Chambers (musician)': 'c', 'Bill Engvall': 'c', 'Bill Evans (bluegrass)': 'b', 'Bill Haley & His Comets': 'r', 'Bill Kirchen': 'c', 'Bill LaBounty': 'c', 'Bill Monroe': 'b', 'Bill Phillips (singer)': 'c', 'Billie Jo Spears': 'c', 'Billy Bob Thornton': 'a', 'Billy Burnette': 'r', 'Billy Currington': 'c', 'Billy Dean': 'c', 'Billy Edd Wheeler': 'f', 'Billy Gilman': 'c', 'Billy Grammer': 'c', 'Billy Hancock': 'r', 'Billy Hill (supergroup)': 'c', 'Billy Hoffman (singer)': 'c', 'Billy Joe Royal': 'r', 'Billy Joe Shaver': 'o', 'Billy Montana': 'c', 'Billy Parker (singer)': 'c', 'Billy Ray Cyrus': 'c', 'Billy Strings': 'b', 'Billy Swan': 'c', 'Billy ThunderKloud & the Chieftones': 'c', 'Billy Walker (musician)': 'c', 'Billy Yates (singer)': 'c', 'Black Tie (band)': 'c', 'Blackberry Smoke': 's', 'Blackhawk (band)': 'c', 'Blaine Larsen': 'c', 'Blake & Brian': 'c', 'Blake Shelton': 'c', 'Blaze Foley': 'o', 'Blue County (music group)': 'c', 'Blue Highway': 'b', 'Blue Rodeo': 'p', 'Bo Bice': 's', 'Bob Dylan': 'f', 'Bob Luman': 'c', 'Bob Nolan': 'w', 'Bob Seger': 'r', 'Bob Wills': 'w', 'Bob Woodruff (singer)': 'c', 'Bobbejaan Schoepen': 't', 'Bobbie Cryner': 'c', 'Bobbie Gentry': 'c', 'Bobby Bare': 'c', 'Bobby Bones': 'c', 'Bobby Darin': 'p', 'Bobby Edwards': 'c', 'Bobby Goldsboro': 'c', 'Bobby Helms': 'c', 'Bobby Pinson': 'c', 'Bobby Russell': 'c', 'Bobby Wills': 'c', 'Bomshel': 'c', 'Bon Jovi': 'h', 'Bonnie Guitar': 'c', 'Bonnie Raitt': 'b', 'Bonnie Tyler': 'r', 'Boxcar Willie': 'c', 'Boy Howdy (band)': 'c', 'Brad Cotter': 'c', 'Brad Johner': 'c', 'Brad Martin': 'c', 'Brad Paisley': 'c', 'Bradley Gaskin': 'c', 'Bradley Walker (singer)': 'c', 'Brady Seals': 'c', 'Brandi Carlile': 'a', 'Brandon Jenkins (musician)': 'r', 'Brandy Clark': 'c', 'Brantley Gilbert': 'c', 'Breland (musician)': 'h', 'Brenda Lee': 'r', 'Brent Anderson (singer)': 'c', 'Brent Cobb': 'c', 'Bret Michaels': 'h', 'Brett Eldredge': 'c', 'Brett James': 'c', 'Brett Kissel': 'c', 'Brett Young (singer)': 'c', 'Brian Hyland': 'b', 'Brian Kelley (musician)': 'c', 'Brian McComas': 'c', 'Brice Long': 'c', 'Brooke Eden': 'c', 'Brooks & Dunn': 'n', 'Brother Phelps': 'c', 'Brothers Osborne': 'c', 'Bruce Guthro': 'f', 'Bruce Robison': 'f', 'Bryan Austin': 'c', 'Bryan Martin (singer)': 'c', 'Bryan Sutton': 'c', 'Bryan White': 'c', 'Buck Owens': 'c', 'Buckwheat Zydeco': 'z', 'Bucky Covington': 'c', 'Buddy Brown (musician)': 'c', 'Buddy Holly': 'r', 'Buddy Jewell': 'c', 'Buddy Miller': 'c', 'Buffalo Springfield': 'f', 'Burl Ives': 'c', \"Burnin' Daylight\": 'c', 'Burns & Poe': 'c', 'Butch Hancock': 'c', 'CB30': 'c', 'Cactus Choir (band)': 'c', 'Caitlin & Will': 'c', 'Caitlin Cary': 'c', 'Caitlyn Shadbolt': 'c', 'Caitlyn Smith': 'c', 'Cal Smith': 'c', 'Calamity Jane (country music band)': 'c', 'Cale Dodds': 'c', 'Cam (singer)': 'c', 'Cameron Duddy': 'c', 'Canaan Smith': 'c', 'Canyon (country music band)': 'c', 'Carbon Leaf': 'a', 'Carl Belew': 'c', 'Carl Butler and Pearl': 'c', 'Carl Perkins': 'r', 'Carl Smith (country musician)': 'c', 'Carlene Carter': 'c', 'Carly Pearce': 'c', 'Carmen Rasmusen': 'c', 'Carolina Rain': 'c', 'Caroline Herring': 'f', 'Carolyn Dawn Johnson': 'c', 'Carrie Elkin': 'f', 'Carrie Rodriguez': 'c', 'Carrie Underwood': 'c', 'Carson Robison': 'c', \"Carter's Chord\": 'c', 'Caryl Mack Parker': 'c', 'Casey Donahew': 'c', 'Casey James': 'p', 'Cassadee Pope': 'c', 'Cassandra Vasik': 'c', 'Catherine Britt': 'c', 'Catherine McGrath': 'c', 'Caylee Hammack': 'c', 'Chad Brock': 'c', 'Chad Brownlee': 'c', 'Chad Klinger': 'c', 'Chalee Tennison': 'c', 'Chance (band)': 'c', 'Chapel Hart': 'c', 'Charles Kelley': 'c', 'Charley Crockett': 'a', 'Charley Pride': 'c', 'Charlie Daniels': 's', 'Charlie Feathers': 'r', 'Charlie Louvin': 'c', 'Charlie Major': 'c', 'Charlie McCoy': 'c', 'Charlie Poole': 'o', 'Charlie Rich': 'c', 'Charlie Robison': 'c', 'Charlie Walker (musician)': 'c', 'Charlie Worsham': 'c', 'Charly McClain': 'c', 'Chase Bryant': 'c', 'Chase Matthew': 'c', 'Chase Rice': 'c', 'Chayce Beckham': 'c', 'Chelle Rose': 'a', 'Chely Wright': 'c', 'Cheryl Wheeler': 'f', 'Chet Atkins': 'c', 'Chip Taylor': 'c', 'Chris Buck Band': 'c', 'Chris Cagle': 'c', 'Chris Cummings': 'c', 'Chris Gaffney (musician)': 'c', 'Chris Hawkey': 'c', 'Chris Hillman': 'f', 'Chris Janson': 'c', 'Chris Knight (musician)': 'r', 'Chris Lane': 'c', 'Chris LeDoux': 'c', 'Chris Marion': 'r', 'Chris Scruggs': 'c', 'Chris Stapleton': 'c', 'Chris Thile': 'b', 'Chris Tomlin': 'c', 'Chris Ward (singer)': 'c', 'Chris Young (singer)': 'c', 'Chuck Wicks': 'c', 'Cindy Church': 'c', 'Cindy Walker': 'c', 'Clare Dunn': 'c', 'Clarence White': 'b', 'Claude Gray': 'c', 'Claude King': 'c', 'Claudia Church': 'c', 'Clay Blaker': 'c', 'Clay Davidson': 'c', 'Clay Walker': 'c', 'Clayton Bellamy': 'c', 'Cledus T. Judd': 'c', 'Cliff Carlisle': 'c', 'Clint Black': 'c', 'Clint Daniels': 'c', 'Clint Eastwood': 'w', 'Clinton Gregory': 'c', 'Codie Prevost': 'c', 'Cody Canada': 'r', 'Cody Jinks': 'c', 'Cody Johnson': 'c', 'Cold Creek County': 'c', 'Cole Swindell': 'c', 'Cole Vosbury': 'f', 'Coley McCabe': 'c', 'Colin Amey': 'c', 'Collin Raye': 'c', 'Colt Ford': 'c', 'Colter Wall': 'w', 'Con Hunley': 'c', 'Confederate Railroad': 'c', 'Conner Smith': 'c', 'Connie Francis': 't', 'Connie Smith': 'c', 'Conway Twitty': 'c', \"Corb Lund and the Hurtin' Albertans\": 'c', 'Corbin/Hanner': 'c', 'Corey Kent': 'c', 'Corey Smith (musician)': 'c', 'Cory Marks': 'c', 'Cory Morrow': 'c', 'Court Yard Hounds': 'a', 'Courtney Marie Andrews': 'i', 'Cowan Powers and his Family Band': 's', 'Cowboy Copas': 'c', 'Cowboy Crush': 'c', 'Cowboy Junkies': 'a', 'Cowboy Troy': 'h', 'Craig Bickhardt': 'c', 'Craig Campbell (singer)': 'c', 'Craig Morgan': 'c', 'Craig Wayne Boyd': 'c', 'Creedence Clearwater Revival': 's', 'Cristy Lane': 'c', 'Crooked Still': 'p', 'Cross Canadian Ragweed': 's', 'Crossin Dixon': 'c', 'Crystal Bowersox': 'r', 'Crystal Gayle': 'c', 'Crystal Shawanda': 'c', 'Curtis Wright': 'c', 'Cyndi Thomson': 'c', 'Dailey & Vincent': 'b', 'Daisy Dern': 'c', 'Dale Daniel': 'c', 'Dale Watson (singer)': 'c', 'Dallas Frazier': 'c', 'Dallas Smith': 'c', 'Dan + Shay': 'c', 'Dan Davidson': 'c', 'Dan Hicks (singer)': 'c', 'Dan Seals': 'c', 'Daniel Romano': 'r', 'Daniele Alexander': 'c', 'Danielle Bradbery': 'c', 'Danielle Peck': 'c', 'Danni Leigh': 'c', 'Danny Barnes (musician)': 'c', 'Danny Gokey': 'p', 'Danny Worsnop': 'm', 'Darden Smith': 'f', 'Darius Rucker': 'r', 'Daron Norwood': 'c', 'Darrell McCall': 'c', 'Darrell Scott': 'c', 'Darren McGinnis': 'c', 'Darren Warren': 'c', 'Darryl Worley': 'c', 'Daryle Singletary': 'c', 'Dave & Sugar': 'c', 'Dave Alvin': 'a', 'Dave Dudley': 'c', 'Dave Loggins': 'p', 'David \"Stringbean\" Akeman': 'o', 'David Allan Coe': 'c', 'David Ball (country singer)': 'c', 'David Fanning (singer)': 'c', 'David Frizzell': 'c', 'David Gates': 's', 'David Houston (singer)': 'c', 'David James (singer)': 'c', 'David Kersh': 'c', 'David Lee Murphy': 'c', 'David Lindley (musician)': 'r', 'David Lynn Jones': 'c', 'David Nail': 'c', 'David Wills (singer)': 'c', 'Davis Daniel': 'c', 'Davisson Brothers Band': 'c', 'Dawn Sears': 'a', 'DeFord Bailey': 'c', 'Dean Brody': 'c', 'Dean Dillon': 'c', 'Dean Martin': 't', 'Dean Miller': 'c', 'Deana Carter': 'c', 'Debby Boone': 'p', 'Deborah Allen': 'c', 'Del Barber': 'f', 'Del McCoury Band': 'b', 'Del McCoury': 'b', 'Del Reeves': 'c', 'Delbert McClinton': 'a', 'Delta Rae': 'b', 'Demi Lovato': 'p', 'Dennis Robbins': 'c', 'Deric Ruttan': 'c', 'Deryl Dodd': 'c', 'Devin Dawson': 'c', 'Diamond Rio': 'c', 'Diana DeGarmo': 'c', 'Diana Jones (singer-songwriter)': 'c', 'Diane Chase': 'c', 'Dianna Corcoran': 'c', 'Dick Curless': 'c', 'Dickey Betts': 'r', 'Dierks Bentley': 'c', 'Dillon Carmichael': 'c', 'Diplo': 'e', 'Dixiana (band)': 'c', 'Doc Walker': 'c', 'Doc Watson': 'b', 'Dolly Parton': 'c', 'Don Amero': 'c', 'Don Cox (singer)': 'c', 'Don Edwards (cowboy singer)': 'c', 'Don Gibson': 'c', 'Don Henley': 'r', 'Don King (musician)': 'c', 'Don Rich': 'c', 'Don Schlitz': 'c', 'Don Walser': 'c', 'Don Williams': 'c', 'Donna Fargo': 'c', 'Donna Ulisse': 'c', 'Donny Parenteau': 'c', 'Dottie West': 'c', 'Doug Adkins': 'c', 'Doug Kershaw': 'c', 'Doug Sahm': 'c', 'Doug Seegers': 'c', 'Doug Stone': 'c', 'Doug Supernaw': 'c', 'Douwe Bob': 'c', 'Doyle Dykes': 'c', 'Doyle Holly': 'c', 'Doyle Lawson': 'b', 'Drake Jensen': 'c', 'Drake Milligan': 'c', 'Drake White': 'c', 'Drew Baldridge': 'c', 'Drew Davis Band': 'r', 'Duane Allen': 'c', 'Duane Eddy': 'i', 'Duane Steele': 'c', 'Dude Mowrey': 'c', 'Due West (band)': 'c', 'Dustin Lynch': 'c', 'Dusty Drake': 'c', 'Dwight Yoakam': 'c', 'Dylan Marlowe': 'c', 'Dylan Schneider': 'c', 'Dylan Scott': 'c', 'Eagles (band)': 'r', 'Earl Scruggs': 'b', 'Earl Thomas Conley': 'c', 'Easton Corbin': 'c', 'Eck Robertson': 'c', 'Ed Bruce': 'o', 'Ed Sheeran': 'p', 'Eddie Cochran': 'r', 'Eddie Rabbitt': 'c', 'Eddy Arnold': 'c', 'Eddy Raven': 'c', 'Edens Edge': 'c', 'Eilen Jewell': 'a', 'Elbert West': 'c', 'Eleni Mandell': 'p', 'Eli Young Band': 'c', 'Elizabeth Cook': 'c', 'Ella Langley': 'c', 'Elle King': 'a', 'Elton Britt': 'c', 'Elvis Presley': 'r', 'Emerson Drive': 'c', 'EmiSunshine': 'c', 'Emilio Navaira': 't', 'Emily Strayer': 'a', 'Emily West': 'c', 'Emmylou Harris': 'a', 'Eric Church': 'c', 'Eric Ethridge': 'c', 'Eric Heatherly': 'r', 'Eric Paslay': 'c', 'Erika Jo': 'c', 'Ernest (musician)': 'c', 'Ernest Ashworth': 'c', 'Ernest Tubb': 'c', 'Evangeline (band)': 'c', 'Exile (American band)': 'c', 'Faith Hill': 'c', \"Farmer's Daughter (band)\": 'c', 'Faron Young': 'c', 'Fast Ryde': 'c', 'Ferlin Husky': 'c', \"Fiddlin' Arthur Smith\": 'c', \"Fiddlin' John Carson\": 'o', 'First Aid Kit (band)': 'f', 'Flatland Cavalry': 'c', 'Flatt & Scruggs': 'b', 'Fleet Foxes': 'i', 'Florida Georgia Line': 'c', 'Floyd Cramer': 'c', 'Floyd Tillman': 'c', 'Flying Burrito Brothers': 'c', 'Flynnville Train': 'c', 'Foggy Mountain Boys': 'b', 'Foster & Lloyd': 'c', 'Frank Foster (country singer)': 'c', 'Frank Hannon': 'h', 'Frank Ray': 'c', 'Frankie Ballard': 'c', 'Frankie Laine': 't', 'Frankie Miller (country musician)': 'c', 'Frazier River': 'c', 'Fred Rose (songwriter)': 'c', 'Freddie Hart': 'c', 'Freddy Fender': 't', 'Freddy Weller': 'c', 'Gabbie Nolen': 'c', 'Gabby Barrett': 'c', 'Gail Davies': 'c', 'Garth Brooks': 'c', 'Gary Allan': 'c', 'Gary Burr': 'c', 'Gary LeVox': 'c', 'Gary Morris': 'c', 'Gary Nichols': 'c', 'Gary Nicholson (singer)': 'c', 'Gary P. Nunn': 'c', 'Gary Stewart (singer)': 'c', 'Gene Autry': 'c', 'Gene Clark': 'r', 'Gene Vincent': 'r', 'Gene Watson': 'c', 'George Birge': 'c', 'George Canyon': 'c', 'George Ducas (singer)': 'c', 'George Fox (singer)': 'c', 'George Hamilton IV': 'c', 'George Jones': 'c', 'George Morgan (singer)': 'c', 'George Strait': 'n', 'Georgia Middleman': 'c', 'Giant Sand': 'a', 'Gibson/Miller Band': 'c', 'Gil Grand': 'c', 'Gillian Welch': 'c', 'Gina Jeffreys': 'c', 'Gina Villalobos': 'i', 'Glen Campbell': 'c', 'Glen Templeton': 'c', 'Glenn Frey': 'r', 'Gloriana (band)': 'c', 'Goldie Hill': 'c', 'Gone West (band)': 'c', 'Goose Creek Symphony': 'p', 'Gord Bamford': 'c', 'Gordon Lightfoot': 'f', 'Gordon Mote': 'c', 'Gram Parsons': 'p', 'Grandpa Jones': 'c', 'Granger Smith': 'c', 'Great Plains (Tennessee band)': 'c', 'Great Speckled Bird (band)': 'c', 'Green River Ordinance (band)': 'p', 'Greg Hanna': 'c', 'Greg Holland (musician)': 'c', 'Greg Keelor': 'r', 'Gregg Allman': 'b', 'Gretchen Peters': 'c', 'Gretchen Wilson': 'c', 'Griffen Palmer': 'c', 'Gus Hardin': 'c', 'Guy Clark': 'c', 'Gwen Sebastian': 'c', 'Gwen Stefani': 'p', 'Hailey Whitters': 'c', 'Hal Ketchum': 'c', 'Hal Willis (singer)': 'c', 'Haley & Michaels': 'c', 'Halfway to Hazard': 'c', 'Hank Cochran': 'c', 'Hank Flamingo': 'c', 'Hank Garland': 'j', 'Hank Locklin': 'c', 'Hank Snow': 'c', 'Hank Thompson (musician)': 'c', 'Hank Williams III': 'o', 'Hank Williams Jr.': 'c', 'Hank Williams': 'c', 'Hanna-McEuen': 'c', 'Hardy (singer)': 'c', 'Harley Allen': 'c', 'Harmony James': 'c', 'Hawkshaw Hawkins': 'c', 'Hayden Thompson': 'r', 'Hayes Carll': 't', 'Hayley Oliver': 'c', 'Heartland (band)': 'c', 'Heather Myles': 'c', 'Heidi Newfield': 'c', 'Helen Cornelius': 'c', 'Helen Darling (singer)': 'c', 'Hellbound Glory': 'c', 'Henry Paul (musician)': 's', 'Henson Cargill': 'c', 'Herb Pedersen': 'c', 'Hey Romeo': 'c', 'High Valley': 'c', 'Highway 101': 'c', 'Hillary Lindsey': 'c', 'Hillary Scott': 'c', 'Holly Dunn': 'c', 'Holly Lamar': 'c', 'Holly Williams (musician)': 'c', 'Home Free (group)': 'a', 'Honky Tonk Confidential': 'h', 'Hootie & the Blowfish': 'p', 'Hot Apple Pie': 'c', 'Hoyt Axton': 'c', 'Hunter Brothers': 'c', 'Hunter Hayes': 'c', 'Ian & Sylvia': 'f', 'Ian Tyson': 'c', 'Ilse DeLange': 'c', 'Infamous Stringdusters': 'p', 'Ingrid Andress': 'c', 'Ira Louvin': 'c', 'Irene Kelley': 'c', 'Iris DeMent': 'c', 'Izzy Miller': 'r', 'J. Michael Harter': 'c', 'J. R. Vautour': 'c', 'JB and the Moonshine Band': 'c', 'JD Souther': 'p', 'JJ Cale': 'a', 'JJ Lawhorn': 'c', 'JT Hodges': 'c', 'Jace Everett': 'c', 'Jack Clement': 'r', 'Jack Greene': 'c', 'Jack Ingram': 'c', 'Jack White': 'b', 'Jackie Lee (country singer)': 'c', 'Jackson Dean': 'c', 'Jacky Ward': 'c', 'Jacob Lyda': 'c', 'Jade Eagleson': 'c', 'Jaida Dreyer': 'c', 'Jake Mathews': 'c', 'Jake Owen': 'c', 'James Barker Band': 'c', 'James Blundell (singer)': 'c', 'James Bonamy': 'c', 'James House (singer)': 'c', 'James Intveld': 'a', 'James McMurtry': 'r', 'James Otto': 'c', 'James Taylor': 's', 'James Wesley': 'c', 'James and the Shame': 'c', 'Jameson Clark (singer)': 'c', 'Jameson Rodgers': 'c', 'Jamey Johnson': 'c', 'Jamie Lee Thurston': 'c', 'Jamie Lynn Spears': 'c', \"Jamie O'Hara (singer)\": 'c', \"Jamie O'Neal\": 'c', 'Jamie Warren': 'c', 'Jan Howard': 'c', 'Janette Carter': 'g', 'Janie Fricke': 'c', 'Janis Martin': 'r', 'Jann Browne': 'c', 'Jaron Lowenstein': 'c', 'Jasmine Rae': 'c', 'Jason Aldean': 'c', 'Jason Benoit': 'c', 'Jason Blaine': 'c', 'Jason Boland & the Stragglers': 'r', 'Jason Isbell': 'a', 'Jason McCoy': 'c', 'Jason Michael Carroll': 'c', 'Jason Ringenberg': 'c', 'Jason Sellers': 'c', 'Jason Sturgeon': 'c', 'Jawga Boyz': 'c', 'Jay Farrar': 'a', 'Jaydee Bixby': 'c', 'Jean Shepard': 'c', 'Jeanne Pruett': 'c', 'Jeannie C. Riley': 'c', 'Jeannie Seely': 'c', 'Jedd Hughes': 'c', 'Jeff Bates': 'c', 'Jeff Carson': 'c', 'Jeff Chance': 'c', 'Jeff Cook': 'c', 'Jeff Foxworthy': 'o', 'Jeff Hanna': 'c', 'Jeff Knight (musician)': 'c', 'Jeff Tweedy': 'a', 'Jeff Wood (singer)': 'c', 'Jeffrey Foucault': 'f', 'Jeffrey Steele': 'c', 'Jelly Roll (singer)': 'h', 'Jennette McCurdy': 'c', 'Jennifer Hanson': 'c', 'Jennifer Nettles': 'c', 'Jenny Lou Carson': 'c', 'Jenny Simpson (singer)': 'c', 'Jenny Whiteley': 'c', 'Jeremy McComb': 'c', 'Jerrod Niemann': 'c', 'Jerry Douglas': 'a', 'Jerry Jeff Walker': 'p', 'Jerry Kilgore (singer)': 'c', 'Jerry Lee Lewis': 'r', 'Jerry Reed': 'c', 'Jerry Salley': 'b', 'Jerry Wallace': 'c', 'Jess Moskaluke': 'c', 'Jesse Dayton': 'a', 'Jesse Hunter': 'c', 'Jesse Lee (singer)': 'c', 'Jesse Mast': 'c', 'Jesse Winchester': 'c', 'Jessi Alexander': 'c', 'Jessi Colter': 'c', 'Jessica Andrews': 'c', 'Jessica Harp': 'c', 'Jessica Sierra': 'p', 'Jessica Simpson': 'p', 'Jessie Farrell': 'c', 'Jessie James Decker': 'c', 'Jetty Road (band)': 'c', 'Jewel (musician)': 'f', 'Jill Johnson': 'c', 'Jill King': 'c', 'Jim Collins (singer)': 'c', 'Jim Cuddy': 'r', 'Jim Ed Brown': 'c', 'Jim Glaser': 'c', 'Jim Hurst': 'c', 'Jim Lauderdale': 'a', 'Jim Reeves': 'c', 'Jim Witter': 'c', 'Jimmie Allen': 'c', 'Jimmie Dale Gilmore': 'c', 'Jimmie Rodgers (country singer)': 'c', 'Jimmie Rodgers (pop singer)': 'f', 'Jimmy Bryant': 'c', 'Jimmy Buffett': 't', 'Jimmy C. Newman': 'c', 'Jimmy Dean': 'c', 'Jimmy Fortune': 'c', 'Jimmy Gaudreau': 'b', 'Jimmy Ibbotson': 'c', 'Jimmy Lee Fautheree': 'r', 'Jimmy Rankin': 'c', 'Jimmy Wakely': 'c', 'Jimmy Wayne': 'c', 'Jimmy Webb': 'p', 'Jo Dee Messina': 'c', 'Jo Hikk': 'c', 'Jo-El Sonnier': 'c', 'Joanie Keller': 'c', 'Joanna Cotten': 'c', 'Joanna Smith': 'c', 'Jody Miller': 'c', 'Joe Barnhill': 'c', 'Joe Bonsall': 'c', 'Joe Diffie': 'c', 'Joe Ely': 'a', 'Joe Maphis': 'c', 'Joe Nichols': 'c', 'Joe Poovey': 'r', 'Joe Stampley': 'c', 'Joel Crouse': 'c', 'Joel Feeney': 'c', 'Joey + Rory': 'c', 'Joey Feek': 'c', 'John Anderson (singer)': 'c', 'John Arthur Martinez': 'c', 'John Berry (country singer)': 'c', 'John Bunzow': 'a', 'John Carter Cash': 'c', 'John Conlee': 'c', 'John D. Loudermilk': 'c', 'John Denver': 'f', 'John Driskell Hopkins': 'a', 'John Duffey': 'b', 'John Fogerty': 'r', 'John Hartford': 'p', 'John Hiatt': 'h', 'John Jorgenson': 'g', 'John King (country singer)': 'c', 'John Landry': 'c', 'John Mayer': 'r', 'John McEuen': 'c', 'John Mellencamp': 'h', 'John Michael Montgomery': 'c', 'John Morgan (singer)': 'c', 'John Paul White': 'f', 'John Prine': 'c', 'John Rich': 'c', 'John Schneider (screen actor)': 'c', 'John Sines Jr.': 'c', 'John Wesley Ryles': 'c', 'John Williamson (singer)': 'c', 'Johnnie & Jack': 'c', 'Johnny Bond': 'c', 'Johnny Bush': 'c', 'Johnny Carver (musician)': 'c', 'Johnny Cash': 'c', 'Johnny Darrell': 'c', 'Johnny Duncan (country singer)': 'c', 'Johnny Gimble': 'c', 'Johnny Horton': 'c', 'Johnny Lee (singer)': 'c', 'Johnny Paycheck': 'c', 'Johnny Rodriguez': 'c', 'Johnny Russell (singer)': 'c', 'Johnny Tillotson': 'c', 'Johnny Van Zant': 's', 'Jojo Mason': 'c', 'Jolie Holland': 'r', 'Jon Christopher Davis': 'r', 'Jon Langston': 'c', 'Jon Pardi': 'c', 'Jon Randall': 'c', 'Jon Wolfe': 'c', 'Jonathan Byrd (musician)': 'c', 'Jonathan Edwards (musician)': 'c', 'Jonathan Singleton': 'c', 'Jonny Diaz': 'c', 'Jordan Davis (singer)': 'c', 'Jordan McIntosh': 'c', 'Jordan Rager': 'c', 'Josh Abbott Band': 'r', 'Josh Gracin': 'c', 'Josh Kelley': 'p', 'Josh Logan (country singer)': 'c', 'Josh Ross': 'c', 'Josh Thompson (singer)': 'c', 'Josh Turner': 'n', 'Joshua Scott Jones': 'c', 'Joy Lynn White': 'c', 'Judy Collins': 'f', 'Judy Martin (singer)': 'c', 'Judy Rodman': 'c', 'Juice Newton': 'c', 'Julian Austin (musician)': 'c', 'Julie Miller': 'c', 'Julie Reeves': 'c', 'Julie Roberts': 'c', 'Julienne Irwin': 'c', 'June Carter Cash': 'c', 'Junior Brown': 't', 'Justin Bieber': 'p', 'Justin Moore': 'c', 'Justin Timberlake': 'p', 'Justin Townes Earle': 'a', 'Justin Tubb': 'c', 'Jypsi': 'c', 'K. T. Oslin': 'c', 'Kacey Jones': 'c', 'Kacey Musgraves': 'c', 'Kaitlyn Baker': 'c', 'Kal Hourd': 'c', 'Kalie Shorr': 'c', 'Kameron Marlowe': 'c', 'Kane Brown': 'c', 'Karen Brooks (singer)': 'c', 'Karen Staley': 'c', 'Karen Taylor-Good': 'c', 'Karli Whetstone': 'c', 'Kasey Chambers': 'c', 'Kassi Ashton': 'c', 'Kate Campbell': 'f', 'Kathleen Edwards': 'a', 'Kathy Mattea': 'c', 'Katie Armiger': 'c', 'Katrina Elam': 'c', 'Kay Adams (singer)': 'c', \"Keb' Mo'\": 'd', 'Keith Anderson': 'c', 'Keith Gattis': 'c', 'Keith Harling': 'c', 'Keith Palmer (singer)': 'c', 'Keith Stegall': 'c', 'Keith Urban': 'c', 'Keith Whitley': 'c', 'Kelleigh Bannen': 'c', 'Kellie Coffey': 'c', 'Kellie Pickler': 'c', 'Kelly Clarkson': 'p', 'Kelly Willis': 'h', 'Kelsea Ballerini': 'c', 'Ken Mellons': 'c', 'Keni Thomas': 'c', 'Kenny Chesney': 'c', 'Kenny Loggins': 'r', 'Kenny Rogers': 'c', 'Kenny Starr': 'c', 'Kenny Vaughan': 'c', 'Kerry Harvick': 'c', 'Kevin Costner & Modern West': 'c', 'Kevin Denney': 'c', 'Kevin Fowler': 'c', 'Kevin Sharp': 'c', 'Kevin Skinner': 'c', 'Kevin Welch': 'c', 'Kid Rock': 'r', 'Kieran Kane': 'c', 'Kim Carnes': 'p', 'Kim Hill (singer)': 'c', 'Kim Richey': 'c', 'Kimberly Perry': 'c', 'Kimmie Rhodes': 'a', 'Kinky Friedman': 'c', 'Kip Moore': 'c', 'Kippi Brannon': 'c', 'Kira Isabella': 'c', 'Kitty Wells': 'c', 'Kix Brooks': 'c', 'Koe Wetzel': 'c', 'Kolby Cooper': 'c', 'Kortney Kayle': 'c', 'Kris Kristofferson': 'c', 'Krista Marie': 'c', 'Kristian Bush': 'f', 'Kristin Chenoweth': 'm', 'Kristy Lee Cook': 'c', 'Krystal Keith': 'c', 'Kyle Park': 't', 'Kylie Rae Harris': 'c', 'La Costa': 'c', 'Lace (band)': 'c', 'Lacy J. Dalton': 'c', 'Lady A': 'c', 'Lainey Wilson': 'c', 'Lanco (band)': 'c', 'Lane Brody': 'c', 'Lane Turner': 'c', 'Lari White': 'c', 'Larry Boone': 'c', 'Larry Campbell (musician)': 'f', 'Larry Cordle': 'b', 'Larry Cunningham': 'c', 'Larry Gatlin': 'c', 'Larry Jon Wilson': 'c', 'Larry Stephenson': 'b', 'Larry Stewart (singer)': 'c', 'Larry Willoughby': 'c', 'Larry the Cable Guy': 'c', 'Laura Bryna': 'c', 'Laura Cantrell': 'a', 'Lauren Alaina': 'c', 'Lauren Lucas': 'c', 'Lauren-Ashley': 'c', 'Lavender Country': 'c', 'Lawrie Minson': 'c', 'Leah Daniels': 'p', 'Leah Turner': 'c', 'Leahy': 'f', 'Lee Ann Womack': 'n', 'Lee Brice': 'c', 'Lee Greenwood': 'c', 'Lee Hazlewood': 'c', 'Lee Kernaghan': 'c', 'Lee Roy Parnell': 'b', 'Lefty Frizzell': 'c', 'Leland Martin': 'c', 'Lennie Gallant': 'f', 'Lennon & Maisy': 'c', 'Lenny Cooper': 'c', 'Leon Ashley': 'c', 'Leon Russell': 'r', 'Leona Williams': 'c', 'Leroy Van Dyke': 'c', 'Les Paul': 'j', 'Les Taylor (singer)': 'c', 'Leslie Satcher': 'c', 'Lester Flatt': 'b', 'Levi Parham': 'b', 'Levon (band)': 'c', 'Lew DeWitt': 'c', 'Lil Nas X': 'h', 'Lila McCann': 'c', 'Lillie Mae': 'a', 'Lilly Hiatt': 'r', 'Linda Davis': 'c', 'Linda Gail Lewis': 'c', 'Linda Ronstadt': 'r', 'Lindi Ortega': 'c', 'Lindsay Ell': 'c', 'Lionel Cartwright': 'c', 'Lionel Richie': 's', 'Lisa Angelle': 'c', 'Lisa Brokop': 'c', 'Lisa Hewitt': 'c', 'Lisa Marie Presley': 's', 'Lisa Stewart': 'c', 'Little Big Town': 'c', 'Little Jimmy Dickens': 'c', 'Little Texas (band)': 'c', 'Livy Jeanne': 'c', 'Liz Anderson': 'c', 'Lloyd Maines': 'c', 'LoCash': 'c', 'Lobo (musician)': 'p', 'Logan Mize': 'c', 'Loggins and Messina': 'c', 'Lonestar': 'c', 'Lonnie Mack': 'b', 'Lorenzo Antonio': 'l', 'Loretta Lynn': 'c', 'Lori McKenna': 'c', 'Lorrie Morgan': 'c', 'Louise Mandrell': 'c', 'Love and Theft (band)': 'c', 'Lucille Starr': 'c', 'Lucinda Williams': 'a', 'Lucy Angel': 'c', 'Lucy Hale': 'p', 'Luke Bryan': 'c', 'Luke Combs': 'c', 'Lydia Loveless': 'p', 'Lyle Lovett': 'a', 'Lynn Anderson': 'c', 'Lynyrd Skynyrd': 's', 'Mac Davis': 'c', 'Mac McAnally': 'p', 'Mac Wiseman': 'b', 'MacKenzie Porter': 'c', 'Maddie & Tae': 'c', 'Maddox Brothers and Rose': 'c', 'Madeline Merlo': 'c', 'Maggie Björklund': 'c', 'Maggie Rose': 's', 'Mallary Hope': 'c', 'Mandy Barnett': 'c', 'Marcel (singer)': 'c', 'Marcus Hummon': 'c', 'Maren Morris': 'c', 'Margie Bowes': 'c', 'Margie Singleton': 'c', 'Margo Price': 'c', 'Margo Smith': 'c', 'Marie Osmond': 'c', 'Marie Sisters': 'c', 'Marion Worth': 'c', 'Mark Chesnutt': 'c', 'Mark Collie': 'c', 'Mark Erelli': 'a', 'Mark Knopfler': 'r', 'Mark McGuinn': 'c', 'Mark Nesler': 'c', \"Mark O'Connor\": 'c', 'Mark Wills': 'c', 'Mark Wystrach': 'c', 'Marlee Scott': 'c', \"Marley's Ghost (band)\": 'f', 'Marshall Chapman': 'c', 'Marshall Dyllon': 'c', 'Marshmello': 'e', 'Martie Maguire': 'a', 'Martin Delray': 'c', 'Martina McBride': 'c', 'Marty Brown (singer)': 'c', 'Marty Raybon': 'c', 'Marty Robbins': 'c', 'Marty Stuart': 'c', 'Marvin Rainwater': 'c', 'Mary Chapin Carpenter': 'c', 'Mary Gauthier': 'f', 'Mary Sarah': 'c', 'Mason Ramsey': 'c', 'Matraca Berg': 'c', 'Matt Jenkins': 'c', 'Matt Kennon': 'c', 'Matt King (singer)': 'c', 'Matt Lang': 'c', 'Matt Mason (singer)': 'c', 'Matt Minglewood': 'c', 'Matt Stell': 'c', 'Matthew Ramsey': 'c', 'Matthew and the Mandarins': 'c', 'Matthews, Wright & King': 'c', 'Maury Finney': 'c', 'Max Stalling': 't', 'Maybelle Carter': 'c', 'McAlister Kemp': 'c', 'McAlyster': 'c', 'McBride & the Ride': 'c', 'McGuffey Lane': 'c', 'McHayes': 'c', 'McKenna Faith': 'c', 'Megan Moroney': 'c', 'Megan Mullins': 'c', 'Megan Redmond': 'c', 'Megan and Liz': 'p', 'Meghan Linsey': 'c', 'Meghan Patrick': 'c', 'Mel McDaniel': 'c', 'Mel Street': 'c', 'Mel Tillis': 'c', 'Melanie Laine': 'c', 'Melba Montgomery': 'c', 'Melinda Schneider': 'c', 'Melissa Etheridge': 'h', 'Melissa Lawson': 'c', 'Melodie Crittenden': 'c', 'Melonie Cannon': 'b', 'Merle Haggard': 'c', 'Merle Kilgore': 'c', 'Merle Travis': 'c', 'Mica Roberts': 'c', 'Michael Johnson (singer)': 'f', 'Michael Martin Murphey': 'p', 'Michael Nesmith': 'r', 'Michael Peterson (singer)': 'c', 'Michael Ray (singer)': 'c', 'Michael Sarver': 's', 'Michael White (singer)': 'c', 'Michaela Anne': 'a', 'Michelle Branch': 'p', 'Michelle Nixon': 'f', 'Michelle Wright': 'c', 'Mickey Gilley': 'c', 'Mickey Guyton': 'c', 'Mickie James': 'c', 'Micky & the Motorcars': 'a', 'Midland (band)': 'n', 'Mike Henderson': 'c', 'Mike McClure': 'r', 'Mike Reid (singer)': 'c', 'Mike Stinson': 'c', 'Mike Walker (singer)': 'c', 'Mike and the Moonpies': 'n', 'Miko Marks': 'c', 'Mila Mason': 'c', 'Miley Cyrus': 'p', 'Mindy McCready': 'c', 'Mindy Smith': 'f', 'Miranda Lambert': 'c', 'Miss Willie Brown': 'c', 'Mitchell Tenpenny': 'c', 'Mitchell Torok': 'c', 'Mo Pitney': 'n', 'Moe Bandy': 'c', 'Molly Tuttle': 'b', 'Montgomery Gentry': 'c', 'Monty Byrom': 'r', 'Monty Holmes': 'c', 'Moon Mullican': 'c', 'Moonshine Bandits': 'c', 'Morgan Evans (singer)': 'c', 'Morgan Wade (singer)': 'c', 'Morgan Wallen': 'c', 'Mountain Heart': 'b', 'Mudcrutch': 's', 'Myrna Lorrie': 'c', 'Nanci Griffith': 'c', 'Nancy Sinatra': 'p', 'Naomi Judd': 'c', 'Narvel Felts': 'c', 'Nashville Bluegrass Band': 'b', 'Nashville West': 'c', 'Nat Stuckey': 'c', 'Natalie Hemby': 'c', 'Natalie Maines': 'b', 'Natalie Stovall and the Drive': 'c', 'Nate Haller': 'c', 'Nate Smith (singer)': 'c', 'Neal Coty': 'c', 'Neal McCoy': 'c', 'Ned Miller': 'c', 'Neil Diamond': 'r', 'Neil Thrasher': 'c', 'Neko Case': 'i', 'Nelly': 'h', 'New Grass Revival': 'p', 'Nick 13': 'a', 'Nickel Creek': 'p', 'Nicolette Larson': 'c', 'Nicolle Galyon': 'c', 'Nikki Hornsby': 'p', 'Nikki Nelson': 'c', 'Niko Moon': 'c', 'Nitty Gritty Dirt Band': 'c', 'Noel Haggard': 'c', 'Nora Jane Struthers': 'a', \"Nora O'Connor\": 'f', 'Norah Jones': 'p', 'Norma Jean (singer)': 'c', 'Norman Blake (American musician)': 'b', \"Nothin' Fancy\": 'f', \"O'Shea (band)\": 'c', 'O. B. McClinton': 'c', 'Old Crow Medicine Show': 'o', 'Old Dogs (group)': 'c', 'Old Dominion (band)': 'c', 'Olivia Newton-John': 'p', 'One Flew South': 'c', 'One More Girl': 'c', 'Orrall & Wright': 'c', 'Orville Peck': 'c', 'Osborne Brothers': 'b', 'Owen Riegling': 'c', 'Owen Temple': 'f', 'Pake McEntire': 'c', 'Palomino Road': 'c', 'Pam Tillis': 'c', 'Parker McCollum': 'a', 'Parmalee': 'c', 'Pat Boone': 'p', 'Pat Green': 'c', 'Patricia Conroy': 'c', 'Patsy Cline': 'c', 'Patsy Montana': 'c', 'Patti Page': 't', 'Patty Griffin': 'a', 'Patty Loveless': 'n', 'Paul Brandt': 'c', 'Paul Davis (singer)': 'b', 'Paul Jefferson': 'c', 'Paul Overstreet': 'c', 'Paul Thorn': 'a', 'Paula Fernandes': 's', 'Paulette Carlson': 'c', 'Pee Wee King': 'c', 'Peggy Little': 'c', 'Penny DeHaven': 'c', 'Perfect Stranger (band)': 'c', 'Perry Como': 'v', 'Peter Rowan': 'b', 'Petric (band)': 'c', 'Phil Stacey': 'c', 'Phil Vassar': 'c', 'Philip Claypool': 'c', 'Philomena Begley': 'c', 'Pinmonkey': 'c', 'Pirates of the Mississippi': 'c', 'Pistol Annies': 'c', 'Poco (band)': 'c', 'Point of Grace': 'c', 'Pokey LaFarge': 'b', 'Porter Wagoner': 'c', 'Post Malone': 'h', 'Prairie Oyster': 'c', 'Priscilla Block': 'c', 'Punch Brothers': 'p', 'Pure Prairie League': 'c', 'Pussycat (band)': 'p', 'Quartette (band)': 'c', 'Rachel Baiman': 'c', 'Rachel Proctor': 'c', 'Rachele Lynae': 'c', 'Radney Foster': 'c', 'RaeLynn': 'c', 'Railroad Earth': 'f', 'Ralph Stanley': 'b', \"Ramblin' Jack Elliott\": 'f', 'Randy Houser': 'c', 'Randy Howard (country singer)': 'c', 'Randy Kohrs': 'b', 'Randy Montana': 'c', 'Randy Owen': 'c', 'Randy Rogers Band': 't', 'Randy Travis': 'c', 'Randy Weeks': 'r', 'Raquel Cole': 'c', 'Rascal Flatts': 'c', 'Rattlesnake Annie': 'c', 'Raul Malo': 'a', 'Ray Benson': 'w', 'Ray Charles': 's', 'Ray Griff': 'c', 'Ray Hood': 'c', 'Ray Kennedy (country singer)': 'c', 'Ray Peterson': 't', 'Ray Pillow': 'c', 'Ray Price (musician)': 'w', 'Ray Scott (singer)': 'c', 'Ray Smith (rockabilly singer)': 'r', 'Ray Stevens': 'c', 'Ray Wylie Hubbard': 'c', 'Raybon Brothers': 'c', 'Razzy Bailey': 'c', 'Reba McEntire': 'c', 'Rebecca Lynn Howard': 'c', 'Rebel Meets Rebel': 'c', 'Reckless Kelly (band)': 'c', 'Red Foley': 'c', 'Red Simpson': 'c', 'Red Sovine': 'c', 'Red Steagall': 'c', 'Red Wanting Blue': 'r', 'Redmon & Vale': 'c', 'Redneck Souljers': 'c', 'Regina Regina': 'c', 'Rehab (band)': 'h', 'Restless Heart': 'c', 'Restless Road': 'c', 'Rhett Akins': 'c', 'Rhiannon Giddens': 'f', 'Rhonda Vincent': 'b', 'Rich McCready': 'c', \"Rich O'Toole\": 'c', 'Richard Bennett (guitarist)': 'r', 'Richard Lynch (musician)': 'c', 'Richard Sterban': 'c', 'Richie McDonald': 'c', 'Rick Monroe': 'c', 'Rick Shea': 'a', 'Rick Tippe': 'c', 'Rick Trevino': 'c', 'Rick Vincent': 'c', 'Ricky Lynn Gregg': 'c', 'Ricky Nelson': 'r', 'Ricky Skaggs': 'b', 'Ricky Van Shelton': 'c', 'Ricochet (band)': 'c', 'Riders in the Sky (band)': 'w', 'Riley Green (singer)': 'c', 'Rio Grand': 'c', 'Rissi Palmer': 'c', 'Rita Coolidge': 'p', 'Rita Hosking': 'a', 'Rita MacNeil': 'c', 'Rita Wilson': 'c', 'River Road (band)': 'c', 'Rob Baird': 'a', 'Rob Crosby': 'c', 'Rob Ickes': 'b', 'Roba Stanley': 'o', 'Robbie Fulks': 's', 'Robert Earl Keen': 'a', 'Robert Ellis Orrall': 'r', 'Robert Plant': 'r', 'Robin Lee Bruce': 'c', 'Robin and Linda Williams': 'c', 'Robyn Ottolini': 'c', 'Rocket Club': 'c', 'Rockie Lynne': 'c', 'Rodney Atkins': 'c', 'Rodney Carrington': 'c', 'Rodney Crowell': 'p', 'Roger Alan Wade': 'a', 'Roger Ballard (American singer-songwriter)': 'c', 'Roger Brown (songwriter)': 'c', 'Roger Creager': 'c', 'Roger Knox': 'c', 'Roger Miller': 'c', 'Roger Springer': 'c', 'Romantica (band)': 'r', 'Ron Block': 'b', 'Ron Hynes': 'f', 'Ron Wallace (singer)': 'c', 'Ronna Reeves': 'c', 'Ronnie Dove': 'p', 'Ronnie Dunn': 'c', 'Ronnie McDowell': 'c', 'Ronnie Milsap': 'c', 'Ronnie Prophet': 'c', 'Rory Feek': 'c', 'Rosanne Cash': 'c', 'Roscoe Holcomb': 'f', 'Rose Falcon': 'r', 'Rose Maddox': 'c', 'Rosie Flores': 'a', 'Roxie Dean': 'c', 'Roy Acuff': 'c', 'Roy Clark': 'c', 'Roy Drusky': 'c', 'Roy Orbison': 'r', 'Royal Wade Kimes': 'c', 'Ruby Lovett': 'c', 'Ruby Wright (country singer)': 'c', 'Run C&W': 'b', 'Runaway June': 'c', 'Rushlow': 'c', 'Russell Dickerson': 'c', 'Russell Smith (singer)': 'c', 'Ruston Kelly': 'c', 'Ry Cooder': 'a', 'Ryan Adams': 'r', 'Ryan Beaver': 'c', 'Ryan Bingham': 'a', 'Ryan Hurd': 'c', 'Ryan Laird': 'c', 'Ryan Tyler': 'c', 'S-K-O': 'c', 'SHeDAISY': 'c', 'Sam Baker (musician)': 'a', 'Sam Bush': 'p', 'Sam Hunt': 'c', 'Sam Outlaw': 'c', 'Sam Riggs': 'c', 'Sammi Smith': 'c', 'Sammy Kershaw': 'c', 'Sandy Posey': 'p', 'Sara Carter': 'c', 'Sara Evans': 'c', 'Sara Storer': 'c', 'Sara Watkins': 'b', 'Sarah Buxton (singer)': 'c', 'Sarah Darling': 'c', 'Sarah Jarosz': 'a', 'Sarah Johns': 'c', 'Sarah Shook': 'a', 'Sasha McVeigh': 'c', 'Sawyer Brown': 'c', 'Scooter Lee': 'c', 'Scott H. Biram': 'b', 'Scott Joss': 'c', 'Scott Vestal': 'b', 'Scotty Emerick': 'c', 'Scotty McCreery': 'c', 'Sean Hogan': 'c', 'Sean McConnell': 'c', 'Sean Patrick McGraw': 'c', 'Sean Stemaly': 'c', 'Sean Watkins': 'p', 'Seth Ennis': 'c', 'Shaboozey': 'h', 'Shane McAnally': 'c', 'Shane Minor': 'c', 'Shane Nicholson (singer)': 'c', 'Shane Profitt': 'c', 'Shane Stockton': 'c', 'Shane Yellowbird': 'c', 'Shania Twain': 'c', 'Shannon Brown (singer)': 'c', 'Shannon Lawson (singer)': 'c', 'Sharon Anderson (singer)': 'c', 'Shawn Austin': 'c', 'Shawn Camp (singer)': 'c', 'Shea Fisher': 'c', 'Sheena Easton': 'p', 'Sheila Andrews': 'c', 'Shelby Lynne': 'a', 'Shelly Fairchild': 'a', 'Shelly West': 'c', 'Shenandoah (band)': 'c', 'Sherrié Austin': 'c', 'Sheryl Crow': 'c', 'Shirley Collie': 'c', 'Shirley Myers': 'c', 'Shooter Jennings': 'c', 'Sierra Hull': 'b', 'Sinead Burgess': 'p', 'Sir Elvis': 'c', 'Sir Rosevelt': 'd', 'Sixwire': 'c', 'Skeeter Davis': 'c', 'Skeets McDonald': 'c', 'Skip Ewing': 'c', 'Slim Dusty': 'c', 'Slim Whitman': 'c', 'Slim Wilson': 'c', 'Small Town Pistols': 'c', 'Smiley Burnette': 'c', 'Son Volt': 'a', 'Sonia Leigh': 'c', 'Sonny James': 'c', 'Sons of Sylvia': 'c', 'Sons of the Desert (band)': 'c', 'Sons of the Pioneers': 'c', 'Sonya Isaacs': 'b', 'South 65': 'c', 'Southern Pacific (band)': 'c', 'Spade Cooley': 'w', 'Sparx (US band)': 'l', 'Speedy West': 'c', 'Spirit Family Reunion': 'f', 'Stacey Earle': 'a', 'Stacy Dean Campbell': 'c', 'Stealing Angels': 'c', 'Steel Magnolia': 'c', 'Stella Parton': 'c', 'Stephanie Bentley': 'c', 'Stephanie Quayle': 'c', 'Stephen Cochran': 'c', 'Steve Azar': 'c', 'Steve Earle': 'a', 'Steve Fox (musician)': 'c', 'Steve Grand': 'p', 'Steve Holy': 'c', 'Steve Kolander': 'c', 'Steve Martin': 'i', 'Steve Moakler': 'c', 'Steve Wariner': 'c', 'Steve Young (musician)': 'c', 'Steven Lee Olsen': 'c', 'Steven Tyler': 'h', 'Steven Wayne Horton': 'c', \"Stompin' Tom Connors\": 'c', 'Stonewall Jackson (musician)': 'c', 'Stoney Cooper': 'c', 'Stoney Edwards': 'c', 'Stoney LaRue': 'r', 'Stu Davis': 'c', 'Sturgill Simpson': 'a', 'Sue Thompson': 'p', 'Sugarland': 'c', 'Sunny Sweeney': 'a', 'Super Grit Cowboy Band': 'c', 'Susan Ashton': 'c', 'Susan McCann': 'c', 'Susan Raye': 'c', 'Susie Allanson': 'c', 'Suzy Bogguss': 'c', 'Sweethearts of the Rodeo': 'c', 'Sykamore': 'c', 'Sylvia (singer)': 'c', 'T Bone Burnett': 'a', 'T. G. Sheppard': 'c', 'T. Graham Brown': 'c', 'Tammy Cochran': 'c', 'Tammy Graham': 'c', 'Tammy Rogers': 'b', 'Tammy Wynette': 'c', 'Tania Kernaghan': 'c', 'Tanya Tucker': 'c', 'Tara Lyn Hart': 'c', 'Tara Oram': 'c', 'Tate Stevens': 'c', 'Taylor Swift': 'p', 'Taylor Ware': 'c', 'Tebey': 'c', 'Ted Russell Kamp': 'c', 'Teea Goans': 'n', 'Tenille Arts': 'c', 'Tenille Townes': 'c', 'Tennessee Ernie Ford': 'c', 'Tennessee Pulleybone': 'c', 'Terri Clark': 'c', 'Terri Gibbs': 'c', 'Terry Allen (country singer)': 'o', 'Terry Fell': 'c', 'Terry McBride (musician)': 'c', 'Tex Ritter': 'c', 'Tex Williams': 'w', 'Texas Lightning (band)': 'c', 'Texas Tornados': 't', 'The Bama Band': 'c', 'The Band Perry': 'c', 'The Band': 'r', 'The Bellamy Brothers': 'c', 'The Big Bopper': 'r', 'The Blue Moon Boys': 'r', 'The Boom Chucka Boys': 'c', 'The Boxmasters': 'b', 'The Bros. Landreth': 'a', 'The Browns': 'c', 'The Buckaroos': 'b', 'The Buffalo Club': 'c', 'The Burch Sisters': 'c', 'The Cadillac Three': 's', 'The Carter Family': 'c', 'The Chicks': 'c', 'The Chuck Wagon Gang': 'c', 'The Civil Wars': 'a', 'The Clark Family Experience': 'c', 'The Common Linnets': 'c', 'The Country Gentlemen': 'p', 'The Delmore Brothers': 'c', 'The Departed (band)': 'a', 'The Derailers': 'a', 'The Desert Rose Band': 'p', 'The Devil Makes Three (band)': 'b', 'The Everly Brothers': 'c', 'The Farm (American band)': 'c', 'The Flatlanders': 'c', 'The Forester Sisters': 'c', 'The Geezinslaw Brothers': 'c', 'The Goldens': 'c', 'The Gourds': 'a', 'The Grascals': 'b', 'The Great Divide (band)': 'c', 'The GrooveGrass Boyz': 'b', 'The Hackensaw Boys': 'a', 'The Harters': 'c', 'The Henningsens': 'c', 'The Highwaymen (country supergroup)': 'c', 'The Highwomen': 'c', 'The Hutchens': 'c', 'The Isaacs': 's', 'The Jenkins': 'c', 'The Johner Brothers': 'c', 'The Jordanaires': 'g', 'The Judds': 'c', 'The Kendalls': 'c', 'The Kentucky Headhunters': 'c', 'The Kinleys': 'c', 'The Knitters': 'c', 'The Lacs': 'c', 'The Lost Trailers': 'c', 'The Louvin Brothers': 'c', 'The Lynns': 'c', 'The Marshall Tucker Band': 'p', 'The Mavericks': 'c', 'The Notorious Cherry Bombs': 'c', \"The O'Kanes\": 'c', 'The Oak Ridge Boys': 'c', 'The Osmonds': 'b', 'The Peach Pickers': 'c', 'The Peasall Sisters': 'c', 'The Quebe Sisters': 'w', 'The Railers': 'c', 'The Ranch (band)': 'c', 'The Rankin Family': 'c', 'The Reklaws': 'c', 'The Remingtons': 'c', 'The Reverend Horton Heat': 'p', 'The Road Hammers': 'c', 'The Sadies': 'a', 'The Secret Sisters': 'a', 'The Seldom Scene': 'b', 'The Shires (duo)': 'c', 'The Sky Kings': 'c', 'The Stanley Brothers': 'b', 'The Statler Brothers': 'c', 'The Steel Woods': 'c', 'The SteelDrivers': 'b', 'The Stellas': 'c', 'The Stonemans': 'c', 'The String Cheese Incident': 'j', 'The Sunny Cowgirls': 'c', 'The Swearengens': 'c', 'The Swon Brothers': 'c', 'The Tallest Man on Earth': 'f', 'The Texas Tenors': 'c', 'The Thompson Brothers Band': 'c', 'The Tractors': 'c', 'The War and Treaty': 'a', 'The Warren Brothers': 'c', 'The Washboard Union': 'c', 'The Whites': 'b', 'The Wilburn Brothers': 'c', 'The Wild Feathers': 'c', 'The Wilkinsons': 'c', 'The Wilsons (country duo)': 'c', 'The Wolfe Brothers': 'c', 'The Wrays': 'c', 'The Wreckers': 'c', 'The Wrights (country duo)': 'c', 'Thomas Rhett': 'c', 'Thomas Wade (singer)': 'c', 'Thompson Square': 'c', 'Those Darlins': 'r', 'Those Poor Bastards': 'g', 'Thrasher Shiver': 'c', 'Tift Merritt': 'c', 'Tim Hicks': 'c', 'Tim Hus': 'c', 'Tim McGraw': 'c', 'Tim Mensy': 'c', 'Tim Montana': 'c', \"Tim O'Brien (musician)\": 'c', 'Tim Rushlow': 'c', 'Tim Wilson (comedian)': 'c', 'Tina Turner': 'r', 'Tish Hinojosa': 'c', 'Tobacco Rd Band': 'c', 'Toby Keith': 'c', 'Todd Snider': 'f', 'Tom Hambridge': 'r', 'Tom Jones (singer)': 'p', 'Tom Russell': 'a', 'Tom T. Hall': 'c', 'Tom Wopat': 'c', 'Tommy Cash': 'c', 'Tommy Collins (singer)': 'c', 'Tommy Emmanuel': 'j', 'Tommy Hunter': 'c', 'Tommy Overstreet': 'c', 'Tommy Shane Steiner': 'c', 'Tompall & the Glaser Brothers': 'c', 'Tompall Glaser': 'c', 'Toni Willé': 'p', 'Tony Booth (musician)': 'c', 'Tony Furtado': 'b', 'Tony Toliver': 'c', 'Tony Trischka': 'b', 'Townes Van Zandt': 'c', 'Trace Adkins': 'c', 'Tracy Byrd': 'c', 'Tracy Lawrence': 'c', 'Trader-Price': 'c', 'Trailer Choir': 'c', 'Trampled by Turtles': 'i', 'Travis Collins': 'c', 'Travis Denning': 'c', 'Travis Meadows': 'c', 'Travis Tritt': 'c', 'Trent Harmon': 'c', 'Trent Summar & the New Row Mob': 'c', 'Trent Tomlinson': 'c', 'Trent Willmon': 'c', 'Trevor Rosen': 'c', 'Trick Pony': 'c', 'Trisha Yearwood': 'c', 'Trixie Mattel': 'c', 'Troy Cartwright': 's', 'Troy Cassar-Daley': 'c', 'Troy Olsen': 'c', 'Truck Stop (band)': 'c', 'Tucker Beathard': 'c', 'Turner Nichols': 'c', 'Turnpike Troubadours': 'r', 'Twister Alley': 'c', 'Two Tons of Steel': 'c', 'Ty England': 'c', 'Ty Herndon': 'c', 'Tyler Booth': 'c', 'Tyler Childers': 'n', 'Tyler Dickerson': 'c', 'Tyler Farr': 'c', 'Tyler Hubbard': 'c', 'Tyler Joe Miller': 'c', 'Tyler Rich': 'c', 'Uncle Dave Macon': 'o', 'Uncle Earl': 'a', 'Uncle Kracker': 'c', 'Uncle Tupelo': 'a', 'Union Station (band)': 'b', 'Unknown Hinson': 'r', 'Upchurch (musician)': 'c', 'Valdy': 'f', 'Valerie June': 'a', 'Van Howard': 'c', 'Van Morrison': 'b', 'Van Stephenson': 'r', 'Van Zant (band)': 's', 'Vassar Clements': 'b', 'Vern Gosdin': 'c', 'Vernon Dalhart': 'c', 'Vernon Oxford': 'c', 'Veronica Ballestrini': 'c', 'Victoria Banks': 'c', 'Victoria Shaw (singer)': 'c', 'Viktor Krauss': 'p', 'Vince Gill': 'c', 'Wade Bowen': 'c', 'Wade Hayes': 'c', 'Walker Hayes': 'c', 'Wanda Jackson': 'r', 'Ward Thomas (band)': 'c', 'Warren Smith (singer)': 'c', 'Warren Zeiders': 'c', 'Warren Zevon': 'r', 'Waterloo Revival': 'c', 'Waylon Jennings': 'c', 'Wayne Hancock': 'a', 'Wayne Mills (singer)': 'c', 'Wayne Newton': 'j', 'Webb Pierce': 'c', 'Wesley Dennis (singer)': 'c', 'Western Flyer': 'c', 'Whiskey Myers': 'r', 'Whiskeytown': 'a', \"Whitey Morgan and the 78's\": 'o', 'Whitney Duncan': 'c', 'Whitney Rose': 'c', 'Wilco': 'i', 'Wild Horses (American country band)': 'c', 'Wild Rose (band)': 'c', 'Wilf Carter (musician)': 'c', 'Will Hoge': 'a', 'Will Kimbrough': 'c', 'Will Oldham': 'c', 'William Clark Green': 'c', 'William Lee Golden': 'c', 'William Michael Morgan': 'c', 'Williams Riley': 'c', 'Willie Mack (musician)': 'c', 'Willie Nelson': 'c', 'Willy DeVille': 'r', 'Wilma Burgess': 'c', 'Wilma Lee Cooper': 'c', 'Woody Guthrie': 'f', 'Woody Lee': 'c', 'Wright Brothers Band': 'c', 'Wynn Stewart': 'c', 'Wynonna Judd': 'c', 'Yankee Grey': 'c', 'Yola (singer)': 'c', 'Yonder Mountain String Band': 'j', 'Zac Brown Band': 'c', 'Zac Brown': 'c', 'Zach Bryan': 'a', 'Zach Top': 'n', 'Zach Williams (musician)': 'c', 'Zane Williams': 'c', 'Zella Lehr': 'c', 'Zona Jones': 'c', 'honeyhoney': 'a', 'k.d. lang': 'c'}\n"
     ]
    }
   ],
   "source": [
    "# Create a partition of the network into genres\n",
    "partition = {}\n",
    "for artist, genre_list in genres.items():\n",
    "    partition[artist] = genre_list[0]\n",
    "\n",
    "# Print the partition\n",
    "print(partition)"
   ]
  },
  {
   "cell_type": "markdown",
   "id": "b0f421cd",
   "metadata": {},
   "source": [
    "<font color='gray'> Spoiling your findings a little bit, an issue is the following: Almost all artists have the genre country as their first genre in the list, so by definition the network won't have very high modularity. What happens to the modularity if you grab the first genre that's not country as the genre-assignment for all nodes that have more than one genre? </font>"
   ]
  },
  {
   "cell_type": "code",
   "execution_count": 10,
   "id": "a8fdfa09",
   "metadata": {},
   "outputs": [
    {
     "name": "stdout",
     "output_type": "stream",
     "text": [
      "{'A Thousand Horses': 'o', 'A.P. Carter': 'o', 'Aaron Barker': 'o', 'Aaron Benward': 'o', 'Aaron Lewis (musician)': 'l', 'Aaron Lines': 'o', 'Aaron Neville': 'o', 'Aaron Pritchett': 'o', 'Aaron Watson': 'o', 'Ace in the Hole Band': 'l', 'Adam Brand (musician)': 'o', 'Adam Gregory': 'o', 'Adam Harvey': 'o', 'Adrienne Young': 'l', 'Al Anderson (NRBQ)': 'o', 'Al Caiola': 'a', 'Al Dexter': 'o', 'Al Downing (musician)': 'o', 'Al Hurricane Jr.': 'e', 'Al Hurricane': 'e', 'Alabama (band)': 'o', 'Alan Jackson': 'e', 'Alecia Elliott': 'o', 'Alecia Nugent': 'l', 'Alee (singer)': 'o', 'Aleyce Simmonds': 'o', 'Alisan Porter': 'o', 'Alison Krauss': 'l', 'Alli Walker': 'o', 'Allison Moorer': 'm', 'Allison Russell': 'm', 'Allman Brothers Band': 'o', 'Alyssa Micaela': 'o', 'Amanda Shires': 'm', 'Amanda Stott': 'c', 'Amanda Wilkinson': 'o', 'Amazing Rhythm Aces': 'o', 'Amber Dotson': 'o', 'Amber Hayes': 'o', 'Amber Lawrence': 'u', 'American Young': 'o', 'Amie Comeaux': 'o', 'Amy Dalley': 'o', 'Amy Grant': 'o', 'Amy Helm': 'o', 'Andrew Combs (musician)': 'o', 'Andrew Jenkins (songwriter)': 'o', 'Andy Childs': 'o', 'Andy Gibson (singer)': 'o', 'Andy Griggs': 'o', 'Angaleena Presley': 'o', 'Anita Carter': 'o', 'Anita Cochran': 'o', 'Anne Murray': 'o', 'Anthony Armstrong Jones': 'o', 'Anthony Smith (singer)': 'o', 'Archer/Park': 'o', 'Arlene Harden': 'o', 'Ash Bowers': 'o', 'Ashley Arrison': 'o', 'Ashley Campbell (musician)': 'o', 'Ashley Cooke': 'o', 'Ashley Gearing': 'o', 'Ashley McBryde': 'o', 'Ashley Monroe': 'e', 'Ashton Shepherd': 'o', 'Asleep at the Wheel': 'o', 'Aubrey Haynie': 'l', 'Aubrie Sellers': 'l', 'Audrey Auld-Mezera': 'o', 'Augie Meyers': 'a', 'Austin Lucas': 'u', 'Austin Webb': 'o', 'Autumn Hill': 'o', 'Avicii': 'd', 'B. B. Watson': 'o', 'B. J. Thomas': 'o', 'BR549': 'l', 'Backstreet Boys': 'o', 'Bacon Brothers': 'o', 'Bailey Bryan': 'o', 'Bailey Zimmerman': 'o', 'Baker & Myers': 'o', 'Bandana (country band)': 'o', 'Bap Kennedy': 'o', 'Barbara Fairchild': 'o', 'Barbara Mandrell': 'o', 'Barrett Baber': 'o', 'Bebe Rexha': 'o', 'Beccy Cole': 'o', 'Becky Hobbs': 'o', 'Bekka & Billy': 'o', 'Bering Strait (band)': 'o', 'Bernie Leadon': 'o', 'Bertie Higgins': 'o', 'Beth Nielsen Chapman': 'd', 'Beverley Mahood': 'o', 'Beyoncé': 'o', 'Big & Rich': 'o', 'Big House (American band)': 'o', 'Big Kenny': 'o', 'Big Smo': 'o', 'Big Tom': 'o', 'Bill Anderson (singer)': 'o', 'Bill Carlisle': 'o', 'Bill Chambers (musician)': 'o', 'Bill Engvall': 'o', 'Bill Evans (bluegrass)': 'l', 'Bill Haley & His Comets': 'o', 'Bill Kirchen': 'o', 'Bill LaBounty': 'o', 'Bill Monroe': 'l', 'Bill Phillips (singer)': 'o', 'Billie Jo Spears': 'o', 'Billy Bob Thornton': 'l', 'Billy Burnette': 'o', 'Billy Currington': 'o', 'Billy Dean': 'o', 'Billy Edd Wheeler': 'o', 'Billy Gilman': 'o', 'Billy Grammer': 'o', 'Billy Hancock': 'o', 'Billy Hill (supergroup)': 'o', 'Billy Hoffman (singer)': 'o', 'Billy Joe Royal': 'o', 'Billy Joe Shaver': 'u', 'Billy Montana': 'o', 'Billy Parker (singer)': 'o', 'Billy Ray Cyrus': 'o', 'Billy Strings': 'l', 'Billy Swan': 'o', 'Billy ThunderKloud & the Chieftones': 'o', 'Billy Walker (musician)': 'o', 'Billy Yates (singer)': 'o', 'Black Tie (band)': 'o', 'Blackberry Smoke': 'o', 'Blackhawk (band)': 'o', 'Blaine Larsen': 'o', 'Blake & Brian': 'o', 'Blake Shelton': 'o', 'Blaze Foley': 'u', 'Blue County (music group)': 'o', 'Blue Highway': 'l', 'Blue Rodeo': 'o', 'Bo Bice': 'o', 'Bob Dylan': 'o', 'Bob Luman': 'o', 'Bob Nolan': 'e', 'Bob Seger': 'o', 'Bob Wills': 'e', 'Bob Woodruff (singer)': 'o', 'Bobbejaan Schoepen': 'w', 'Bobbie Cryner': 'o', 'Bobbie Gentry': 'o', 'Bobby Bare': 'o', 'Bobby Bones': 'o', 'Bobby Darin': 'o', 'Bobby Edwards': 'o', 'Bobby Goldsboro': 'o', 'Bobby Helms': 'o', 'Bobby Pinson': 'o', 'Bobby Russell': 'o', 'Bobby Wills': 'o', 'Bomshel': 'o', 'Bon Jovi': 'a', 'Bonnie Guitar': 'o', 'Bonnie Raitt': 'l', 'Bonnie Tyler': 'o', 'Boxcar Willie': 'o', 'Boy Howdy (band)': 'o', 'Brad Cotter': 'o', 'Brad Johner': 'o', 'Brad Martin': 'o', 'Brad Paisley': 'o', 'Bradley Gaskin': 'o', 'Bradley Walker (singer)': 'o', 'Brady Seals': 'o', 'Brandi Carlile': 'm', 'Brandon Jenkins (musician)': 'e', 'Brandy Clark': 'o', 'Brantley Gilbert': 'o', 'Breland (musician)': 'i', 'Brenda Lee': 'o', 'Brent Anderson (singer)': 'o', 'Brent Cobb': 'o', 'Bret Michaels': 'a', 'Brett Eldredge': 'o', 'Brett James': 'o', 'Brett Kissel': 'o', 'Brett Young (singer)': 'o', 'Brian Hyland': 'u', 'Brian Kelley (musician)': 'o', 'Brian McComas': 'o', 'Brice Long': 'o', 'Brooke Eden': 'o', 'Brooks & Dunn': 'e', 'Brother Phelps': 'o', 'Brothers Osborne': 'o', 'Bruce Guthro': 'o', 'Bruce Robison': 'o', 'Bryan Austin': 'o', 'Bryan Martin (singer)': 'o', 'Bryan Sutton': 'o', 'Bryan White': 'o', 'Buck Owens': 'o', 'Buckwheat Zydeco': 'y', 'Bucky Covington': 'o', 'Buddy Brown (musician)': 'o', 'Buddy Holly': 'o', 'Buddy Jewell': 'o', 'Buddy Miller': 'o', 'Buffalo Springfield': 'o', 'Burl Ives': 'o', \"Burnin' Daylight\": 'o', 'Burns & Poe': 'o', 'Butch Hancock': 'o', 'CB30': 'o', 'Cactus Choir (band)': 'o', 'Caitlin & Will': 'o', 'Caitlin Cary': 'o', 'Caitlyn Shadbolt': 'o', 'Caitlyn Smith': 'o', 'Cal Smith': 'o', 'Calamity Jane (country music band)': 'o', 'Cale Dodds': 'o', 'Cam (singer)': 'o', 'Cameron Duddy': 'o', 'Canaan Smith': 'o', 'Canyon (country music band)': 'o', 'Carbon Leaf': 'm', 'Carl Belew': 'o', 'Carl Butler and Pearl': 'o', 'Carl Perkins': 'o', 'Carl Smith (country musician)': 'o', 'Carlene Carter': 'o', 'Carly Pearce': 'o', 'Carmen Rasmusen': 'o', 'Carolina Rain': 'o', 'Caroline Herring': 'o', 'Carolyn Dawn Johnson': 'o', 'Carrie Elkin': 'o', 'Carrie Rodriguez': 'o', 'Carrie Underwood': 'o', 'Carson Robison': 'o', \"Carter's Chord\": 'o', 'Caryl Mack Parker': 'o', 'Casey Donahew': 'o', 'Casey James': 'o', 'Cassadee Pope': 'o', 'Cassandra Vasik': 'o', 'Catherine Britt': 'o', 'Catherine McGrath': 'o', 'Caylee Hammack': 'o', 'Chad Brock': 'o', 'Chad Brownlee': 'o', 'Chad Klinger': 'o', 'Chalee Tennison': 'o', 'Chance (band)': 'o', 'Chapel Hart': 'o', 'Charles Kelley': 'o', 'Charley Crockett': 'm', 'Charley Pride': 'o', 'Charlie Daniels': 'o', 'Charlie Feathers': 'o', 'Charlie Louvin': 'o', 'Charlie Major': 'o', 'Charlie McCoy': 'o', 'Charlie Poole': 'l', 'Charlie Rich': 'o', 'Charlie Robison': 'o', 'Charlie Walker (musician)': 'o', 'Charlie Worsham': 'o', 'Charly McClain': 'o', 'Chase Bryant': 'o', 'Chase Matthew': 'o', 'Chase Rice': 'o', 'Chayce Beckham': 'o', 'Chelle Rose': 'p', 'Chely Wright': 'o', 'Cheryl Wheeler': 'o', 'Chet Atkins': 'o', 'Chip Taylor': 'o', 'Chris Buck Band': 'o', 'Chris Cagle': 'o', 'Chris Cummings': 'o', 'Chris Gaffney (musician)': 'o', 'Chris Hawkey': 'o', 'Chris Hillman': 'o', 'Chris Janson': 'o', 'Chris Knight (musician)': 'o', 'Chris Lane': 'o', 'Chris LeDoux': 'o', 'Chris Marion': 'o', 'Chris Scruggs': 'o', 'Chris Stapleton': 'o', 'Chris Thile': 'l', 'Chris Tomlin': 'o', 'Chris Ward (singer)': 'o', 'Chris Young (singer)': 'o', 'Chuck Wicks': 'o', 'Cindy Church': 'o', 'Cindy Walker': 'o', 'Clare Dunn': 'o', 'Clarence White': 'l', 'Claude Gray': 'o', 'Claude King': 'o', 'Claudia Church': 'o', 'Clay Blaker': 'o', 'Clay Davidson': 'o', 'Clay Walker': 'o', 'Clayton Bellamy': 'o', 'Cledus T. Judd': 'o', 'Cliff Carlisle': 'o', 'Clint Black': 'o', 'Clint Daniels': 'o', 'Clint Eastwood': 'e', 'Clinton Gregory': 'o', 'Codie Prevost': 'o', 'Cody Canada': 'o', 'Cody Jinks': 'o', 'Cody Johnson': 'o', 'Cold Creek County': 'o', 'Cole Swindell': 'o', 'Cole Vosbury': 'o', 'Coley McCabe': 'o', 'Colin Amey': 'o', 'Collin Raye': 'o', 'Colt Ford': 'o', 'Colter Wall': 'e', 'Con Hunley': 'o', 'Confederate Railroad': 'o', 'Conner Smith': 'o', 'Connie Francis': 'r', 'Connie Smith': 'o', 'Conway Twitty': 'o', \"Corb Lund and the Hurtin' Albertans\": 'o', 'Corbin/Hanner': 'o', 'Corey Kent': 'o', 'Corey Smith (musician)': 'o', 'Cory Marks': 'o', 'Cory Morrow': 'o', 'Court Yard Hounds': 'm', 'Courtney Marie Andrews': 'n', 'Cowan Powers and his Family Band': 't', 'Cowboy Copas': 'o', 'Cowboy Crush': 'o', 'Cowboy Junkies': 'm', 'Cowboy Troy': 'i', 'Craig Bickhardt': 'o', 'Craig Campbell (singer)': 'o', 'Craig Morgan': 'o', 'Craig Wayne Boyd': 'o', 'Creedence Clearwater Revival': 'w', 'Cristy Lane': 'o', 'Crooked Still': 'r', 'Cross Canadian Ragweed': 'o', 'Crossin Dixon': 'o', 'Crystal Bowersox': 'o', 'Crystal Gayle': 'o', 'Crystal Shawanda': 'o', 'Curtis Wright': 'o', 'Cyndi Thomson': 'o', 'Dailey & Vincent': 'l', 'Daisy Dern': 'o', 'Dale Daniel': 'o', 'Dale Watson (singer)': 'o', 'Dallas Frazier': 'o', 'Dallas Smith': 'o', 'Dan + Shay': 'o', 'Dan Davidson': 'o', 'Dan Hicks (singer)': 'o', 'Dan Seals': 'o', 'Daniel Romano': 'o', 'Daniele Alexander': 'o', 'Danielle Bradbery': 'o', 'Danielle Peck': 'o', 'Danni Leigh': 'o', 'Danny Barnes (musician)': 'o', 'Danny Gokey': 'o', 'Danny Worsnop': 'e', 'Darden Smith': 'o', 'Darius Rucker': 'o', 'Daron Norwood': 'o', 'Darrell McCall': 'o', 'Darrell Scott': 'o', 'Darren McGinnis': 'o', 'Darren Warren': 'o', 'Darryl Worley': 'o', 'Daryle Singletary': 'o', 'Dave & Sugar': 'o', 'Dave Alvin': 'm', 'Dave Dudley': 'o', 'Dave Loggins': 'o', 'David \"Stringbean\" Akeman': 'l', 'David Allan Coe': 'o', 'David Ball (country singer)': 'o', 'David Fanning (singer)': 'o', 'David Frizzell': 'o', 'David Gates': 'o', 'David Houston (singer)': 'o', 'David James (singer)': 'o', 'David Kersh': 'o', 'David Lee Murphy': 'o', 'David Lindley (musician)': 'o', 'David Lynn Jones': 'o', 'David Nail': 'o', 'David Wills (singer)': 'o', 'Davis Daniel': 'o', 'Davisson Brothers Band': 'o', 'Dawn Sears': 'm', 'DeFord Bailey': 'o', 'Dean Brody': 'o', 'Dean Dillon': 'o', 'Dean Martin': 'r', 'Dean Miller': 'o', 'Deana Carter': 'o', 'Debby Boone': 'o', 'Deborah Allen': 'o', 'Del Barber': 'o', 'Del McCoury Band': 'l', 'Del McCoury': 'l', 'Del Reeves': 'o', 'Delbert McClinton': 'm', 'Delta Rae': 'l', 'Demi Lovato': 'o', 'Dennis Robbins': 'o', 'Deric Ruttan': 'o', 'Deryl Dodd': 'o', 'Devin Dawson': 'o', 'Diamond Rio': 'o', 'Diana DeGarmo': 'o', 'Diana Jones (singer-songwriter)': 'o', 'Diane Chase': 'o', 'Dianna Corcoran': 'o', 'Dick Curless': 'o', 'Dickey Betts': 'o', 'Dierks Bentley': 'o', 'Dillon Carmichael': 'o', 'Diplo': 'd', 'Dixiana (band)': 'o', 'Doc Walker': 'o', 'Doc Watson': 'l', 'Dolly Parton': 'o', 'Don Amero': 'o', 'Don Cox (singer)': 'o', 'Don Edwards (cowboy singer)': 'o', 'Don Gibson': 'o', 'Don Henley': 'o', 'Don King (musician)': 'o', 'Don Rich': 'o', 'Don Schlitz': 'o', 'Don Walser': 'o', 'Don Williams': 'o', 'Donna Fargo': 'o', 'Donna Ulisse': 'o', 'Donny Parenteau': 'o', 'Dottie West': 'o', 'Doug Adkins': 'o', 'Doug Kershaw': 'a', 'Doug Sahm': 'o', 'Doug Seegers': 'o', 'Doug Stone': 'o', 'Doug Supernaw': 'o', 'Douwe Bob': 'o', 'Doyle Dykes': 'o', 'Doyle Holly': 'o', 'Doyle Lawson': 'l', 'Drake Jensen': 'o', 'Drake Milligan': 'o', 'Drake White': 'o', 'Drew Baldridge': 'o', 'Drew Davis Band': 'o', 'Duane Allen': 'o', 'Duane Eddy': 'n', 'Duane Steele': 'o', 'Dude Mowrey': 'o', 'Due West (band)': 'o', 'Dustin Lynch': 'o', 'Dusty Drake': 'o', 'Dwight Yoakam': 'o', 'Dylan Marlowe': 'o', 'Dylan Schneider': 'o', 'Dylan Scott': 'o', 'Eagles (band)': 'o', 'Earl Scruggs': 'l', 'Earl Thomas Conley': 'o', 'Easton Corbin': 'o', 'Eck Robertson': 'o', 'Ed Bruce': 'u', 'Ed Sheeran': 'o', 'Eddie Cochran': 'o', 'Eddie Rabbitt': 'o', 'Eddy Arnold': 'o', 'Eddy Raven': 'o', 'Edens Edge': 'o', 'Eilen Jewell': 'm', 'Elbert West': 'o', 'Eleni Mandell': 'o', 'Eli Young Band': 'o', 'Elizabeth Cook': 'o', 'Ella Langley': 'o', 'Elle King': 'l', 'Elton Britt': 'o', 'Elvis Presley': 'o', 'Emerson Drive': 'o', 'EmiSunshine': 'o', 'Emilio Navaira': 'e', 'Emily Strayer': 'l', 'Emily West': 'o', 'Emmylou Harris': 'm', 'Eric Church': 'o', 'Eric Ethridge': 'o', 'Eric Heatherly': 'o', 'Eric Paslay': 'o', 'Erika Jo': 'o', 'Ernest (musician)': 'o', 'Ernest Ashworth': 'o', 'Ernest Tubb': 'o', 'Evangeline (band)': 'o', 'Exile (American band)': 'o', 'Faith Hill': 'o', \"Farmer's Daughter (band)\": 'o', 'Faron Young': 'o', 'Fast Ryde': 'o', 'Ferlin Husky': 'o', \"Fiddlin' Arthur Smith\": 'o', \"Fiddlin' John Carson\": 'l', 'First Aid Kit (band)': 'o', 'Flatland Cavalry': 'o', 'Flatt & Scruggs': 'l', 'Fleet Foxes': 'n', 'Florida Georgia Line': 'o', 'Floyd Cramer': 'o', 'Floyd Tillman': 'o', 'Flying Burrito Brothers': 'o', 'Flynnville Train': 'o', 'Foggy Mountain Boys': 'l', 'Foster & Lloyd': 'o', 'Frank Foster (country singer)': 'o', 'Frank Hannon': 'a', 'Frank Ray': 'o', 'Frankie Ballard': 'o', 'Frankie Laine': 'r', 'Frankie Miller (country musician)': 'o', 'Frazier River': 'o', 'Fred Rose (songwriter)': 'o', 'Freddie Hart': 'o', 'Freddy Fender': 'e', 'Freddy Weller': 'o', 'Gabbie Nolen': 'o', 'Gabby Barrett': 'o', 'Gail Davies': 'o', 'Garth Brooks': 'o', 'Gary Allan': 'o', 'Gary Burr': 'o', 'Gary LeVox': 'o', 'Gary Morris': 'o', 'Gary Nichols': 'o', 'Gary Nicholson (singer)': 'o', 'Gary P. Nunn': 'o', 'Gary Stewart (singer)': 'o', 'Gene Autry': 'o', 'Gene Clark': 'o', 'Gene Vincent': 'o', 'Gene Watson': 'o', 'George Birge': 'o', 'George Canyon': 'o', 'George Ducas (singer)': 'o', 'George Fox (singer)': 'o', 'George Hamilton IV': 'o', 'George Jones': 'o', 'George Morgan (singer)': 'o', 'George Strait': 'e', 'Georgia Middleman': 'o', 'Giant Sand': 'l', 'Gibson/Miller Band': 'o', 'Gil Grand': 'o', 'Gillian Welch': 'o', 'Gina Jeffreys': 'o', 'Gina Villalobos': 'n', 'Glen Campbell': 'o', 'Glen Templeton': 'o', 'Glenn Frey': 'o', 'Gloriana (band)': 'o', 'Goldie Hill': 'o', 'Gone West (band)': 'o', 'Goose Creek Symphony': 'r', 'Gord Bamford': 'o', 'Gordon Lightfoot': 'o', 'Gordon Mote': 'h', 'Gram Parsons': 'r', 'Grandpa Jones': 'o', 'Granger Smith': 'o', 'Great Plains (Tennessee band)': 'o', 'Great Speckled Bird (band)': 'o', 'Green River Ordinance (band)': 'o', 'Greg Hanna': 'o', 'Greg Holland (musician)': 'o', 'Greg Keelor': 'o', 'Gregg Allman': 'l', 'Gretchen Peters': 'o', 'Gretchen Wilson': 'o', 'Griffen Palmer': 'o', 'Gus Hardin': 'o', 'Guy Clark': 'o', 'Gwen Sebastian': 'o', 'Gwen Stefani': 'o', 'Hailey Whitters': 'o', 'Hal Ketchum': 'o', 'Hal Willis (singer)': 'o', 'Haley & Michaels': 'o', 'Halfway to Hazard': 'o', 'Hank Cochran': 'o', 'Hank Flamingo': 'o', 'Hank Garland': 'a', 'Hank Locklin': 'o', 'Hank Snow': 'o', 'Hank Thompson (musician)': 'o', 'Hank Williams III': 'u', 'Hank Williams Jr.': 'o', 'Hank Williams': 'o', 'Hanna-McEuen': 'o', 'Hardy (singer)': 'o', 'Harley Allen': 'o', 'Harmony James': 'o', 'Hawkshaw Hawkins': 'o', 'Hayden Thompson': 'o', 'Hayes Carll': 'e', 'Hayley Oliver': 'o', 'Heartland (band)': 'o', 'Heather Myles': 'o', 'Heidi Newfield': 'o', 'Helen Cornelius': 'o', 'Helen Darling (singer)': 'o', 'Hellbound Glory': 'o', 'Henry Paul (musician)': 'o', 'Henson Cargill': 'o', 'Herb Pedersen': 'o', 'Hey Romeo': 'o', 'High Valley': 'o', 'Highway 101': 'o', 'Hillary Lindsey': 'o', 'Hillary Scott': 'o', 'Holly Dunn': 'o', 'Holly Lamar': 'o', 'Holly Williams (musician)': 'o', 'Home Free (group)': ' ', 'Honky Tonk Confidential': 'o', 'Hootie & the Blowfish': 'o', 'Hot Apple Pie': 'o', 'Hoyt Axton': 'o', 'Hunter Brothers': 'o', 'Hunter Hayes': 'o', 'Ian & Sylvia': 'o', 'Ian Tyson': 'o', 'Ilse DeLange': 'o', 'Infamous Stringdusters': 'r', 'Ingrid Andress': 'o', 'Ira Louvin': 'o', 'Irene Kelley': 'o', 'Iris DeMent': 'o', 'Izzy Miller': 'o', 'J. Michael Harter': 'o', 'J. R. Vautour': 'o', 'JB and the Moonshine Band': 'o', 'JD Souther': 'o', 'JJ Cale': 'm', 'JJ Lawhorn': 'o', 'JT Hodges': 'o', 'Jace Everett': 'o', 'Jack Clement': 'o', 'Jack Greene': 'o', 'Jack Ingram': 'o', 'Jack White': 'l', 'Jackie Lee (country singer)': 'o', 'Jackson Dean': 'o', 'Jacky Ward': 'o', 'Jacob Lyda': 'o', 'Jade Eagleson': 'o', 'Jaida Dreyer': 'o', 'Jake Mathews': 'o', 'Jake Owen': 'o', 'James Barker Band': 'o', 'James Blundell (singer)': 'o', 'James Bonamy': 'o', 'James House (singer)': 'o', 'James Intveld': 'm', 'James McMurtry': 'o', 'James Otto': 'o', 'James Taylor': 'o', 'James Wesley': 'o', 'James and the Shame': 'o', 'Jameson Clark (singer)': 'o', 'Jameson Rodgers': 'o', 'Jamey Johnson': 'o', 'Jamie Lee Thurston': 'o', 'Jamie Lynn Spears': 'o', \"Jamie O'Hara (singer)\": 'o', \"Jamie O'Neal\": 'o', 'Jamie Warren': 'o', 'Jan Howard': 'o', 'Janette Carter': 'o', 'Janie Fricke': 'o', 'Janis Martin': 'o', 'Jann Browne': 'o', 'Jaron Lowenstein': 'o', 'Jasmine Rae': 'o', 'Jason Aldean': 'o', 'Jason Benoit': 'o', 'Jason Blaine': 'o', 'Jason Boland & the Stragglers': 'e', 'Jason Isbell': 'm', 'Jason McCoy': 'o', 'Jason Michael Carroll': 'o', 'Jason Ringenberg': 'o', 'Jason Sellers': 'o', 'Jason Sturgeon': 'o', 'Jawga Boyz': 'o', 'Jay Farrar': 'l', 'Jaydee Bixby': 'o', 'Jean Shepard': 'o', 'Jeanne Pruett': 'o', 'Jeannie C. Riley': 'o', 'Jeannie Seely': 'o', 'Jedd Hughes': 'o', 'Jeff Bates': 'o', 'Jeff Carson': 'o', 'Jeff Chance': 'o', 'Jeff Cook': 'o', 'Jeff Foxworthy': 'b', 'Jeff Hanna': 'o', 'Jeff Knight (musician)': 'o', 'Jeff Tweedy': 'l', 'Jeff Wood (singer)': 'o', 'Jeffrey Foucault': 'o', 'Jeffrey Steele': 'o', 'Jelly Roll (singer)': 'i', 'Jennette McCurdy': 'o', 'Jennifer Hanson': 'o', 'Jennifer Nettles': 'o', 'Jenny Lou Carson': 'o', 'Jenny Simpson (singer)': 'o', 'Jenny Whiteley': 'o', 'Jeremy McComb': 'o', 'Jerrod Niemann': 'o', 'Jerry Douglas': 'm', 'Jerry Jeff Walker': 'r', 'Jerry Kilgore (singer)': 'o', 'Jerry Lee Lewis': 'o', 'Jerry Reed': 'o', 'Jerry Salley': 'l', 'Jerry Wallace': 'o', 'Jess Moskaluke': 'o', 'Jesse Dayton': 'l', 'Jesse Hunter': 'o', 'Jesse Lee (singer)': 'o', 'Jesse Mast': 'o', 'Jesse Winchester': 'o', 'Jessi Alexander': 'o', 'Jessi Colter': 'o', 'Jessica Andrews': 'o', 'Jessica Harp': 'o', 'Jessica Sierra': 'o', 'Jessica Simpson': 'o', 'Jessie Farrell': 'o', 'Jessie James Decker': 'o', 'Jetty Road (band)': 'o', 'Jewel (musician)': 'o', 'Jill Johnson': 'o', 'Jill King': 'o', 'Jim Collins (singer)': 'o', 'Jim Cuddy': 'o', 'Jim Ed Brown': 'o', 'Jim Glaser': 'o', 'Jim Hurst': 'o', 'Jim Lauderdale': 'm', 'Jim Reeves': 'o', 'Jim Witter': 'o', 'Jimmie Allen': 'o', 'Jimmie Dale Gilmore': 'o', 'Jimmie Rodgers (country singer)': 'o', 'Jimmie Rodgers (pop singer)': 'o', 'Jimmy Bryant': 'o', 'Jimmy Buffett': 'r', 'Jimmy C. Newman': 'o', 'Jimmy Dean': 'o', 'Jimmy Fortune': 'o', 'Jimmy Gaudreau': 'l', 'Jimmy Ibbotson': 'o', 'Jimmy Lee Fautheree': 'o', 'Jimmy Rankin': 'o', 'Jimmy Wakely': 'o', 'Jimmy Wayne': 'o', 'Jimmy Webb': 'o', 'Jo Dee Messina': 'o', 'Jo Hikk': 'o', 'Jo-El Sonnier': 'o', 'Joanie Keller': 'o', 'Joanna Cotten': 'o', 'Joanna Smith': 'o', 'Jody Miller': 'o', 'Joe Barnhill': 'o', 'Joe Bonsall': 'o', 'Joe Diffie': 'o', 'Joe Ely': 'l', 'Joe Maphis': 'o', 'Joe Nichols': 'o', 'Joe Poovey': 'o', 'Joe Stampley': 'o', 'Joel Crouse': 'o', 'Joel Feeney': 'o', 'Joey + Rory': 'o', 'Joey Feek': 'o', 'John Anderson (singer)': 'o', 'John Arthur Martinez': 'o', 'John Berry (country singer)': 'o', 'John Bunzow': 'm', 'John Carter Cash': 'o', 'John Conlee': 'o', 'John D. Loudermilk': 'o', 'John Denver': 'o', 'John Driskell Hopkins': 'm', 'John Duffey': 'l', 'John Fogerty': 'o', 'John Hartford': 'r', 'John Hiatt': 'e', 'John Jorgenson': 'y', 'John King (country singer)': 'o', 'John Landry': 'o', 'John Mayer': 'o', 'John McEuen': 'o', 'John Mellencamp': 'e', 'John Michael Montgomery': 'o', 'John Morgan (singer)': 'o', 'John Paul White': 'o', 'John Prine': 'o', 'John Rich': 'o', 'John Schneider (screen actor)': 'o', 'John Sines Jr.': 'o', 'John Wesley Ryles': 'o', 'John Williamson (singer)': 'o', 'Johnnie & Jack': 'o', 'Johnny Bond': 'o', 'Johnny Bush': 'o', 'Johnny Carver (musician)': 'o', 'Johnny Cash': 'o', 'Johnny Darrell': 'o', 'Johnny Duncan (country singer)': 'o', 'Johnny Gimble': 'o', 'Johnny Horton': 'o', 'Johnny Lee (singer)': 'o', 'Johnny Paycheck': 'o', 'Johnny Rodriguez': 'o', 'Johnny Russell (singer)': 'o', 'Johnny Tillotson': 'o', 'Johnny Van Zant': 'o', 'Jojo Mason': 'o', 'Jolie Holland': 'o', 'Jon Christopher Davis': 'o', 'Jon Langston': 'o', 'Jon Pardi': 'o', 'Jon Randall': 'o', 'Jon Wolfe': 'o', 'Jonathan Byrd (musician)': 'o', 'Jonathan Edwards (musician)': 'o', 'Jonathan Singleton': 'o', 'Jonny Diaz': 'c', 'Jordan Davis (singer)': 'o', 'Jordan McIntosh': 'o', 'Jordan Rager': 'o', 'Josh Abbott Band': 'e', 'Josh Gracin': 'o', 'Josh Kelley': 'o', 'Josh Logan (country singer)': 'o', 'Josh Ross': 'o', 'Josh Thompson (singer)': 'o', 'Josh Turner': 'e', 'Joshua Scott Jones': 'o', 'Joy Lynn White': 'o', 'Judy Collins': 'o', 'Judy Martin (singer)': 'o', 'Judy Rodman': 'o', 'Juice Newton': 'o', 'Julian Austin (musician)': 'o', 'Julie Miller': 'c', 'Julie Reeves': 'o', 'Julie Roberts': 'o', 'Julienne Irwin': 'o', 'June Carter Cash': 'o', 'Junior Brown': 'e', 'Justin Bieber': 'o', 'Justin Moore': 'o', 'Justin Timberlake': 'o', 'Justin Townes Earle': 'm', 'Justin Tubb': 'o', 'Jypsi': 'o', 'K. T. Oslin': 'o', 'Kacey Jones': 'o', 'Kacey Musgraves': 'o', 'Kaitlyn Baker': 'o', 'Kal Hourd': 'o', 'Kalie Shorr': 'o', 'Kameron Marlowe': 'o', 'Kane Brown': 'o', 'Karen Brooks (singer)': 'o', 'Karen Staley': 'o', 'Karen Taylor-Good': 'o', 'Karli Whetstone': 'o', 'Kasey Chambers': 'o', 'Kassi Ashton': 'o', 'Kate Campbell': 'o', 'Kathleen Edwards': 'l', 'Kathy Mattea': 'o', 'Katie Armiger': 'o', 'Katrina Elam': 'o', 'Kay Adams (singer)': 'o', \"Keb' Mo'\": 'e', 'Keith Anderson': 'o', 'Keith Gattis': 'o', 'Keith Harling': 'o', 'Keith Palmer (singer)': 'o', 'Keith Stegall': 'o', 'Keith Urban': 'o', 'Keith Whitley': 'o', 'Kelleigh Bannen': 'o', 'Kellie Coffey': 'o', 'Kellie Pickler': 'o', 'Kelly Clarkson': 'o', 'Kelly Willis': 'o', 'Kelsea Ballerini': 'o', 'Ken Mellons': 'o', 'Keni Thomas': 'o', 'Kenny Chesney': 'o', 'Kenny Loggins': 'o', 'Kenny Rogers': 'o', 'Kenny Starr': 'o', 'Kenny Vaughan': 'o', 'Kerry Harvick': 'o', 'Kevin Costner & Modern West': 'o', 'Kevin Denney': 'o', 'Kevin Fowler': 'o', 'Kevin Sharp': 'o', 'Kevin Skinner': 'o', 'Kevin Welch': 'o', 'Kid Rock': 'o', 'Kieran Kane': 'o', 'Kim Carnes': 'o', 'Kim Hill (singer)': 'o', 'Kim Richey': 'o', 'Kimberly Perry': 'o', 'Kimmie Rhodes': 'm', 'Kinky Friedman': 'o', 'Kip Moore': 'o', 'Kippi Brannon': 'o', 'Kira Isabella': 'o', 'Kitty Wells': 'o', 'Kix Brooks': 'o', 'Koe Wetzel': 'o', 'Kolby Cooper': 'o', 'Kortney Kayle': 'o', 'Kris Kristofferson': 'o', 'Krista Marie': 'o', 'Kristian Bush': 'o', 'Kristin Chenoweth': 'u', 'Kristy Lee Cook': 'o', 'Krystal Keith': 'o', 'Kyle Park': 'e', 'Kylie Rae Harris': 'o', 'La Costa': 'o', 'Lace (band)': 'o', 'Lacy J. Dalton': 'o', 'Lady A': 'o', 'Lainey Wilson': 'o', 'Lanco (band)': 'o', 'Lane Brody': 'o', 'Lane Turner': 'o', 'Lari White': 'o', 'Larry Boone': 'o', 'Larry Campbell (musician)': 'o', 'Larry Cordle': 'l', 'Larry Cunningham': 'o', 'Larry Gatlin': 'o', 'Larry Jon Wilson': 'o', 'Larry Stephenson': 'l', 'Larry Stewart (singer)': 'o', 'Larry Willoughby': 'o', 'Larry the Cable Guy': 'h', 'Laura Bryna': 'o', 'Laura Cantrell': 'l', 'Lauren Alaina': 'o', 'Lauren Lucas': 'o', 'Lauren-Ashley': 'o', 'Lavender Country': 'o', 'Lawrie Minson': 'o', 'Leah Daniels': 'o', 'Leah Turner': 'o', 'Leahy': 'o', 'Lee Ann Womack': 'e', 'Lee Brice': 'o', 'Lee Greenwood': 'o', 'Lee Hazlewood': 'o', 'Lee Kernaghan': 'o', 'Lee Roy Parnell': 'l', 'Lefty Frizzell': 'o', 'Leland Martin': 'o', 'Lennie Gallant': 'o', 'Lennon & Maisy': 'o', 'Lenny Cooper': 'o', 'Leon Ashley': 'o', 'Leon Russell': 'o', 'Leona Williams': 'o', 'Leroy Van Dyke': 'o', 'Les Paul': 'a', 'Les Taylor (singer)': 'o', 'Leslie Satcher': 'o', 'Lester Flatt': 'l', 'Levi Parham': 'l', 'Levon (band)': 'o', 'Lew DeWitt': 'o', 'Lil Nas X': 'i', 'Lila McCann': 'o', 'Lillie Mae': 'm', 'Lilly Hiatt': 'o', 'Linda Davis': 'o', 'Linda Gail Lewis': 'o', 'Linda Ronstadt': 'o', 'Lindi Ortega': 'o', 'Lindsay Ell': 'o', 'Lionel Cartwright': 'o', 'Lionel Richie': 'o', 'Lisa Angelle': 'o', 'Lisa Brokop': 'o', 'Lisa Hewitt': 'o', 'Lisa Marie Presley': 'o', 'Lisa Stewart': 'o', 'Little Big Town': 'o', 'Little Jimmy Dickens': 'o', 'Little Texas (band)': 'o', 'Livy Jeanne': 'o', 'Liz Anderson': 'o', 'Lloyd Maines': 'o', 'LoCash': 'o', 'Lobo (musician)': 'o', 'Logan Mize': 'o', 'Loggins and Messina': 'o', 'Lonestar': 'o', 'Lonnie Mack': 'l', 'Lorenzo Antonio': 'a', 'Loretta Lynn': 'o', 'Lori McKenna': 'o', 'Lorrie Morgan': 'o', 'Louise Mandrell': 'o', 'Love and Theft (band)': 'o', 'Lucille Starr': 'o', 'Lucinda Williams': 'm', 'Lucy Angel': 'o', 'Lucy Hale': 'o', 'Luke Bryan': 'o', 'Luke Combs': 'o', 'Lydia Loveless': 'o', 'Lyle Lovett': 'l', 'Lynn Anderson': 'o', 'Lynyrd Skynyrd': 'o', 'Mac Davis': 'o', 'Mac McAnally': 'o', 'Mac Wiseman': 'l', 'MacKenzie Porter': 'o', 'Maddie & Tae': 'o', 'Maddox Brothers and Rose': 'o', 'Madeline Merlo': 'o', 'Maggie Björklund': 'o', 'Maggie Rose': 'o', 'Mallary Hope': 'o', 'Mandy Barnett': 'o', 'Marcel (singer)': 'o', 'Marcus Hummon': 'o', 'Maren Morris': 'o', 'Margie Bowes': 'o', 'Margie Singleton': 'o', 'Margo Price': 'o', 'Margo Smith': 'o', 'Marie Osmond': 'o', 'Marie Sisters': 'o', 'Marion Worth': 'o', 'Mark Chesnutt': 'o', 'Mark Collie': 'o', 'Mark Erelli': 'm', 'Mark Knopfler': 'o', 'Mark McGuinn': 'o', 'Mark Nesler': 'o', \"Mark O'Connor\": 'o', 'Mark Wills': 'o', 'Mark Wystrach': 'o', 'Marlee Scott': 'o', \"Marley's Ghost (band)\": 'o', 'Marshall Chapman': 'o', 'Marshall Dyllon': 'o', 'Marshmello': 'l', 'Martie Maguire': 'l', 'Martin Delray': 'o', 'Martina McBride': 'o', 'Marty Brown (singer)': 'o', 'Marty Raybon': 'o', 'Marty Robbins': 'o', 'Marty Stuart': 'o', 'Marvin Rainwater': 'o', 'Mary Chapin Carpenter': 'o', 'Mary Gauthier': 'o', 'Mary Sarah': 'o', 'Mason Ramsey': 'o', 'Matraca Berg': 'o', 'Matt Jenkins': 'o', 'Matt Kennon': 'o', 'Matt King (singer)': 'o', 'Matt Lang': 'o', 'Matt Mason (singer)': 'o', 'Matt Minglewood': 'o', 'Matt Stell': 'o', 'Matthew Ramsey': 'o', 'Matthew and the Mandarins': 'o', 'Matthews, Wright & King': 'o', 'Maury Finney': 'o', 'Max Stalling': 'e', 'Maybelle Carter': 'o', 'McAlister Kemp': 'o', 'McAlyster': 'o', 'McBride & the Ride': 'o', 'McGuffey Lane': 'o', 'McHayes': 'o', 'McKenna Faith': 'o', 'Megan Moroney': 'o', 'Megan Mullins': 'o', 'Megan Redmond': 'o', 'Megan and Liz': 'o', 'Meghan Linsey': 'o', 'Meghan Patrick': 'o', 'Mel McDaniel': 'o', 'Mel Street': 'o', 'Mel Tillis': 'o', 'Melanie Laine': 'o', 'Melba Montgomery': 'o', 'Melinda Schneider': 'o', 'Melissa Etheridge': 'e', 'Melissa Lawson': 'o', 'Melodie Crittenden': 'o', 'Melonie Cannon': 'l', 'Merle Haggard': 'o', 'Merle Kilgore': 'o', 'Merle Travis': 'o', 'Mica Roberts': 'o', 'Michael Johnson (singer)': 'o', 'Michael Martin Murphey': 'r', 'Michael Nesmith': 'o', 'Michael Peterson (singer)': 'o', 'Michael Ray (singer)': 'o', 'Michael Sarver': 'o', 'Michael White (singer)': 'o', 'Michaela Anne': 'm', 'Michelle Branch': 'o', 'Michelle Nixon': 'o', 'Michelle Wright': 'o', 'Mickey Gilley': 'o', 'Mickey Guyton': 'o', 'Mickie James': 'o', 'Micky & the Motorcars': 'l', 'Midland (band)': 'e', 'Mike Henderson': 'o', 'Mike McClure': 'o', 'Mike Reid (singer)': 'o', 'Mike Stinson': 'o', 'Mike Walker (singer)': 'o', 'Mike and the Moonpies': 'e', 'Miko Marks': 'o', 'Mila Mason': 'o', 'Miley Cyrus': 'o', 'Mindy McCready': 'o', 'Mindy Smith': 'o', 'Miranda Lambert': 'o', 'Miss Willie Brown': 'o', 'Mitchell Tenpenny': 'o', 'Mitchell Torok': 'o', 'Mo Pitney': 'e', 'Moe Bandy': 'o', 'Molly Tuttle': 'l', 'Montgomery Gentry': 'o', 'Monty Byrom': 'o', 'Monty Holmes': 'o', 'Moon Mullican': 'o', 'Moonshine Bandits': 'o', 'Morgan Evans (singer)': 'o', 'Morgan Wade (singer)': 'o', 'Morgan Wallen': 'o', 'Mountain Heart': 'l', 'Mudcrutch': 'o', 'Myrna Lorrie': 'o', 'Nanci Griffith': 'o', 'Nancy Sinatra': 'o', 'Naomi Judd': 'o', 'Narvel Felts': 'o', 'Nashville Bluegrass Band': 'l', 'Nashville West': 'o', 'Nat Stuckey': 'o', 'Natalie Hemby': 'o', 'Natalie Maines': 'l', 'Natalie Stovall and the Drive': 'o', 'Nate Haller': 'o', 'Nate Smith (singer)': 'o', 'Neal Coty': 'o', 'Neal McCoy': 'o', 'Ned Miller': 'o', 'Neil Diamond': 'o', 'Neil Thrasher': 'o', 'Neko Case': 'n', 'Nelly': 'i', 'New Grass Revival': 'r', 'Nick 13': 'l', 'Nickel Creek': 'r', 'Nicolette Larson': 'o', 'Nicolle Galyon': 'o', 'Nikki Hornsby': 'o', 'Nikki Nelson': 'o', 'Niko Moon': 'o', 'Nitty Gritty Dirt Band': 'o', 'Noel Haggard': 'o', 'Nora Jane Struthers': 'm', \"Nora O'Connor\": 'o', 'Norah Jones': 'o', 'Norma Jean (singer)': 'o', 'Norman Blake (American musician)': 'l', \"Nothin' Fancy\": 'o', \"O'Shea (band)\": 'o', 'O. B. McClinton': 'o', 'Old Crow Medicine Show': 'l', 'Old Dogs (group)': 'o', 'Old Dominion (band)': 'o', 'Olivia Newton-John': 'o', 'One Flew South': 'o', 'One More Girl': 'o', 'Orrall & Wright': 'o', 'Orville Peck': 'o', 'Osborne Brothers': 'l', 'Owen Riegling': 'o', 'Owen Temple': 'o', 'Pake McEntire': 'o', 'Palomino Road': 'o', 'Pam Tillis': 'o', 'Parker McCollum': 'm', 'Parmalee': 'o', 'Pat Boone': 'o', 'Pat Green': 'o', 'Patricia Conroy': 'o', 'Patsy Cline': 'o', 'Patsy Montana': 'o', 'Patti Page': 'r', 'Patty Griffin': 'm', 'Patty Loveless': 'e', 'Paul Brandt': 'o', 'Paul Davis (singer)': 'l', 'Paul Jefferson': 'o', 'Paul Overstreet': 'o', 'Paul Thorn': 'm', 'Paula Fernandes': 'e', 'Paulette Carlson': 'o', 'Pee Wee King': 'o', 'Peggy Little': 'o', 'Penny DeHaven': 'o', 'Perfect Stranger (band)': 'o', 'Perry Como': 'o', 'Peter Rowan': 'l', 'Petric (band)': 'o', 'Phil Stacey': 'o', 'Phil Vassar': 'o', 'Philip Claypool': 'o', 'Philomena Begley': 'o', 'Pinmonkey': 'o', 'Pirates of the Mississippi': 'o', 'Pistol Annies': 'o', 'Poco (band)': 'o', 'Point of Grace': 'o', 'Pokey LaFarge': 'l', 'Porter Wagoner': 'o', 'Post Malone': 'i', 'Prairie Oyster': 'o', 'Priscilla Block': 'o', 'Punch Brothers': 'r', 'Pure Prairie League': 'o', 'Pussycat (band)': 'o', 'Quartette (band)': 'o', 'Rachel Baiman': 'o', 'Rachel Proctor': 'o', 'Rachele Lynae': 'o', 'Radney Foster': 'o', 'RaeLynn': 'o', 'Railroad Earth': 'o', 'Ralph Stanley': 'l', \"Ramblin' Jack Elliott\": 'o', 'Randy Houser': 'o', 'Randy Howard (country singer)': 'o', 'Randy Kohrs': 'l', 'Randy Montana': 'o', 'Randy Owen': 'o', 'Randy Rogers Band': 'e', 'Randy Travis': 'o', 'Randy Weeks': 'o', 'Raquel Cole': 'o', 'Rascal Flatts': 'o', 'Rattlesnake Annie': 'o', 'Raul Malo': 'm', 'Ray Benson': 'e', 'Ray Charles': 'o', 'Ray Griff': 'o', 'Ray Hood': 'o', 'Ray Kennedy (country singer)': 'o', 'Ray Peterson': 'r', 'Ray Pillow': 'o', 'Ray Price (musician)': 'e', 'Ray Scott (singer)': 'o', 'Ray Smith (rockabilly singer)': 'o', 'Ray Stevens': 'o', 'Ray Wylie Hubbard': 'o', 'Raybon Brothers': 'o', 'Razzy Bailey': 'o', 'Reba McEntire': 'o', 'Rebecca Lynn Howard': 'o', 'Rebel Meets Rebel': 'o', 'Reckless Kelly (band)': 'o', 'Red Foley': 'o', 'Red Simpson': 'o', 'Red Sovine': 'o', 'Red Steagall': 'o', 'Red Wanting Blue': 'o', 'Redmon & Vale': 'o', 'Redneck Souljers': 'o', 'Regina Regina': 'o', 'Rehab (band)': 'i', 'Restless Heart': 'o', 'Restless Road': 'o', 'Rhett Akins': 'o', 'Rhiannon Giddens': 'o', 'Rhonda Vincent': 'l', 'Rich McCready': 'o', \"Rich O'Toole\": 'o', 'Richard Bennett (guitarist)': 'o', 'Richard Lynch (musician)': 'o', 'Richard Sterban': 'o', 'Richie McDonald': 'o', 'Rick Monroe': 'o', 'Rick Shea': 'm', 'Rick Tippe': 'o', 'Rick Trevino': 'o', 'Rick Vincent': 'o', 'Ricky Lynn Gregg': 'o', 'Ricky Nelson': 'o', 'Ricky Skaggs': 'l', 'Ricky Van Shelton': 'o', 'Ricochet (band)': 'o', 'Riders in the Sky (band)': 'e', 'Riley Green (singer)': 'o', 'Rio Grand': 'o', 'Rissi Palmer': 'o', 'Rita Coolidge': 'o', 'Rita Hosking': 'm', 'Rita MacNeil': 'o', 'Rita Wilson': 'o', 'River Road (band)': 'o', 'Rob Baird': 'm', 'Rob Crosby': 'o', 'Rob Ickes': 'l', 'Roba Stanley': 'l', 'Robbie Fulks': 'i', 'Robert Earl Keen': 'm', 'Robert Ellis Orrall': 'o', 'Robert Plant': 'o', 'Robin Lee Bruce': 'o', 'Robin and Linda Williams': 'o', 'Robyn Ottolini': 'o', 'Rocket Club': 'o', 'Rockie Lynne': 'o', 'Rodney Atkins': 'o', 'Rodney Carrington': 'o', 'Rodney Crowell': 'r', 'Roger Alan Wade': 'm', 'Roger Ballard (American singer-songwriter)': 'o', 'Roger Brown (songwriter)': 'o', 'Roger Creager': 'o', 'Roger Knox': 'o', 'Roger Miller': 'o', 'Roger Springer': 'o', 'Romantica (band)': 'o', 'Ron Block': 'l', 'Ron Hynes': 'o', 'Ron Wallace (singer)': 'o', 'Ronna Reeves': 'o', 'Ronnie Dove': 'o', 'Ronnie Dunn': 'o', 'Ronnie McDowell': 'o', 'Ronnie Milsap': 'o', 'Ronnie Prophet': 'o', 'Rory Feek': 'o', 'Rosanne Cash': 'o', 'Roscoe Holcomb': 'o', 'Rose Falcon': 'o', 'Rose Maddox': 'o', 'Rosie Flores': 'l', 'Roxie Dean': 'o', 'Roy Acuff': 'o', 'Roy Clark': 'o', 'Roy Drusky': 'o', 'Roy Orbison': 'o', 'Royal Wade Kimes': 'o', 'Ruby Lovett': 'o', 'Ruby Wright (country singer)': 'o', 'Run C&W': 'l', 'Runaway June': 'o', 'Rushlow': 'o', 'Russell Dickerson': 'o', 'Russell Smith (singer)': 'o', 'Ruston Kelly': 'o', 'Ry Cooder': 'm', 'Ryan Adams': 'o', 'Ryan Beaver': 'o', 'Ryan Bingham': 'm', 'Ryan Hurd': 'o', 'Ryan Laird': 'o', 'Ryan Tyler': 'o', 'S-K-O': 'o', 'SHeDAISY': 'o', 'Sam Baker (musician)': 'm', 'Sam Bush': 'r', 'Sam Hunt': 'o', 'Sam Outlaw': 'o', 'Sam Riggs': 'o', 'Sammi Smith': 'o', 'Sammy Kershaw': 'o', 'Sandy Posey': 'o', 'Sara Carter': 'o', 'Sara Evans': 'o', 'Sara Storer': 'o', 'Sara Watkins': 'l', 'Sarah Buxton (singer)': 'o', 'Sarah Darling': 'o', 'Sarah Jarosz': 'm', 'Sarah Johns': 'o', 'Sarah Shook': 'l', 'Sasha McVeigh': 'o', 'Sawyer Brown': 'o', 'Scooter Lee': 'o', 'Scott H. Biram': 'l', 'Scott Joss': 'o', 'Scott Vestal': 'l', 'Scotty Emerick': 'o', 'Scotty McCreery': 'o', 'Sean Hogan': 'o', 'Sean McConnell': 'o', 'Sean Patrick McGraw': 'o', 'Sean Stemaly': 'o', 'Sean Watkins': 'r', 'Seth Ennis': 'o', 'Shaboozey': 'i', 'Shane McAnally': 'o', 'Shane Minor': 'o', 'Shane Nicholson (singer)': 'o', 'Shane Profitt': 'o', 'Shane Stockton': 'o', 'Shane Yellowbird': 'o', 'Shania Twain': 'o', 'Shannon Brown (singer)': 'o', 'Shannon Lawson (singer)': 'o', 'Sharon Anderson (singer)': 'o', 'Shawn Austin': 'o', 'Shawn Camp (singer)': 'o', 'Shea Fisher': 'o', 'Sheena Easton': 'o', 'Sheila Andrews': 'o', 'Shelby Lynne': 'm', 'Shelly Fairchild': 'm', 'Shelly West': 'o', 'Shenandoah (band)': 'o', 'Sherrié Austin': 'o', 'Sheryl Crow': 'o', 'Shirley Collie': 'o', 'Shirley Myers': 'o', 'Shooter Jennings': 'o', 'Sierra Hull': 'l', 'Sinead Burgess': 'o', 'Sir Elvis': 'o', 'Sir Rosevelt': 'a', 'Sixwire': 'o', 'Skeeter Davis': 'o', 'Skeets McDonald': 'o', 'Skip Ewing': 'o', 'Slim Dusty': 'o', 'Slim Whitman': 'o', 'Slim Wilson': 'o', 'Small Town Pistols': 'o', 'Smiley Burnette': 'o', 'Son Volt': 'l', 'Sonia Leigh': 'o', 'Sonny James': 'o', 'Sons of Sylvia': 'o', 'Sons of the Desert (band)': 'o', 'Sons of the Pioneers': 'o', 'Sonya Isaacs': 'l', 'South 65': 'o', 'Southern Pacific (band)': 'o', 'Spade Cooley': 'e', 'Sparx (US band)': 'a', 'Speedy West': 'o', 'Spirit Family Reunion': 'o', 'Stacey Earle': 'm', 'Stacy Dean Campbell': 'o', 'Stealing Angels': 'o', 'Steel Magnolia': 'o', 'Stella Parton': 'o', 'Stephanie Bentley': 'o', 'Stephanie Quayle': 'o', 'Stephen Cochran': 'o', 'Steve Azar': 'o', 'Steve Earle': 'l', 'Steve Fox (musician)': 'o', 'Steve Grand': 'o', 'Steve Holy': 'o', 'Steve Kolander': 'o', 'Steve Martin': 'm', 'Steve Moakler': 'o', 'Steve Wariner': 'o', 'Steve Young (musician)': 'o', 'Steven Lee Olsen': 'o', 'Steven Tyler': 'a', 'Steven Wayne Horton': 'o', \"Stompin' Tom Connors\": 'a', 'Stonewall Jackson (musician)': 'o', 'Stoney Cooper': 'o', 'Stoney Edwards': 'o', 'Stoney LaRue': 'e', 'Stu Davis': 'o', 'Sturgill Simpson': 'l', 'Sue Thompson': 'o', 'Sugarland': 'o', 'Sunny Sweeney': 'm', 'Super Grit Cowboy Band': 'o', 'Susan Ashton': 'o', 'Susan McCann': 'o', 'Susan Raye': 'o', 'Susie Allanson': 'o', 'Suzy Bogguss': 'o', 'Sweethearts of the Rodeo': 'o', 'Sykamore': 'o', 'Sylvia (singer)': 'o', 'T Bone Burnett': 'm', 'T. G. Sheppard': 'o', 'T. Graham Brown': 'o', 'Tammy Cochran': 'o', 'Tammy Graham': 'o', 'Tammy Rogers': 'l', 'Tammy Wynette': 'o', 'Tania Kernaghan': 'o', 'Tanya Tucker': 'o', 'Tara Lyn Hart': 'o', 'Tara Oram': 'o', 'Tate Stevens': 'o', 'Taylor Swift': 'o', 'Taylor Ware': 'o', 'Tebey': 'o', 'Ted Russell Kamp': 'o', 'Teea Goans': 'e', 'Tenille Arts': 'o', 'Tenille Townes': 'o', 'Tennessee Ernie Ford': 'o', 'Tennessee Pulleybone': 'o', 'Terri Clark': 'o', 'Terri Gibbs': 'o', 'Terry Allen (country singer)': 'u', 'Terry Fell': 'o', 'Terry McBride (musician)': 'o', 'Tex Ritter': 'o', 'Tex Williams': 'e', 'Texas Lightning (band)': 'o', 'Texas Tornados': 'e', 'The Bama Band': 'o', 'The Band Perry': 'o', 'The Band': 'o', 'The Bellamy Brothers': 'o', 'The Big Bopper': 'o', 'The Blue Moon Boys': 'o', 'The Boom Chucka Boys': 'o', 'The Boxmasters': 'l', 'The Bros. Landreth': 'l', 'The Browns': 'o', 'The Buckaroos': 'a', 'The Buffalo Club': 'o', 'The Burch Sisters': 'o', 'The Cadillac Three': 'o', 'The Carter Family': 'o', 'The Chicks': 'o', 'The Chuck Wagon Gang': 'o', 'The Civil Wars': 'm', 'The Clark Family Experience': 'o', 'The Common Linnets': 'o', 'The Country Gentlemen': 'r', 'The Delmore Brothers': 'o', 'The Departed (band)': 'l', 'The Derailers': 'm', 'The Desert Rose Band': 'r', 'The Devil Makes Three (band)': 'l', 'The Everly Brothers': 'o', 'The Farm (American band)': 'o', 'The Flatlanders': 'o', 'The Forester Sisters': 'o', 'The Geezinslaw Brothers': 'o', 'The Goldens': 'o', 'The Gourds': 'l', 'The Grascals': 'l', 'The Great Divide (band)': 'o', 'The GrooveGrass Boyz': 'l', 'The Hackensaw Boys': 'm', 'The Harters': 'o', 'The Henningsens': 'o', 'The Highwaymen (country supergroup)': 'o', 'The Highwomen': 'o', 'The Hutchens': 'o', 'The Isaacs': 'o', 'The Jenkins': 'o', 'The Johner Brothers': 'o', 'The Jordanaires': 'o', 'The Judds': 'o', 'The Kendalls': 'o', 'The Kentucky Headhunters': 'o', 'The Kinleys': 'o', 'The Knitters': 'o', 'The Lacs': 'o', 'The Lost Trailers': 'o', 'The Louvin Brothers': 'o', 'The Lynns': 'o', 'The Marshall Tucker Band': 'r', 'The Mavericks': 'o', 'The Notorious Cherry Bombs': 'o', \"The O'Kanes\": 'o', 'The Oak Ridge Boys': 'o', 'The Osmonds': 'u', 'The Peach Pickers': 'o', 'The Peasall Sisters': 'o', 'The Quebe Sisters': 'e', 'The Railers': 'o', 'The Ranch (band)': 'o', 'The Rankin Family': 'e', 'The Reklaws': 'o', 'The Remingtons': 'o', 'The Reverend Horton Heat': 's', 'The Road Hammers': 'o', 'The Sadies': 'l', 'The Secret Sisters': 'm', 'The Seldom Scene': 'l', 'The Shires (duo)': 'o', 'The Sky Kings': 'o', 'The Stanley Brothers': 'l', 'The Statler Brothers': 'o', 'The Steel Woods': 'o', 'The SteelDrivers': 'l', 'The Stellas': 'o', 'The Stonemans': 'o', 'The String Cheese Incident': 'a', 'The Sunny Cowgirls': 'o', 'The Swearengens': 'o', 'The Swon Brothers': 'o', 'The Tallest Man on Earth': 'o', 'The Texas Tenors': 'l', 'The Thompson Brothers Band': 'o', 'The Tractors': 'o', 'The War and Treaty': 'm', 'The Warren Brothers': 'o', 'The Washboard Union': 'o', 'The Whites': 'l', 'The Wilburn Brothers': 'o', 'The Wild Feathers': 'o', 'The Wilkinsons': 'o', 'The Wilsons (country duo)': 'o', 'The Wolfe Brothers': 'o', 'The Wrays': 'o', 'The Wreckers': 'o', 'The Wrights (country duo)': 'o', 'Thomas Rhett': 'o', 'Thomas Wade (singer)': 'o', 'Thompson Square': 'o', 'Those Darlins': 'o', 'Those Poor Bastards': 'o', 'Thrasher Shiver': 'o', 'Tift Merritt': 'o', 'Tim Hicks': 'o', 'Tim Hus': 'o', 'Tim McGraw': 'o', 'Tim Mensy': 'o', 'Tim Montana': 'o', \"Tim O'Brien (musician)\": 'o', 'Tim Rushlow': 'o', 'Tim Wilson (comedian)': 'o', 'Tina Turner': 'o', 'Tish Hinojosa': 'o', 'Tobacco Rd Band': 'o', 'Toby Keith': 'o', 'Todd Snider': 'o', 'Tom Hambridge': 'o', 'Tom Jones (singer)': 'o', 'Tom Russell': 'm', 'Tom T. Hall': 'o', 'Tom Wopat': 'o', 'Tommy Cash': 'o', 'Tommy Collins (singer)': 'o', 'Tommy Emmanuel': 'a', 'Tommy Hunter': 'o', 'Tommy Overstreet': 'o', 'Tommy Shane Steiner': 'o', 'Tompall & the Glaser Brothers': 'o', 'Tompall Glaser': 'o', 'Toni Willé': 'o', 'Tony Booth (musician)': 'o', 'Tony Furtado': 'l', 'Tony Toliver': 'o', 'Tony Trischka': 'l', 'Townes Van Zandt': 'o', 'Trace Adkins': 'o', 'Tracy Byrd': 'o', 'Tracy Lawrence': 'o', 'Trader-Price': 'o', 'Trailer Choir': 'o', 'Trampled by Turtles': 'n', 'Travis Collins': 'o', 'Travis Denning': 'o', 'Travis Meadows': 'o', 'Travis Tritt': 'o', 'Trent Harmon': 'o', 'Trent Summar & the New Row Mob': 'o', 'Trent Tomlinson': 'o', 'Trent Willmon': 'o', 'Trevor Rosen': 'o', 'Trick Pony': 'o', 'Trisha Yearwood': 'o', 'Trixie Mattel': 'o', 'Troy Cartwright': 'i', 'Troy Cassar-Daley': 'o', 'Troy Olsen': 'o', 'Truck Stop (band)': 'o', 'Tucker Beathard': 'o', 'Turner Nichols': 'o', 'Turnpike Troubadours': 'e', 'Twister Alley': 'o', 'Two Tons of Steel': 'o', 'Ty England': 'o', 'Ty Herndon': 'o', 'Tyler Booth': 'o', 'Tyler Childers': 'e', 'Tyler Dickerson': 'o', 'Tyler Farr': 'o', 'Tyler Hubbard': 'o', 'Tyler Joe Miller': 'o', 'Tyler Rich': 'o', 'Uncle Dave Macon': 'l', 'Uncle Earl': 'm', 'Uncle Kracker': 'o', 'Uncle Tupelo': 'l', 'Union Station (band)': 'l', 'Unknown Hinson': 'o', 'Upchurch (musician)': 'o', 'Valdy': 'o', 'Valerie June': 'm', 'Van Howard': 'o', 'Van Morrison': 'l', 'Van Stephenson': 'o', 'Van Zant (band)': 'o', 'Vassar Clements': 'l', 'Vern Gosdin': 'o', 'Vernon Dalhart': 'o', 'Vernon Oxford': 'o', 'Veronica Ballestrini': 'o', 'Victoria Banks': 'o', 'Victoria Shaw (singer)': 'o', 'Viktor Krauss': 'o', 'Vince Gill': 'o', 'Wade Bowen': 'o', 'Wade Hayes': 'o', 'Walker Hayes': 'o', 'Wanda Jackson': 'o', 'Ward Thomas (band)': 'o', 'Warren Smith (singer)': 'o', 'Warren Zeiders': 'o', 'Warren Zevon': 'o', 'Waterloo Revival': 'o', 'Waylon Jennings': 'o', 'Wayne Hancock': 'l', 'Wayne Mills (singer)': 'o', 'Wayne Newton': 'a', 'Webb Pierce': 'o', 'Wesley Dennis (singer)': 'o', 'Western Flyer': 'o', 'Whiskey Myers': 'o', 'Whiskeytown': 'l', \"Whitey Morgan and the 78's\": 'u', 'Whitney Duncan': 'o', 'Whitney Rose': 'o', 'Wilco': 'n', 'Wild Horses (American country band)': 'o', 'Wild Rose (band)': 'o', 'Wilf Carter (musician)': 'o', 'Will Hoge': 'm', 'Will Kimbrough': 'o', 'Will Oldham': 'o', 'William Clark Green': 'o', 'William Lee Golden': 'o', 'William Michael Morgan': 'o', 'Williams Riley': 'o', 'Willie Mack (musician)': 'o', 'Willie Nelson': 'o', 'Willy DeVille': 'o', 'Wilma Burgess': 'o', 'Wilma Lee Cooper': 'o', 'Woody Guthrie': 'o', 'Woody Lee': 'o', 'Wright Brothers Band': 'o', 'Wynn Stewart': 'o', 'Wynonna Judd': 'o', 'Yankee Grey': 'o', 'Yola (singer)': 'o', 'Yonder Mountain String Band': 'a', 'Zac Brown Band': 'o', 'Zac Brown': 'o', 'Zach Bryan': 'l', 'Zach Top': 'e', 'Zach Williams (musician)': 'h', 'Zane Williams': 'o', 'Zella Lehr': 'o', 'Zona Jones': 'o', 'honeyhoney': 'm', 'k.d. lang': 'o'}\n"
     ]
    }
   ],
   "source": [
    "# Create a partition of the network into genres\n",
    "partition = {}\n",
    "for artist, genre_list in genres.items():\n",
    "    if len(genre_list) > 1:\n",
    "        partition[artist] = genre_list[1]\n",
    "    else:\n",
    "        partition[artist] = genre_list[0]\n",
    "\n",
    "# Print the partition\n",
    "print(partition)"
   ]
  },
  {
   "cell_type": "markdown",
   "id": "f00e22b2",
   "metadata": {},
   "source": [
    "#### <font color='gray'> Detect the communities, discuss the value of modularity in comparison to the genres.</font>"
   ]
  },
  {
   "cell_type": "markdown",
   "id": "88300af2",
   "metadata": {},
   "source": [
    "<font color='gray'> Use the Python Louvain-algorithm implementation to find communities each network. Report the value of modularity found by the algorithm. Is it higher or lower than what you found above for the genres as communities? What does this comparison reveal about them?</font>"
   ]
  },
  {
   "cell_type": "code",
   "execution_count": 12,
   "id": "ac591921",
   "metadata": {},
   "outputs": [
    {
     "ename": "NameError",
     "evalue": "name 'community' is not defined",
     "output_type": "error",
     "traceback": [
      "\u001b[1;31m---------------------------------------------------------------------------\u001b[0m",
      "\u001b[1;31mNameError\u001b[0m                                 Traceback (most recent call last)",
      "Cell \u001b[1;32mIn[12], line 2\u001b[0m\n\u001b[0;32m      1\u001b[0m \u001b[38;5;66;03m# Find communities in the network\u001b[39;00m\n\u001b[1;32m----> 2\u001b[0m communities \u001b[38;5;241m=\u001b[39m community\u001b[38;5;241m.\u001b[39mbest_partition(G)\n\u001b[0;32m      4\u001b[0m \u001b[38;5;66;03m# Print the modularity of the partition\u001b[39;00m\n\u001b[0;32m      5\u001b[0m modularity \u001b[38;5;241m=\u001b[39m community\u001b[38;5;241m.\u001b[39mmodularity(communities, G)\n",
      "\u001b[1;31mNameError\u001b[0m: name 'community' is not defined"
     ]
    }
   ],
   "source": [
    "# Find communities in the network\n",
    "communities = community.best_partition(G)\n",
    "\n",
    "# Print the modularity of the partition\n",
    "modularity = community.modularity(communities, G)\n",
    "print(f\"Modularity: {modularity}\")\n",
    "\n",
    "# Create a new graph with the communities as nodes\n",
    "H = nx.Graph()\n",
    "for artist, community_id in communities.items():\n",
    "    H.add_node(artist, community=community_id)\n",
    "\n",
    "# Add edges between communities\n",
    "for artist1, artist2 in G.edges():\n",
    "    community1 = communities[artist1]\n",
    "    community2 = communities[artist2]\n",
    "    if community1 != community2:\n",
    "        H.add_edge(community1, community2)\n",
    "\n",
    "# Print graph information\n",
    "print(f\"Graph has {H.number_of_nodes()} nodes and {H.number_of_edges()} edges.\")\n",
    "\n",
    "# Create a partition of the network into communities\n",
    "partition = {}\n",
    "for artist, community_id in communities.items():\n",
    "    partition[artist] = community_id\n"
   ]
  },
  {
   "cell_type": "markdown",
   "id": "ed195002",
   "metadata": {},
   "source": [
    "It should come with this outcome: \n",
    "\n",
    "Modularity: 0.03843062171909256\n",
    "\n",
    "Graph has 1835 nodes and 1 edges."
   ]
  },
  {
   "cell_type": "markdown",
   "id": "1bb23f48",
   "metadata": {},
   "source": [
    "<font color='gray'>What is the modularity of this partitioning of the network? Is it more community-like than the genres?</font>"
   ]
  },
  {
   "cell_type": "markdown",
   "id": "b550cf31",
   "metadata": {},
   "source": [
    "Text"
   ]
  },
  {
   "cell_type": "markdown",
   "id": "7ae00dec",
   "metadata": {},
   "source": [
    "<font color='gray'>Visualize the network, using the Force Atlas algorithm</font>"
   ]
  },
  {
   "cell_type": "code",
   "execution_count": null,
   "id": "aa696c6c",
   "metadata": {},
   "outputs": [],
   "source": [
    "pos = nx.spring_layout(G, k=0.1)\n",
    "\n",
    "# Draw the nodes and edges\n",
    "nx.draw_networkx_nodes(G, pos, node_size=10, node_color='blue', alpha=0.5)\n",
    "nx.draw_networkx_edges(G, pos, alpha=0.1)\n",
    "\n",
    "# Draw the labels\n",
    "nx.draw_networkx_labels(G, pos, font_size=8)\n",
    "\n",
    "# Show the plot\n",
    "plt.axis('off')\n",
    "plt.show()"
   ]
  },
  {
   "cell_type": "markdown",
   "id": "4fa1a404",
   "metadata": {},
   "source": [
    "#### <font color='gray'> Calculate the matrix $D$ and discuss your findings.</font>"
   ]
  },
  {
   "cell_type": "markdown",
   "id": "4c02c440",
   "metadata": {},
   "source": [
    "<font color='gray'> Compare the communities found by your algorithm with the music genres by creating a matrix </font> $D$ <font color='gray'> with dimension  </font> ($G\\times C$), <font color='gray'> where </font> $G$ <font color='gray'> is the 7 most common genres and </font> $C$ <font color='gray'> is the 7 most common communities. We set </font> $D(i,j)$ <font color='gray'> entry to be the number of nodes that genre </font> $i$ <font color='gray'> has in common with community </font> $j$. <font color='gray'> The matrix </font> $D$ <font color='gray'> is what we call a confusion matrix. </font>"
   ]
  },
  {
   "cell_type": "code",
   "execution_count": null,
   "id": "7a704619",
   "metadata": {},
   "outputs": [],
   "source": []
  },
  {
   "cell_type": "markdown",
   "id": "2864d913",
   "metadata": {},
   "source": [
    "<font color='gray'>  Use the confusion matrix to explain how well the communities you've detected correspond to the genres. </font>"
   ]
  },
  {
   "cell_type": "code",
   "execution_count": null,
   "id": "7ad082d1",
   "metadata": {},
   "outputs": [],
   "source": []
  },
  {
   "cell_type": "markdown",
   "id": "07b4e54c",
   "metadata": {},
   "source": [
    "#### <font color='gray'> Plot the communities and comment on your results.</font>"
   ]
  },
  {
   "cell_type": "code",
   "execution_count": null,
   "id": "fed31de8",
   "metadata": {},
   "outputs": [],
   "source": []
  },
  {
   "cell_type": "markdown",
   "id": "499ee73e",
   "metadata": {},
   "source": [
    "## Part 2: TF-IDF to understand genres and communities"
   ]
  },
  {
   "cell_type": "markdown",
   "id": "57e0ad0b",
   "metadata": {},
   "source": [
    "#### <font color='gray'> Explain the concept of TF-IDF in your own words and how it can help you understand the genres and communities. </font>"
   ]
  },
  {
   "cell_type": "code",
   "execution_count": null,
   "id": "946364a6",
   "metadata": {},
   "outputs": [],
   "source": []
  },
  {
   "cell_type": "markdown",
   "id": "0f70a2ae",
   "metadata": {},
   "source": [
    "#### <font color='gray'> Calculate and visualize TF-IDF for the genres and communities.</font>"
   ]
  },
  {
   "cell_type": "code",
   "execution_count": null,
   "id": "f7740c48",
   "metadata": {},
   "outputs": [],
   "source": []
  },
  {
   "cell_type": "markdown",
   "id": "6ad4b92c",
   "metadata": {},
   "source": [
    "#### <font color='gray'> Use the matrix D (Lecture 7, part 2) to dicusss the difference between the word-clouds between genres and communities.</font>"
   ]
  },
  {
   "cell_type": "code",
   "execution_count": null,
   "id": "ca232ae1",
   "metadata": {},
   "outputs": [],
   "source": []
  },
  {
   "cell_type": "markdown",
   "id": "f00675db",
   "metadata": {},
   "source": [
    "## Part 3: Sentiment of the artists and communities"
   ]
  },
  {
   "cell_type": "markdown",
   "id": "2fc13389",
   "metadata": {},
   "source": [
    "#### <font color='gray'> Calculate the sentiment of the Artists pages (OK to work with the sub-network of artists-with-genre) and describe your findings using stats and visualization, inspired by the first exercise of week 8.</font>"
   ]
  },
  {
   "cell_type": "code",
   "execution_count": null,
   "id": "e79d2c72",
   "metadata": {},
   "outputs": [],
   "source": []
  },
  {
   "cell_type": "markdown",
   "id": "6976cecf",
   "metadata": {},
   "source": [
    "#### <font color='gray'> Discuss the sentiment of the largest communities. Do the findings using TF-IDF during Lecture 7 help you understand your results?</font>"
   ]
  },
  {
   "cell_type": "code",
   "execution_count": null,
   "id": "a5f1af5b",
   "metadata": {},
   "outputs": [],
   "source": []
  }
 ],
 "metadata": {
  "kernelspec": {
   "display_name": "Python 3 (ipykernel)",
   "language": "python",
   "name": "python3"
  },
  "language_info": {
   "codemirror_mode": {
    "name": "ipython",
    "version": 3
   },
   "file_extension": ".py",
   "mimetype": "text/x-python",
   "name": "python",
   "nbconvert_exporter": "python",
   "pygments_lexer": "ipython3",
   "version": "3.11.5"
  }
 },
 "nbformat": 4,
 "nbformat_minor": 5
}

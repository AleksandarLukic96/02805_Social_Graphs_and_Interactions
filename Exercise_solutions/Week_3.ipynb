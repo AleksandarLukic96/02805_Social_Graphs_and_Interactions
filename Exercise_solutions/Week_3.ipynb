{
 "cells": [
  {
   "cell_type": "markdown",
   "id": "aee9a1c8",
   "metadata": {},
   "source": [
    "# Week 3"
   ]
  },
  {
   "cell_type": "markdown",
   "id": "4cff3190",
   "metadata": {},
   "source": [
    "### Part 1"
   ]
  },
  {
   "cell_type": "markdown",
   "id": "72ee26f9",
   "metadata": {},
   "source": [
    "#### Exercises to the text:\n",
    "\n",
    "    What's the problem with random networks as a model for real-world networks according to the argument in section 3.5 (near the end)?\n",
    "\n",
    "Random network would lack outliers. In a large random network the degree of most nodes is in the narrow vicinity of ‹k›\n",
    "    \n",
    "    List the four regimes that characterize random networks as a function of ⟨k⟩\n",
    "    \n",
    "All networks, Internet, Science Collaboration and Protein Interactions\n",
    "\n",
    "    According to the book, why is it a problem for random networks (in terms of being a model for real-world networks) that the degree-dependent clustering C(k) decreases as a function of k in real-world networks?\n",
    "    \n",
    "Random network model does not capture the clustering of real networks."
   ]
  },
  {
   "cell_type": "markdown",
   "id": "4b41e935",
   "metadata": {},
   "source": [
    "Exercise:  WS edition"
   ]
  },
  {
   "cell_type": "code",
   "execution_count": null,
   "id": "0dd5c19b",
   "metadata": {},
   "outputs": [],
   "source": []
  }
 ],
 "metadata": {
  "kernelspec": {
   "display_name": "Python 3 (ipykernel)",
   "language": "python",
   "name": "python3"
  },
  "language_info": {
   "codemirror_mode": {
    "name": "ipython",
    "version": 3
   },
   "file_extension": ".py",
   "mimetype": "text/x-python",
   "name": "python",
   "nbconvert_exporter": "python",
   "pygments_lexer": "ipython3",
   "version": "3.11.5"
  }
 },
 "nbformat": 4,
 "nbformat_minor": 5
}

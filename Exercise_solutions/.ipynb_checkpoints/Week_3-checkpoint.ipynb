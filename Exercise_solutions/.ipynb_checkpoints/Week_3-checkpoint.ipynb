{
 "cells": [
  {
   "cell_type": "markdown",
   "id": "aee9a1c8",
   "metadata": {},
   "source": [
    "# Week 3"
   ]
  },
  {
   "cell_type": "markdown",
   "id": "4cff3190",
   "metadata": {},
   "source": [
    "### Part 1"
   ]
  },
  {
   "cell_type": "markdown",
   "id": "72ee26f9",
   "metadata": {},
   "source": [
    "#### Exercises to the text:\n",
    "\n",
    "    What's the problem with random networks as a model for real-world networks according to the argument in section 3.5 (near the end)?\n",
    "\n",
    "Random network would lack outliers. In a large random network the degree of most nodes is in the narrow vicinity of ‹k›\n",
    "    \n",
    "    List the four regimes that characterize random networks as a function of ⟨k⟩\n",
    "    \n",
    "All networks, Internet, Science Collaboration and Protein Interactions\n",
    "\n",
    "    According to the book, why is it a problem for random networks (in terms of being a model for real-world networks) that the degree-dependent clustering C(k) decreases as a function of k in real-world networks?\n",
    "    \n",
    "Random network model does not capture the clustering of real networks."
   ]
  },
  {
   "cell_type": "markdown",
   "id": "23ac89cb",
   "metadata": {},
   "source": [
    "#### Exercise:  WS edition"
   ]
  },
  {
   "cell_type": "code",
   "execution_count": null,
   "id": "0dd5c19b",
   "metadata": {},
   "outputs": [],
   "source": []
  },
  {
   "cell_type": "markdown",
   "id": "67b19a1d",
   "metadata": {},
   "source": [
    "### Part 2"
   ]
  },
  {
   "cell_type": "markdown",
   "id": "8bac0106",
   "metadata": {},
   "source": [
    "#### Exercises: BA edition.\n",
    "\n",
    "    What are the three slope dependent regimes of complex networks with power-law degree distributions? Briefly describe each one.\n",
    "    \n",
    "1. Anomalous Regime  (γ ≤ 2):\n",
    "\n",
    "For a large N the degree of the largest hub must exceed the total number of nodes in the network. It will run out of nodes to connect to and can therefore not exist.  \n",
    "\n",
    "2. Scale-Free Regime (2 ‹ γ ‹ 3):\n",
    "\n",
    "It is scale-free networks in this regime and they are very small. K_max/N will represent the fraction of nodes that connects to the hub. \n",
    "\n",
    "3. Random Network Regime (γ › 3)\n",
    "\n",
    "For practical purposes the properties of a scale-free network in this regime are difficult to distinguish. For large γ the degree distribution p_k decays sufficiently fast to make the hubs small and less numerous.\n",
    "\n",
    "    \n",
    "    What are the three regimes we find in non-linear preferential attachement? (chapter 5) Briefly describe each one.\n",
    "\n",
    "1. Sublinear Regime (0 < α < 1)\n",
    "\n",
    "This degree distribution will result in fewer and smaller hubs than in a scale-free network\n",
    "\n",
    "2. Linear(α = 1)\n",
    "\n",
    "The degree distribution will typically follows the power law (many low-degree nodes, few high-degree nodes).\n",
    "\n",
    "3. Superlinear (α > 1)\n",
    "\n",
    "In this configuration the earliest nodes become super hubs and all subsequent nodes will link to these super hubs.\n"
   ]
  },
  {
   "cell_type": "code",
   "execution_count": null,
   "id": "5b05804f",
   "metadata": {},
   "outputs": [],
   "source": []
  }
 ],
 "metadata": {
  "kernelspec": {
   "display_name": "Python 3 (ipykernel)",
   "language": "python",
   "name": "python3"
  },
  "language_info": {
   "codemirror_mode": {
    "name": "ipython",
    "version": 3
   },
   "file_extension": ".py",
   "mimetype": "text/x-python",
   "name": "python",
   "nbconvert_exporter": "python",
   "pygments_lexer": "ipython3",
   "version": "3.11.5"
  }
 },
 "nbformat": 4,
 "nbformat_minor": 5
}

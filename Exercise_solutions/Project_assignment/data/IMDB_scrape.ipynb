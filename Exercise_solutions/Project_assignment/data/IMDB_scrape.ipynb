{
 "cells": [
  {
   "cell_type": "markdown",
   "id": "441640b3",
   "metadata": {},
   "source": [
    "# Scraping IMDB for reviews"
   ]
  },
  {
   "cell_type": "code",
   "execution_count": 11,
   "id": "d7904528",
   "metadata": {},
   "outputs": [],
   "source": [
    "#!pip install Cinemagoer\n",
    "from imdb import Cinemagoer\n",
    "from imdb import IMDb"
   ]
  },
  {
   "cell_type": "code",
   "execution_count": 12,
   "id": "8d6545c1",
   "metadata": {},
   "outputs": [
    {
     "name": "stdout",
     "output_type": "stream",
     "text": [
      "Lana Wachowski\n",
      "Lilly Wachowski\n"
     ]
    }
   ],
   "source": [
    "# create an instance of the Cinemagoer class\n",
    "ia = Cinemagoer()\n",
    "\n",
    "# get a movie and print its director(s)\n",
    "the_matrix = ia.get_movie('0133093') # The Matrix\n",
    "for director in the_matrix['directors']:\n",
    "    print(director['name'])\n"
   ]
  },
  {
   "cell_type": "code",
   "execution_count": 13,
   "id": "3743eace",
   "metadata": {},
   "outputs": [
    {
     "name": "stdout",
     "output_type": "stream",
     "text": [
      "The Matrix (1999) - Rating: 8.7\n",
      "Director(s): Lana Wachowski, Lilly Wachowski\n",
      "Plot: Thomas A. Anderson is a man living two lives. By day he is an average computer programmer and by night a hacker known as Neo. Neo has always questioned his reality, but the truth is far beyond his imagination. Neo finds himself targeted by the police when he is contacted by Morpheus, a legendary computer hacker branded a terrorist by the government. As a rebel against the machines, Neo must confront the agents: super-powerful computer programs devoted to stopping Neo and the entire human rebellion.\n"
     ]
    }
   ],
   "source": [
    "title = the_matrix['title']\n",
    "year = the_matrix['year']\n",
    "rating = the_matrix['rating']\n",
    "director = ', '.join([d['name'] for d in the_matrix['directors']])\n",
    "plot = the_matrix['plot outline']\n",
    "\n",
    "print(f\"{title} ({year}) - Rating: {rating}\\nDirector(s): {director}\\nPlot: {plot}\")"
   ]
  },
  {
   "cell_type": "markdown",
   "id": "1a98ec7e",
   "metadata": {},
   "source": [
    "*Cinemagoer gives us a list of titles, years and ratings but it doesn't give us the user reviews* "
   ]
  },
  {
   "cell_type": "code",
   "execution_count": 15,
   "id": "8905b66c",
   "metadata": {},
   "outputs": [],
   "source": [
    "#!pip install pandas selenium beautifulsoup4 Cinemagoer"
   ]
  },
  {
   "cell_type": "code",
   "execution_count": 16,
   "id": "4810e130",
   "metadata": {},
   "outputs": [],
   "source": [
    "# A github where they scrape user reviews\n",
    "# https://github.com/plengxvi/movie_user_review_scraper/blob/main/movie_user_review_scraper.py"
   ]
  },
  {
   "cell_type": "markdown",
   "id": "ea05bb35",
   "metadata": {},
   "source": [
    "*Retrieving actors from IMDB*"
   ]
  },
  {
   "cell_type": "code",
   "execution_count": 17,
   "id": "0e544109",
   "metadata": {},
   "outputs": [
    {
     "name": "stdout",
     "output_type": "stream",
     "text": [
      "Keanu Reeves\n",
      "Laurence Fishburne\n",
      "Carrie-Anne Moss\n",
      "Hugo Weaving\n",
      "Gloria Foster\n",
      "Joe Pantoliano\n",
      "Marcus Chong\n",
      "Julian Arahanga\n",
      "Matt Doran\n",
      "Belinda McClory\n",
      "Anthony Ray Parker\n",
      "Paul Goddard\n",
      "Robert Taylor\n",
      "David Aston\n",
      "Marc Aden Gray\n",
      "Ada Nicodemou\n",
      "Deni Gordon\n",
      "Rowan Witt\n",
      "Eleanor Witt\n",
      "Tamara Brown\n",
      "Janaya Pender\n",
      "Adryn White\n",
      "Natalie Tjen\n",
      "Bill Young\n",
      "David O'Connor\n",
      "Jeremy Ball\n",
      "Fiona Johnson\n",
      "Harry Lawrence\n",
      "Steve Dodd\n",
      "Luke Quinton\n",
      "Lawrence Woodward\n",
      "Michael Butcher\n",
      "Bernard Ledger\n",
      "Robert Simper\n",
      "Chris Pattinson\n",
      "Nigel Harbach\n",
      "Mike Duncan\n",
      "Nash Edgerton\n",
      "Rana Morrison\n",
      "Steve Rutherford\n",
      "Cody Zacharias\n",
      "Cody Zacharias\n"
     ]
    }
   ],
   "source": [
    "for actor in the_matrix['cast']:\n",
    "    print(actor['name'])\n",
    "\n",
    "#actor = the_matrix['cast'][0]['name']\n",
    "print(actor)"
   ]
  },
  {
   "cell_type": "markdown",
   "id": "332477ca",
   "metadata": {},
   "source": [
    "*Getting top 250 movies*"
   ]
  },
  {
   "cell_type": "code",
   "execution_count": 21,
   "id": "90e612bc",
   "metadata": {},
   "outputs": [],
   "source": [
    "ia = IMDb()\n",
    "top250 = ia.get_top250_movies()\n",
    "for movie in top250:\n",
    "    print(f\"{movie['title']} ({movie['year']}) - Rating: {movie['rating']}\")"
   ]
  },
  {
   "cell_type": "code",
   "execution_count": null,
   "id": "f27e6e95",
   "metadata": {},
   "outputs": [],
   "source": []
  }
 ],
 "metadata": {
  "kernelspec": {
   "display_name": "Python 3 (ipykernel)",
   "language": "python",
   "name": "python3"
  },
  "language_info": {
   "codemirror_mode": {
    "name": "ipython",
    "version": 3
   },
   "file_extension": ".py",
   "mimetype": "text/x-python",
   "name": "python",
   "nbconvert_exporter": "python",
   "pygments_lexer": "ipython3",
   "version": "3.12.7"
  }
 },
 "nbformat": 4,
 "nbformat_minor": 5
}

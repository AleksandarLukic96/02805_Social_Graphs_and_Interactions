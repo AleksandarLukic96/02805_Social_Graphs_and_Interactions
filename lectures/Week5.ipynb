{
 "cells": [
  {
   "cell_type": "markdown",
   "metadata": {},
   "source": [
    "# Overview\n",
    "\n",
    "This week we'll talk about advanced network measures (beyond the degree distribution). We will use these tools to make sense of the network of the Comics Characters on Wikipedia. \n",
    "This is the outline for today:\n",
    "\n",
    "* Visualization and qualitative analysis of the Country Music Artists Network\n",
    "* Properties of the network structure, including how univere-origin and other properties shape the network\n",
    "\n",
    "> _Reading_: This week, the reading is mostly for reference. It's for you to have a place to go, if you want more detailed information about the topics that I cover in the video lectures. Thus, I recommend you check out **Chapter 9** of the network science book. In particular, we'll delve into [Section 9.4](http://networksciencebook.com/chapter/9#modularity) in the exercises below. We will also talk a little bit about degree correlations - you can read about those in [Chapter 7](http://networksciencebook.com/chapter/7)\\."
   ]
  },
  {
   "cell_type": "markdown",
   "metadata": {},
   "source": [
    "# Part A: Let's  visualise some more!"
   ]
  },
  {
   "cell_type": "markdown",
   "metadata": {},
   "source": [
    "Visualization is a big part of network science and (while powerful), the tools built into `NetworkX` are not the most powerful. Therefore, we'll explore another layout in the exercise below. \n",
    "\n",
    "Specifically, we will use the [`ForceAtlas2`](https://journals.plos.org/plosone/article%3Fid=10.1371/journal.pone.0098679) package produces som nice layouts. ForceAtlas2 was developed by the creators of the [Gephy graph analysis software](https://gephi.org).\n",
    "\n",
    "Unfortunately, the canonical version of ForceAtlas on GitHub ([Force Atlas 2 algorithm](https://github.com/bhargavchippada/forceatlas2)) isn't being maintained, so we'll use this fork that's continually updating the original source: https://github.com/AminAlam/fa2_modified below.\n",
    "\n",
    "**Note**: Finally, I have to say that the Country Music Network is very much a hairball of interconnections, so not even ForceAtlas2 can extract much structure from it. ***But don't worry ... ForceAtlas2 is still worth your time and we'll untangle the hairball in subsequent exercises***.\n",
    "\n",
    "*Exercise 1:* Plot the Network using ForceAtlas2.\n",
    "\n",
    ">1. The [Force Atlas 2 algorithm](https://github.com/AminAlam/fa2_modified) helps calculate more aesthetically pleasing positions for the nodes for your network visualizations.\n",
    ">2. Follow the instructionf on the GitHub page. That page also how to use the package to get coordinates for each node. You can then feed those coordinates to NetworkX (see below).\n",
    "> * Visualize the network using the [NetworkX draw function](https://networkx.github.io/documentation/stable/reference/generated/networkx.drawing.nx_pylab.draw.html#networkx.drawing.nx_pylab.draw), and node-coordinates from the force atlas algorithm. As in the previous Exercise:\n",
    ">   * Node color should depend on the `length_of_content` attribute (see notes from last week).\n",
    ">   * Node size should depend on the node *degree*\n",
    "> * Play with the force atlas algorithm parameters to obtain a visualization you like. \n"
   ]
  },
  {
   "cell_type": "markdown",
   "metadata": {},
   "source": [
    "*Exercise 2*: We continue with a qualitative inspection of the Wikipedia pages. Inspecting the data manually will develop intuitions that will help us to intepret our quantitative results. We investigate the reasons for links between characters to exist on Wikipedia.\n",
    "\n",
    ">1. Consider the nodes with highest in-degree in the network. Open the corresponding Wikipedia page.\n",
    ">   * Consider the set of neighbours pointing towards the node found above. \n",
    ">   * What is the relation between the characters you identified and their network neighbours? (e.g. do they appear in the same comics?, are they opponents?, etc ...). You don't need to come up with a grand theory of Country Music here, I just want you to think about how links arise, why the links are there.\n",
    ">   * Repeat the exercise for the highest out-degree node. \n",
    ">   * Are there differences between reasons for out- and in-links? Again, there's no right answer here. I just want you to think about some of the reasons why links may occur in Wikipedia\n",
    ">4. Create a scatter plot, where each node is a point, and the axes show in- versus out-degree. That way you can visually inspect the patterns of how in- and out-degree are connected across all the nodes in the network.\n",
    ">5. Are there any nodes with high out-degree and with few incoming connections? If yes, open WikiPages of such characters and explain what happens?\n",
    ">6. Are there any nodes with high in-degree and few outcoming connections? Again, open WikiPages of such characters and explain what happens?"
   ]
  },
  {
   "cell_type": "markdown",
   "metadata": {},
   "source": [
    "# Part B:  Advanced tools \n",
    "\n",
    "> **Video lecture**: *Network measures*. There's an updated video below, and if you can't get enough, you can watch the original version from 2015 [here](https://www.youtube.com/watch?v=0uAYpOqVHCU)."
   ]
  },
  {
   "cell_type": "code",
   "execution_count": 1,
   "metadata": {},
   "outputs": [
    {
     "data": {
      "image/jpeg": "[encoded data removed]",
      "text/html": [
       "\n",
       "        <iframe\n",
       "            width=\"800\"\n",
       "            height=\"450\"\n",
       "            src=\"https://www.youtube.com/embed/IOWXZFOyk9Y\"\n",
       "            frameborder=\"0\"\n",
       "            allowfullscreen\n",
       "            \n",
       "        ></iframe>\n",
       "        "
      ],
      "text/plain": [
       "<IPython.lib.display.YouTubeVideo at 0x1064685b0>"
      ]
     },
     "execution_count": 1,
     "metadata": {},
     "output_type": "execute_result"
    }
   ],
   "source": [
    "from IPython.display import YouTubeVideo\n",
    "YouTubeVideo(\"IOWXZFOyk9Y\", width=800, height=450)"
   ]
  },
  {
   "cell_type": "markdown",
   "metadata": {},
   "source": [
    "*Exercise 3:* Last time we visually analyzed (plotted) the degree distributions of our network. Now, let's analyze it using some of the tools from previous lectures. For this exercise we are going to look at the *directed* graph (rememeber, we asked you to keep one?).\n",
    "\n",
    ">1. What are the average, median, mode, minimum and maximum value of the in-degree? And of the out-degree? How do you intepret the results?\n",
    ">2. Let's also look at the *[exponent of the degree distribution](http://networksciencebook.com/chapter/4#degree-exponent)* \n",
    ">    * To calculate it, you can install [`powerlaw`](https://journals.plos.org/plosone/article?id=10.1371/journal.pone.0085777) package (I could not install in conda, so I used `pip install powerlaw`)\n",
    ">    * Use `powerlaw.Fit(degree).alpha` for fitting\n",
    ">    * Find the degree exponent for in-, out- and total- degree distribution. What does it say about our network?\n",
    ">    * When analyzing the plots of in- and out- degree distribution last week, did you come up to the same conclusions?\n",
    ">    * A long time ago, a group of scientists analyzed the network spanned by ***all** of Wikipedia (the paper is called [Wikipedias: Collaborative web-based encyclopedias as complex networks](https://journals.aps.org/pre/abstract/10.1103/PhysRevE.74.016115); to access this paper, use findit.dtu.dk or read the preprint on [arXiv](https://arxiv.org/abs/physics/0602149)). Do your findings correspond to the results described in Chapter **III.A** of that paper? If not, try to give your explanation of why? \n",
    ">3. Create a scatter plot of the the in- versus out- degree for all characters. Comment on the relation between the two.\n",
    ">4. Plot a heatmap [(Hint here)](https://stackoverflow.com/questions/2369492/generate-a-heatmap-in-matplotlib-using-a-scatter-data-set) of the the in- versus out- degree for all characters. What is the advantage of using a heatmap over the scatter plot?\n",
    ">5. Why do you think I want you guys to use a directed graph? Are there questions we can ask using the directed graph that are not possible to answer in the undirected version? Which questions? Can you think of examples when the in/out distinction doesn't matter.\n",
    ">6. We have one more metric that we did not use. The node-attribute `length_of_content`. There are two things we can investigate here.\n",
    ">   * Firstly, we can verify that more text means more links. If that's true the length should correlate with out-degree. Does it? \n",
    ">   * Secondly, and more interestingly, it could be that longer texts means *more famous* characters. And that means more in-links. \n",
    ">   * How should you test this? Well, here you are allowed to be **creative**. You may choose the method of your liking to study this question (e.g. look at it visually, test the correlation using [spearman](https://docs.scipy.org/doc/scipy/reference/generated/scipy.stats.spearmanr.html) or [pearson](https://docs.scipy.org/doc/scipy-0.14.0/reference/generated/scipy.stats.pearsonr.html) correlations, fit a curve to the data, you decide). Once you've tested, let me know. Are both questions true? If yes, which phenomenon is stronger? Explain your results in your own words"
   ]
  },
  {
   "cell_type": "markdown",
   "metadata": {},
   "source": [
    "*Exercise 4:* Centralities, assortativity and more.\n",
    "\n",
    "Earlier, we found the most connected nodes (using degree centrality). \n",
    "\n",
    "Now let's dig in and try to understand more about the network using more advanced features. \n",
    "\n",
    "**Note**: Not all of the measures we'll be considering below are defined for directed graphs. Only use the undirected graph when explicitly stated in the exercise. \n",
    ">1. Find the 5 most central characters according to degree centrality. \n",
    ">1. Find the 5 most central characters according to betweenness centrality. \n",
    ">   * Repeat Exercise 1 again. However, this time use *betweenness centrality* to define the size of the node.\n",
    ">   * What role do you imagine characters with high wikipedia graph betweenness centrality play in the network? \n",
    ">2. Find the 5 most central characters according to eigenvector centrality. Calculate centrality corresponding to both in- and out-edges (see NetworkX documentation for details). \n",
    ">   * Repeat Exercise 1 one final time (depending on which visualization method you liked the most). However, this time use eigenvector centrality to define the size of the node.\n",
    ">   * What role do you imagine characters with high wikipedia graph eigenvector centrality play? Describe what is different about betweenness centrality and eigenvector centrality using your visualizations as examples.\n",
    ">3. Plot the betweenness centrality of nodes vs their degree centrality. Is there a correlation between the two? Did you expect that? Why? \n",
    ">    * Repeat the scatter plot using eigenvector centrality instead of betweenness centrality. Do you observe any difference relative to above? Why?\n",
    ">4. Is the undirected version of the graph [assortative](https://en.wikipedia.org/wiki/Assortativity) with respect to degree? (e.g. do high-degree characters tend to link to other high-degree characters, and low-degree characters to other low-degree characters?). Provide an interpretation of your answer.\n",
    ">4. Is the undirected version of the graph [assortative](https://en.wikipedia.org/wiki/Assortativity) with respect do the `length_of_content` nodal properties? (e.g. do characters with long Wikipedia pages tend to link to other charakters with long Wiki-pages, and *vice versa*?. Hint: Use [this function](https://networkx.github.io/documentation/stable/reference/algorithms/generated/networkx.algorithms.assortativity.attribute_assortativity_coefficient.html#networkx.algorithms.assortativity.attribute_assortativity_coefficient). Provide an interpretation of your answer.\n",
    ">5. What is the average shortest path length? Is it similar to the one of a random graph with the same number of nodes $N$  and probablity of connection $p$?\n",
    ">   * Take a look at the *distribution* of shortest paths for the two networks (create a histogram for each network) to better compare and contrast. Explain what you see in your own words."
   ]
  },
  {
   "cell_type": "markdown",
   "metadata": {},
   "source": [
    "# Part C: Backbones and Network Visualization \n",
    "\n",
    "One method to clean up the \"hairball\" looking networks is known as the [backbone method](https://www.pnas.org/doi/10.1073/pnas.0808904106) (and sometimes also the \"disparity filter\"). I explain what it's about in the video below"
   ]
  },
  {
   "cell_type": "code",
   "execution_count": 3,
   "metadata": {},
   "outputs": [
    {
     "data": {
      "text/html": [
       "\n",
       "        <iframe\n",
       "            width=\"800\"\n",
       "            height=\"450\"\n",
       "            src=\"https://www.youtube.com/embed/GOvsrVulbsg\"\n",
       "            frameborder=\"0\"\n",
       "            allowfullscreen\n",
       "            \n",
       "        ></iframe>\n",
       "        "
      ],
      "text/plain": [
       "<IPython.lib.display.YouTubeVideo at 0x1064506d0>"
      ]
     },
     "execution_count": 3,
     "metadata": {},
     "output_type": "execute_result"
    }
   ],
   "source": [
    "YouTubeVideo(\"GOvsrVulbsg\", width=800, height=450)"
   ]
  },
  {
   "cell_type": "markdown",
   "metadata": {},
   "source": [
    "We only have one problem. As I explain in the video, the Backbone / Disparity Filter method only works on weighted networks. Our network does not have edgeweights, so as an experiment, we'll add weights proportional to the [edge betweenness centrality](https://networkx.org/documentation/stable/reference/algorithms/generated/networkx.algorithms.centrality.edge_betweenness_centrality.html).\n",
    "\n",
    "Let's create two possible networks\n",
    " * **Weighted Network 1**: The undirected Country Music Network but with edge weights proportional to the edge betweenness centrality (let's renormalize so that the lowest weight is equal to 1 and the highest weight is equal to 100).\n",
    " * **Weighted Network 2**: The undirected Country Music Network but with edge weights proportional to 1/(edge weight in Weighted Network 1).\n",
    "\n",
    "Now we're ready for the exercise.\n",
    "\n",
    "\n",
    "*Exercise 5*: The Network Backbone\n",
    "\n",
    "> 1. Extract the network backbone for both Weighted Network 1 and 2. You can implement it yourself based on the [scientific paper](https://www.pnas.org/doi/10.1073/pnas.0808904106) or find an implentation on GitHub (there are several ones to choose from, I like [this one](https://www.michelecoscia.com/?page_id=287), which also includes other edge filters). Play around with values of $\\alpha$ to get an aestetically pleasing visualization.\n",
    "> 2. Plot the resulting two networks using ForceAtlas2, still sizing nodes according to total degree. No need to color them.\n",
    "> 3. Comment on your results\n",
    ">    * Do you see any structures in the networks now? Inspect some nodes to get a sense of what the structure captures. Describe your findings in your own works\n",
    ">    * Weighted network 1 and 2 are very different. We have removed edges with low/high betweenness centrality respectively. What has that done to the networks? Describe what you see visually, and your express your thoughts on what we've done to the network structure.\n",
    "\n",
    "\n",
    "One final thing. For now, the backbone is only for visualization. Especially because the edge weights are a bit artificial. Generally, it's not exactly clear what kind of information we get rid off when removing the non-backbone edges -- and in our case it's even less clear. Thus, we'll still do the exercises during the following weeks using the full network that preserves all of the connection information.\n"
   ]
  },
  {
   "cell_type": "code",
   "execution_count": null,
   "metadata": {},
   "outputs": [],
   "source": []
  }
 ],
 "metadata": {
  "kernelspec": {
   "display_name": "Python 3 (ipykernel)",
   "language": "python",
   "name": "python3"
  },
  "language_info": {
   "codemirror_mode": {
    "name": "ipython",
    "version": 3
   },
   "file_extension": ".py",
   "mimetype": "text/x-python",
   "name": "python",
   "nbconvert_exporter": "python",
   "pygments_lexer": "ipython3",
   "version": "3.9.19"
  }
 },
 "nbformat": 4,
 "nbformat_minor": 4
}
